{
 "cells": [
  {
   "cell_type": "markdown",
   "id": "c66bfbab",
   "metadata": {},
   "source": [
    "# Calibrating & Using a $\\pi$-pulse"
   ]
  },
  {
   "cell_type": "markdown",
   "id": "3736cd5f",
   "metadata": {},
   "source": [
    "Once we know the frequency of our qubit, the next step is to determine the strength of a $\\pi$-pulse. The desired rotation is such that the qubit goes from $|0\\rangle$ to $|1\\rangle$. We will change the drive amplitude `amp` in small increments and measuring the state of the qubit each time. We expect to see oscillations which are commonly named Rabi oscillations, as the qubit goes between its computational subspaces."
   ]
  },
  {
   "cell_type": "code",
   "execution_count": 2,
   "id": "56b434c8",
   "metadata": {},
   "outputs": [],
   "source": [
    "import numpy as np\n",
    "GHz = 1.0e9\n",
    "\n",
    "qubit = 0\n",
    "rough_qubit_frequency = 4.96227839460659 * GHz"
   ]
  },
  {
   "cell_type": "code",
   "execution_count": 13,
   "id": "1a070508",
   "metadata": {},
   "outputs": [],
   "source": [
    "# samples need to be multiples of 16\n",
    "def get_closest_multiple_of_16(num):\n",
    "    return int(num + 8 ) - (int(num + 8 ) % 16)\n",
    "\n",
    "# Convert seconds to dt\n",
    "def get_dt_from(sec):\n",
    "    return get_closest_multiple_of_16(sec/dt)\n",
    "\n",
    "# unit conversion factors -> all backend properties returned in SI (Hz, sec, etc.)\n",
    "GHz = 1.0e9 # Gigahertz\n",
    "MHz = 1.0e6 # Megahertz\n",
    "us = 1.0e-6 # Microseconds\n",
    "ns = 1.0e-9 # Nanoseconds\n",
    "\n",
    "# Drive pulse parameters (us = microseconds)\n",
    "drive_sigma_sec = 0.015 * us                           # This determines the actual width of the gaussian\n",
    "drive_duration_sec = drive_sigma_sec * 8               # This is a truncating parameter, because gaussians don't have \n",
    "                                                       # a natural finite length"
   ]
  },
  {
   "cell_type": "markdown",
   "id": "67fbe9db",
   "metadata": {},
   "source": [
    "Here we create a circuit to host our Rabi schedules"
   ]
  },
  {
   "cell_type": "code",
   "execution_count": 24,
   "id": "b3c6f64c",
   "metadata": {},
   "outputs": [
    {
     "data": {
      "image/png": "[encoded data removed]",
      "text/plain": [
       "<Figure size 253.926x144.48 with 1 Axes>"
      ]
     },
     "execution_count": 24,
     "metadata": {},
     "output_type": "execute_result"
    }
   ],
   "source": [
    "from qiskit import QuantumCircuit\n",
    "from qiskit.circuit import Gate\n",
    "\n",
    "rabi_circ = QuantumCircuit(1, 1)\n",
    "calibrating_gate = Gate('Rabi Gate', 1, [0,1])\n",
    "rabi_circ.append(calibrating_gate, [qubit])\n",
    "rabi_circ.measure(0, 0)\n",
    "\n",
    "rabi_circ.draw('mpl', idle_wires=False)"
   ]
  },
  {
   "cell_type": "code",
   "execution_count": 4,
   "id": "528262c8",
   "metadata": {},
   "outputs": [],
   "source": [
    "from qiskit import IBMQ\n",
    "IBMQ.load_account()\n",
    "provider = IBMQ.get_provider(hub='ibm-q', group='open', project='main')\n",
    "backend = provider.get_backend('ibmq_manila')\n",
    "\n",
    "backend_config = backend.configuration()\n",
    "dt = backend_config.dt"
   ]
  },
  {
   "cell_type": "code",
   "execution_count": 5,
   "id": "bba92fae",
   "metadata": {},
   "outputs": [
    {
     "data": {
      "text/plain": [
       "((0,\n",
       "  Play(Drag(duration=160, amp=(0.19555861812669767+0j), sigma=40, beta=-0.5504508376305821, name='Xp_d0'), DriveChannel(0), name='Xp_d0')),)"
      ]
     },
     "execution_count": 5,
     "metadata": {},
     "output_type": "execute_result"
    }
   ],
   "source": [
    "inst_sched_map_man = backend.defaults().instruction_schedule_map\n",
    "\n",
    "qubit = 0 # qubit 0 on ibmq_manila (there are 5 of them)\n",
    "x_man = inst_sched_map_man.get('x', qubits=[qubit])\n",
    "\n",
    "x_man.instructions"
   ]
  },
  {
   "cell_type": "code",
   "execution_count": 25,
   "id": "c6b831dd",
   "metadata": {},
   "outputs": [],
   "source": [
    "# Rabi experiment parameters\n",
    "num_rabi_points = 50\n",
    "\n",
    "# Drive amplitude values to iterate over: 50 amplitudes evenly spaced from 0 to 0.75\n",
    "drive_amp_min = 0\n",
    "drive_amp_max = 0.75\n",
    "drive_amps = np.linspace(drive_amp_min, drive_amp_max, num_rabi_points)\n",
    "\n",
    "from qiskit.pulse import DriveChannel, Play, Schedule\n",
    "from copy import deepcopy\n",
    "from qiskit import pulse\n",
    "from qiskit.pulse.library import Drag\n",
    "\n",
    "rabi_circs = [] # array of rabi_circs\n",
    "\n",
    "for amp_off in drive_amps:\n",
    "    rabi_circ_off = deepcopy(rabi_circ)\n",
    "    with pulse.build(backend=backend, default_alignment='sequential', name='Rabi Experiment') as rabi_sched:\n",
    "        drive_duration = get_closest_multiple_of_16(pulse.seconds_to_samples(drive_duration_sec))\n",
    "        drive_sigma = pulse.seconds_to_samples(drive_sigma_sec)\n",
    "        drive_chan = pulse.drive_channel(qubit)\n",
    "        pulse.set_frequency(rough_qubit_frequency, drive_chan)\n",
    "        pulse.play(pulse.Gaussian(duration=drive_duration,\n",
    "                                  amp=amp_off,\n",
    "                                  sigma=drive_sigma,\n",
    "                                  name='Rabi Pulse'), drive_chan)\n",
    "    rabi_circ_off.add_calibration(calibrating_gate, [qubit], rabi_sched)\n",
    "    rabi_circs.append(rabi_circ_off)"
   ]
  },
  {
   "cell_type": "code",
   "execution_count": 26,
   "id": "58cf0643",
   "metadata": {},
   "outputs": [
    {
     "data": {
      "text/plain": [
       "50"
      ]
     },
     "execution_count": 26,
     "metadata": {},
     "output_type": "execute_result"
    }
   ],
   "source": [
    "len(rabi_circs) # 50 circuits will be sent corresponding to 50 rabi scheds ~ 50 amplitude offset."
   ]
  },
  {
   "cell_type": "code",
   "execution_count": 27,
   "id": "ba2142eb",
   "metadata": {},
   "outputs": [
    {
     "data": {
      "text/html": [
       "<pre style=\"word-wrap: normal;white-space: pre;background: #fff0;line-height: 1.1;font-family: &quot;Courier New&quot;,Courier,monospace\">     ┌────────────────┐┌─┐\n",
       "q_0: ┤ Rabi Gate(0,1) ├┤M├\n",
       "     └────────────────┘└╥┘\n",
       "c: 1/═══════════════════╩═\n",
       "                        0 </pre>"
      ],
      "text/plain": [
       "     ┌────────────────┐┌─┐\n",
       "q_0: ┤ Rabi Gate(0,1) ├┤M├\n",
       "     └────────────────┘└╥┘\n",
       "c: 1/═══════════════════╩═\n",
       "                        0 "
      ]
     },
     "execution_count": 27,
     "metadata": {},
     "output_type": "execute_result"
    }
   ],
   "source": [
    "rabi_circs[0].draw()"
   ]
  },
  {
   "cell_type": "code",
   "execution_count": 28,
   "id": "ea9d2676",
   "metadata": {},
   "outputs": [
    {
     "name": "stdout",
     "output_type": "stream",
     "text": [
      "Job Status: job has successfully run\n",
      "rabi oscillation job id: 6275df6d1d469e0e3560c696\n"
     ]
    }
   ],
   "source": [
    "from qiskit.tools.monitor import job_monitor\n",
    "\n",
    "num_shots_per_amp = 1024\n",
    "\n",
    "rabi_job = backend.run(rabi_circs, \n",
    "                  meas_level=1, \n",
    "                  meas_return='avg', \n",
    "                  shots=num_shots_per_amp)\n",
    "job_monitor(rabi_job)\n",
    "print(f\"rabi oscillation job id: {rabi_job.job_id()}\")"
   ]
  },
  {
   "cell_type": "code",
   "execution_count": 30,
   "id": "dea12b61",
   "metadata": {},
   "outputs": [],
   "source": [
    "rabi_results = rabi_job.result(timeout=120)\n",
    "# rabi_results = backend.retrieve_job('6273f3459381703b163e72fc') "
   ]
  },
  {
   "cell_type": "code",
   "execution_count": 35,
   "id": "fd3ff4ec",
   "metadata": {},
   "outputs": [],
   "source": [
    "from scipy.optimize import curve_fit\n",
    "import matplotlib.pyplot as plt\n",
    "\n",
    "def fit_function(x_values, y_values, function, init_params):\n",
    "    fitparams, conv = curve_fit(function, x_values, y_values, init_params)\n",
    "    y_fit = function(x_values, *fitparams)\n",
    "    \n",
    "    return fitparams, y_fit"
   ]
  },
  {
   "cell_type": "code",
   "execution_count": 36,
   "id": "47706ea0",
   "metadata": {},
   "outputs": [
    {
     "data": {
      "image/png": "[encoded data removed]",
      "text/plain": [
       "<Figure size 432x288 with 1 Axes>"
      ]
     },
     "metadata": {
      "needs_background": "light"
     },
     "output_type": "display_data"
    }
   ],
   "source": [
    "# center data around 0\n",
    "def baseline_remove(values):\n",
    "    return np.array(values) - np.mean(values)\n",
    "\n",
    "scale_factor = 1e-7\n",
    "rabi_values = []\n",
    "for i in range(num_rabi_points):\n",
    "    # Get the results for `qubit` from the ith experiment\n",
    "    rabi_values.append(rabi_results.get_memory(i)[qubit] * scale_factor)\n",
    "\n",
    "rabi_values = np.real(baseline_remove(rabi_values))\n",
    "\n",
    "fit_params, y_fit = fit_function(drive_amps,\n",
    "                                 rabi_values, \n",
    "                                 lambda x, A, B, drive_period, phi: (A*np.cos(2*np.pi*x/drive_period - phi) + B),\n",
    "                                 [2, 0, 0.2, 0])\n",
    "\n",
    "plt.scatter(drive_amps, rabi_values, color='black')\n",
    "plt.plot(drive_amps, y_fit, color='red')\n",
    "\n",
    "drive_period = fit_params[2] # get period of rabi oscillation\n",
    "\n",
    "plt.axvline(drive_period/2, color='red', linestyle='--')\n",
    "plt.axvline(drive_period, color='red', linestyle='--')\n",
    "plt.annotate(\"\", xy=(drive_period, 0), xytext=(drive_period/2,0), arrowprops=dict(arrowstyle=\"<->\", color='red'))\n",
    "plt.annotate(\"$\\pi$\", xy=(drive_period/2-0.03, 0.1), color='red')\n",
    "\n",
    "plt.xlabel(\"Drive amp [a.u.]\", fontsize=15)\n",
    "plt.ylabel(\"Measured signal [a.u.]\", fontsize=15)\n",
    "plt.show()"
   ]
  },
  {
   "cell_type": "code",
   "execution_count": 38,
   "id": "20bd8c53",
   "metadata": {},
   "outputs": [
    {
     "name": "stdout",
     "output_type": "stream",
     "text": [
      "Pi Amplitude = 0.08929438196226828\n"
     ]
    }
   ],
   "source": [
    "pi_amp = abs(drive_period / 2)\n",
    "print(f\"Pi Amplitude = {pi_amp}\")"
   ]
  },
  {
   "cell_type": "code",
   "execution_count": 52,
   "id": "f3babe27",
   "metadata": {},
   "outputs": [
    {
     "data": {
      "image/png": "[encoded data removed]",
      "text/plain": [
       "<Figure size 936x118.8 with 1 Axes>"
      ]
     },
     "execution_count": 52,
     "metadata": {},
     "output_type": "execute_result"
    }
   ],
   "source": [
    "with pulse.build(backend) as pi_pulse:\n",
    "    drive_duration = get_closest_multiple_of_16(pulse.seconds_to_samples(drive_duration_sec))\n",
    "    drive_sigma = pulse.seconds_to_samples(drive_sigma_sec)\n",
    "    drive_chan = pulse.drive_channel(qubit)\n",
    "    pulse.play(pulse.Gaussian(duration=drive_duration,\n",
    "                              amp=pi_amp,\n",
    "                              sigma=drive_sigma,\n",
    "                              name='pi_pulse'), drive_chan)\n",
    "pi_pulse.draw(backend=backend)"
   ]
  },
  {
   "cell_type": "markdown",
   "id": "fb6aa009",
   "metadata": {},
   "source": [
    "# Discriminating Computational Eigenstates"
   ]
  },
  {
   "cell_type": "markdown",
   "id": "da904149",
   "metadata": {},
   "source": [
    "Our next job is going to be determining whether the receiving signals being $|0\\rangle$ or $|1\\rangle$."
   ]
  },
  {
   "cell_type": "code",
   "execution_count": 48,
   "id": "5d7bb4b4",
   "metadata": {},
   "outputs": [
    {
     "data": {
      "image/png": "[encoded data removed]",
      "text/plain": [
       "<Figure size 133.526x144.48 with 1 Axes>"
      ]
     },
     "execution_count": 48,
     "metadata": {},
     "output_type": "execute_result"
    }
   ],
   "source": [
    "# Since we apply no pulse on the qubit, there's no need for calibration here.\n",
    "\n",
    "gnd_circ = QuantumCircuit(1, 1)\n",
    "gnd_circ.measure(0, 0)\n",
    "gnd_circ.draw('mpl', idle_wires=False)"
   ]
  },
  {
   "cell_type": "code",
   "execution_count": 55,
   "id": "26129545",
   "metadata": {},
   "outputs": [
    {
     "data": {
      "text/plain": [
       "<qiskit.circuit.instructionset.InstructionSet at 0x7fe6c41c1d30>"
      ]
     },
     "execution_count": 55,
     "metadata": {},
     "output_type": "execute_result"
    }
   ],
   "source": [
    "exc_circ = QuantumCircuit(1, 1)\n",
    "exc_circ.x(0)\n",
    "exc_circ.measure(0, 0)"
   ]
  },
  {
   "cell_type": "code",
   "execution_count": 57,
   "id": "9230d3b9",
   "metadata": {},
   "outputs": [
    {
     "data": {
      "image/png": "[encoded data removed]",
      "text/plain": [
       "<Figure size 936x118.8 with 1 Axes>"
      ]
     },
     "execution_count": 57,
     "metadata": {},
     "output_type": "execute_result"
    }
   ],
   "source": [
    "# Excited state schedule\n",
    "\n",
    "with pulse.build(backend=backend, default_alignment='sequential', name='excited state') as exc_schedule:\n",
    "    drive_chan = pulse.drive_channel(qubit)\n",
    "    pulse.set_frequency(rough_qubit_frequency, drive_chan)\n",
    "    pulse.call(pi_pulse)\n",
    "    \n",
    "exc_circ.add_calibration('x', [qubit], exc_schedule)\n",
    "exc_schedule.draw(backend=backend)"
   ]
  },
  {
   "cell_type": "code",
   "execution_count": 54,
   "id": "763fd9d9",
   "metadata": {},
   "outputs": [
    {
     "data": {
      "image/png": "[encoded data removed]",
      "text/plain": [
       "<Figure size 193.726x144.48 with 1 Axes>"
      ]
     },
     "execution_count": 54,
     "metadata": {},
     "output_type": "execute_result"
    }
   ],
   "source": [
    "exc_circ.draw('mpl', idle_wires=False)"
   ]
  },
  {
   "cell_type": "code",
   "execution_count": 60,
   "id": "768a65ec",
   "metadata": {},
   "outputs": [
    {
     "name": "stdout",
     "output_type": "stream",
     "text": [
      "Job Status: job has successfully run\n"
     ]
    },
    {
     "data": {
      "text/plain": [
       "'6275e95b5758cffba2c9aae8'"
      ]
     },
     "execution_count": 60,
     "metadata": {},
     "output_type": "execute_result"
    }
   ],
   "source": [
    "num_shots = 1024\n",
    "\n",
    "job = backend.run([gnd_circ, exc_circ], \n",
    "                  meas_level=1, \n",
    "                  meas_return='single', \n",
    "                  shots=num_shots)\n",
    "job_monitor(job)\n",
    "job.job_id()"
   ]
  },
  {
   "cell_type": "code",
   "execution_count": 61,
   "id": "7ea84344",
   "metadata": {},
   "outputs": [
    {
     "data": {
      "image/png": "[encoded data removed]",
      "text/plain": [
       "<Figure size 432x288 with 1 Axes>"
      ]
     },
     "metadata": {
      "needs_background": "light"
     },
     "output_type": "display_data"
    }
   ],
   "source": [
    "gnd_exc_results = job.result(timeout=120)\n",
    "\n",
    "gnd_results = gnd_exc_results.get_memory(0)[:, qubit]*scale_factor\n",
    "exc_results = gnd_exc_results.get_memory(1)[:, qubit]*scale_factor\n",
    "\n",
    "plt.figure()\n",
    "\n",
    "# Plot all the results\n",
    "# All results from the gnd_schedule are plotted in blue\n",
    "plt.scatter(np.real(gnd_results), np.imag(gnd_results), \n",
    "                s=5, cmap='viridis', c='blue', alpha=0.5, label='state_0')\n",
    "# All results from the exc_schedule are plotted in red\n",
    "plt.scatter(np.real(exc_results), np.imag(exc_results), \n",
    "                s=5, cmap='viridis', c='red', alpha=0.5, label='state_1')\n",
    "\n",
    "plt.axis('square')\n",
    "\n",
    "# Plot a large dot for the average result of the 0 and 1 states.\n",
    "mean_gnd = np.mean(gnd_results) # takes mean of both real and imaginary parts\n",
    "mean_exc = np.mean(exc_results)\n",
    "plt.scatter(np.real(mean_gnd), np.imag(mean_gnd), \n",
    "            s=200, cmap='viridis', c='black',alpha=1.0, label='state_0_mean')\n",
    "plt.scatter(np.real(mean_exc), np.imag(mean_exc), \n",
    "            s=200, cmap='viridis', c='black',alpha=1.0, label='state_1_mean')\n",
    "\n",
    "plt.ylabel('I [a.u.]', fontsize=15)\n",
    "plt.xlabel('Q [a.u.]', fontsize=15)\n",
    "plt.title(\"0-1 discrimination\", fontsize=15)\n",
    "\n",
    "plt.show()"
   ]
  },
  {
   "cell_type": "code",
   "execution_count": 62,
   "id": "916834f2",
   "metadata": {},
   "outputs": [],
   "source": [
    "import math\n",
    "\n",
    "def classify(point: complex):\n",
    "    \"\"\"Classify the given state as |0> or |1>.\"\"\"\n",
    "    def distance(a, b):\n",
    "        return math.sqrt((np.real(a) - np.real(b))**2 + (np.imag(a) - np.imag(b))**2)\n",
    "    return int(distance(point, mean_exc) < distance(point, mean_gnd))"
   ]
  },
  {
   "cell_type": "code",
   "execution_count": null,
   "id": "139bcf6a",
   "metadata": {},
   "outputs": [],
   "source": []
  }
 ],
 "metadata": {
  "kernelspec": {
   "display_name": "Python 3",
   "language": "python",
   "name": "python3"
  },
  "language_info": {
   "codemirror_mode": {
    "name": "ipython",
    "version": 3
   },
   "file_extension": ".py",
   "mimetype": "text/x-python",
   "name": "python",
   "nbconvert_exporter": "python",
   "pygments_lexer": "ipython3",
   "version": "3.8.8"
  }
 },
 "nbformat": 4,
 "nbformat_minor": 5
}
