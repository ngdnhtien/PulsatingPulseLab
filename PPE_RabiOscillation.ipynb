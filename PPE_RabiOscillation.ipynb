{
 "cells": [
  {
   "cell_type": "markdown",
   "id": "c66bfbab",
   "metadata": {},
   "source": [
    "# Calibrating & Using a $\\pi$-pulse"
   ]
  },
  {
   "cell_type": "markdown",
   "id": "3736cd5f",
   "metadata": {},
   "source": [
    "Once we know the frequency of our qubit, the next step is to determine the strength of a $\\pi$-pulse. The desired rotation is such that the qubit goes from $|0\\rangle$ to $|1\\rangle$. We will change the drive amplitude `amp` in small increments and measuring the state of the qubit each time. We expect to see oscillations which are commonly named Rabi oscillations, as the qubit goes between its computational subspaces."
   ]
  },
  {
   "cell_type": "code",
   "execution_count": 13,
   "id": "56b434c8",
   "metadata": {},
   "outputs": [],
   "source": [
    "import numpy as np\n",
    "GHz = 1.0e9\n",
    "\n",
    "qubit = 0\n",
    "rough_qubit_frequency = 4.96227839460659 * GHz"
   ]
  },
  {
   "cell_type": "markdown",
   "id": "67fbe9db",
   "metadata": {},
   "source": [
    "Here we create a circuit to host our Rabi schedules"
   ]
  },
  {
   "cell_type": "code",
   "execution_count": 9,
   "id": "b3c6f64c",
   "metadata": {},
   "outputs": [
    {
     "data": {
      "image/png": "[encoded data removed]",
      "text/plain": [
       "<Figure size 314.126x144.48 with 1 Axes>"
      ]
     },
     "execution_count": 9,
     "metadata": {},
     "output_type": "execute_result"
    }
   ],
   "source": [
    "from qiskit import QuantumCircuit\n",
    "from qiskit.circuit import Gate\n",
    "\n",
    "rabi_circ = QuantumCircuit(1, 1)\n",
    "cal_gate = Gate('name_rabi_gate', 1, [3,4,5])\n",
    "rabi_circ.append(cal_gate, [qubit])\n",
    "rabi_circ.measure(0, 0)\n",
    "\n",
    "rabi_circ.draw('mpl', idle_wires=False)"
   ]
  },
  {
   "cell_type": "code",
   "execution_count": 10,
   "id": "528262c8",
   "metadata": {},
   "outputs": [
    {
     "name": "stderr",
     "output_type": "stream",
     "text": [
      "ibmqfactory.load_account:WARNING:2022-05-06 10:03:59,505: Credentials are already in use. The existing account in the session will be replaced.\n"
     ]
    }
   ],
   "source": [
    "from qiskit import IBMQ\n",
    "IBMQ.load_account()\n",
    "provider = IBMQ.get_provider(hub='ibm-q', group='open', project='main')\n",
    "backend = provider.get_backend('ibmq_manila')\n",
    "\n",
    "backend_config = backend.configuration()\n",
    "dt = backend_config.dt"
   ]
  },
  {
   "cell_type": "code",
   "execution_count": 11,
   "id": "bba92fae",
   "metadata": {},
   "outputs": [
    {
     "data": {
      "text/plain": [
       "((0,\n",
       "  Play(Drag(duration=160, amp=(0.19587717637708868+0j), sigma=40, beta=-0.5598528148942019, name='Xp_d0'), DriveChannel(0), name='Xp_d0')),)"
      ]
     },
     "execution_count": 11,
     "metadata": {},
     "output_type": "execute_result"
    }
   ],
   "source": [
    "inst_sched_map_man = backend.defaults().instruction_schedule_map\n",
    "\n",
    "qubit = 0 # qubit 0 on ibmq_manila (there are 5 of them)\n",
    "x_man = inst_sched_map_man.get('x', qubits=[qubit])\n",
    "\n",
    "x_man.instructions"
   ]
  },
  {
   "cell_type": "code",
   "execution_count": 18,
   "id": "c6b831dd",
   "metadata": {},
   "outputs": [],
   "source": [
    "# Rabi experiment parameters\n",
    "num_rabi_points = 50\n",
    "\n",
    "# Drive amplitude values to iterate over: 50 amplitudes evenly spaced from 0 to 0.75\n",
    "drive_amp_min = 0\n",
    "drive_amp_max = 0.75\n",
    "drive_amps = np.linspace(drive_amp_min, drive_amp_max, num_rabi_points)\n",
    "\n",
    "from qiskit.pulse import DriveChannel, Play, Schedule\n",
    "from copy import deepcopy\n",
    "from qiskit import pulse\n",
    "from qiskit.pulse.library import Drag\n",
    "\n",
    "rabi_circs = [] # array of rabi_circs\n",
    "\n",
    "for amp_off in drive_amps:\n",
    "    rabi_circ_off = deepcopy(rabi_circ)\n",
    "    with pulse.build(backend=backend, default_alignment='sequential', name='Rabi Experiment') as rabi_sched:\n",
    "        with pulse.frequency_offset(rough_qubit_frequency, DriveChannel(qubit)):\n",
    "            pulse.play(Drag(duration=160, \n",
    "                            amp=amp_off, \n",
    "                            sigma=40, \n",
    "                            beta=-0.5598528148942019, \n",
    "                            name='Rabi Pulse'), DriveChannel(qubit))\n",
    "        rabi_circ_off.add_calibration(cal_gate, [qubit], rabi_sched)\n",
    "    rabi_circs.append(rabi_circ_off)"
   ]
  },
  {
   "cell_type": "code",
   "execution_count": 20,
   "id": "58cf0643",
   "metadata": {},
   "outputs": [
    {
     "data": {
      "text/plain": [
       "50"
      ]
     },
     "execution_count": 20,
     "metadata": {},
     "output_type": "execute_result"
    }
   ],
   "source": [
    "len(rabi_circs) # 50 circuits will be sent corresponding to 50 rabi scheds ~ 50 amplitude offset."
   ]
  },
  {
   "cell_type": "code",
   "execution_count": 22,
   "id": "ba2142eb",
   "metadata": {},
   "outputs": [
    {
     "data": {
      "text/html": [
       "<pre style=\"word-wrap: normal;white-space: pre;background: #fff0;line-height: 1.1;font-family: &quot;Courier New&quot;,Courier,monospace\">     ┌───────────────────────┐┌─┐\n",
       "q_0: ┤ name_rabi_gate(3,4,5) ├┤M├\n",
       "     └───────────────────────┘└╥┘\n",
       "c: 1/══════════════════════════╩═\n",
       "                               0 </pre>"
      ],
      "text/plain": [
       "     ┌───────────────────────┐┌─┐\n",
       "q_0: ┤ name_rabi_gate(3,4,5) ├┤M├\n",
       "     └───────────────────────┘└╥┘\n",
       "c: 1/══════════════════════════╩═\n",
       "                               0 "
      ]
     },
     "execution_count": 22,
     "metadata": {},
     "output_type": "execute_result"
    }
   ],
   "source": [
    "rabi_circs[0].draw()"
   ]
  },
  {
   "cell_type": "code",
   "execution_count": null,
   "id": "ea9d2676",
   "metadata": {},
   "outputs": [
    {
     "name": "stdout",
     "output_type": "stream",
     "text": [
      "Job Status: job is queued (63)    "
     ]
    }
   ],
   "source": [
    "from qiskit.tools.monitor import job_monitor\n",
    "\n",
    "num_shots_per_amp = 1024\n",
    "\n",
    "rabi_job = backend.run(rabi_circs, \n",
    "                  meas_level=1, \n",
    "                  meas_return='avg', \n",
    "                  shots=num_shots_per_amp)\n",
    "job_monitor(rabi_job)\n",
    "print(f\"rabi oscillation job id: {rabi_job.job_id()}\")"
   ]
  },
  {
   "cell_type": "code",
   "execution_count": null,
   "id": "dea12b61",
   "metadata": {},
   "outputs": [],
   "source": [
    "rabi_results = rabi_job.result(timeout=120)\n",
    "# rabi_results = backend.retrieve_job('6273f3459381703b163e72fc') "
   ]
  },
  {
   "cell_type": "code",
   "execution_count": null,
   "id": "47706ea0",
   "metadata": {},
   "outputs": [],
   "source": [
    "# center data around 0\n",
    "def baseline_remove(values):\n",
    "    return np.array(values) - np.mean(values)\n",
    "\n",
    "rabi_values = []\n",
    "for i in range(num_rabi_points):\n",
    "    # Get the results for `qubit` from the ith experiment\n",
    "    rabi_values.append(rabi_results.get_memory(i)[qubit] * scale_factor)\n",
    "\n",
    "rabi_values = np.real(baseline_remove(rabi_values))\n",
    "\n",
    "fit_params, y_fit = fit_function(drive_amps,\n",
    "                                 rabi_values, \n",
    "                                 lambda x, A, B, drive_period, phi: (A*np.cos(2*np.pi*x/drive_period - phi) + B),\n",
    "                                 [2, 0, 0.2, 0])\n",
    "\n",
    "plt.scatter(drive_amps, rabi_values, color='black')\n",
    "plt.plot(drive_amps, y_fit, color='red')\n",
    "\n",
    "drive_period = fit_params[2] # get period of rabi oscillation\n",
    "\n",
    "plt.axvline(drive_period/2, color='red', linestyle='--')\n",
    "plt.axvline(drive_period, color='red', linestyle='--')\n",
    "plt.annotate(\"\", xy=(drive_period, 0), xytext=(drive_period/2,0), arrowprops=dict(arrowstyle=\"<->\", color='red'))\n",
    "plt.annotate(\"$\\pi$\", xy=(drive_period/2-0.03, 0.1), color='red')\n",
    "\n",
    "plt.xlabel(\"Drive amp [a.u.]\", fontsize=15)\n",
    "plt.ylabel(\"Measured signal [a.u.]\", fontsize=15)\n",
    "plt.show()"
   ]
  },
  {
   "cell_type": "code",
   "execution_count": null,
   "id": "20bd8c53",
   "metadata": {},
   "outputs": [],
   "source": [
    "pi_amp = abs(drive_period / 2)\n",
    "print(f\"Pi Amplitude = {pi_amp}\")\n",
    "\n",
    "with pulse.build(backend) as pi_pulse:\n",
    "    drive_duration = 160\n",
    "    drive_sigma = 40\n",
    "    drive_chan = pulse.drive_channel(qubit)\n",
    "    drive_beta = -0.5598528148942019\n",
    "    pulse.play(pulse.Gaussian(duration=drive_duration,\n",
    "                              amp=pi_amp,\n",
    "                              sigma=drive_sigma,\n",
    "                              beta=drive_beta\n",
    "                              name='pi_pulse'), drive_chan)"
   ]
  },
  {
   "cell_type": "code",
   "execution_count": null,
   "id": "f3babe27",
   "metadata": {},
   "outputs": [],
   "source": []
  }
 ],
 "metadata": {
  "kernelspec": {
   "display_name": "Python 3",
   "language": "python",
   "name": "python3"
  },
  "language_info": {
   "codemirror_mode": {
    "name": "ipython",
    "version": 3
   },
   "file_extension": ".py",
   "mimetype": "text/x-python",
   "name": "python",
   "nbconvert_exporter": "python",
   "pygments_lexer": "ipython3",
   "version": "3.8.8"
  }
 },
 "nbformat": 4,
 "nbformat_minor": 5
}
