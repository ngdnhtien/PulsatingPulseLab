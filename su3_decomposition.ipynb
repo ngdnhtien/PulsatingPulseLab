{
  "nbformat": 4,
  "nbformat_minor": 0,
  "metadata": {
    "colab": {
      "name": "su3_decomposition.ipynb",
      "provenance": []
    },
    "kernelspec": {
      "name": "python3",
      "display_name": "Python 3"
    },
    "language_info": {
      "name": "python"
    }
  },
  "cells": [
    {
      "cell_type": "code",
      "execution_count": null,
      "metadata": {
        "id": "vYsMKt7akYEY"
      },
      "outputs": [],
      "source": [
        "%matplotlib inline\n",
        "import matplotlib.pyplot as plt\n",
        "from sympy import *\n",
        "from sympy.physics.quantum import *\n",
        "import numpy as np"
      ]
    },
    {
      "cell_type": "code",
      "source": [
        "def Z01(phi):\n",
        "  return Matrix([[exp(I*phi), 0, 0],\n",
        "                 [0, 1, 0],\n",
        "                 [0, 0, 1]])\n",
        "\n",
        "def Z12(phi):\n",
        "  return Matrix([[1, 0, 0],\n",
        "                 [0, 1, 0],\n",
        "                 [0, 0, exp(I*phi)]])\n",
        "\n",
        "def X01(theta):\n",
        "  return Matrix([[cos(theta/2), -I*sin(theta/2), 0],\n",
        "                 [-I*sin(theta/2), cos(theta/2), 0],\n",
        "                 [0, 0, 1]])\n",
        "  \n",
        "def X12(theta):\n",
        "  return Matrix([[1, 0, 0],\n",
        "                 [0, cos(theta/2), -I*sin(theta/2)],\n",
        "                 [0, -I*sin(theta/2), cos(theta/2)]])\n",
        "\n",
        "def Y01(theta):\n",
        "  return Matrix([[cos(theta/2), -sin(theta/2), 0],\n",
        "                 [sin(theta/2), cos(theta/2), 0],\n",
        "                 [0, 0, 1]])\n",
        "  \n",
        "def Y12(theta):\n",
        "  return Matrix([[1, 0, 0],\n",
        "                 [0, cos(theta/2), -sin(theta/2)],\n",
        "                 [0, sin(theta/2), cos(theta/2)]])\n",
        "\n",
        "def R01(phi, theta):\n",
        "  return Z01(-phi)*X01(theta)*Z01(phi)\n",
        "\n",
        "def R12(phi, theta):\n",
        "  return Z12(phi)*X12(theta)*Z12(-phi)\n",
        "\n",
        "def U_d(phi_1, phi_2, phi_3):\n",
        "  return Matrix([[exp(I*phi_1), 0, 0],\n",
        "                 [0, exp(I*phi_2), 0],\n",
        "                 [0, 0, exp(I*phi_3)]])\n"
      ],
      "metadata": {
        "id": "rzKeQFVzlSzy"
      },
      "execution_count": null,
      "outputs": []
    },
    {
      "cell_type": "code",
      "source": [
        "R12(0, pi)"
      ],
      "metadata": {
        "colab": {
          "base_uri": "https://localhost:8080/",
          "height": 78
        },
        "id": "bE0FYnBObUaq",
        "outputId": "1787ff72-7a67-43b1-f6b9-be3252dc61bd"
      },
      "execution_count": null,
      "outputs": [
        {
          "output_type": "execute_result",
          "data": {
            "text/plain": [
              "Matrix([\n",
              "[1,  0,  0],\n",
              "[0,  0, -I],\n",
              "[0, -I,  0]])"
            ],
            "text/latex": "$\\displaystyle \\left[\\begin{matrix}1 & 0 & 0\\\\0 & 0 & - i\\\\0 & - i & 0\\end{matrix}\\right]$"
          },
          "metadata": {},
          "execution_count": 14
        }
      ]
    },
    {
      "cell_type": "code",
      "source": [
        ""
      ],
      "metadata": {
        "id": "4fxLIU1pT4hy"
      },
      "execution_count": null,
      "outputs": []
    },
    {
      "cell_type": "code",
      "source": [
        "U0 = U_d(Symbol('phi_6'), Symbol('phi_5'), Symbol('phi_4'))*R01(Symbol('phi_3'), Symbol('theta_3'))\n",
        "U0\n"
      ],
      "metadata": {
        "colab": {
          "base_uri": "https://localhost:8080/",
          "height": 80
        },
        "id": "e5m1yilOf_Ns",
        "outputId": "1b411be5-6994-4f33-c3d3-ac1087bbff07"
      },
      "execution_count": null,
      "outputs": [
        {
          "output_type": "execute_result",
          "data": {
            "text/plain": [
              "Matrix([\n",
              "[                exp(I*phi_6)*cos(theta_3/2), -I*exp(-I*phi_3)*exp(I*phi_6)*sin(theta_3/2),            0],\n",
              "[-I*exp(I*phi_3)*exp(I*phi_5)*sin(theta_3/2),                  exp(I*phi_5)*cos(theta_3/2),            0],\n",
              "[                                          0,                                            0, exp(I*phi_4)]])"
            ],
            "text/latex": "$\\displaystyle \\left[\\begin{matrix}e^{i \\phi_{6}} \\cos{\\left(\\frac{\\theta_{3}}{2} \\right)} & - i e^{- i \\phi_{3}} e^{i \\phi_{6}} \\sin{\\left(\\frac{\\theta_{3}}{2} \\right)} & 0\\\\- i e^{i \\phi_{3}} e^{i \\phi_{5}} \\sin{\\left(\\frac{\\theta_{3}}{2} \\right)} & e^{i \\phi_{5}} \\cos{\\left(\\frac{\\theta_{3}}{2} \\right)} & 0\\\\0 & 0 & e^{i \\phi_{4}}\\end{matrix}\\right]$"
          },
          "metadata": {},
          "execution_count": 5
        }
      ]
    },
    {
      "cell_type": "code",
      "source": [
        "U = U_d(Symbol('phi_6'), Symbol('phi_5'), Symbol('phi_4')) * R01(Symbol('phi_3'), Symbol('theta_3')) * R12(Symbol('phi_2'), Symbol('theta_2')) * R01(Symbol('phi_1'), Symbol('theta_1'))\n",
        "# for i in range(9):\n",
        "#   U[i] = simplify(U[i])\n",
        "U"
      ],
      "metadata": {
        "colab": {
          "base_uri": "https://localhost:8080/",
          "height": 81
        },
        "id": "vtnoLPZgmrJ6",
        "outputId": "3e418dd3-2118-4e6f-ba75-02084102a9c8"
      },
      "execution_count": null,
      "outputs": [
        {
          "output_type": "execute_result",
          "data": {
            "text/plain": [
              "Matrix([\n",
              "[   -exp(I*phi_1)*exp(-I*phi_3)*exp(I*phi_6)*sin(theta_1/2)*sin(theta_3/2)*cos(theta_2/2) + exp(I*phi_6)*cos(theta_1/2)*cos(theta_3/2), -I*exp(-I*phi_3)*exp(I*phi_6)*sin(theta_3/2)*cos(theta_1/2)*cos(theta_2/2) - I*exp(-I*phi_1)*exp(I*phi_6)*sin(theta_1/2)*cos(theta_3/2), -exp(-I*phi_2)*exp(-I*phi_3)*exp(I*phi_6)*sin(theta_2/2)*sin(theta_3/2)],\n",
              "[-I*exp(I*phi_1)*exp(I*phi_5)*sin(theta_1/2)*cos(theta_2/2)*cos(theta_3/2) - I*exp(I*phi_3)*exp(I*phi_5)*sin(theta_3/2)*cos(theta_1/2),       exp(I*phi_5)*cos(theta_1/2)*cos(theta_2/2)*cos(theta_3/2) - exp(-I*phi_1)*exp(I*phi_3)*exp(I*phi_5)*sin(theta_1/2)*sin(theta_3/2),             -I*exp(-I*phi_2)*exp(I*phi_5)*sin(theta_2/2)*cos(theta_3/2)],\n",
              "[                                                                -exp(I*phi_1)*exp(I*phi_2)*exp(I*phi_4)*sin(theta_1/2)*sin(theta_2/2),                                                                              -I*exp(I*phi_2)*exp(I*phi_4)*sin(theta_2/2)*cos(theta_1/2),                                             exp(I*phi_4)*cos(theta_2/2)]])"
            ],
            "text/latex": "$\\displaystyle \\left[\\begin{matrix}- e^{i \\phi_{1}} e^{- i \\phi_{3}} e^{i \\phi_{6}} \\sin{\\left(\\frac{\\theta_{1}}{2} \\right)} \\sin{\\left(\\frac{\\theta_{3}}{2} \\right)} \\cos{\\left(\\frac{\\theta_{2}}{2} \\right)} + e^{i \\phi_{6}} \\cos{\\left(\\frac{\\theta_{1}}{2} \\right)} \\cos{\\left(\\frac{\\theta_{3}}{2} \\right)} & - i e^{- i \\phi_{3}} e^{i \\phi_{6}} \\sin{\\left(\\frac{\\theta_{3}}{2} \\right)} \\cos{\\left(\\frac{\\theta_{1}}{2} \\right)} \\cos{\\left(\\frac{\\theta_{2}}{2} \\right)} - i e^{- i \\phi_{1}} e^{i \\phi_{6}} \\sin{\\left(\\frac{\\theta_{1}}{2} \\right)} \\cos{\\left(\\frac{\\theta_{3}}{2} \\right)} & - e^{- i \\phi_{2}} e^{- i \\phi_{3}} e^{i \\phi_{6}} \\sin{\\left(\\frac{\\theta_{2}}{2} \\right)} \\sin{\\left(\\frac{\\theta_{3}}{2} \\right)}\\\\- i e^{i \\phi_{1}} e^{i \\phi_{5}} \\sin{\\left(\\frac{\\theta_{1}}{2} \\right)} \\cos{\\left(\\frac{\\theta_{2}}{2} \\right)} \\cos{\\left(\\frac{\\theta_{3}}{2} \\right)} - i e^{i \\phi_{3}} e^{i \\phi_{5}} \\sin{\\left(\\frac{\\theta_{3}}{2} \\right)} \\cos{\\left(\\frac{\\theta_{1}}{2} \\right)} & e^{i \\phi_{5}} \\cos{\\left(\\frac{\\theta_{1}}{2} \\right)} \\cos{\\left(\\frac{\\theta_{2}}{2} \\right)} \\cos{\\left(\\frac{\\theta_{3}}{2} \\right)} - e^{- i \\phi_{1}} e^{i \\phi_{3}} e^{i \\phi_{5}} \\sin{\\left(\\frac{\\theta_{1}}{2} \\right)} \\sin{\\left(\\frac{\\theta_{3}}{2} \\right)} & - i e^{- i \\phi_{2}} e^{i \\phi_{5}} \\sin{\\left(\\frac{\\theta_{2}}{2} \\right)} \\cos{\\left(\\frac{\\theta_{3}}{2} \\right)}\\\\- e^{i \\phi_{1}} e^{i \\phi_{2}} e^{i \\phi_{4}} \\sin{\\left(\\frac{\\theta_{1}}{2} \\right)} \\sin{\\left(\\frac{\\theta_{2}}{2} \\right)} & - i e^{i \\phi_{2}} e^{i \\phi_{4}} \\sin{\\left(\\frac{\\theta_{2}}{2} \\right)} \\cos{\\left(\\frac{\\theta_{1}}{2} \\right)} & e^{i \\phi_{4}} \\cos{\\left(\\frac{\\theta_{2}}{2} \\right)}\\end{matrix}\\right]$"
          },
          "metadata": {},
          "execution_count": 6
        }
      ]
    },
    {
      "cell_type": "code",
      "source": [
        "def get_parameter(U):\n",
        "  phi_4 = arg(U[2, 2])\n",
        "  theta_2 = 2*acos(abs(U[2, 2]))\n",
        "  phi_2 = arg(U[2, 1]) - phi_4 + pi/2\n",
        "  phi_1 = arg(-U[2, 0]) - phi_2 - phi_4\n",
        "  theta_1 = 2*acos(abs(U[2, 1])/sin(theta_2/2))\n",
        "  theta_3 = 2*acos(abs(U[1, 2])/sin(theta_2/2))\n",
        "  phi_5 = arg(U[1, 2]) + phi_2 + pi/2\n",
        "  phi_3 = arg(cos(theta_1/2) * cos(theta_2/2) * cos(theta_3/2) - U[1, 1]*exp(-I*phi_5)) + phi_1\n",
        "  phi_6 = arg(-U[0, 2]) + phi_3 + phi_2\n",
        "  return theta_1, theta_2, theta_3, phi_1, phi_2, phi_3, phi_4, phi_5, phi_6\n",
        "\n",
        "def reconstruct(theta_1, theta_2, theta_3, phi_1, phi_2, phi_3, phi_4, phi_5, phi_6):\n",
        "  return U_d(phi_6, phi_5, phi_4) * R01(phi_3, theta_3) * R12(phi_2, theta_2) * R01(phi_1, theta_1)\n",
        "\n",
        "\n",
        "    "
      ],
      "metadata": {
        "id": "pKz5Z-0NesCP"
      },
      "execution_count": null,
      "outputs": []
    },
    {
      "cell_type": "code",
      "source": [
        "reconstruct(0, 0, Symbol('theta_3'), 0, 0, Symbol('phi_3'), Symbol('phi_4'), Symbol('phi_5'), Symbol('phi_6'))"
      ],
      "metadata": {
        "colab": {
          "base_uri": "https://localhost:8080/",
          "height": 80
        },
        "id": "r9rUU4QLyAqV",
        "outputId": "8ef95bf7-815d-46f2-8d09-b50cf091513e"
      },
      "execution_count": null,
      "outputs": [
        {
          "output_type": "execute_result",
          "data": {
            "text/plain": [
              "Matrix([\n",
              "[                exp(I*phi_6)*cos(theta_3/2), -I*exp(-I*phi_3)*exp(I*phi_6)*sin(theta_3/2),            0],\n",
              "[-I*exp(I*phi_3)*exp(I*phi_5)*sin(theta_3/2),                  exp(I*phi_5)*cos(theta_3/2),            0],\n",
              "[                                          0,                                            0, exp(I*phi_4)]])"
            ],
            "text/latex": "$\\displaystyle \\left[\\begin{matrix}e^{i \\phi_{6}} \\cos{\\left(\\frac{\\theta_{3}}{2} \\right)} & - i e^{- i \\phi_{3}} e^{i \\phi_{6}} \\sin{\\left(\\frac{\\theta_{3}}{2} \\right)} & 0\\\\- i e^{i \\phi_{3}} e^{i \\phi_{5}} \\sin{\\left(\\frac{\\theta_{3}}{2} \\right)} & e^{i \\phi_{5}} \\cos{\\left(\\frac{\\theta_{3}}{2} \\right)} & 0\\\\0 & 0 & e^{i \\phi_{4}}\\end{matrix}\\right]$"
          },
          "metadata": {},
          "execution_count": 8
        }
      ]
    },
    {
      "cell_type": "code",
      "source": [
        "reconstruct(Symbol('theta_1'), pi, Symbol('theta_3'), Symbol('phi_1'), Symbol('phi_2'), Symbol('phi_3'), Symbol('phi_4'), Symbol('phi_5'), Symbol('phi_6'))"
      ],
      "metadata": {
        "colab": {
          "base_uri": "https://localhost:8080/",
          "height": 81
        },
        "id": "GGkjrv5syp36",
        "outputId": "4e3a1bcb-65c5-4685-b1dc-352ff0565225"
      },
      "execution_count": null,
      "outputs": [
        {
          "output_type": "execute_result",
          "data": {
            "text/plain": [
              "Matrix([\n",
              "[                exp(I*phi_6)*cos(theta_1/2)*cos(theta_3/2),            -I*exp(-I*phi_1)*exp(I*phi_6)*sin(theta_1/2)*cos(theta_3/2), -exp(-I*phi_2)*exp(-I*phi_3)*exp(I*phi_6)*sin(theta_3/2)],\n",
              "[-I*exp(I*phi_3)*exp(I*phi_5)*sin(theta_3/2)*cos(theta_1/2), -exp(-I*phi_1)*exp(I*phi_3)*exp(I*phi_5)*sin(theta_1/2)*sin(theta_3/2),             -I*exp(-I*phi_2)*exp(I*phi_5)*cos(theta_3/2)],\n",
              "[    -exp(I*phi_1)*exp(I*phi_2)*exp(I*phi_4)*sin(theta_1/2),                            -I*exp(I*phi_2)*exp(I*phi_4)*cos(theta_1/2),                                                        0]])"
            ],
            "text/latex": "$\\displaystyle \\left[\\begin{matrix}e^{i \\phi_{6}} \\cos{\\left(\\frac{\\theta_{1}}{2} \\right)} \\cos{\\left(\\frac{\\theta_{3}}{2} \\right)} & - i e^{- i \\phi_{1}} e^{i \\phi_{6}} \\sin{\\left(\\frac{\\theta_{1}}{2} \\right)} \\cos{\\left(\\frac{\\theta_{3}}{2} \\right)} & - e^{- i \\phi_{2}} e^{- i \\phi_{3}} e^{i \\phi_{6}} \\sin{\\left(\\frac{\\theta_{3}}{2} \\right)}\\\\- i e^{i \\phi_{3}} e^{i \\phi_{5}} \\sin{\\left(\\frac{\\theta_{3}}{2} \\right)} \\cos{\\left(\\frac{\\theta_{1}}{2} \\right)} & - e^{- i \\phi_{1}} e^{i \\phi_{3}} e^{i \\phi_{5}} \\sin{\\left(\\frac{\\theta_{1}}{2} \\right)} \\sin{\\left(\\frac{\\theta_{3}}{2} \\right)} & - i e^{- i \\phi_{2}} e^{i \\phi_{5}} \\cos{\\left(\\frac{\\theta_{3}}{2} \\right)}\\\\- e^{i \\phi_{1}} e^{i \\phi_{2}} e^{i \\phi_{4}} \\sin{\\left(\\frac{\\theta_{1}}{2} \\right)} & - i e^{i \\phi_{2}} e^{i \\phi_{4}} \\cos{\\left(\\frac{\\theta_{1}}{2} \\right)} & 0\\end{matrix}\\right]$"
          },
          "metadata": {},
          "execution_count": 9
        }
      ]
    },
    {
      "cell_type": "markdown",
      "source": [
        "#165"
      ],
      "metadata": {
        "id": "QUm-DIVukNMh"
      }
    },
    {
      "cell_type": "code",
      "source": [
        "reconstruct(0, pi, pi, Symbol('phi_1'), Symbol('phi_2'), Symbol('phi_3'), Symbol('phi_4'), Symbol('phi_5'), Symbol('phi_6'))"
      ],
      "metadata": {
        "colab": {
          "base_uri": "https://localhost:8080/",
          "height": 78
        },
        "id": "53tUr67ekPgh",
        "outputId": "b17f88ea-d43d-4ab1-9bbc-9d65f3e1084e"
      },
      "execution_count": null,
      "outputs": [
        {
          "output_type": "execute_result",
          "data": {
            "text/plain": [
              "Matrix([\n",
              "[                           0,                            0, -exp(-I*phi_2)*exp(-I*phi_3)*exp(I*phi_6)],\n",
              "[-I*exp(I*phi_3)*exp(I*phi_5),                            0,                                         0],\n",
              "[                           0, -I*exp(I*phi_2)*exp(I*phi_4),                                         0]])"
            ],
            "text/latex": "$\\displaystyle \\left[\\begin{matrix}0 & 0 & - e^{- i \\phi_{2}} e^{- i \\phi_{3}} e^{i \\phi_{6}}\\\\- i e^{i \\phi_{3}} e^{i \\phi_{5}} & 0 & 0\\\\0 & - i e^{i \\phi_{2}} e^{i \\phi_{4}} & 0\\end{matrix}\\right]$"
          },
          "metadata": {},
          "execution_count": 18
        }
      ]
    },
    {
      "cell_type": "markdown",
      "source": [
        "# 199"
      ],
      "metadata": {
        "id": "Lz2L3obFmBQj"
      }
    },
    {
      "cell_type": "code",
      "source": [
        "reconstruct(pi, pi, 0, Symbol('phi_1'), Symbol('phi_2'), Symbol('phi_3'), Symbol('phi_4'), Symbol('phi_5'), Symbol('phi_6'))"
      ],
      "metadata": {
        "colab": {
          "base_uri": "https://localhost:8080/",
          "height": 78
        },
        "id": "IJuNeQNimE5_",
        "outputId": "c569e116-231c-404f-8e71-04f7ef9e4983"
      },
      "execution_count": null,
      "outputs": [
        {
          "output_type": "execute_result",
          "data": {
            "text/plain": [
              "Matrix([\n",
              "[                                      0, -I*exp(-I*phi_1)*exp(I*phi_6),                             0],\n",
              "[                                      0,                             0, -I*exp(-I*phi_2)*exp(I*phi_5)],\n",
              "[-exp(I*phi_1)*exp(I*phi_2)*exp(I*phi_4),                             0,                             0]])"
            ],
            "text/latex": "$\\displaystyle \\left[\\begin{matrix}0 & - i e^{- i \\phi_{1}} e^{i \\phi_{6}} & 0\\\\0 & 0 & - i e^{- i \\phi_{2}} e^{i \\phi_{5}}\\\\- e^{i \\phi_{1}} e^{i \\phi_{2}} e^{i \\phi_{4}} & 0 & 0\\end{matrix}\\right]$"
          },
          "metadata": {},
          "execution_count": 19
        }
      ]
    },
    {
      "cell_type": "markdown",
      "source": [
        "# 97 and 161"
      ],
      "metadata": {
        "id": "r7YJzuZUnaY9"
      }
    },
    {
      "cell_type": "code",
      "source": [
        "reconstruct(0, 0, pi, 0, 0, Symbol('phi_3'), Symbol('phi_4'), Symbol('phi_5'), Symbol('phi_6'))"
      ],
      "metadata": {
        "colab": {
          "base_uri": "https://localhost:8080/",
          "height": 78
        },
        "id": "9uuBQg7ZLY-j",
        "outputId": "08cde41f-93d0-40b1-e1e4-b0b3b427313c"
      },
      "execution_count": null,
      "outputs": [
        {
          "output_type": "execute_result",
          "data": {
            "text/plain": [
              "Matrix([\n",
              "[                           0, -I*exp(-I*phi_3)*exp(I*phi_6),            0],\n",
              "[-I*exp(I*phi_3)*exp(I*phi_5),                             0,            0],\n",
              "[                           0,                             0, exp(I*phi_4)]])"
            ],
            "text/latex": "$\\displaystyle \\left[\\begin{matrix}0 & - i e^{- i \\phi_{3}} e^{i \\phi_{6}} & 0\\\\- i e^{i \\phi_{3}} e^{i \\phi_{5}} & 0 & 0\\\\0 & 0 & e^{i \\phi_{4}}\\end{matrix}\\right]$"
          },
          "metadata": {},
          "execution_count": 24
        }
      ]
    },
    {
      "cell_type": "code",
      "source": [
        "U = Matrix([[Symbol('u_{11}'), Symbol('u_{12}'), Symbol('u_{13}')],\n",
        "            [Symbol('u_{21}'), Symbol('u_{22}'), Symbol('u_{23}')],\n",
        "            [Symbol('u_{31}'), Symbol('u_{32}'), Symbol('u_{33}')]])\n",
        "parameters = get_parameter(U)\n",
        "theta_1, theta_2, theta_3, phi_1, phi_2, phi_3, phi_4, phi_5, phi_6 = parameters\n",
        "U_r = reconstruct(theta_1, theta_2, theta_3, phi_1, phi_2, phi_3, phi_4, phi_5, phi_6)\n"
      ],
      "metadata": {
        "id": "4fC0M_yxg1qT"
      },
      "execution_count": null,
      "outputs": []
    },
    {
      "cell_type": "code",
      "source": [
        "U"
      ],
      "metadata": {
        "colab": {
          "base_uri": "https://localhost:8080/",
          "height": 78
        },
        "id": "c7N0jFYCya8R",
        "outputId": "115396d1-a99b-4f83-dc51-68ff2834631e"
      },
      "execution_count": null,
      "outputs": [
        {
          "output_type": "execute_result",
          "data": {
            "text/plain": [
              "Matrix([\n",
              "[u_{11}, u_{12}, u_{13}],\n",
              "[u_{21}, u_{22}, u_{23}],\n",
              "[u_{31}, u_{32}, u_{33}]])"
            ],
            "text/latex": "$\\displaystyle \\left[\\begin{matrix}u_{11} & u_{12} & u_{13}\\\\u_{21} & u_{22} & u_{23}\\\\u_{31} & u_{32} & u_{33}\\end{matrix}\\right]$"
          },
          "metadata": {},
          "execution_count": 13
        }
      ]
    },
    {
      "cell_type": "code",
      "source": [
        ""
      ],
      "metadata": {
        "id": "uV_V618rvjrk"
      },
      "execution_count": null,
      "outputs": []
    }
  ]
}