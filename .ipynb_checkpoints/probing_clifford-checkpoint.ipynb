{
 "cells": [
  {
   "cell_type": "markdown",
   "id": "e7882a07",
   "metadata": {
    "id": "e7882a07"
   },
   "source": [
    "# Why Clifford?\n",
    "\n",
    "While the original proposal of randomized benchmarking relies on sampling operators Haar-uniformly, mapping gate noise to depolarizing error in qubit/qutrit systems requires scalability, which is inherently difficult in the Haar-random scheme. The Clifford group for qubit/qutrit, however, constitutes a unitary 2-design that allows to calculate the exact average gate fidelity without having to sample from the full Haar measure in unitary group $U(3)$.\n",
    "\n",
    "# How Clifford?\n",
    "\n",
    "The generators of the qutrit Clifford group are the Hadamard gate $H$ and the phase gate $S$. In what following we explicitly show 216 elements of the Clifford group for qutrit, and their exact equivalent real pulses that can be further physically realized on current avalaible quantum systems. "
   ]
  },
  {
   "cell_type": "code",
   "execution_count": 1,
   "id": "QVrzAUFUp4_o",
   "metadata": {
    "id": "QVrzAUFUp4_o"
   },
   "outputs": [],
   "source": [
    "import qiskit.tools.jupyter"
   ]
  },
  {
   "cell_type": "code",
   "execution_count": 2,
   "id": "4d56774b",
   "metadata": {
    "id": "4d56774b"
   },
   "outputs": [],
   "source": [
    "%matplotlib inline\n",
    "import numpy as np\n",
    "from numpy.linalg import matrix_power\n",
    "from qiskit.visualization import array_to_latex\n",
    "import matplotlib.pyplot as plt\n",
    "from sympy import *\n",
    "from sympy.physics.quantum import *\n",
    "import numpy as np\n",
    "sqrt = np.sqrt\n",
    "exp = np.exp\n",
    "pi = np.pi\n",
    "arr = np.array"
   ]
  },
  {
   "cell_type": "code",
   "execution_count": 3,
   "id": "1c9b458f",
   "metadata": {
    "id": "1c9b458f"
   },
   "outputs": [],
   "source": [
    "d = 3 # d-dimensional Lie group, here Clifford C_3 d=3\n",
    "omega = exp(2*pi*1j/d) # root of unity"
   ]
  },
  {
   "cell_type": "code",
   "execution_count": 4,
   "id": "beb3831f",
   "metadata": {
    "id": "beb3831f"
   },
   "outputs": [],
   "source": [
    "# generators of C_3 = <X,H>\n",
    "\n",
    "Hdm = 1/sqrt(3)*arr([\n",
    "    [1, 1       ,   1        ],\n",
    "    [1, omega   ,   omega**2 ],\n",
    "    [1, omega**2,   omega    ]\n",
    "])\n",
    "\n",
    "Sdg = arr([\n",
    "    [1,     0,    0        ],\n",
    "    [0,     1,    0        ],\n",
    "    [0,     0,    omega    ]\n",
    "])\n",
    "\n",
    "X_01 = arr([\n",
    "    [0,     1,    0    ],\n",
    "    [1,     0,    0    ],\n",
    "    [0,     0,    1    ]\n",
    "])\n",
    "\n",
    "X_12 = arr([\n",
    "    [1,     0,    0    ],\n",
    "    [0,     0,    1    ],\n",
    "    [0,     1,    0    ]\n",
    "])\n",
    "\n",
    "Id = arr([\n",
    "    [1, 0, 0],\n",
    "    [0, 1, 0],\n",
    "    [0, 0, 1]\n",
    "])"
   ]
  },
  {
   "cell_type": "code",
   "execution_count": 5,
   "id": "e8043084",
   "metadata": {
    "id": "e8043084"
   },
   "outputs": [],
   "source": [
    "def sum_index(i):\n",
    "    return 2**(i+1)-2"
   ]
  },
  {
   "cell_type": "code",
   "execution_count": 6,
   "id": "facab8e9",
   "metadata": {
    "id": "facab8e9"
   },
   "outputs": [],
   "source": [
    "A = []\n",
    "for i in range(8):\n",
    "    if i == 0:\n",
    "        A.append(\"H\")\n",
    "        A.append(\"S\")\n",
    "    else: \n",
    "        for j in range(sum_index(i-1),sum_index(i)):\n",
    "            A.append(A[j]+\"H\")\n",
    "            A.append(A[j]+\"S\")"
   ]
  },
  {
   "cell_type": "code",
   "execution_count": 7,
   "id": "cc40909f",
   "metadata": {
    "id": "cc40909f"
   },
   "outputs": [],
   "source": [
    "A_matrix = []\n",
    "for i in range(len(A)):\n",
    "    result = np.complex128(np.zeros([3,3]))\n",
    "    for j in range(len(A[i]),):\n",
    "        if j == 0:\n",
    "            if A[i][j] == 'H': result += Hdm\n",
    "            elif A[i][j] == 'S': result += Sdg\n",
    "        else:\n",
    "            if A[i][j] == 'H': result = result@Hdm\n",
    "            elif A[i][j] =='S': result = result@Sdg\n",
    "    A_matrix.append(result)"
   ]
  },
  {
   "cell_type": "code",
   "execution_count": 8,
   "id": "12669af3",
   "metadata": {
    "id": "12669af3"
   },
   "outputs": [],
   "source": [
    "A_matrix_flitered = []\n",
    "A_matrix_flitered_index = []\n",
    "for i in range(len(A_matrix)):\n",
    "    if i == 0:\n",
    "        A_matrix_flitered.append(A_matrix[i])\n",
    "        A_matrix_flitered_index.append(i)\n",
    "    else:\n",
    "        flag = True\n",
    "        for j in range(len(A_matrix_flitered)):\n",
    "            if (np.round(A_matrix[i] - A_matrix_flitered[j], decimals = 10) == 0).all():\n",
    "                flag = False\n",
    "                break\n",
    "            else: \n",
    "                continue\n",
    "        if flag == True:\n",
    "            A_matrix_flitered.append(A_matrix[i])\n",
    "            A_matrix_flitered_index.append(i)"
   ]
  },
  {
   "cell_type": "code",
   "execution_count": 9,
   "id": "d2985022",
   "metadata": {
    "id": "d2985022"
   },
   "outputs": [],
   "source": [
    "for i in range(len(A_matrix_flitered)):\n",
    "    A_matrix_flitered[i] = np.round(A_matrix_flitered[i], decimals = 10)"
   ]
  },
  {
   "cell_type": "code",
   "execution_count": 10,
   "id": "d2bc65df",
   "metadata": {
    "id": "d2bc65df"
   },
   "outputs": [],
   "source": [
    "Clifford3 = A_matrix_flitered"
   ]
  },
  {
   "cell_type": "code",
   "execution_count": 11,
   "id": "be7e460c",
   "metadata": {
    "colab": {
     "base_uri": "https://localhost:8080/"
    },
    "id": "be7e460c",
    "outputId": "c372f045-026e-449f-96ce-41204c64d1af"
   },
   "outputs": [
    {
     "data": {
      "text/plain": [
       "216"
      ]
     },
     "execution_count": 11,
     "metadata": {},
     "output_type": "execute_result"
    }
   ],
   "source": [
    "len(Clifford3)"
   ]
  },
  {
   "cell_type": "markdown",
   "id": "e34695fc",
   "metadata": {
    "id": "e34695fc"
   },
   "source": [
    "# Decomposition of SU(3) matrices\n",
    "\n",
    "Given an arbitrary $3\\times 3$ unitary matrix of form\n",
    "\n",
    "\\begin{align}\n",
    "U = \\begin{pmatrix}\n",
    "u_{11} & u_{12} & u_{13} \\\\\n",
    "u_{21} & u_{22} & u_{23} \\\\\n",
    "u_{31} & u_{32} & u_{33}\n",
    "\\end{pmatrix}\n",
    "\\end{align}\n",
    "\n",
    "with entries in ring $\\mathbb{C}$ (i.e. $u{ij}$ can be complex). The matrix can be parameterized such that \n",
    "\n",
    "\\begin{align} \n",
    "U = \\begin{pmatrix}\n",
    "e^{i\\phi_6}c_1c_3-e^{i(\\phi_1-\\phi_3+\\phi_6)}s_1s_3c_2 & -ie^{i(\\phi_6-\\phi_1)}s_1c_3-ie^{i(\\phi_6-\\phi_3)}s_3c_1c_2 & -e^{i(\\phi_6-\\phi_2-\\phi_3)}s_2s_3 \\\\\n",
    "-ie^{i(\\phi_1+\\phi_5)}s_1c_2c_3-ie^{i(\\phi_3+\\phi_5)}s_3c_1 & e^{i\\phi_5}c_1c_2c_3-e^{i(\\phi_5-\\phi_1+\\phi_3)}s_1s_3 & -ie^{i(\\phi_5-\\phi_2)}s_2c_3 \\\\\n",
    "-e^{i(\\phi_1+\\phi_2+\\phi_4)}s_1s_2 & -ie^{i(\\phi_2+\\phi_4)}s_2c_1 & e^{i\\phi_4}c_2\n",
    "\\end{pmatrix}\n",
    "\\end{align}\n",
    "\n",
    "where $c_i$, $s_i$ are $\\cos(\\theta_i/2)$ and $\\sin(\\theta_i/2)$ respectively. Given the complex value of entries $u_{ij}$, the exact values of $\\theta_i$ and $\\phi_i$ are\n",
    "\n",
    "\\begin{align}\n",
    "\\theta_2 &= 2\\cos^{-1}(|u_{33}|)\\\\\n",
    "\\theta_1 &= 2\\cos^{-1}(|u_{32}|/s_2)\\\\\n",
    "\\theta_3 &= 2\\cos^{-1}(|u_{23}|/s_2)\\\\\n",
    "\\phi_4 &= \\arg(u_{33})\\\\\n",
    "\\phi_2 &= \\arg(u_{32})-\\phi_4+\\pi/2\\\\\n",
    "\\phi_1 &= \\arg(-u_{31})-\\phi_2-\\phi_4\\\\\n",
    "\\phi_5 &= \\arg(u_{23})+\\phi_2+\\pi/2\\\\\n",
    "\\phi_3 &= \\arg(c_1c_2c_3-u_{22}e^{-i\\phi_5})+\\phi_1\\\\\n",
    "\\phi_6 &= \\arg(-u_{13})+\\phi_2+\\phi_3\n",
    "\\end{align}\n",
    "\n",
    "Knowing the parameterization $\\theta_i$ and $\\phi_i$, an arbitrary unitary can be decomposed into \n",
    "\n",
    "\\begin{align}\n",
    "U = U_d(\\phi_6, \\phi_5, \\phi_4)R_{\\phi_3}^{(01)}(\\theta_3)R_{\\phi_2}^{(12)}(\\theta_2)R_{\\phi_1}^{(01)}(\\theta_1)\n",
    "\\end{align}\n",
    "\n",
    "where \n",
    "\n",
    "\\begin{align}\n",
    "U_d(\\phi_i, \\phi_j, \\phi_k) &= \\begin{pmatrix}\n",
    "e^{i\\phi_i} & 0 & 0 \\\\\n",
    "0 & e^{i\\phi_j} & 0 \\\\\n",
    "0 & 0 & e^{i\\phi_k} \n",
    "\\end{pmatrix}\\\\\n",
    "R_{\\phi}^{(01)}(\\theta) &= \\begin{pmatrix}\n",
    "e^{-i\\phi} & 0 & 0 \\\\\n",
    "0 & 1 & 0 \\\\\n",
    "0 & 0 & 1 \\end{pmatrix}\n",
    "\\begin{pmatrix}\n",
    "\\cos(\\theta/2) & -i\\sin(\\theta/2) & 0 \\\\\n",
    "-i\\sin(\\theta/2) & \\cos(\\theta/2) & 0 \\\\\n",
    "0 & 0 & 1\\end{pmatrix}\n",
    "\\begin{pmatrix}\n",
    "1 & 0 & 0 \\\\\n",
    "0 & 1 & 0 \\\\\n",
    "0 & 0 & e^{i\\phi} \\end{pmatrix}\\\\\n",
    "R_{\\phi}^{(12)}(\\theta) &= \\begin{pmatrix}\n",
    "e^{i\\phi} & 0 & 0 \\\\\n",
    "0 & 1 & 0 \\\\\n",
    "0 & 0 & 1 \\end{pmatrix}\n",
    "\\begin{pmatrix}\n",
    "1 & 0 & 0 \\\\\n",
    "0 & \\cos(\\theta/2) & -i\\sin(\\theta/2) \\\\\n",
    "0 & -i\\sin(\\theta/2) & \\cos(\\theta/2) \\end{pmatrix}\n",
    "\\begin{pmatrix}\n",
    "1 & 0 & 0 \\\\\n",
    "0 & 1 & 0 \\\\\n",
    "0 & 0 & e^{-i\\phi} \\end{pmatrix}\n",
    "\\end{align}\n"
   ]
  },
  {
   "cell_type": "markdown",
   "id": "6-vNj4_2LsNb",
   "metadata": {
    "id": "6-vNj4_2LsNb"
   },
   "source": [
    "# Case of $\\theta_2 = 0$\n",
    "When $\\theta_2 = 0$, the (12) rotation in the decomposition is omitted. Then, the composition of two (01) rotations can be treated as a single rotation on the (01) subspace. Therefore, $U$ in this case is of the form\n",
    "\\begin{equation}\n",
    "U = U_d(\\phi_6, \\phi_5, \\phi_4)R_{\\phi_3}^{(01)}(\\theta_3) = \\left[\\begin{array}{ccc}\n",
    "e^{i \\phi_{6}} \\cos \\left(\\frac{\\theta_{3}}{2}\\right) & -i e^{-i \\phi_{3}} e^{i \\phi_{6}} \\sin \\left(\\frac{\\theta_{3}}{2}\\right) & 0 \\\\\n",
    "-i e^{i \\phi_{3}} e^{i \\phi_{5}} \\sin \\left(\\frac{\\theta_{3}}{2}\\right) & e^{i \\phi_{5}} \\cos \\left(\\frac{\\theta_{3}}{2}\\right) & 0 \\\\\n",
    "0 & 0 & e^{i \\phi_{4}}\n",
    "\\end{array}\\right]\n",
    "\\end{equation}\n",
    "Then, the parameters in this case are given by\n",
    "\\begin{align}\n",
    "  &\\phi_4 = \\arg(u_{33})\\\\\n",
    "  &\\phi_5 = \\arg(u_{22})\\\\\n",
    "  &\\phi_6 = \\arg(u_{11}) \\\\\n",
    "  &\\phi_3 = \\phi_6 - \\frac{\\pi}{2} - \\arg(u_{12}), \\ \\text{or} \\ \\phi_3 = \\arg(u_{21}) - \\phi_5 + \\frac{\\pi}{2}\\\\\n",
    "  &\\theta_3 = 2\\arccos(|u_{22}|)\n",
    "\\end{align}\n"
   ]
  },
  {
   "cell_type": "code",
   "execution_count": null,
   "id": "RNtdtKwxrnKw",
   "metadata": {
    "id": "RNtdtKwxrnKw"
   },
   "outputs": [],
   "source": [
    "def Z01(phi):\n",
    "  return np.array([[exp(1j*phi), 0, 0],\n",
    "                   [0, 1, 0],\n",
    "                   [0, 0, 1]])\n",
    "\n",
    "def Z12(phi):\n",
    "  return np.array([[1, 0, 0],\n",
    "                   [0, 1, 0],\n",
    "                   [0, 0, exp(1j*phi)]])\n",
    "\n",
    "def X01(theta):\n",
    "  return np.array([[np.cos(theta/2), -1j*np.sin(theta/2), 0],\n",
    "                   [-1j*np.sin(theta/2), np.cos(theta/2), 0],\n",
    "                   [0, 0, 1]])\n",
    "  \n",
    "def X12(theta):\n",
    "  return np.array([[1, 0, 0],\n",
    "                   [0, np.cos(theta/2), -1j*np.sin(theta/2)],\n",
    "                   [0, -1j*np.sin(theta/2), np.cos(theta/2)]])\n",
    "\n",
    "def Y01(theta):\n",
    "  return np.array([[np.cos(theta/2), -np.sin(theta/2), 0],\n",
    "                   [np.sin(theta/2), np.cos(theta/2), 0],\n",
    "                   [0, 0, 1]])\n",
    "  \n",
    "def Y12(theta):\n",
    "  return np.array([[1, 0, 0],\n",
    "                   [0, np.cos(theta/2), -np.sin(theta/2)],\n",
    "                   [0, np.sin(theta/2), np.cos(theta/2)]])\n",
    "\n",
    "def R01(phi, theta):\n",
    "  return Z01(-phi) @ X01(theta) @ Z01(phi)\n",
    "\n",
    "def R12(phi, theta):\n",
    "  return Z12(phi) @ X12(theta) @ Z12(-phi)\n",
    "\n",
    "def U_d(phi_1, phi_2, phi_3):\n",
    "  return np.array([[np.exp(1j*phi_1), 0, 0],\n",
    "                   [0, np.exp(1j*phi_2), 0],\n",
    "                   [0, 0, np.exp(1j*phi_3)]])"
   ]
  },
  {
   "cell_type": "code",
   "execution_count": null,
   "id": "ELt_MxzLqO9Z",
   "metadata": {
    "id": "ELt_MxzLqO9Z"
   },
   "outputs": [],
   "source": [
    "def get_parameter(index):\n",
    "  U = Clifford3[index]\n",
    "  if abs(np.absolute(U[2, 2]) - 1) < 1e-6:\n",
    "    theta_1 = phi_1 = theta_2 = phi_2 = 0\n",
    "    phi_4 = np.angle(U[2, 2])\n",
    "    phi_5 = np.angle(U[1, 1])\n",
    "    phi_6 = np.angle(U[0, 0])\n",
    "    # phi_3 = phi_6 - pi/2 - np.angle(U[0, 1])\n",
    "    phi_3 = np.angle(U[1, 0]) - phi_5 + pi/2\n",
    "    theta_3 = 2*np.arccos(np.absolute(U[1, 1]))\n",
    "  else:\n",
    "    phi_4 = np.angle(U[2, 2])\n",
    "    theta_2 = 2*np.arccos(np.round(np.absolute(U[2, 2]), 6))\n",
    "    phi_2 = np.angle(U[2, 1]) - phi_4 + pi/2\n",
    "    phi_1 = np.angle(-U[2, 0]) - phi_2 - phi_4\n",
    "    theta_1 = 2*np.arccos(np.round(np.absolute(U[2, 1])/np.sin(theta_2/2), 6))\n",
    "    theta_3 = 2*np.arccos(np.round(np.absolute(U[1, 2])/np.sin(theta_2/2), 6))\n",
    "    phi_5 = np.angle(U[1, 2]) + phi_2 + pi/2\n",
    "    phi_3 = np.angle(np.cos(theta_1/2) * np.cos(theta_2/2) * np.cos(theta_3/2) - U[1, 1]*np.exp(-1j*phi_5)) + phi_1\n",
    "    phi_6 = np.angle(-U[0, 2]) + phi_3 + phi_2\n",
    "  return theta_1, theta_2, theta_3, phi_1, phi_2, phi_3, phi_4, phi_5, phi_6\n",
    "\n",
    "def reconstruct(theta_1, theta_2, theta_3, phi_1, phi_2, phi_3, phi_4, phi_5, phi_6):\n",
    "  return U_d(phi_6, phi_5, phi_4) @ R01(phi_3, theta_3) @ R12(phi_2, theta_2) @ R01(phi_1, theta_1)\n"
   ]
  },
  {
   "cell_type": "code",
   "execution_count": null,
   "id": "rUgfRtIgu7wR",
   "metadata": {
    "colab": {
     "base_uri": "https://localhost:8080/",
     "height": 89
    },
    "id": "rUgfRtIgu7wR",
    "outputId": "86d3c07b-ae66-41a6-f942-0ab5ef17c89f"
   },
   "outputs": [
    {
     "data": {
      "text/latex": [
       "$$\n",
       "\n",
       "\\begin{bmatrix}\n",
       "0 & 0 & \\sqrt{\\tfrac{3}{4}} - \\tfrac{1}{2}i  \\\\\n",
       " 0 & i & 0  \\\\\n",
       " i & 0 & 0  \\\\\n",
       " \\end{bmatrix}\n",
       "$$"
      ],
      "text/plain": [
       "<IPython.core.display.Latex object>"
      ]
     },
     "execution_count": 60,
     "metadata": {},
     "output_type": "execute_result"
    }
   ],
   "source": [
    "index = 202\n",
    "U = np.asmatrix(Clifford3[index])\n",
    "theta_1, theta_2, theta_3, phi_1, phi_2, phi_3, phi_4, phi_5, phi_6 = get_parameter(index)\n",
    "U0 = reconstruct(theta_1, theta_2, theta_3, phi_1, phi_2, phi_3, phi_4, phi_5, phi_6)\n",
    "# np.around(U - U0, 6)\n",
    "array_to_latex(U)"
   ]
  },
  {
   "cell_type": "code",
   "execution_count": null,
   "id": "Znn1hcHpgMdL",
   "metadata": {
    "colab": {
     "base_uri": "https://localhost:8080/"
    },
    "id": "Znn1hcHpgMdL",
    "outputId": "c387fe64-8233-478a-aa45-c468cb7d1699"
   },
   "outputs": [
    {
     "data": {
      "text/plain": [
       "(3.141592653589793,\n",
       " 3.141592653589793,\n",
       " 3.141592653589793,\n",
       " 0.0,\n",
       " -4.71238898038469,\n",
       " -1.5707963267948966,\n",
       " 3.141592653589793,\n",
       " 0.0,\n",
       " -3.6651914291803114)"
      ]
     },
     "execution_count": 61,
     "metadata": {},
     "output_type": "execute_result"
    }
   ],
   "source": [
    "get_parameter(index)"
   ]
  },
  {
   "cell_type": "markdown",
   "id": "qrNoPtbBrbqs",
   "metadata": {
    "id": "qrNoPtbBrbqs"
   },
   "source": [
    "# Debugging\n",
    "Here we check if the input Clifford and its reconstruction is the same."
   ]
  },
  {
   "cell_type": "code",
   "execution_count": null,
   "id": "uXRcI4j8iCdy",
   "metadata": {
    "colab": {
     "base_uri": "https://localhost:8080/"
    },
    "id": "uXRcI4j8iCdy",
    "outputId": "570b043c-be20-4f7a-8a66-625d1dd985af"
   },
   "outputs": [
    {
     "name": "stderr",
     "output_type": "stream",
     "text": [
      "/usr/local/lib/python3.7/dist-packages/ipykernel_launcher.py:10: RuntimeWarning: invalid value encountered in arccos\n",
      "  # Remove the CWD from sys.path while we load stuff.\n"
     ]
    },
    {
     "data": {
      "text/plain": [
       "[7,\n",
       " 10,\n",
       " 16,\n",
       " 24,\n",
       " 39,\n",
       " 44,\n",
       " 77,\n",
       " 83,\n",
       " 97,\n",
       " 100,\n",
       " 101,\n",
       " 107,\n",
       " 139,\n",
       " 161,\n",
       " 165,\n",
       " 166,\n",
       " 172,\n",
       " 176,\n",
       " 185,\n",
       " 195,\n",
       " 199]"
      ]
     },
     "execution_count": 62,
     "metadata": {},
     "output_type": "execute_result"
    }
   ],
   "source": [
    "def find_bug():\n",
    "  bug = []\n",
    "  for i in range(216):\n",
    "    U = np.asmatrix(Clifford3[i])\n",
    "    theta_1, theta_2, theta_3, phi_1, phi_2, phi_3, phi_4, phi_5, phi_6 = get_parameter(i)\n",
    "    U0 = reconstruct(theta_1, theta_2, theta_3, phi_1, phi_2, phi_3, phi_4, phi_5, phi_6)\n",
    "    U = np.around(U, 6)\n",
    "    U0 = np.around(U0, 6)\n",
    "    if np.absolute(np.sum(U - U0)) > 1e-4:\n",
    "      bug.append(i)\n",
    "  return bug\n",
    "bug = find_bug()\n",
    "bug"
   ]
  },
  {
   "cell_type": "markdown",
   "id": "m4MEp67N4-fz",
   "metadata": {
    "id": "m4MEp67N4-fz"
   },
   "source": [
    "The above formulation does not work for Cliffords whose index is in bug . Looking at the resulting parameters below, we observe that $\\theta_2 = \\pi$ in most of the cases which suggests that the problem arises when $u_{33} = 0$."
   ]
  },
  {
   "cell_type": "code",
   "execution_count": null,
   "id": "vpt4KelJuLPL",
   "metadata": {
    "colab": {
     "base_uri": "https://localhost:8080/"
    },
    "id": "vpt4KelJuLPL",
    "outputId": "e3be5520-7924-4537-c80b-0a5dd8d46798"
   },
   "outputs": [
    {
     "name": "stdout",
     "output_type": "stream",
     "text": [
      "7 [ 0.      3.1416  0.     -1.5708 -1.5708 -1.5708  3.1416  2.0944 -3.1416]\n",
      "10 [ 0.      3.1416  0.     -3.6652  0.5236 -3.6652  3.1416  2.0944 -3.1416]\n",
      "16 [ 0.      3.1416  0.     -1.5708  1.5708 -1.5708 -0.      1.0472  3.1416]\n",
      "24 [ 0.      3.1416  0.      3.6652 -0.5236  3.6652 -0.      1.0472  3.1416]\n",
      "39 [ 0.      3.1416  0.     -3.6652  3.6652 -3.6652  0.      3.1416  3.1416]\n",
      "44 [ 0.      3.1416  0.      3.6652 -0.5236  3.6652  0.      3.1416  3.1416]\n",
      "77 [ 0.      3.1416  0.      3.6652 -3.6652  3.6652  3.1416 -4.1888  3.1416]\n",
      "83 [ 0.      3.1416  0.     -2.0944  2.0944 -2.0944 -0.      2.0944 -3.1416]\n",
      "97 [ 0.      0.      3.1416  0.      0.     -1.0472 -1.5708  3.1416  0.    ]\n",
      "100 [ 0.      3.1416  3.1416 -4.7124  1.5708 -4.7124  0.      3.1416  0.    ]\n",
      "101 [ 0.      3.1416  0.     -3.1416  0.     -3.1416 -0.      2.0944 -3.1416]\n",
      "107 [3.1416 3.1416 0.     1.5708 1.5708 1.5708 0.     3.1416 0.    ]\n",
      "139 [ 0.      3.1416  0.     -2.0944 -1.0472 -2.0944  3.1416  1.0472 -3.1416]\n",
      "161 [ 0.      0.      3.1416  0.      0.     -1.0472  0.5236  3.1416  0.    ]\n",
      "165 [ 0.      3.1416  3.1416 -4.7124  4.7124 -4.7124 -3.1416  3.1416 -1.0472]\n",
      "166 [ 0.      3.1416  0.     -3.1416  0.     -3.1416  0.      4.1888 -3.1416]\n",
      "172 [ 0.      3.1416  0.     -3.6652  0.5236 -3.6652  0.      1.0472 -6.2832]\n",
      "176 [ 3.1416  3.1416  0.      1.5708  4.7124  1.5708 -3.1416  8.3776  6.2832]\n",
      "185 [ 0.      3.1416  0.     -4.1888  1.0472 -4.1888  3.1416  1.0472 -6.2832]\n",
      "195 [ 0.      3.1416  3.1416 -3.6652  6.8068 -3.6652 -3.1416  8.3776  6.2832]\n",
      "199 [ 3.1416  3.1416  0.      0.5236  1.5708  0.5236 -3.1416  3.1416 -1.0472]\n"
     ]
    }
   ],
   "source": [
    "for i in bug:\n",
    "  print(i, np.round(get_parameter(i), 4))"
   ]
  },
  {
   "cell_type": "markdown",
   "id": "p43ECCvK44F7",
   "metadata": {
    "id": "p43ECCvK44F7"
   },
   "source": [
    "# $\\theta_2 = \\pi$\n",
    "When $\\theta_2$ is set to $\\pi$, following the decomposition, $U$ is of the form\n",
    "\\begin{equation}\n",
    "U = \\left[\\begin{array}{ccc}\n",
    "e^{i \\phi_{6}} \\cos \\left(\\frac{\\theta_{1}}{2}\\right) \\cos \\left(\\frac{\\theta_{3}}{2}\\right) & -i e^{-i \\phi_{1}} e^{i \\phi_{6}} \\sin \\left(\\frac{\\theta_{1}}{2}\\right) \\cos \\left(\\frac{\\theta_{3}}{2}\\right) & -e^{-i \\phi_{2}} e^{-i \\phi_{3}} e^{i \\phi_{6}} \\sin \\left(\\frac{\\theta_{3}}{2}\\right) \\\\\n",
    "-i e^{i \\phi_{3}} e^{i \\phi_{5}} \\sin \\left(\\frac{\\theta_{3}}{2}\\right) \\cos \\left(\\frac{\\theta_{1}}{2}\\right) & -e^{-i \\phi_{1}} e^{i \\phi_{3}} e^{i \\phi_{5}} \\sin \\left(\\frac{\\theta_{1}}{2}\\right) \\sin \\left(\\frac{\\theta_{3}}{2}\\right) & -i e^{-i \\phi_{2}} e^{i \\phi_{5}} \\cos \\left(\\frac{\\theta_{3}}{2}\\right) \\\\\n",
    "-e^{i \\phi_{1}} e^{i \\phi_{2}} e^{i \\phi_{4}} \\sin \\left(\\frac{\\theta_{1}}{2}\\right) & -i e^{i \\phi_{2}} e^{i \\phi_{4}} \\cos \\left(\\frac{\\theta_{1}}{2}\\right) & 0\n",
    "\\end{array}\\right]\n",
    "\\end{equation}\n",
    "Since $\\theta_2 = \\pi$, we can no longer calculate $\\phi_4$ using $\\phi_4 = \\arg(u_{33})$ \\\\\n",
    "From $u_{11}$ and $u_{12}$\n",
    "\\begin{align}\n",
    "  &\\arg(u_{11}) = \\phi_6 \\\\\n",
    "  &\\arg(u_{12}) = \\phi_6 - \\phi_1 - \\frac{\\pi}{2}\n",
    "\\end{align}\n",
    "so\n",
    "\\begin{align}\n",
    "  \\phi_1 = \\arg(u_{11}) - \\arg(u_{12}) - \\frac{\\pi}{2}\n",
    "\\end{align}\n",
    "However, $\\phi_1$ can also be calculated from $u_{31}$ and $u_{32}$ as follows\n",
    "\\begin{align}\n",
    "  &\\arg(u_{31}) =\\phi_1 + \\phi_2 + \\phi_4 - \\pi\\\\\n",
    "  &\\arg(u_{32}) =\\phi_2 + \\phi_4 - \\frac{\\pi}{2}\\\\\n",
    "  ⇒ \\, &\\phi_1 = \\arg(u_{31}) - \\arg(u_{32}) - \\frac{\\pi}{2}  \n",
    "\\end{align}\n",
    "Therefore, the decompostion is valid for these cases only if \n",
    "\\begin{equation}\n",
    "  \\arg(u_{11}) - \\arg(u_{12}) = \\arg(u_{31}) - \\arg(u_{32}) \\mod 2\\pi\n",
    "\\end{equation}\n",
    "As can be seen in the below cells, this equality does not always hold for Cliffords whose $u_{33} = 0$. \\\\"
   ]
  },
  {
   "cell_type": "code",
   "execution_count": null,
   "id": "U7iKURvp-swE",
   "metadata": {
    "colab": {
     "base_uri": "https://localhost:8080/",
     "height": 100
    },
    "id": "U7iKURvp-swE",
    "outputId": "22887772-1e70-478e-e320-73c79b838986"
   },
   "outputs": [
    {
     "data": {
      "text/latex": [
       "$$\n",
       "\n",
       "\\begin{bmatrix}\n",
       "1 & 0 & 0  \\\\\n",
       " 0 & 0 & -\\tfrac{1}{2} + \\sqrt{\\tfrac{3}{4}}i  \\\\\n",
       " 0 & -\\tfrac{1}{2} + \\sqrt{\\tfrac{3}{4}}i & 0  \\\\\n",
       " \\end{bmatrix}\n",
       "$$"
      ],
      "text/plain": [
       "<IPython.core.display.Latex object>"
      ]
     },
     "execution_count": 65,
     "metadata": {},
     "output_type": "execute_result"
    }
   ],
   "source": [
    "U = Clifford3[21]\n",
    "array_to_latex(U)"
   ]
  },
  {
   "cell_type": "code",
   "execution_count": null,
   "id": "bxOSUQLasYMu",
   "metadata": {
    "colab": {
     "base_uri": "https://localhost:8080/"
    },
    "id": "bxOSUQLasYMu",
    "outputId": "45075f87-fde8-4c61-acb7-6b383919d9ca"
   },
   "outputs": [
    {
     "name": "stdout",
     "output_type": "stream",
     "text": [
      "-3.141592653589793\n",
      "-5.2359877559752075\n"
     ]
    }
   ],
   "source": [
    "print(np.angle(U[0, 0]) - np.angle(U[0, 1]))\n",
    "print(np.angle(U[2, 0]) - np.angle(U[2, 1]))"
   ]
  },
  {
   "cell_type": "code",
   "execution_count": null,
   "id": "Exr6Yyq_B83A",
   "metadata": {
    "colab": {
     "base_uri": "https://localhost:8080/"
    },
    "id": "Exr6Yyq_B83A",
    "outputId": "26ee3671-597e-42df-898a-9f288b9d35b0"
   },
   "outputs": [
    {
     "name": "stdout",
     "output_type": "stream",
     "text": [
      "-2.0\n",
      "0.6666666666641898\n",
      "-2.0\n",
      "-1.6666666666641898\n",
      "0.6666666666641898\n",
      "-1.6666666666641898\n",
      "-1.6666666666641898\n",
      "-1.66666666667162\n",
      "-0.16666666666419\n",
      "0.0\n",
      "-1.3333333333358102\n",
      "0.0\n",
      "-1.66666666667162\n",
      "-0.16666666666419\n",
      "0.0\n",
      "-1.3333333333358102\n",
      "-1.0\n",
      "0.0\n",
      "1.0000000000000002\n",
      "-0.33333333333580994\n",
      "-1.6666666666641898\n"
     ]
    }
   ],
   "source": [
    "for i in bug:\n",
    "  U = Clifford3[i]\n",
    "  print( ( (np.angle(U[0, 0]) - np.angle(U[0, 1])) - (np.angle(U[2, 0]) - np.angle(U[2, 1])) )/pi ) "
   ]
  },
  {
   "cell_type": "code",
   "execution_count": null,
   "id": "E3wrxwRjc0v6",
   "metadata": {
    "colab": {
     "base_uri": "https://localhost:8080/"
    },
    "id": "E3wrxwRjc0v6",
    "outputId": "d1bbe3b8-136a-49bc-87a1-fae851af9ad3"
   },
   "outputs": [
    {
     "name": "stdout",
     "output_type": "stream",
     "text": [
      "7\n",
      "[[ 1. +0.j       -0. +0.j       -0. -0.j      ]\n",
      " [-0. +0.j        0. +0.j       -0.5+0.866025j]\n",
      " [-0. +0.j        1. -0.j       -0. +0.j      ]]\n",
      "10\n",
      "[[ 1. +0.j       -0. +0.j       -0. +0.j      ]\n",
      " [-0. +0.j        0. +0.j        1. -0.j      ]\n",
      " [-0. -0.j       -0.5+0.866025j -0. +0.j      ]]\n",
      "16\n",
      "[[ 1. +0.j       -0. +0.j        0. -0.j      ]\n",
      " [-0. +0.j        0. +0.j       -0.5-0.866025j]\n",
      " [-0. +0.j        1. -0.j        0. -0.j      ]]\n",
      "24\n",
      "[[ 1. +0.j       -0. +0.j       -0. +0.j      ]\n",
      " [-0. +0.j        0. +0.j        1. -0.j      ]\n",
      " [ 0. -0.j       -0.5-0.866025j  0. -0.j      ]]\n",
      "39\n",
      "[[ 1. +0.j       -0. +0.j        0. -0.j      ]\n",
      " [-0. +0.j        0. +0.j       -0.5-0.866025j]\n",
      " [-0. -0.j       -0.5+0.866025j  0. +0.j      ]]\n",
      "44\n",
      "[[ 1. +0.j       -0. +0.j       -0. -0.j      ]\n",
      " [-0. +0.j        0. +0.j       -0.5+0.866025j]\n",
      " [ 0. -0.j       -0.5-0.866025j  0. +0.j      ]]\n",
      "77\n",
      "[[ 1. +0.j       -0. +0.j        0. -0.j      ]\n",
      " [-0. +0.j        0. +0.j       -0.5-0.866025j]\n",
      " [ 0. -0.j       -0.5-0.866025j -0. +0.j      ]]\n",
      "83\n",
      "[[ 0.866025+0.5j -0.      +0.j   0.      +0.j ]\n",
      " [-0.      +0.j   0.      +0.j  -0.      -1.j ]\n",
      " [-0.      +0.j   0.866025+0.5j  0.      -0.j ]]\n",
      "97\n",
      "[[ 0.      +0.j   0.866025+0.5j  0.      +0.j ]\n",
      " [ 0.866025+0.5j -0.      +0.j   0.      +0.j ]\n",
      " [ 0.      +0.j   0.      +0.j  -0.      -1.j ]]\n",
      "100\n",
      "[[ 0.+0.j  0.+0.j  1.-0.j]\n",
      " [ 1.-0.j -0.+0.j  0.+0.j]\n",
      " [ 0.+0.j  1.-0.j  0.+0.j]]\n",
      "101\n",
      "[[ 0.866025+0.5j -0.      +0.j  -0.      +0.j ]\n",
      " [-0.      +0.j   0.      +0.j   0.866025+0.5j]\n",
      " [ 0.      +0.j  -0.      -1.j   0.      -0.j ]]\n",
      "107\n",
      "[[0.+0.j 1.-0.j 0.+0.j]\n",
      " [0.+0.j 0.+0.j 1.-0.j]\n",
      " [1.-0.j 0.+0.j 0.+0.j]]\n",
      "139\n",
      "[[ 0.866025+0.5j -0.      +0.j  -0.      +0.j ]\n",
      " [-0.      +0.j   0.      +0.j   0.866025+0.5j]\n",
      " [-0.      +0.j   0.866025+0.5j -0.      +0.j ]]\n",
      "161\n",
      "[[ 0.      +0.j   0.866025+0.5j -0.      -0.j ]\n",
      " [ 0.866025+0.5j -0.      +0.j  -0.      -0.j ]\n",
      " [ 0.      +0.j   0.      +0.j   0.866025+0.5j]]\n",
      "165\n",
      "[[ 0. +0.j        0. +0.j       -0.5+0.866025j]\n",
      " [ 1. -0.j       -0. +0.j       -0. -0.j      ]\n",
      " [ 0. +0.j        1. -0.j       -0. -0.j      ]]\n",
      "166\n",
      "[[ 0.866025+0.5j -0.      +0.j  -0.      -0.j ]\n",
      " [-0.      +0.j   0.      +0.j  -0.866025+0.5j]\n",
      " [ 0.      +0.j  -0.      -1.j   0.      +0.j ]]\n",
      "172\n",
      "[[ 0.5+0.866025j -0. +0.j        0. +0.j      ]\n",
      " [-0. +0.j        0. -0.j        0.5-0.866025j]\n",
      " [ 0. +0.j        0.5-0.866025j  0. +0.j      ]]\n",
      "176\n",
      "[[ 0. +0.j        1. -0.j       -0. +0.j      ]\n",
      " [ 0. +0.j        0. +0.j       -0.5+0.866025j]\n",
      " [ 1. -0.j        0. +0.j       -0. -0.j      ]]\n",
      "185\n",
      "[[ 0.866025+0.5j -0.      +0.j   0.      +0.j ]\n",
      " [-0.      +0.j   0.      +0.j  -0.      -1.j ]\n",
      " [-0.      -0.j  -0.866025+0.5j -0.      +0.j ]]\n",
      "195\n",
      "[[ 0. +0.j        0. +0.j        1. -0.j      ]\n",
      " [ 1. -0.j       -0. +0.j        0. +0.j      ]\n",
      " [-0. +0.j       -0.5+0.866025j -0. -0.j      ]]\n",
      "199\n",
      "[[ 0. +0.j        1. -0.j        0. +0.j      ]\n",
      " [ 0. +0.j        0. +0.j        1. -0.j      ]\n",
      " [-0.5+0.866025j -0. -0.j       -0. -0.j      ]]\n"
     ]
    }
   ],
   "source": [
    "for i in bug:\n",
    "  print(i)\n",
    "  print(np.around(Clifford3[i], 6))"
   ]
  },
  {
   "cell_type": "markdown",
   "id": "ZH2tZUpecmSj",
   "metadata": {
    "id": "ZH2tZUpecmSj"
   },
   "source": [
    "#$\\theta_2 = \\pi$ (cont.)\n",
    "Fortunately, as in the above cell, all matrices in this case is of the form\n",
    "\\begin{equation}\n",
    "\\left[\\begin{array}{lll}\n",
    "u_{11} & 0 & 0 \\\\\n",
    "0 & 0 & u_{23} \\\\\n",
    "0 & u_{32} & 0\n",
    "\\end{array}\\right]\n",
    "\\end{equation}\n",
    "Then, the parameters in this case are given by\n",
    "\\begin{align}\n",
    " &\\theta_1 = \\theta_3 = 0\\\\\n",
    " &\\theta_2 = \\pi\\\\\n",
    " &\\phi_6 = \\arg(u_{11}) \\\\\n",
    " &\\phi_4 = -\\phi_2 + \\arg(u_{32}) + \\frac{\\pi}{2}\\\\\n",
    " &\\phi_5 = \\phi_2 + \\arg(u_{23}) + \\frac{\\pi}{2}\n",
    "\\end{align}\n",
    "If we choose $\\phi_2 = 0$, then\n",
    "\\begin{align}\n",
    " &\\phi_4 = \\arg(u_{32}) + \\frac{\\pi}{2}\\\\\n",
    " &\\phi_5 = \\arg(u_{23}) + \\frac{\\pi}{2}\n",
    "\\end{align}\n",
    "However, there are some exceptions which we will eliminate by brute forcing. \\\\\n",
    "The updated version of get_parameter() is given below."
   ]
  },
  {
   "cell_type": "code",
   "execution_count": null,
   "id": "QV8t5wNZck7D",
   "metadata": {
    "id": "QV8t5wNZck7D"
   },
   "outputs": [],
   "source": [
    "def get_parameter(index):\n",
    "  U = Clifford3[index]\n",
    "  if index == 165:\n",
    "    theta_1 = 0\n",
    "    theta_2 = theta_3 = pi\n",
    "    phi_1 = phi_4 = phi_5 = 0\n",
    "    phi_3 = np.angle(U[1, 0]) + pi/2\n",
    "    phi_2 = np.angle(U[2, 1]) + pi/2\n",
    "    phi_6 = np.angle(U[1, 0]) + np.angle(U[2, 1]) + np.angle(U[0, 2])\n",
    "  elif index == 199:\n",
    "    theta_1 = theta_2 = pi\n",
    "    theta_3 = 0\n",
    "    phi_3 = phi_5 = phi_6 = 0\n",
    "    phi_1 = -np.angle(U[0, 1]) - pi/2\n",
    "    phi_2 = -np.angle(U[1, 2]) - pi/2\n",
    "    phi_4 = np.angle(U[0, 1]) + np.angle(U[1, 2]) + np.angle(U[2, 0])\n",
    "  elif index == 97 or index == 161:\n",
    "    theta_1 = theta_2 = 0\n",
    "    theta_3 = pi\n",
    "    phi_5 = phi_1 = phi_2 = 0\n",
    "    phi_4 = np.angle(U[2, 2])\n",
    "    phi_3 = np.angle(U[1, 0]) + pi/2\n",
    "    phi_6 = np.angle(U[0, 1]) + np.angle(U[1, 0]) + pi\n",
    "  elif abs(np.absolute(U[2, 2]) - 1) < 1e-6:\n",
    "    theta_1 = phi_1 = theta_2 = phi_2 = 0\n",
    "    phi_4 = np.angle(U[2, 2])\n",
    "    phi_5 = np.angle(U[1, 1])\n",
    "    phi_6 = np.angle(U[0, 0])\n",
    "    # phi_3 = phi_6 - pi/2 - np.angle(U[0, 1])\n",
    "    phi_3 = np.angle(U[1, 0]) - phi_5 + pi/2\n",
    "    theta_3 = 2*np.arccos(np.absolute(U[1, 1]))    \n",
    "  else:\n",
    "    phi_4 = np.angle(U[2, 2])\n",
    "    theta_2 = 2*np.arccos(np.round(np.absolute(U[2, 2]), 6))\n",
    "    phi_2 = np.angle(U[2, 1]) - phi_4 + pi/2\n",
    "    phi_1 = np.angle(-U[2, 0]) - phi_2 - phi_4\n",
    "    theta_1 = 2*np.arccos(np.round(np.absolute(U[2, 1])/np.sin(theta_2/2), 6))\n",
    "    theta_3 = 2*np.arccos(np.round(np.absolute(U[1, 2])/np.sin(theta_2/2), 6))\n",
    "    phi_5 = np.angle(U[1, 2]) + phi_2 + pi/2\n",
    "    phi_3 = np.angle(np.cos(theta_1/2) * np.cos(theta_2/2) * np.cos(theta_3/2) - U[1, 1]*np.exp(-1j*phi_5)) + phi_1\n",
    "    phi_6 = np.angle(-U[0, 2]) + phi_3 + phi_2\n",
    "    if(abs(theta_2 - pi) < 1e-6 and index not in [111, 182, 202]):\n",
    "      theta_1 = theta_3 = 0\n",
    "      theta_2 = pi\n",
    "      phi_2 = 0\n",
    "      phi_6 = np.angle(U[0, 0])\n",
    "      phi_4 = -phi_2 + np.angle(U[2, 1]) + pi/2\n",
    "      phi_5 = phi_2 + np.angle(U[1, 2]) + pi/2\n",
    "      phi_1 = phi_3 = 0\n",
    "  return theta_1, theta_2, theta_3, phi_1, phi_2, phi_3, phi_4, phi_5, phi_6\n",
    "\n",
    "def reconstruct(theta_1, theta_2, theta_3, phi_1, phi_2, phi_3, phi_4, phi_5, phi_6):\n",
    "  return U_d(phi_6, phi_5, phi_4) @ R01(phi_3, theta_3) @ R12(phi_2, theta_2) @ R01(phi_1, theta_1)"
   ]
  },
  {
   "cell_type": "code",
   "execution_count": null,
   "id": "2qPcgpjveAsh",
   "metadata": {
    "colab": {
     "base_uri": "https://localhost:8080/"
    },
    "id": "2qPcgpjveAsh",
    "outputId": "de204a3d-b50e-4145-d9c7-758c8e714da0"
   },
   "outputs": [
    {
     "name": "stderr",
     "output_type": "stream",
     "text": [
      "/usr/local/lib/python3.7/dist-packages/ipykernel_launcher.py:31: RuntimeWarning: invalid value encountered in arccos\n"
     ]
    },
    {
     "data": {
      "text/plain": [
       "[]"
      ]
     },
     "execution_count": 102,
     "metadata": {},
     "output_type": "execute_result"
    }
   ],
   "source": [
    "bug = find_bug()\n",
    "bug"
   ]
  },
  {
   "cell_type": "code",
   "execution_count": null,
   "id": "Q0-PyT7Pd7Vh",
   "metadata": {
    "colab": {
     "base_uri": "https://localhost:8080/",
     "height": 100
    },
    "id": "Q0-PyT7Pd7Vh",
    "outputId": "a487eeed-67ea-477a-fc67-d0b676b2b185"
   },
   "outputs": [
    {
     "data": {
      "text/latex": [
       "$$\n",
       "\n",
       "\\begin{bmatrix}\n",
       "0 & \\sqrt{\\tfrac{3}{4}} + \\tfrac{1}{2}i & 0  \\\\\n",
       " \\sqrt{\\tfrac{3}{4}} + \\tfrac{1}{2}i & 0 & 0  \\\\\n",
       " 0 & 0 & -i  \\\\\n",
       " \\end{bmatrix}\n",
       "$$"
      ],
      "text/plain": [
       "<IPython.core.display.Latex object>"
      ]
     },
     "execution_count": 99,
     "metadata": {},
     "output_type": "execute_result"
    }
   ],
   "source": [
    "index = 97\n",
    "U = np.asmatrix(Clifford3[index])\n",
    "theta_1, theta_2, theta_3, phi_1, phi_2, phi_3, phi_4, phi_5, phi_6 = get_parameter(index)\n",
    "U0 = reconstruct(theta_1, theta_2, theta_3, phi_1, phi_2, phi_3, phi_4, phi_5, phi_6)\n",
    "# np.around(U - U0, 6)\n",
    "array_to_latex(U)"
   ]
  },
  {
   "cell_type": "code",
   "execution_count": null,
   "id": "Z4L2JpE5sJba",
   "metadata": {
    "colab": {
     "base_uri": "https://localhost:8080/"
    },
    "id": "Z4L2JpE5sJba",
    "outputId": "1bb9ac3c-8cde-4492-af95-e09b4979b80d"
   },
   "outputs": [
    {
     "data": {
      "text/plain": [
       "[]"
      ]
     },
     "execution_count": 106,
     "metadata": {},
     "output_type": "execute_result"
    }
   ],
   "source": [
    "non_unita = []\n",
    "for i in range(216):\n",
    "  U = np.asmatrix(Clifford3[i])\n",
    "  Udg = U.getH()\n",
    "  if np.absolute(np.sum(U@Udg - np.identity(3))) > 1e-4:\n",
    "      non_unita.append(i)\n",
    "non_unita"
   ]
  }
 ],
 "metadata": {
  "colab": {
   "name": "probing-clifford.ipynb",
   "provenance": []
  },
  "kernelspec": {
   "display_name": "Python 3",
   "language": "python",
   "name": "python3"
  },
  "language_info": {
   "codemirror_mode": {
    "name": "ipython",
    "version": 3
   },
   "file_extension": ".py",
   "mimetype": "text/x-python",
   "name": "python",
   "nbconvert_exporter": "python",
   "pygments_lexer": "ipython3",
   "version": "3.8.8"
  }
 },
 "nbformat": 4,
 "nbformat_minor": 5
}
