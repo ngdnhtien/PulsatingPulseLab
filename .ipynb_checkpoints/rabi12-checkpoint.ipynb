{
 "cells": [
  {
   "cell_type": "code",
   "execution_count": 6,
   "id": "af22daea",
   "metadata": {},
   "outputs": [],
   "source": [
    "import numpy as np\n",
    "import matplotlib.pyplot as plt\n",
    "\n",
    "from scipy.optimize import curve_fit\n",
    "\n",
    "from sklearn.discriminant_analysis import LinearDiscriminantAnalysis\n",
    "from sklearn.model_selection import train_test_split\n",
    "\n",
    "from qiskit import pulse                  # This is where we access all of our Pulse features!\n",
    "from qiskit.circuit import Parameter      # This is Parameter Class for variable parameters.\n",
    "from qiskit.circuit import QuantumCircuit, Gate\n",
    "from qiskit import schedule\n",
    "\n",
    "from qiskit.tools.monitor import job_monitor"
   ]
  },
  {
   "cell_type": "code",
   "execution_count": 7,
   "id": "c3a981c4",
   "metadata": {},
   "outputs": [
    {
     "name": "stderr",
     "output_type": "stream",
     "text": [
      "ibmqfactory.load_account:WARNING:2022-08-02 00:01:30,303: Credentials are already in use. The existing account in the session will be replaced.\n"
     ]
    },
    {
     "name": "stdout",
     "output_type": "stream",
     "text": [
      "Qubit 0 has an estimated frequency of 4.9250406214447615 GHz.\n",
      "Default anharmonicity is -0.34619516504602355 GHz.\n"
     ]
    }
   ],
   "source": [
    "from qiskit.tools.jupyter import *\n",
    "%matplotlib inline\n",
    "\n",
    "from qiskit import IBMQ\n",
    "IBMQ.load_account()\n",
    "provider = IBMQ.get_provider(hub='ibm-q', group='open', project='main')\n",
    "backend = provider.get_backend('ibm_oslo')\n",
    "\n",
    "backend_defaults = backend.defaults()\n",
    "\n",
    "backend_properties = backend.properties()\n",
    "\n",
    "# unit conversion factors -> all backend properties returned in SI (Hz, sec, etc.)\n",
    "GHz = 1.0e9 # Gigahertz\n",
    "MHz = 1.0e6 # Megahertz\n",
    "us = 1.0e-6 # Microseconds\n",
    "ns = 1.0e-9 # Nanoseconds\n",
    "\n",
    "qubit = 0 # qubit we will analyze\n",
    "\n",
    "default_qubit_freq = backend_defaults.qubit_freq_est[qubit] # Default qubit frequency in Hz. \n",
    "print(f\"Qubit {qubit} has an estimated frequency of {default_qubit_freq/ GHz} GHz.\")\n",
    "\n",
    "default_anharmonicity = backend_properties.qubits[qubit][3].value # Default anharmonicity in GHz\n",
    "print(f\"Default anharmonicity is {default_anharmonicity} GHz.\")\n",
    "\n",
    "# scale data (specific to each device)\n",
    "scale_factor = 1e-7\n",
    "\n",
    "# number of shots for our experiments\n",
    "NUM_SHOTS = 1024"
   ]
  },
  {
   "cell_type": "code",
   "execution_count": 8,
   "id": "0884d1dd",
   "metadata": {},
   "outputs": [],
   "source": [
    "def get_job_data(job, average):\n",
    "    \"\"\"Retrieve data from a job that has already run.\n",
    "    Args:\n",
    "        job (Job): The job whose data you want.\n",
    "        average (bool): If True, gets the data assuming data is an average.\n",
    "                        If False, gets the data assuming it is for single shots.\n",
    "    Return:\n",
    "        list: List containing job result data. \n",
    "    \"\"\"\n",
    "    job_results = job.result(timeout = 120) # timeout parameter set to 120 s\n",
    "    result_data = []\n",
    "    for i in range(len(job_results.results)):\n",
    "        if average: # get avg data\n",
    "            result_data.append(np.real(job_results.get_memory(i)[qubit] * scale_factor))\n",
    "        else: # get single data\n",
    "            result_data.append(job_results.get_memory(i)[:, qubit] * scale_factor)\n",
    "    return result_data\n",
    "\n",
    "def get_closest_multiple_of_16(num):\n",
    "    \"\"\"Compute the nearest multiple of 16. Needed because pulse enabled devices require \n",
    "    durations which are multiples of 16 samples.\n",
    "    \"\"\"\n",
    "    return int(num + 8 ) - (int(num + 8 ) % 16)"
   ]
  },
  {
   "cell_type": "code",
   "execution_count": 9,
   "id": "15d7a917",
   "metadata": {},
   "outputs": [],
   "source": [
    "# there are pulse parameters of the single qubit drive in IBM devices\n",
    "x12_duration = 160\n",
    "x12_sigma = 40"
   ]
  },
  {
   "cell_type": "markdown",
   "id": "fe080180",
   "metadata": {},
   "source": [
    "### $\\omega_{12}$ transitional frequency"
   ]
  },
  {
   "cell_type": "code",
   "execution_count": 10,
   "id": "b4830a61",
   "metadata": {},
   "outputs": [],
   "source": [
    "# smaller range sweep\n",
    "num_freqs = 75\n",
    "drive_power = 0.15\n",
    "sweep_freqs = default_anharmonicity*GHz + np.linspace(-30*MHz, 30*MHz, num_freqs)"
   ]
  },
  {
   "cell_type": "code",
   "execution_count": 11,
   "id": "f99a8c42",
   "metadata": {},
   "outputs": [],
   "source": [
    "freq = Parameter('freq')\n",
    "with pulse.build(backend=backend, default_alignment='sequential', name='Frequency sweep') as freq12_sweep_sched:\n",
    "    drive_chan = pulse.drive_channel(qubit)\n",
    "    with pulse.frequency_offset(freq, drive_chan):\n",
    "        pulse.play(pulse.Gaussian(duration=x12_duration,\n",
    "                                  amp=drive_power,\n",
    "                                  sigma=x12_sigma,\n",
    "                                  name='x12_pulse'), drive_chan)"
   ]
  },
  {
   "cell_type": "code",
   "execution_count": 12,
   "id": "caa92492",
   "metadata": {},
   "outputs": [],
   "source": [
    "spect_gate = Gate(\"spect\", 1, [freq])\n",
    "\n",
    "qc_spect = QuantumCircuit(1, 1)\n",
    "\n",
    "qc_spect.x(0)\n",
    "qc_spect.append(spect_gate, [0])\n",
    "qc_spect.measure(0, 0)\n",
    "qc_spect.add_calibration(spect_gate, (0,), freq12_sweep_sched, [freq])\n",
    "    \n",
    "exp_spect_circs = [qc_spect.assign_parameters({freq: f}) for f in sweep_freqs]"
   ]
  },
  {
   "cell_type": "code",
   "execution_count": 13,
   "id": "3c1c9acb",
   "metadata": {},
   "outputs": [],
   "source": [
    "excited_freq_sweep_job = backend.run(exp_spect_circs, \n",
    "                                     meas_level=1, \n",
    "                                     meas_return='avg', \n",
    "                                     shots=NUM_SHOTS)"
   ]
  },
  {
   "cell_type": "code",
   "execution_count": 14,
   "id": "a2cc685e",
   "metadata": {},
   "outputs": [
    {
     "name": "stdout",
     "output_type": "stream",
     "text": [
      "Job Status: job has successfully run\n"
     ]
    }
   ],
   "source": [
    "job_monitor(excited_freq_sweep_job)"
   ]
  },
  {
   "cell_type": "code",
   "execution_count": 15,
   "id": "f0db5926",
   "metadata": {},
   "outputs": [],
   "source": [
    "# Get the refined data (average)\n",
    "excited_freq_sweep_data = get_job_data(excited_freq_sweep_job, average=True)\n",
    "excited_sweep_freqs = default_qubit_freq + default_anharmonicity*GHz + np.linspace(-30*MHz, 30*MHz, num_freqs)"
   ]
  },
  {
   "cell_type": "code",
   "execution_count": 16,
   "id": "98f673e9",
   "metadata": {},
   "outputs": [],
   "source": [
    "def fit_function(x_values, y_values, function, init_params):\n",
    "    \"\"\"Fit a function using scipy curve_fit.\"\"\"\n",
    "    fitparams, conv = curve_fit(function, x_values, y_values, init_params, maxfev = 50000)\n",
    "    y_fit = function(x_values, *fitparams)\n",
    "    \n",
    "    return fitparams, y_fit"
   ]
  },
  {
   "cell_type": "code",
   "execution_count": 17,
   "id": "fe299157",
   "metadata": {},
   "outputs": [],
   "source": [
    "# do fit in Hz\n",
    "(excited_sweep_fit_params, \n",
    " excited_sweep_y_fit) = fit_function(excited_sweep_freqs,\n",
    "                                     excited_freq_sweep_data, \n",
    "                                     lambda x, A, q_freq, B, C: (A / np.pi) * (B / ((x - q_freq)**2 + B**2)) + C,\n",
    "                                     [-20, 4.625*GHz, 0.06*GHz, 3*GHz] # initial parameters for curve_fit\n",
    "                                     )"
   ]
  },
  {
   "cell_type": "code",
   "execution_count": 18,
   "id": "63c54fd0",
   "metadata": {},
   "outputs": [
    {
     "data": {
      "image/png": "[encoded data removed]",
      "text/plain": [
       "<Figure size 432x288 with 1 Axes>"
      ]
     },
     "metadata": {
      "needs_background": "light"
     },
     "output_type": "display_data"
    }
   ],
   "source": [
    "# Note: we are only plotting the real part of the signal\n",
    "plt.scatter(excited_sweep_freqs/GHz, excited_freq_sweep_data, color='black')\n",
    "plt.plot(excited_sweep_freqs/GHz, excited_sweep_y_fit, color='red')\n",
    "plt.xlim([min(excited_sweep_freqs/GHz), max(excited_sweep_freqs/GHz)])\n",
    "plt.xlabel(\"Frequency [GHz]\", fontsize=15)\n",
    "plt.ylabel(\"Measured Signal [a.u.]\", fontsize=15)\n",
    "plt.title(\"1->2 Frequency Sweep (refined pass)\", fontsize=15)\n",
    "plt.show()"
   ]
  },
  {
   "cell_type": "code",
   "execution_count": 19,
   "id": "61f499f2",
   "metadata": {},
   "outputs": [
    {
     "name": "stdout",
     "output_type": "stream",
     "text": [
      "Our updated estimate for the 1->2 transition frequency is 4.5821939 GHz.\n"
     ]
    }
   ],
   "source": [
    "_, qubit_12_freq, _, _ = excited_sweep_fit_params\n",
    "print(f\"Our updated estimate for the 1->2 transition frequency is \"\n",
    "      f\"{round(qubit_12_freq/GHz, 7)} GHz.\")"
   ]
  },
  {
   "cell_type": "markdown",
   "id": "f010e766",
   "metadata": {},
   "source": [
    "### $|1\\rangle-|2\\rangle$ Rabi oscillation"
   ]
  },
  {
   "cell_type": "code",
   "execution_count": 20,
   "id": "ea29a17a",
   "metadata": {},
   "outputs": [],
   "source": [
    "# experimental configuration\n",
    "num_rabi_points = 75 # number of experiments (ie amplitudes to sweep out)\n",
    "\n",
    "# Drive amplitude values to iterate over: 75 amplitudes evenly spaced from 0 to 1.0\n",
    "drive_amp_min = 0\n",
    "drive_amp_max = 1.0\n",
    "drive_amps = np.linspace(drive_amp_min, drive_amp_max, num_rabi_points)"
   ]
  },
  {
   "cell_type": "code",
   "execution_count": 21,
   "id": "44305fb5",
   "metadata": {},
   "outputs": [],
   "source": [
    "amp = Parameter('amp')\n",
    "with pulse.build(backend=backend, default_alignment='sequential', name='Amp sweep') as rabi_sched:\n",
    "    drive_chan = pulse.drive_channel(qubit)\n",
    "    pulse.set_frequency(qubit_12_freq, drive_chan)\n",
    "    pulse.play(pulse.Gaussian(duration=x12_duration,\n",
    "                              amp=amp,\n",
    "                              sigma=x12_sigma,\n",
    "                              name='x12_pulse'), drive_chan)"
   ]
  },
  {
   "cell_type": "code",
   "execution_count": 22,
   "id": "7e34adac",
   "metadata": {},
   "outputs": [],
   "source": [
    "rabi_gate = Gate(\"rabi\", 1, [amp])\n",
    "\n",
    "qc_rabi = QuantumCircuit(1, 1)\n",
    "\n",
    "qc_rabi.x(0)\n",
    "qc_rabi.append(rabi_gate, [0])\n",
    "qc_rabi.measure(0, 0)\n",
    "qc_rabi.add_calibration(rabi_gate, (0,), rabi_sched, [amp])\n",
    "    \n",
    "exp_rabi_circs = [qc_rabi.assign_parameters({amp: a}) for a in drive_amps]\n",
    "    "
   ]
  },
  {
   "cell_type": "code",
   "execution_count": 23,
   "id": "1b0227a9",
   "metadata": {},
   "outputs": [],
   "source": [
    "rabi_12_job = backend.run(exp_rabi_circs, \n",
    "                          meas_level=1, \n",
    "                          meas_return='avg', \n",
    "                          shots=NUM_SHOTS)"
   ]
  },
  {
   "cell_type": "code",
   "execution_count": 24,
   "id": "9ad8c847",
   "metadata": {},
   "outputs": [
    {
     "name": "stdout",
     "output_type": "stream",
     "text": [
      "Job Status: job has successfully run\n"
     ]
    }
   ],
   "source": [
    "job_monitor(rabi_12_job)"
   ]
  },
  {
   "cell_type": "code",
   "execution_count": 25,
   "id": "eedd9f70",
   "metadata": {},
   "outputs": [],
   "source": [
    "# Get the job data (average)\n",
    "rabi_12_data = get_job_data(rabi_12_job, average=True)"
   ]
  },
  {
   "cell_type": "code",
   "execution_count": 26,
   "id": "d5efe5bc",
   "metadata": {},
   "outputs": [],
   "source": [
    "def baseline_remove(values):\n",
    "    \"\"\"Center data around 0.\"\"\"\n",
    "    return np.array(values) - np.mean(values)"
   ]
  },
  {
   "cell_type": "code",
   "execution_count": 27,
   "id": "17d78b8f",
   "metadata": {},
   "outputs": [
    {
     "data": {
      "image/png": "[encoded data removed]",
      "text/plain": [
       "<Figure size 432x288 with 1 Axes>"
      ]
     },
     "metadata": {
      "needs_background": "light"
     },
     "output_type": "display_data"
    }
   ],
   "source": [
    "# Note: Only real part of data is plotted\n",
    "rabi_12_data = np.real(baseline_remove(rabi_12_data))\n",
    "(rabi_12_fit_params, \n",
    " rabi_12_y_fit) = fit_function(drive_amps,\n",
    "                               rabi_12_data, \n",
    "                               lambda x, A, B, drive_12_period, phi: (A*np.cos(2*np.pi*x/drive_12_period - phi) + B),\n",
    "                               [0.2, 0, 0.3, 0])\n",
    "\n",
    "plt.scatter(drive_amps, rabi_12_data, color='black')\n",
    "plt.plot(drive_amps, rabi_12_y_fit, color='red')\n",
    "\n",
    "drive_12_period = rabi_12_fit_params[2] \n",
    "\n",
    "pi_amp_12 = drive_12_period/2\n",
    "\n",
    "plt.axvline(pi_amp_12, color='red', linestyle='--')\n",
    "plt.axvline(pi_amp_12+drive_12_period/2, color='red', linestyle='--')\n",
    "plt.annotate(\"\", xy=(pi_amp_12+drive_12_period/2, 0), xytext=(pi_amp_12,0), arrowprops=dict(arrowstyle=\"<->\", color='red'))\n",
    "plt.annotate(\"$\\pi$\", xy=(pi_amp_12-0.03, 0.1), color='red')\n",
    "\n",
    "plt.xlabel(\"Drive amp [a.u.]\", fontsize=15)\n",
    "plt.ylabel(\"Measured signal [a.u.]\", fontsize=15)\n",
    "plt.title('Rabi Experiment (1->2)', fontsize=20)\n",
    "plt.show()"
   ]
  },
  {
   "cell_type": "code",
   "execution_count": 28,
   "id": "15f11ce6",
   "metadata": {},
   "outputs": [
    {
     "name": "stdout",
     "output_type": "stream",
     "text": [
      "Our updated estimate for the 1->2 transition frequency is 4.5821939 GHz.\n",
      "Pi Amplitude (1->2) = 0.14557684148298541\n"
     ]
    }
   ],
   "source": [
    "print(f\"Our updated estimate for the 1->2 transition frequency is \"\n",
    "      f\"{round(qubit_12_freq/GHz, 7)} GHz.\")\n",
    "print(f\"Pi Amplitude (1->2) = {pi_amp_12}\")"
   ]
  },
  {
   "cell_type": "markdown",
   "id": "5858a78a",
   "metadata": {},
   "source": [
    "### Pulse calibration for $X_\\pi^{12}$"
   ]
  },
  {
   "cell_type": "code",
   "execution_count": 33,
   "id": "f6308ba4",
   "metadata": {},
   "outputs": [],
   "source": [
    "with pulse.build(backend=backend, default_alignment='sequential', name='x12 schedule') as x12_sched:\n",
    "    drive_chan = pulse.drive_channel(qubit)\n",
    "    pulse.set_frequency(qubit_12_freq, drive_chan)\n",
    "    pulse.play(pulse.Gaussian(duration=x12_duration,\n",
    "                              amp=pi_amp_12,\n",
    "                              sigma=x12_sigma,\n",
    "                              name='x12_pulse'), drive_chan)"
   ]
  },
  {
   "cell_type": "code",
   "execution_count": 34,
   "id": "9b3c1185",
   "metadata": {
    "scrolled": true
   },
   "outputs": [
    {
     "data": {
      "image/png": "[encoded data removed]",
      "text/plain": [
       "<Figure size 936x118.8 with 1 Axes>"
      ]
     },
     "execution_count": 34,
     "metadata": {},
     "output_type": "execute_result"
    }
   ],
   "source": [
    "x12_sched.draw()"
   ]
  }
 ],
 "metadata": {
  "kernelspec": {
   "display_name": "Python 3",
   "language": "python",
   "name": "python3"
  },
  "language_info": {
   "codemirror_mode": {
    "name": "ipython",
    "version": 3
   },
   "file_extension": ".py",
   "mimetype": "text/x-python",
   "name": "python",
   "nbconvert_exporter": "python",
   "pygments_lexer": "ipython3",
   "version": "3.8.8"
  }
 },
 "nbformat": 4,
 "nbformat_minor": 5
}
