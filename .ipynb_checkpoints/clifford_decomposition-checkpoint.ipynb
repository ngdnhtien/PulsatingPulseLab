{
 "cells": [
  {
   "cell_type": "markdown",
   "metadata": {
    "pycharm": {
     "name": "#%% md\n"
    }
   },
   "source": [
    "# Clifford generator"
   ]
  },
  {
   "cell_type": "code",
   "execution_count": 2,
   "metadata": {
    "collapsed": true,
    "pycharm": {
     "name": "#%%\n"
    }
   },
   "outputs": [],
   "source": [
    "import qiskit.tools.jupyter\n",
    "\n",
    "%matplotlib inline\n",
    "import numpy as np\n",
    "from numpy.linalg import matrix_power\n",
    "from qiskit.visualization import array_to_latex\n",
    "import matplotlib.pyplot as plt\n",
    "from sympy import *\n",
    "from sympy.physics.quantum import *\n",
    "import numpy as np\n",
    "\n",
    "sqrt = np.sqrt\n",
    "exp = np.exp\n",
    "pi = np.pi\n",
    "arr = np.array\n",
    "\n",
    "d = 3  # d-dimensional Lie group, here Clifford C_3 d=3\n",
    "omega = exp(2 * pi * 1j / d)  # root of unity\n",
    "\n",
    "# generators of C_3 = <X,H>\n",
    "\n",
    "Hdm = 1 / sqrt(3) * arr([\n",
    "    [1, 1, 1],\n",
    "    [1, omega, omega ** 2],\n",
    "    [1, omega ** 2, omega]\n",
    "])\n",
    "\n",
    "Sdg = arr([\n",
    "    [1, 0, 0],\n",
    "    [0, 1, 0],\n",
    "    [0, 0, omega]\n",
    "])\n",
    "\n",
    "X_01 = arr([\n",
    "    [0, 1, 0],\n",
    "    [1, 0, 0],\n",
    "    [0, 0, 1]\n",
    "])\n",
    "\n",
    "X_12 = arr([\n",
    "    [1, 0, 0],\n",
    "    [0, 0, 1],\n",
    "    [0, 1, 0]\n",
    "])\n",
    "\n",
    "Id = arr([\n",
    "    [1, 0, 0],\n",
    "    [0, 1, 0],\n",
    "    [0, 0, 1]\n",
    "])\n",
    "\n",
    "\n",
    "def sum_index(i):\n",
    "    return 2 ** (i + 1) - 2\n",
    "\n",
    "\n",
    "A = []\n",
    "for i in range(8):\n",
    "    if i == 0:\n",
    "        A.append(\"H\")\n",
    "        A.append(\"S\")\n",
    "    else:\n",
    "        for j in range(sum_index(i - 1), sum_index(i)):\n",
    "            A.append(A[j] + \"H\")\n",
    "            A.append(A[j] + \"S\")\n",
    "\n",
    "A_matrix = []\n",
    "for i in range(len(A)):\n",
    "    result = np.complex128(np.zeros([3, 3]))\n",
    "    for j in range(len(A[i]), ):\n",
    "        if j == 0:\n",
    "            if A[i][j] == 'H':\n",
    "                result += Hdm\n",
    "            elif A[i][j] == 'S':\n",
    "                result += Sdg\n",
    "        else:\n",
    "            if A[i][j] == 'H':\n",
    "                result = result @ Hdm\n",
    "            elif A[i][j] == 'S':\n",
    "                result = result @ Sdg\n",
    "    A_matrix.append(result)\n",
    "\n",
    "A_matrix_flitered = []\n",
    "A_matrix_flitered_index = []\n",
    "for i in range(len(A_matrix)):\n",
    "    if i == 0:\n",
    "        A_matrix_flitered.append(A_matrix[i])\n",
    "        A_matrix_flitered_index.append(i)\n",
    "    else:\n",
    "        flag = True\n",
    "        for j in range(len(A_matrix_flitered)):\n",
    "            if (np.round(A_matrix[i] - A_matrix_flitered[j], decimals=10) == 0).all():\n",
    "                flag = False\n",
    "                break\n",
    "            else:\n",
    "                continue\n",
    "        if flag == True:\n",
    "            A_matrix_flitered.append(A_matrix[i])\n",
    "            A_matrix_flitered_index.append(i)\n",
    "\n",
    "Clifford3 = A_matrix_flitered\n"
   ]
  },
  {
   "cell_type": "markdown",
   "metadata": {
    "pycharm": {
     "name": "#%% md\n"
    }
   },
   "source": [
    "# Decomposition of Cliffords"
   ]
  },
  {
   "cell_type": "code",
   "execution_count": 3,
   "metadata": {
    "pycharm": {
     "name": "#%%\n"
    }
   },
   "outputs": [],
   "source": [
    "def Z01(phi):\n",
    "    return np.array([[exp(1j * phi), 0, 0],\n",
    "                     [0, 1, 0],\n",
    "                     [0, 0, 1]])\n",
    "\n",
    "\n",
    "def Z12(phi):\n",
    "    return np.array([[1, 0, 0],\n",
    "                     [0, 1, 0],\n",
    "                     [0, 0, exp(1j * phi)]])\n",
    "\n",
    "\n",
    "def X01(theta):\n",
    "    return np.array([[np.cos(theta / 2), -1j * np.sin(theta / 2), 0],\n",
    "                     [-1j * np.sin(theta / 2), np.cos(theta / 2), 0],\n",
    "                     [0, 0, 1]])\n",
    "\n",
    "\n",
    "def X12(theta):\n",
    "    return np.array([[1, 0, 0],\n",
    "                     [0, np.cos(theta / 2), -1j * np.sin(theta / 2)],\n",
    "                     [0, -1j * np.sin(theta / 2), np.cos(theta / 2)]])\n",
    "\n",
    "\n",
    "def Y01(theta):\n",
    "    return np.array([[np.cos(theta / 2), -np.sin(theta / 2), 0],\n",
    "                     [np.sin(theta / 2), np.cos(theta / 2), 0],\n",
    "                     [0, 0, 1]])\n",
    "\n",
    "\n",
    "def Y12(theta):\n",
    "    return np.array([[1, 0, 0],\n",
    "                     [0, np.cos(theta / 2), -np.sin(theta / 2)],\n",
    "                     [0, np.sin(theta / 2), np.cos(theta / 2)]])\n",
    "\n",
    "\n",
    "def R01(phi, theta):\n",
    "    return Z01(-phi) @ X01(theta) @ Z01(phi)\n",
    "\n",
    "\n",
    "def R12(phi, theta):\n",
    "    return Z12(phi) @ X12(theta) @ Z12(-phi)\n",
    "\n",
    "\n",
    "def U_d(phi_1, phi_2, phi_3):\n",
    "    return np.array([[np.exp(1j * phi_1), 0, 0],\n",
    "                     [0, np.exp(1j * phi_2), 0],\n",
    "                     [0, 0, np.exp(1j * phi_3)]])\n",
    "\n",
    "def get_parameter(index):\n",
    "    U = Clifford3[index]\n",
    "    if index in [100, 165, 195]:\n",
    "        theta_1 = 0\n",
    "        theta_2 = theta_3 = pi\n",
    "        phi_1 = phi_4 = phi_5 = 0\n",
    "        phi_3 = np.angle(U[1, 0]) + pi / 2\n",
    "        phi_2 = np.angle(U[2, 1]) + pi / 2\n",
    "        phi_6 = np.angle(U[1, 0]) + np.angle(U[2, 1]) + np.angle(U[0, 2])\n",
    "    elif index in [107, 176, 199]:\n",
    "        theta_1 = theta_2 = pi\n",
    "        theta_3 = 0\n",
    "        phi_3 = phi_5 = phi_6 = 0\n",
    "        phi_1 = -np.angle(U[0, 1]) - pi / 2\n",
    "        phi_2 = -np.angle(U[1, 2]) - pi / 2\n",
    "        phi_4 = np.angle(U[0, 1]) + np.angle(U[1, 2]) + np.angle(U[2, 0])\n",
    "    elif index in [97, 161]:\n",
    "        theta_1 = theta_2 = 0\n",
    "        theta_3 = pi\n",
    "        phi_5 = phi_1 = phi_2 = 0\n",
    "        phi_4 = np.angle(U[2, 2])\n",
    "        phi_3 = np.angle(U[1, 0]) + pi / 2\n",
    "        phi_6 = np.angle(U[0, 1]) + np.angle(U[1, 0]) + pi\n",
    "    elif abs(np.absolute(U[2, 2]) - 1) < 1e-6:\n",
    "        theta_1 = phi_1 = theta_2 = phi_2 = 0\n",
    "        phi_4 = np.angle(U[2, 2])\n",
    "        phi_5 = np.angle(U[1, 1])\n",
    "        phi_6 = np.angle(U[0, 0])\n",
    "        # phi_3 = phi_6 - pi/2 - np.angle(U[0, 1])\n",
    "        phi_3 = np.angle(U[1, 0]) - phi_5 + pi / 2\n",
    "        theta_3 = 2 * np.arccos(np.round(np.absolute(U[1, 1]), 6))\n",
    "    else:\n",
    "        phi_4 = np.angle(U[2, 2])\n",
    "        theta_2 = 2 * np.arccos(np.round(np.absolute(U[2, 2]), 6))\n",
    "        phi_2 = np.angle(U[2, 1]) - phi_4 + pi / 2\n",
    "        phi_1 = np.angle(-U[2, 0]) - phi_2 - phi_4\n",
    "        theta_1 = 2 * np.arccos(np.round(np.absolute(U[2, 1]) / np.sin(theta_2 / 2), 6))\n",
    "        theta_3 = 2 * np.arccos(np.round(np.absolute(U[1, 2]) / np.sin(theta_2 / 2), 6))\n",
    "        phi_5 = np.angle(U[1, 2]) + phi_2 + pi / 2\n",
    "        phi_3 = np.angle(\n",
    "            np.cos(theta_1 / 2) * np.cos(theta_2 / 2) * np.cos(theta_3 / 2) - U[1, 1] * np.exp(-1j * phi_5)) + phi_1\n",
    "        phi_6 = np.angle(-U[0, 2]) + phi_3 + phi_2\n",
    "        if (abs(theta_2 - pi) < 1e-6 and index not in [111, 182, 202]):\n",
    "            theta_1 = theta_3 = 0\n",
    "            theta_2 = pi\n",
    "            phi_2 = 0\n",
    "            phi_6 = np.angle(U[0, 0])\n",
    "            phi_4 = -phi_2 + np.angle(U[2, 1]) + pi / 2\n",
    "            phi_5 = phi_2 + np.angle(U[1, 2]) + pi / 2\n",
    "            phi_1 = phi_3 = 0\n",
    "    return theta_1, theta_2, theta_3, phi_1, phi_2, phi_3, phi_4, phi_5, phi_6\n",
    "\n",
    "\n",
    "def reconstruct(theta_1, theta_2, theta_3, phi_1, phi_2, phi_3, phi_4, phi_5, phi_6):\n",
    "    return U_d(phi_6, phi_5, phi_4) @ R01(phi_3, theta_3) @ R12(phi_2, theta_2) @ R01(phi_1, theta_1)"
   ]
  },
  {
   "cell_type": "markdown",
   "metadata": {
    "pycharm": {
     "name": "#%% md\n"
    }
   },
   "source": [
    "# Implementation\n",
    "\\begin{align}\n",
    "U &= U_d(\\phi_6, \\phi_5, \\phi_4) \\cdot P_{-\\phi_3}^{0} \\cdot X_{\\theta_3}^{(01)} \\cdot P_{\\phi_3}^{0} \\cdot P_{\\phi_2}^{2} \\cdot X_{\\theta_2}^{(12)} \\cdot P_{-\\phi_2}^{2} \\cdot P_{-\\phi_1}^{0} \\cdot X_{\\theta_1}^{(01)} \\cdot P_{\\phi_1}^{0}\\\\\n",
    "&=  e^{-i\\phi_5}P^0_{\\phi_5 - \\phi_6}P^2_{\\phi_5 - \\phi_4}\\cdot P_{-\\phi_3}^{0} \\cdot X_{\\theta_3}^{(01)} \\cdot P_{\\phi_3}^{0} \\cdot P_{\\phi_2}^{2} \\cdot X_{\\theta_2}^{(12)} \\cdot P_{-\\phi_2}^{2} \\cdot P_{-\\phi_1}^{0} \\cdot X_{\\theta_1}^{(01)} \\cdot P_{\\phi_1}^{0}\n",
    "\\end{align}\n"
   ]
  },
  {
   "cell_type": "code",
   "execution_count": 22,
   "metadata": {
    "pycharm": {
     "name": "#%%\n"
    }
   },
   "outputs": [
    {
     "name": "stdout",
     "output_type": "stream",
     "text": [
      "13 [ 0.        0.        0.        0.        0.        1.570796 -0.\n",
      "  0.        0.      ]\n",
      "100 [ 0.        3.141593  3.141593  0.        1.570796  1.570796  0.\n",
      "  0.       -0.      ]\n",
      "107 [ 3.141593  3.141593  0.       -1.570796 -1.570796  0.       -0.\n",
      "  0.        0.      ]\n"
     ]
    }
   ],
   "source": [
    "index = [13, 100, 107, ]\n",
    "for i in index:\n",
    "    print(i, np.around(get_parameter(i), 6))\n"
   ]
  },
  {
   "cell_type": "code",
   "execution_count": 25,
   "metadata": {
    "pycharm": {
     "name": "#%%\n"
    }
   },
   "outputs": [],
   "source": [
    "theta_1, theta_2, theta_3, phi_1, phi_2, phi_3, phi_4, phi_5, phi_6 = get_parameter(100)"
   ]
  }
 ],
 "metadata": {
  "kernelspec": {
   "display_name": "Python 3",
   "language": "python",
   "name": "python3"
  },
  "language_info": {
   "codemirror_mode": {
    "name": "ipython",
    "version": 3
   },
   "file_extension": ".py",
   "mimetype": "text/x-python",
   "name": "python",
   "nbconvert_exporter": "python",
   "pygments_lexer": "ipython3",
   "version": "3.8.8"
  }
 },
 "nbformat": 4,
 "nbformat_minor": 1
}
