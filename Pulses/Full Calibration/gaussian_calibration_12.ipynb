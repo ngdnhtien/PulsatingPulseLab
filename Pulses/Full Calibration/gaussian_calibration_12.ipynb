{
 "cells": [
  {
   "cell_type": "code",
   "execution_count": 1,
   "id": "91d8fd70-f5d7-4923-91b0-12171cf170c7",
   "metadata": {
    "pycharm": {
     "name": "#%%\n"
    }
   },
   "outputs": [
    {
     "name": "stderr",
     "output_type": "stream",
     "text": [
      "<frozen importlib._bootstrap>:219: RuntimeWarning: scipy._lib.messagestream.MessageStream size changed, may indicate binary incompatibility. Expected 56 from C header, got 64 from PyObject\n"
     ]
    },
    {
     "name": "stdout",
     "output_type": "stream",
     "text": [
      "Qubit 0 has an estimated frequency of 4.925038309664436 GHz.\n",
      "Default anharmonicity is -0.3443958771022938 GHz.\n"
     ]
    }
   ],
   "source": [
    "import numpy as np\n",
    "import matplotlib.pyplot as plt\n",
    "\n",
    "from qiskit import pulse                  # This is where we access all of our Pulse features!\n",
    "from qiskit.circuit import Parameter      # This is Parameter Class for variable parameters.\n",
    "from qiskit.circuit import QuantumCircuit, Gate\n",
    "\n",
    "from scipy.optimize import curve_fit\n",
    "\n",
    "from sklearn.discriminant_analysis import LinearDiscriminantAnalysis\n",
    "from sklearn.model_selection import train_test_split\n",
    "\n",
    "from qiskit import pulse                  # This is where we access all of our Pulse features!\n",
    "from qiskit.circuit import Parameter      # This is Parameter Class for variable parameters.\n",
    "from qiskit.circuit import QuantumCircuit, Gate\n",
    "from qiskit import schedule\n",
    "\n",
    "from qiskit.tools.monitor import job_monitor\n",
    "\n",
    "from qiskit.tools.jupyter import *\n",
    "%matplotlib inline\n",
    "\n",
    "from qiskit import IBMQ\n",
    "IBMQ.load_account()\n",
    "provider = IBMQ.get_provider(hub='ibm-q', group='open', project='main')\n",
    "backend = provider.get_backend('ibm_oslo')\n",
    "\n",
    "backend_defaults = backend.defaults()\n",
    "\n",
    "backend_properties = backend.properties()\n",
    "\n",
    "# unit conversion factors -> all backend properties returned in SI (Hz, sec, etc.)\n",
    "GHz = 1.0e9 # Gigahertz\n",
    "MHz = 1.0e6 # Megahertz\n",
    "us = 1.0e-6 # Microseconds\n",
    "ns = 1.0e-9 # Nanoseconds\n",
    "\n",
    "qubit = 0 # qubit we will analyze\n",
    "\n",
    "default_qubit_freq = backend_defaults.qubit_freq_est[qubit] # Default qubit frequency in Hz. \n",
    "print(f\"Qubit {qubit} has an estimated frequency of {default_qubit_freq/ GHz} GHz.\")\n",
    "\n",
    "default_anharmonicity = backend_properties.qubits[qubit][3].value # Default anharmonicity in GHz\n",
    "print(f\"Default anharmonicity is {default_anharmonicity} GHz.\")\n",
    "\n",
    "# scale data (specific to each device)\n",
    "scale_factor = 1e-7\n",
    "x_duration = 320\n",
    "x_sigma = 80\n",
    "f01 = 4924993522.1397295\n",
    "x01_amp = 0.08653102211831362\n",
    "\n",
    "def get_job_data(job, average):\n",
    "    \"\"\"Retrieve data from a job that has already run.\n",
    "    Args:\n",
    "        job (Job): The job whose data you want.\n",
    "        average (bool): If True, gets the data assuming data is an average.\n",
    "                        If False, gets the data assuming it is for single shots.\n",
    "    Return:\n",
    "        list: List containing job result data. \n",
    "    \"\"\"\n",
    "    job_results = job.result(timeout = 120) # timeout parameter set to 120 s\n",
    "    result_data = []\n",
    "    for i in range(len(job_results.results)):\n",
    "        if average: # get avg data\n",
    "            # result_data.append(np.real(job_results.get_memory(i)[qubit] * scale_factor))\n",
    "            result_data.append(np.real(job_results.get_memory(i)[0] * scale_factor))\n",
    "        else: # get single data\n",
    "            result_data.append(job_results.get_memory(i)[:, qubit] * scale_factor)\n",
    "    return result_data\n",
    "\n",
    "def get_closest_multiple_of_16(num):\n",
    "    \"\"\"Compute the nearest multiple of 16. Needed because pulse enabled devices require \n",
    "    durations which are multiples of 16 samples.\n",
    "    \"\"\"\n",
    "    return int(num + 8 ) - (int(num + 8 ) % 16)\n",
    "\n",
    "def fit_function(x_values, y_values, function, init_params):\n",
    "    fitparams, conv = curve_fit(function, x_values, y_values, init_params)\n",
    "    y_fit = function(np.linspace(x_values[0], x_values[-1], 10000), *fitparams)\n",
    "    \n",
    "    return fitparams, y_fit"
   ]
  },
  {
   "cell_type": "markdown",
   "id": "3e6dd313-4a67-4c1a-b1f3-32ca40e8c55d",
   "metadata": {
    "pycharm": {
     "name": "#%% md\n"
    },
    "tags": []
   },
   "source": [
    "# 12 calibration"
   ]
  },
  {
   "cell_type": "markdown",
   "id": "8c0d0266-8afb-4a14-897d-10832d763b69",
   "metadata": {
    "pycharm": {
     "name": "#%% md\n"
    },
    "tags": []
   },
   "source": [
    "## Frequency sweep"
   ]
  },
  {
   "cell_type": "code",
   "execution_count": 13,
   "id": "7f0c2a85-e801-4f48-8fbc-500d6caa066b",
   "metadata": {
    "pycharm": {
     "name": "#%%\n"
    }
   },
   "outputs": [],
   "source": [
    "# smaller range sweep\n",
    "num_freqs = 75\n",
    "drive_power = 0.15\n",
    "sweep_range = 15\n",
    "sweep_freqs = default_anharmonicity*GHz + np.linspace(-sweep_range*MHz, sweep_range*MHz, num_freqs)"
   ]
  },
  {
   "cell_type": "code",
   "execution_count": 14,
   "id": "5e047eaf-1a6f-4c2e-9214-b544c81e18d7",
   "metadata": {},
   "outputs": [],
   "source": [
    "with pulse.build(backend=backend, default_alignment='sequential', name=r'$X_{\\pi}^{(01)}$') as X01_Gaussian_sched:\n",
    "    drive_chan = pulse.drive_channel(qubit)\n",
    "    pulse.set_frequency(f01, drive_chan)\n",
    "    pulse.play(pulse.Gaussian(duration=x_duration,\n",
    "                            amp=x01_amp,\n",
    "                            sigma=x_sigma,\n",
    "                            name=r'$X_{\\pi}^{(01)}$'), drive_chan)"
   ]
  },
  {
   "cell_type": "code",
   "execution_count": 15,
   "id": "b64f7be5-9780-4b46-b203-f349bf80b824",
   "metadata": {},
   "outputs": [],
   "source": [
    "freq = Parameter('freq')\n",
    "with pulse.build(backend=backend, default_alignment='sequential', name='Frequency sweep') as freq12_sweep_sched:\n",
    "    drive_chan = pulse.drive_channel(qubit)\n",
    "    with pulse.frequency_offset(freq, drive_chan):\n",
    "        pulse.play(pulse.Gaussian(duration=x_duration,\n",
    "                                  amp=drive_power,\n",
    "                                  sigma=x_sigma,\n",
    "                                  name='x12_pulse'), drive_chan)"
   ]
  },
  {
   "cell_type": "code",
   "execution_count": 16,
   "id": "95f3832b-0a0d-44a6-83f2-806fbb774484",
   "metadata": {
    "pycharm": {
     "name": "#%%\n"
    }
   },
   "outputs": [],
   "source": [
    "spect_gate = Gate(\"spect\", 1, [freq])\n",
    "X01_Gaussian = Gate(\"$X_{\\pi}^{01}$\", 1, [])\n",
    "\n",
    "qc_spect = QuantumCircuit(qubit + 1, 1)\n",
    "qc_spect.append(X01_Gaussian, [qubit])\n",
    "# qc_spect.x(qubit)\n",
    "qc_spect.append(spect_gate, [qubit])\n",
    "qc_spect.measure(qubit, 0)\n",
    "qc_spect.add_calibration(spect_gate, (qubit,), freq12_sweep_sched, [freq])\n",
    "qc_spect.add_calibration(X01_Gaussian, (qubit,), X01_Gaussian_sched, [])\n",
    "\n",
    "exp_spect_circs = [qc_spect.assign_parameters({freq: f}) for f in sweep_freqs]"
   ]
  },
  {
   "cell_type": "code",
   "execution_count": 17,
   "id": "f9740e69-a108-4dc3-bfa1-e6337acd9873",
   "metadata": {
    "pycharm": {
     "name": "#%%\n"
    }
   },
   "outputs": [
    {
     "data": {
      "text/plain": [
       "'6364b2fc754e4643234cca77'"
      ]
     },
     "execution_count": 17,
     "metadata": {},
     "output_type": "execute_result"
    }
   ],
   "source": [
    "NUM_SHOTS = 20000\n",
    "excited_freq_sweep_job = backend.run(exp_spect_circs, \n",
    "                                     meas_level=1, \n",
    "                                     meas_return='avg', \n",
    "                                     shots=NUM_SHOTS)\n",
    "excited_freq_sweep_job.job_id()"
   ]
  },
  {
   "cell_type": "markdown",
   "id": "aeca01f2-278f-4730-91e0-de8b45a1dbb3",
   "metadata": {},
   "source": [
    "## Job id \n",
    "02/11/22: 6361d5d0ad241417a710e190 \n",
    "6361ef64aa69d0974e09480d drive_power = 0.05, range = 30\n",
    "04/11/22: 636489afe0f7304cbb9bd09c drive_power = 0.15, range = 30\n",
    "          6364942ce0f73029189bd0b9 range = 1.5\n",
    "          6364b2fc754e4643234cca77 range = 15"
   ]
  },
  {
   "cell_type": "code",
   "execution_count": 73,
   "id": "1a494cec-03f7-4a94-a901-a26fbb7f92fc",
   "metadata": {},
   "outputs": [],
   "source": [
    "excited_freq_sweep_job = backend.retrieve_job('6364b2fc754e4643234cca77')"
   ]
  },
  {
   "cell_type": "code",
   "execution_count": 74,
   "id": "bc7d3e3f-eccc-4f71-b751-4838607297a2",
   "metadata": {
    "pycharm": {
     "name": "#%%\n"
    }
   },
   "outputs": [
    {
     "data": {
      "text/plain": [
       "<matplotlib.collections.PathCollection at 0x7fe3bc2d3df0>"
      ]
     },
     "execution_count": 74,
     "metadata": {},
     "output_type": "execute_result"
    },
    {
     "data": {
      "image/png": "[encoded data removed]",
      "text/plain": [
       "<Figure size 432x288 with 1 Axes>"
      ]
     },
     "metadata": {
      "needs_background": "light"
     },
     "output_type": "display_data"
    }
   ],
   "source": [
    "# Get the refined data (average)\n",
    "excited_freq_sweep_data = get_job_data(excited_freq_sweep_job, average=True)\n",
    "excited_sweep_freqs = f01 + sweep_freqs\n",
    "plt.scatter(excited_sweep_freqs/GHz, excited_freq_sweep_data, color='black')"
   ]
  },
  {
   "cell_type": "code",
   "execution_count": 76,
   "id": "2d42ad19-f288-4b84-bdc8-e971d67daedb",
   "metadata": {
    "pycharm": {
     "name": "#%%\n"
    }
   },
   "outputs": [],
   "source": [
    "# do fit in Hz\n",
    "(excited_sweep_fit_params, \n",
    " excited_sweep_y_fit) = fit_function(excited_sweep_freqs,\n",
    "                                     excited_freq_sweep_data, \n",
    "                                     lambda x, A, q_freq, B, C: (A / np.pi) * (B / ((x - q_freq)**2 + B**2)) + C,\n",
    "                                     [20, 4.58*GHz, 0.06*GHz, 3*GHz] # initial parameters for curve_fit\n",
    "                                     )"
   ]
  },
  {
   "cell_type": "code",
   "execution_count": 78,
   "id": "bd8aa089-08d0-4fbb-82e7-2928fda75208",
   "metadata": {
    "pycharm": {
     "name": "#%%\n"
    },
    "tags": []
   },
   "outputs": [
    {
     "data": {
      "image/png": "[encoded data removed]",
      "text/plain": [
       "<Figure size 432x288 with 1 Axes>"
      ]
     },
     "metadata": {
      "needs_background": "light"
     },
     "output_type": "display_data"
    }
   ],
   "source": [
    "# Note: we are only plotting the real part of the signal\n",
    "plt.scatter(excited_sweep_freqs/GHz, excited_freq_sweep_data, color='black')\n",
    "plt.plot(np.linspace(excited_sweep_freqs[0]/GHz, excited_sweep_freqs[-1]/GHz, 10000), excited_sweep_y_fit, color='red')\n",
    "plt.xlim([min(excited_sweep_freqs/GHz), max(excited_sweep_freqs/GHz)])\n",
    "plt.xlabel(\"Frequency [GHz]\", fontsize=15)\n",
    "plt.ylabel(\"Measured Signal [a.u.]\", fontsize=15)\n",
    "plt.title(\"1->2 Frequency Sweep (refined pass)\", fontsize=15)\n",
    "plt.show()"
   ]
  },
  {
   "cell_type": "code",
   "execution_count": 79,
   "id": "8f507115-8435-4e51-b92e-5ce922dfc6f4",
   "metadata": {
    "pycharm": {
     "name": "#%%\n"
    }
   },
   "outputs": [
    {
     "name": "stdout",
     "output_type": "stream",
     "text": [
      "Our updated estimate for the 1->2 transition frequency is 4.5847749 GHz.\n"
     ]
    }
   ],
   "source": [
    "_, qubit_12_freq, _, _ = excited_sweep_fit_params\n",
    "print(f\"Our updated estimate for the 1->2 transition frequency is \"\n",
    "      f\"{round(qubit_12_freq/GHz, 7)} GHz.\")"
   ]
  },
  {
   "cell_type": "markdown",
   "id": "3451319d-c936-44ea-8b82-e079ba3deee7",
   "metadata": {
    "pycharm": {
     "name": "#%% md\n"
    },
    "tags": []
   },
   "source": [
    "## Rabi 12"
   ]
  },
  {
   "cell_type": "code",
   "execution_count": 3,
   "id": "fe00d966-c463-48a7-9129-94b2a084fae8",
   "metadata": {},
   "outputs": [
    {
     "data": {
      "text/plain": [
       "4580642432.562142"
      ]
     },
     "execution_count": 3,
     "metadata": {},
     "output_type": "execute_result"
    }
   ],
   "source": [
    "f12 = default_qubit_freq + default_anharmonicity*GHz\n",
    "f12"
   ]
  },
  {
   "cell_type": "code",
   "execution_count": 4,
   "id": "28c6005e-afba-45c0-a58b-b3b5bbe4f92e",
   "metadata": {
    "pycharm": {
     "name": "#%%\n"
    }
   },
   "outputs": [],
   "source": [
    "# experimental configuration\n",
    "num_rabi_points = 100 # number of experiments (ie amplitudes to sweep out)\n",
    "\n",
    "# Drive amplitude values to iterate over: 75 amplitudes evenly spaced from 0 to 1.0\n",
    "drive_amp_min = 0\n",
    "drive_amp_max = 0.4\n",
    "drive_amps = np.linspace(drive_amp_min, drive_amp_max, num_rabi_points)"
   ]
  },
  {
   "cell_type": "code",
   "execution_count": 5,
   "id": "e02ae0fc-25f7-4a8d-8398-e805745712aa",
   "metadata": {
    "pycharm": {
     "name": "#%%\n"
    }
   },
   "outputs": [],
   "source": [
    "amp = Parameter('amp')\n",
    "with pulse.build(backend=backend, default_alignment='sequential', name='Amp sweep') as rabi_sched:\n",
    "    drive_chan = pulse.drive_channel(qubit)\n",
    "    pulse.set_frequency(f12, drive_chan)\n",
    "    pulse.play(pulse.Gaussian(duration=x_duration,\n",
    "                              amp=amp,\n",
    "                              sigma=x_sigma,\n",
    "                              name='x12_pulse'), drive_chan)"
   ]
  },
  {
   "cell_type": "code",
   "execution_count": 6,
   "id": "c4a6cab2-4a8f-4ee9-9cb6-adf11ab2bdb6",
   "metadata": {},
   "outputs": [],
   "source": [
    "with pulse.build(backend=backend, default_alignment='sequential', name=r'$X_{\\pi}^{(01)}$') as X01_Gaussian_sched:\n",
    "    drive_chan = pulse.drive_channel(qubit)\n",
    "    pulse.set_frequency(f01, drive_chan)\n",
    "    pulse.play(pulse.Gaussian(duration=x_duration,\n",
    "                            amp=x01_amp,\n",
    "                            sigma=x_sigma,\n",
    "                            name=r'$X_{\\pi}^{(01)}$'), drive_chan)"
   ]
  },
  {
   "cell_type": "code",
   "execution_count": 7,
   "id": "ce8cbbfe-caea-4e3e-ad9f-b8911ac1cc39",
   "metadata": {
    "pycharm": {
     "name": "#%%\n"
    }
   },
   "outputs": [],
   "source": [
    "rabi_gate = Gate(\"rabi\", 1, [amp])\n",
    "X01_Gaussian = Gate(\"$X_{\\pi}^{01}$\", 1, [])\n",
    "\n",
    "qc_rabi = QuantumCircuit(qubit + 1, 1)\n",
    "\n",
    "qc_rabi.append(X01_Gaussian, [qubit])\n",
    "qc_rabi.append(rabi_gate, [qubit])\n",
    "qc_rabi.measure(qubit, 0)\n",
    "qc_rabi.add_calibration(rabi_gate, (qubit,), rabi_sched, [amp])\n",
    "qc_rabi.add_calibration(X01_Gaussian, (qubit,), X01_Gaussian_sched, [])    \n",
    "exp_rabi_circs = [qc_rabi.assign_parameters({amp: a}) for a in drive_amps]\n"
   ]
  },
  {
   "cell_type": "code",
   "execution_count": 8,
   "id": "35b6e6ef-2cdb-412b-8734-1f9481013e25",
   "metadata": {
    "pycharm": {
     "name": "#%%\n"
    }
   },
   "outputs": [
    {
     "data": {
      "text/plain": [
       "'636d20bb0565be1b5700764e'"
      ]
     },
     "execution_count": 8,
     "metadata": {},
     "output_type": "execute_result"
    }
   ],
   "source": [
    "num_shots_per_point = 20000\n",
    "\n",
    "rabi12_job = backend.run(exp_rabi_circs, \n",
    "                          meas_level=1, \n",
    "                          meas_return='avg', \n",
    "                          shots=NUM_SHOTS)\n",
    "\n",
    "rabi12_job.job_id()"
   ]
  },
  {
   "cell_type": "markdown",
   "id": "2f504422-38dd-48aa-80e7-e0073dd5d6c8",
   "metadata": {},
   "source": [
    "## Rabi 12 job id\n",
    "04/11/22: 636493c8754e469f424cca41 range = [0, 1]\n",
    "          6364c039ad2414d52e10eb0a range = [0, 0.4]\n",
    "10/11/22: '636d20bb0565be1b5700764e' range = [0, 0.4]"
   ]
  },
  {
   "cell_type": "code",
   "execution_count": 55,
   "id": "3a0ed024-84e1-493f-8f09-9f5cdc4ea493",
   "metadata": {},
   "outputs": [],
   "source": [
    "rabi12_job = backend.retrieve_job('6364c039ad2414d52e10eb0a')"
   ]
  },
  {
   "cell_type": "code",
   "execution_count": 56,
   "id": "2fe4f007-9571-474d-949f-b8d27facaaf9",
   "metadata": {},
   "outputs": [],
   "source": [
    "rabi12_data = get_job_data(rabi12_job, average=True)"
   ]
  },
  {
   "cell_type": "code",
   "execution_count": 57,
   "id": "c54efbb4-3a3b-4375-b978-1afd6261a5ad",
   "metadata": {},
   "outputs": [
    {
     "data": {
      "image/png": "[encoded data removed]",
      "text/plain": [
       "<Figure size 432x288 with 1 Axes>"
      ]
     },
     "metadata": {
      "needs_background": "light"
     },
     "output_type": "display_data"
    }
   ],
   "source": [
    "def baseline_remove(values):\n",
    "    return np.array(values) - np.mean(values)\n",
    "\n",
    "# Note: Only real part of data is plotted\n",
    "rabi12_data = np.real(baseline_remove(rabi12_data))\n",
    "(rabi_12_fit_params, \n",
    " rabi_12_y_fit) = fit_function(drive_amps,\n",
    "                               rabi12_data, \n",
    "                               lambda x, A, B, drive_12_period, phi: (A*np.cos(2*np.pi*x/drive_12_period - phi) + B),\n",
    "                               [2, 1, 0.15, 0])\n",
    "\n",
    "plt.scatter(drive_amps, rabi12_data, color='black')\n",
    "plt.plot(np.linspace(drive_amps[0], drive_amps[-1], 10000), rabi_12_y_fit, color='red')\n",
    "\n",
    "drive_12_period = rabi_12_fit_params[2] \n",
    "\n",
    "pi_amp_12 = drive_12_period/2\n",
    "\n",
    "plt.axvline(pi_amp_12, color='red', linestyle='--')\n",
    "plt.axvline(pi_amp_12+drive_12_period/2, color='red', linestyle='--')\n",
    "plt.annotate(\"\", xy=(pi_amp_12+drive_12_period/2, 0), xytext=(pi_amp_12,0), arrowprops=dict(arrowstyle=\"<->\", color='red'))\n",
    "plt.annotate(\"$\\pi$\", xy=(pi_amp_12-0.03, 0.1), color='red')\n",
    "\n",
    "plt.xlabel(\"Drive amp [a.u.]\", fontsize=15)\n",
    "plt.ylabel(\"Measured signal [a.u.]\", fontsize=15)\n",
    "plt.title('Rabi Experiment (1->2)', fontsize=20)\n",
    "plt.show()"
   ]
  },
  {
   "cell_type": "code",
   "execution_count": 58,
   "id": "5383a35a-0428-4ecf-84c9-9b9eda76d05d",
   "metadata": {},
   "outputs": [
    {
     "name": "stdout",
     "output_type": "stream",
     "text": [
      "Our updated estimate for the 1->2 transition frequency is 4580649319.495695 GHz.\n",
      "Pi Amplitude (1->2) = 0.06870562817072146\n"
     ]
    }
   ],
   "source": [
    "print(f\"Our updated estimate for the 1->2 transition frequency is \"\n",
    "      f\"{f12} GHz.\")\n",
    "print(f\"Pi Amplitude (1->2) = {pi_amp_12}\")"
   ]
  },
  {
   "cell_type": "markdown",
   "id": "250adc9a-d71d-4a75-865d-e29622cf8e3c",
   "metadata": {
    "tags": []
   },
   "source": [
    "# Rough Discriminator (using Gaussian pulse)"
   ]
  },
  {
   "cell_type": "code",
   "execution_count": null,
   "id": "9312d2f9-f8ec-49df-acca-971bd7ed88ed",
   "metadata": {},
   "outputs": [],
   "source": [
    "f12 = 4580649319.495695\n",
    "x12_amp = 0.06870562817072146"
   ]
  },
  {
   "cell_type": "code",
   "execution_count": 60,
   "id": "075c0fed-7896-4c1f-abe4-c269350dfe01",
   "metadata": {},
   "outputs": [],
   "source": [
    "with pulse.build(backend=backend, default_alignment='sequential', name=r'$X_{\\pi}^{(01)}$') as X01_Gaussian_sched:\n",
    "    drive_chan = pulse.drive_channel(qubit)\n",
    "    pulse.set_frequency(f01, drive_chan)\n",
    "    pulse.play(pulse.Gaussian(duration=x_duration,\n",
    "                            amp=x01_amp,\n",
    "                            sigma=x_sigma,\n",
    "                            name=r'$X_{\\pi}^{(01)}$'), drive_chan)\n",
    "\n",
    "with pulse.build(backend=backend, default_alignment='sequential', name=r'$X_{\\pi}^{(12)}$') as X12_Gaussian_sched:\n",
    "    drive_chan = pulse.drive_channel(qubit)\n",
    "    pulse.set_frequency(f12, drive_chan)\n",
    "    pulse.play(pulse.Gaussian(duration=x_duration,\n",
    "                            amp=x12_amp,\n",
    "                            sigma=x_sigma,\n",
    "                            name=r'$X_{\\pi}^{(12)}$'), drive_chan)"
   ]
  },
  {
   "cell_type": "code",
   "execution_count": 62,
   "id": "629ff25f-c7a3-4e60-998d-1b784bd1b949",
   "metadata": {
    "tags": []
   },
   "outputs": [],
   "source": [
    "# Create the three circuits\n",
    "X01_Gaussian = Gate(\"$X_{\\pi}^{01}$\", 1, [])\n",
    "X12_Gaussian = Gate(\"$X_{\\pi}^{12}$\", 1, [])\n",
    "# 0 state\n",
    "qc_g = QuantumCircuit(1, 1)\n",
    "qc_g.measure(0, 0)\n",
    "\n",
    "# 1 state\n",
    "qc_e = QuantumCircuit(1, 1)\n",
    "\n",
    "qc_e.append(X01_Gaussian, [0])\n",
    "qc_e.add_calibration(X01_Gaussian, (0,), X01_Gaussian_sched, [])\n",
    "qc_e.measure(0, 0)\n",
    "\n",
    "# 2 state \n",
    "qc_f = QuantumCircuit(1, 1)\n",
    "qc_f.append(X01_Gaussian, [0])\n",
    "qc_f.append(X12_Gaussian, [0])\n",
    "qc_f.measure(0, 0)\n",
    "qc_f.add_calibration(X01_Gaussian, (0,), X01_Gaussian_sched, [])\n",
    "qc_f.add_calibration(X12_Gaussian, (0,), X12_Gaussian_sched, [])"
   ]
  },
  {
   "cell_type": "code",
   "execution_count": 63,
   "id": "9ef5c339-aceb-4924-8fec-f0b5cdd718af",
   "metadata": {
    "tags": []
   },
   "outputs": [
    {
     "data": {
      "text/plain": [
       "'6364c464718d11b10862f44c'"
      ]
     },
     "execution_count": 63,
     "metadata": {},
     "output_type": "execute_result"
    }
   ],
   "source": [
    "# Assemble the schedules into a program\\\n",
    "NUM_SHOTS = 20000\n",
    "IQ_012_job = backend.run([qc_g, qc_e, qc_f], \n",
    "                          meas_level=1, \n",
    "                          meas_return='single', \n",
    "                          shots=NUM_SHOTS)\n",
    "IQ_012_job.job_id()"
   ]
  },
  {
   "cell_type": "markdown",
   "id": "6dc67ef1-9f27-41da-8d4e-8f8ba0edb02e",
   "metadata": {
    "tags": []
   },
   "source": [
    "job id\n",
    "04/11/22 6364c1a2ad24146d0a10eb10\n",
    "         6364c464718d11b10862f44c\n",
    "         "
   ]
  },
  {
   "cell_type": "code",
   "execution_count": 69,
   "id": "ee3b7b13-5085-4fa6-8958-e842c4e0b43c",
   "metadata": {},
   "outputs": [],
   "source": [
    "IQ_012_job = backend.retrieve_job('6364c464718d11b10862f44c')"
   ]
  },
  {
   "cell_type": "code",
   "execution_count": 70,
   "id": "d79f1483-7dbf-4612-b039-821dc1c5017f",
   "metadata": {},
   "outputs": [
    {
     "name": "stdout",
     "output_type": "stream",
     "text": [
      "(60000, 2)\n",
      "60000\n"
     ]
    }
   ],
   "source": [
    "# Get job data (single); split for zero, one and two\n",
    "IQ_012_data = get_job_data(IQ_012_job, average=False)\n",
    "zero_data = IQ_012_data[0]\n",
    "one_data = IQ_012_data[1]\n",
    "two_data = IQ_012_data[2]\n",
    "\n",
    "from sklearn.discriminant_analysis import LinearDiscriminantAnalysis\n",
    "from sklearn.model_selection import train_test_split\n",
    "\n",
    "def reshape_complex_vec(vec):\n",
    "    \"\"\"Take in complex vector vec and return 2d array w/ real, imag entries. This is needed for the learning.\n",
    "    Args:\n",
    "        vec (list): complex vector of data\n",
    "    Returns:\n",
    "        list: vector w/ entries given by (real(vec], imag(vec))\n",
    "    \"\"\"\n",
    "    length = len(vec)\n",
    "    vec_reshaped = np.zeros((length, 2))\n",
    "    for i in range(len(vec)):\n",
    "        vec_reshaped[i] = [np.real(vec[i]), np.imag(vec[i])]\n",
    "    return vec_reshaped\n",
    "\n",
    "\n",
    "# Create IQ vector (split real, imag parts)\n",
    "zero_data_reshaped = reshape_complex_vec(zero_data)\n",
    "one_data_reshaped = reshape_complex_vec(one_data)\n",
    "two_data_reshaped = reshape_complex_vec(two_data)\n",
    "\n",
    "IQ_012_data = np.concatenate((zero_data_reshaped, one_data_reshaped, two_data_reshaped))\n",
    "print(IQ_012_data.shape)  # verify IQ data shape\n",
    "\n",
    "NUM_SHOTS = 20000\n",
    "\n",
    "# construct vector w/ 0's, 1's and 2's (for testing)\n",
    "state_012 = np.zeros(NUM_SHOTS)  # shots gives number of experiments\n",
    "state_012 = np.concatenate((state_012, np.ones(NUM_SHOTS)))\n",
    "state_012 = np.concatenate((state_012, 2 * np.ones(NUM_SHOTS)))\n",
    "print(len(state_012))\n",
    "\n",
    "# Shuffle and split data into training and test sets\n",
    "IQ_012_train, IQ_012_test, state_012_train, state_012_test = train_test_split(IQ_012_data, state_012, test_size=0.5)\n",
    "\n",
    "# Set up the LDA\n",
    "LDA_012 = LinearDiscriminantAnalysis()\n",
    "LDA_012.fit(IQ_012_train, state_012_train)\n",
    "\n",
    "\n",
    "def count(job, discriminator):\n",
    "    print('retrieving data from', job.job_id())\n",
    "    data = get_job_data(job, average=False)\n",
    "    print('data is retrieved from', job.job_id())\n",
    "    sched_data = []\n",
    "    for i in range(len(data)):\n",
    "        sched_data.append(reshape_complex_vec(data[i]))\n",
    "    discrim_data = []\n",
    "    for j in range(len(sched_data)):\n",
    "        discrim_data.append(discriminator.predict(sched_data[j]))\n",
    "        print('predicting', j, end='\\r')\n",
    "    final_result = []\n",
    "    for k in range(len(discrim_data)):\n",
    "        result = {'0': 0, '1': 0, '2': 0}\n",
    "        for l in range(len(discrim_data[k])):\n",
    "            if discrim_data[k][l] == 0.0:\n",
    "                result['0'] += 1\n",
    "            elif discrim_data[k][l] == 1.0:\n",
    "                result['1'] += 1\n",
    "            elif discrim_data[k][l] == 2.0:\n",
    "                result['2'] += 1\n",
    "            else:\n",
    "                print('Unexpected behavior')\n",
    "        final_result.append(result)\n",
    "    return final_result"
   ]
  },
  {
   "cell_type": "code",
   "execution_count": 71,
   "id": "01d26807-cfe2-4d62-bfdb-ee2de3d8e9a1",
   "metadata": {},
   "outputs": [
    {
     "data": {
      "image/png": "[encoded data removed]",
      "text/plain": [
       "<Figure size 432x288 with 1 Axes>"
      ]
     },
     "metadata": {
      "needs_background": "light"
     },
     "output_type": "display_data"
    }
   ],
   "source": [
    "def IQ_012_plot(x_min, x_max, y_min, y_max):\n",
    "    \"\"\"Helper function for plotting IQ plane for 0, 1, 2. Limits of plot given\n",
    "    as arguments.\"\"\"\n",
    "    # zero data plotted in blue\n",
    "    alpha = 0.2\n",
    "    size = 0.05\n",
    "    plt.scatter(np.real(zero_data), np.imag(zero_data),\n",
    "                s=size, cmap='viridis', c='blue', alpha=alpha, label=r'$|0\\rangle$')\n",
    "    # one data plotted in red\n",
    "    plt.scatter(np.real(one_data), np.imag(one_data),\n",
    "                s=size, cmap='viridis', c='red', alpha=alpha, label=r'$|1\\rangle$')\n",
    "    # two data plotted in green\n",
    "    plt.scatter(np.real(two_data), np.imag(two_data),\n",
    "                s=size, cmap='viridis', c='green', alpha=alpha, label=r'$|2\\rangle$')\n",
    "\n",
    "    # Plot a large dot for the average result of the 0, 1 and 2 states.\n",
    "    mean_zero = np.mean(zero_data) # takes mean of both real and imaginary parts\n",
    "    mean_one = np.mean(one_data)\n",
    "    mean_two = np.mean(two_data)\n",
    "    mean_alpha = 1\n",
    "    mean_size = 100\n",
    "    plt.scatter(np.real(mean_zero), np.imag(mean_zero),\n",
    "                s=mean_size, cmap='viridis', c='black',alpha=mean_alpha)\n",
    "    plt.scatter(np.real(mean_one), np.imag(mean_one),\n",
    "                s=mean_size, cmap='viridis', c='black',alpha=mean_alpha)\n",
    "    plt.scatter(np.real(mean_two), np.imag(mean_two),\n",
    "                s=mean_size, cmap='viridis', c='black',alpha=mean_alpha)\n",
    "\n",
    "    plt.xlim(x_min, x_max)\n",
    "    plt.ylim(y_min,y_max)\n",
    "    plt.legend()\n",
    "    plt.ylabel('I [a.u.]', fontsize=15)\n",
    "    plt.xlabel('Q [a.u.]', fontsize=15)\n",
    "    plt.title(\"0-1-2 discrimination\", fontsize=15)\n",
    "\n",
    "def separatrixPlot(lda, x_min, x_max, y_min, y_max, shots):\n",
    "    nx, ny = shots, shots\n",
    "\n",
    "    xx, yy = np.meshgrid(np.linspace(x_min, x_max, nx),\n",
    "                         np.linspace(y_min, y_max, ny))\n",
    "    Z = lda.predict_proba(np.c_[xx.ravel(), yy.ravel()])\n",
    "    Z = Z[:, 1].reshape(xx.shape)\n",
    "\n",
    "    plt.contour(xx, yy, Z, [0.5], linewidths=2., colors='black')\n",
    "x_min = -30\n",
    "x_max = 40\n",
    "y_min = -40\n",
    "y_max = 30\n",
    "IQ_012_plot(x_min, x_max, y_min, y_max)\n",
    "# separatrixPlot(LDA_012, x_min, x_max, y_min, y_max, NUM_SHOTS)\n"
   ]
  },
  {
   "cell_type": "code",
   "execution_count": 72,
   "id": "e4bfa96a-9228-49f7-b186-a032131de677",
   "metadata": {},
   "outputs": [
    {
     "name": "stdout",
     "output_type": "stream",
     "text": [
      "retrieving data from 6364c464718d11b10862f44c\n",
      "data is retrieved from 6364c464718d11b10862f44c\n",
      "predicting 2\r"
     ]
    },
    {
     "data": {
      "text/plain": [
       "[[0.9778, 0.0089, 0.0133],\n",
       " [0.0108, 0.97835, 0.01085],\n",
       " [0.0079, 0.03225, 0.95985]]"
      ]
     },
     "execution_count": 72,
     "metadata": {},
     "output_type": "execute_result"
    }
   ],
   "source": [
    "discr_data = count(IQ_012_job, LDA_012)\n",
    "#confusion matrix\n",
    "conf_mat = [[discr_data[i]['0'] / 20000, discr_data[i]['1'] / 20000, discr_data[i]['2'] / 20000] for i in\n",
    "                   range(np.shape(discr_data)[0])] \n",
    "conf_mat"
   ]
  }
 ],
 "metadata": {
  "kernelspec": {
   "display_name": "Python 3 (ipykernel)",
   "language": "python",
   "name": "python3"
  },
  "language_info": {
   "codemirror_mode": {
    "name": "ipython",
    "version": 3
   },
   "file_extension": ".py",
   "mimetype": "text/x-python",
   "name": "python",
   "nbconvert_exporter": "python",
   "pygments_lexer": "ipython3",
   "version": "3.8.13"
  },
  "widgets": {
   "application/vnd.jupyter.widget-state+json": {
    "state": {
     "0d04df2f25624d018aba30a448def90a": {
      "model_module": "@jupyter-widgets/controls",
      "model_module_version": "1.5.0",
      "model_name": "HBoxModel",
      "state": {
       "children": [
        "IPY_MODEL_11355147f920494fa301a69ecfc9f351",
        "IPY_MODEL_412ff88e38b342ed9f5426328af0ffd8",
        "IPY_MODEL_a6f6c59ce997429598773513835e99f0",
        "IPY_MODEL_8df24f0c04c9492080456a6931d333ae",
        "IPY_MODEL_38129f504ec14622a65c4966ef646d65"
       ],
       "layout": "IPY_MODEL_95794c70fb1d48d8a651cc5ba14cacf0"
      }
     },
     "1000be43aa5641c983d9875bc822b5e1": {
      "model_module": "@jupyter-widgets/controls",
      "model_module_version": "1.5.0",
      "model_name": "DescriptionStyleModel",
      "state": {
       "description_width": ""
      }
     },
     "11355147f920494fa301a69ecfc9f351": {
      "model_module": "@jupyter-widgets/controls",
      "model_module_version": "1.5.0",
      "model_name": "HTMLModel",
      "state": {
       "layout": "IPY_MODEL_cedd40b7de7b4e9288f0bd3e1c6b52fa",
       "style": "IPY_MODEL_c8f18f68359f4e6e9592cdfca59b664a",
       "value": "<h5>Job ID</h5>"
      }
     },
     "24ff6327a21c4ad8b131c592d50ae62b": {
      "model_module": "@jupyter-widgets/controls",
      "model_module_version": "1.5.0",
      "model_name": "DescriptionStyleModel",
      "state": {
       "description_width": ""
      }
     },
     "38129f504ec14622a65c4966ef646d65": {
      "model_module": "@jupyter-widgets/controls",
      "model_module_version": "1.5.0",
      "model_name": "HTMLModel",
      "state": {
       "layout": "IPY_MODEL_b61a17968f3c42c585af66a940cc7a0f",
       "style": "IPY_MODEL_b5b22204ad9f44fd8377b8e15f948513",
       "value": "<h5>Message</h5>"
      }
     },
     "3d5c1a6d160e4d6abf150174446b3713": {
      "model_module": "@jupyter-widgets/controls",
      "model_module_version": "1.5.0",
      "model_name": "DescriptionStyleModel",
      "state": {
       "description_width": ""
      }
     },
     "4101a25ba6444a5f86e9797a90339bff": {
      "model_module": "@jupyter-widgets/controls",
      "model_module_version": "1.5.0",
      "model_name": "ButtonStyleModel",
      "state": {}
     },
     "412ff88e38b342ed9f5426328af0ffd8": {
      "model_module": "@jupyter-widgets/controls",
      "model_module_version": "1.5.0",
      "model_name": "HTMLModel",
      "state": {
       "layout": "IPY_MODEL_b52747390bcc427c9ec1f109796a08d8",
       "style": "IPY_MODEL_3d5c1a6d160e4d6abf150174446b3713",
       "value": "<h5>Backend</h5>"
      }
     },
     "4d6ace7f9c834dc59b6cf4ae971f3a90": {
      "model_module": "@jupyter-widgets/controls",
      "model_module_version": "1.5.0",
      "model_name": "HTMLModel",
      "state": {
       "layout": "IPY_MODEL_d80f44e0979640dca665687fcc138960",
       "style": "IPY_MODEL_d8df6a497a4643699682cc3cd0070870",
       "value": "<p style='font-family: IBM Plex Sans, Arial, Helvetica, sans-serif; font-size: 20px; font-weight: medium;'>Circuit Properties</p>"
      }
     },
     "6715c6f2a6dc4c5eb64d39a94ac01d5f": {
      "model_module": "@jupyter-widgets/base",
      "model_module_version": "1.2.0",
      "model_name": "LayoutModel",
      "state": {
       "width": "95px"
      }
     },
     "8df24f0c04c9492080456a6931d333ae": {
      "model_module": "@jupyter-widgets/controls",
      "model_module_version": "1.5.0",
      "model_name": "HTMLModel",
      "state": {
       "layout": "IPY_MODEL_f93a72de7b2e418781a6b10417baec39",
       "style": "IPY_MODEL_24ff6327a21c4ad8b131c592d50ae62b",
       "value": "<h5>Queue</h5>"
      }
     },
     "95794c70fb1d48d8a651cc5ba14cacf0": {
      "model_module": "@jupyter-widgets/base",
      "model_module_version": "1.2.0",
      "model_name": "LayoutModel",
      "state": {
       "margin": "0px 0px 0px 37px",
       "width": "600px"
      }
     },
     "a361a541b83f46c9a4052f60dd676fee": {
      "model_module": "@jupyter-widgets/controls",
      "model_module_version": "1.5.0",
      "model_name": "ButtonModel",
      "state": {
       "button_style": "primary",
       "description": "Clear",
       "layout": "IPY_MODEL_e7f7d865b6cf4c6daf39d9834ecb37cf",
       "style": "IPY_MODEL_4101a25ba6444a5f86e9797a90339bff"
      }
     },
     "a6f6c59ce997429598773513835e99f0": {
      "model_module": "@jupyter-widgets/controls",
      "model_module_version": "1.5.0",
      "model_name": "HTMLModel",
      "state": {
       "layout": "IPY_MODEL_6715c6f2a6dc4c5eb64d39a94ac01d5f",
       "style": "IPY_MODEL_1000be43aa5641c983d9875bc822b5e1",
       "value": "<h5>Status</h5>"
      }
     },
     "b52747390bcc427c9ec1f109796a08d8": {
      "model_module": "@jupyter-widgets/base",
      "model_module_version": "1.2.0",
      "model_name": "LayoutModel",
      "state": {
       "width": "145px"
      }
     },
     "b5b22204ad9f44fd8377b8e15f948513": {
      "model_module": "@jupyter-widgets/controls",
      "model_module_version": "1.5.0",
      "model_name": "DescriptionStyleModel",
      "state": {
       "description_width": ""
      }
     },
     "b61a17968f3c42c585af66a940cc7a0f": {
      "model_module": "@jupyter-widgets/base",
      "model_module_version": "1.2.0",
      "model_name": "LayoutModel",
      "state": {}
     },
     "c8f18f68359f4e6e9592cdfca59b664a": {
      "model_module": "@jupyter-widgets/controls",
      "model_module_version": "1.5.0",
      "model_name": "DescriptionStyleModel",
      "state": {
       "description_width": ""
      }
     },
     "cedd40b7de7b4e9288f0bd3e1c6b52fa": {
      "model_module": "@jupyter-widgets/base",
      "model_module_version": "1.2.0",
      "model_name": "LayoutModel",
      "state": {
       "width": "190px"
      }
     },
     "d80f44e0979640dca665687fcc138960": {
      "model_module": "@jupyter-widgets/base",
      "model_module_version": "1.2.0",
      "model_name": "LayoutModel",
      "state": {
       "margin": "0px 0px 10px 0px"
      }
     },
     "d8df6a497a4643699682cc3cd0070870": {
      "model_module": "@jupyter-widgets/controls",
      "model_module_version": "1.5.0",
      "model_name": "DescriptionStyleModel",
      "state": {
       "description_width": ""
      }
     },
     "e7f7d865b6cf4c6daf39d9834ecb37cf": {
      "model_module": "@jupyter-widgets/base",
      "model_module_version": "1.2.0",
      "model_name": "LayoutModel",
      "state": {
       "grid_area": "right",
       "padding": "0px 0px 0px 0px",
       "width": "70px"
      }
     },
     "e8f436129396480db4b3c83dacc74b62": {
      "model_module": "@jupyter-widgets/controls",
      "model_module_version": "1.5.0",
      "model_name": "GridBoxModel",
      "state": {
       "children": [
        "IPY_MODEL_a361a541b83f46c9a4052f60dd676fee"
       ],
       "layout": "IPY_MODEL_ec0879bd257e434ea547cab047019ed9"
      }
     },
     "ec0879bd257e434ea547cab047019ed9": {
      "model_module": "@jupyter-widgets/base",
      "model_module_version": "1.2.0",
      "model_name": "LayoutModel",
      "state": {
       "grid_template_areas": "\n                                       \". . . . right \"\n                                        ",
       "grid_template_columns": "20% 20% 20% 20% 20%",
       "width": "100%"
      }
     },
     "f93a72de7b2e418781a6b10417baec39": {
      "model_module": "@jupyter-widgets/base",
      "model_module_version": "1.2.0",
      "model_name": "LayoutModel",
      "state": {
       "width": "70px"
      }
     }
    },
    "version_major": 2,
    "version_minor": 0
   }
  }
 },
 "nbformat": 4,
 "nbformat_minor": 5
}
