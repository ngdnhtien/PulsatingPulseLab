{
 "cells": [
  {
   "cell_type": "markdown",
   "id": "c75fb061-1de0-4895-901b-096a821caf90",
   "metadata": {
    "pycharm": {
     "name": "#%% md\n"
    },
    "tags": []
   },
   "source": [
    "# Utility functions"
   ]
  },
  {
   "cell_type": "code",
   "execution_count": 34,
   "id": "91d8fd70-f5d7-4923-91b0-12171cf170c7",
   "metadata": {
    "pycharm": {
     "name": "#%%\n"
    }
   },
   "outputs": [
    {
     "name": "stderr",
     "output_type": "stream",
     "text": [
      "ibmqfactory.load_account:WARNING:2022-11-10 14:30:15,471: Credentials are already in use. The existing account in the session will be replaced.\n"
     ]
    },
    {
     "name": "stdout",
     "output_type": "stream",
     "text": [
      "Least common multiple of acquire_alignment and pulse_alignment: 16\n"
     ]
    }
   ],
   "source": [
    "from qiskit import IBMQ\n",
    "import numpy as np\n",
    "import matplotlib.pyplot as plt\n",
    "from scipy.optimize import curve_fit\n",
    "\n",
    "from qiskit import pulse                  # This is where we access all of our Pulse features!\n",
    "from qiskit.circuit import Parameter      # This is Parameter Class for variable parameters.\n",
    "from qiskit.circuit import QuantumCircuit, Gate\n",
    "\n",
    "IBMQ.load_account()\n",
    "provider = IBMQ.get_provider(hub='ibm-q', group='open', project='main')\n",
    "backend = provider.get_backend('ibm_oslo')\n",
    "backend_config = backend.configuration()\n",
    "dt = backend_config.dt\n",
    "\n",
    "backend.configuration().timing_constraints\n",
    "acquire_alignment = backend.configuration().timing_constraints['acquire_alignment']\n",
    "granularity = backend.configuration().timing_constraints['granularity']\n",
    "pulse_alignment = backend.configuration().timing_constraints['pulse_alignment']\n",
    "lcm = np.lcm(acquire_alignment, pulse_alignment)\n",
    "print(f\"Least common multiple of acquire_alignment and pulse_alignment: {lcm}\")\n",
    "backend_defaults = backend.defaults()\n",
    "\n",
    "# unit conversion factors -> all backend properties returned in SI (Hz, sec, etc.)\n",
    "GHz = 1.0e9 # Gigahertz\n",
    "MHz = 1.0e6 # Megahertz\n",
    "us = 1.0e-6 # Microseconds\n",
    "ns = 1.0e-9 # Nanoseconds\n",
    "\n",
    "# We will find the qubit frequency for the following qubit.\n",
    "qubit = 0\n",
    "\n",
    "x_duration = 320\n",
    "x_sigma = 80\n",
    "f01 = backend_defaults.qubit_freq_est[qubit]\n",
    "\n",
    "def get_closest_multiple_of(vaule, base_number):\n",
    "    return int(vaule + base_number/2) - (int(vaule + base_number/2) % base_number)\n",
    "# samples need to be multiples of 16\n",
    "def get_closest_multiple_of_16(num):\n",
    "    return get_closest_multiple_of(num, granularity)\n",
    "# Convert seconds to dt\n",
    "def get_dt_from(sec):\n",
    "    return get_closest_multiple_of(sec/dt, lcm)\n",
    "\n",
    "scale_factor = 1e-7\n",
    "def get_job_data(job, average):\n",
    "    \"\"\"Retrieve data from a job that has already run.\n",
    "    Args:\n",
    "        job (Job): The job whose data you want.\n",
    "        average (bool): If True, gets the data assuming data is an average.\n",
    "                        If False, gets the data assuming it is for single shots.\n",
    "    Return:\n",
    "        list: List containing job result data.\n",
    "    \"\"\"\n",
    "    job_results = job.result()  # timeout parameter set to 120 s\n",
    "    result_data = []\n",
    "    for i in range(len(job_results.results)):\n",
    "        if average:  # get avg data\n",
    "            result_data.append(np.real(job_results.get_memory(i)[qubit] * scale_factor))\n",
    "            print('here')\n",
    "        else:  # get single data\n",
    "            result_data.append(job_results.get_memory(i)[:, qubit] * scale_factor)\n",
    "            print(i, end='\\r')\n",
    "    return result_data\n",
    "\n",
    "def fit_function(x_values, y_values, function, init_params):\n",
    "    fitparams, conv = curve_fit(function, x_values, y_values, init_params)\n",
    "    y_fit = function(x_values, *fitparams)\n",
    "    \n",
    "    return fitparams, y_fit"
   ]
  },
  {
   "cell_type": "markdown",
   "id": "3e6dd313-4a67-4c1a-b1f3-32ca40e8c55d",
   "metadata": {
    "pycharm": {
     "name": "#%% md\n"
    },
    "tags": []
   },
   "source": [
    "# 01 calibration"
   ]
  },
  {
   "cell_type": "markdown",
   "id": "8c0d0266-8afb-4a14-897d-10832d763b69",
   "metadata": {
    "jp-MarkdownHeadingCollapsed": true,
    "pycharm": {
     "name": "#%% md\n"
    },
    "tags": []
   },
   "source": [
    "## Frequency sweep"
   ]
  },
  {
   "cell_type": "code",
   "execution_count": 6,
   "id": "7f0c2a85-e801-4f48-8fbc-500d6caa066b",
   "metadata": {
    "pycharm": {
     "name": "#%%\n"
    }
   },
   "outputs": [
    {
     "name": "stdout",
     "output_type": "stream",
     "text": [
      "Qubit 0 has an estimated frequency of 4.925038309664436 GHz.\n",
      "The sweep will go from 4.9050383096644365 GHz to 4.945038309664437 GHz\n"
     ]
    }
   ],
   "source": [
    "\n",
    "\n",
    "# The sweep will be centered around the estimated qubit frequency.\n",
    "center_frequency_Hz = backend_defaults.qubit_freq_est[qubit]        # The default frequency is given in Hz\n",
    "                                                                    # warning: this will change in a future release\n",
    "print(f\"Qubit {qubit} has an estimated frequency of {center_frequency_Hz / GHz} GHz.\")\n",
    "\n",
    "# scale factor to remove factors of 10 from the data\n",
    "scale_factor = 1e-7\n",
    "\n",
    "# We will sweep 40 MHz around the estimated frequency\n",
    "frequency_span_Hz = 40 * MHz\n",
    "\n",
    "# We will sweep 20 MHz above and 20 MHz below the estimated frequency\n",
    "frequency_min = center_frequency_Hz - frequency_span_Hz / 2\n",
    "frequency_max = center_frequency_Hz + frequency_span_Hz / 2\n",
    "# Construct an np array of the frequencies for our experiment\n",
    "frequencies_GHz = np.linspace(frequency_min / GHz, \n",
    "                            frequency_max / GHz, \n",
    "                            100)\n",
    "\n",
    "print(f\"The sweep will go from {frequency_min / GHz} GHz to {frequency_max / GHz} GHz\")"
   ]
  },
  {
   "cell_type": "code",
   "execution_count": 7,
   "id": "af15bf64-e3a7-473d-bf52-46ec24439394",
   "metadata": {
    "pycharm": {
     "name": "#%%\n"
    }
   },
   "outputs": [],
   "source": [
    "# Drive pulse parameters (us = microseconds)\n",
    "drive_sigma_sec = 0.015 * us                           # This determines the actual width of the gaussian\n",
    "drive_duration_sec = drive_sigma_sec * 8                # This is a truncating parameter, because gaussians don't have \n",
    "                                                        # a natural finite length\n",
    "drive_amp = 0.05\n",
    "\n",
    "# Create the base schedule\n",
    "# Start with drive pulse acting on the drive channel\n",
    "freq = Parameter('freq')\n",
    "with pulse.build(backend=backend, default_alignment='sequential', name='Frequency sweep') as sweep_sched:\n",
    "    drive_duration = get_closest_multiple_of_16(pulse.seconds_to_samples(drive_duration_sec))\n",
    "    drive_sigma = pulse.seconds_to_samples(drive_sigma_sec)\n",
    "    drive_chan = pulse.drive_channel(qubit)\n",
    "    pulse.set_frequency(freq, drive_chan)\n",
    "    # Drive pulse samples\n",
    "    pulse.play(pulse.Gaussian(duration=drive_duration,\n",
    "                              sigma=drive_sigma,\n",
    "                              amp=drive_amp,\n",
    "                              name='freq_sweep_excitation_pulse'), drive_chan)"
   ]
  },
  {
   "cell_type": "code",
   "execution_count": 7,
   "id": "95f3832b-0a0d-44a6-83f2-806fbb774484",
   "metadata": {
    "pycharm": {
     "name": "#%%\n"
    }
   },
   "outputs": [
    {
     "data": {
      "image/png": "[encoded data removed]",
      "text/plain": [
       "<Figure size 253.926x144.48 with 1 Axes>"
      ]
     },
     "execution_count": 7,
     "metadata": {},
     "output_type": "execute_result"
    }
   ],
   "source": [
    "sweep_gate = Gate(\"sweep\", 1, [freq])\n",
    "\n",
    "qc_sweep = QuantumCircuit(1, 1)\n",
    "\n",
    "qc_sweep.append(sweep_gate, [0])\n",
    "qc_sweep.measure(0, 0)\n",
    "qc_sweep.add_calibration(sweep_gate, (0,), sweep_sched, [freq])\n",
    "\n",
    "# Create the frequency settings for the sweep (MUST BE IN HZ)\n",
    "frequencies_Hz = frequencies_GHz*GHz\n",
    "exp_sweep_circs = [qc_sweep.assign_parameters({freq: f}, inplace=False) for f in frequencies_Hz]\n",
    "exp_sweep_circs[0].draw(output='mpl')"
   ]
  },
  {
   "cell_type": "code",
   "execution_count": 8,
   "id": "f9740e69-a108-4dc3-bfa1-e6337acd9873",
   "metadata": {
    "pycharm": {
     "name": "#%%\n"
    }
   },
   "outputs": [
    {
     "data": {
      "text/plain": [
       "'6360b59dec45f9623c8791b7'"
      ]
     },
     "execution_count": 8,
     "metadata": {},
     "output_type": "execute_result"
    }
   ],
   "source": [
    "num_shots_per_frequency = 1024\n",
    "\n",
    "sweep_job = backend.run(exp_sweep_circs,\n",
    "                  meas_level=1,\n",
    "                  meas_return='avg',\n",
    "                  shots=num_shots_per_frequency)\n",
    "sweep_job.job_id()\n"
   ]
  },
  {
   "cell_type": "markdown",
   "id": "ca3c5d6a-098a-4dd6-95e6-183566816057",
   "metadata": {},
   "source": [
    "### Job id\n",
    "01/11/22:'6360b59dec45f9623c8791b7'\n"
   ]
  },
  {
   "cell_type": "code",
   "execution_count": 6,
   "id": "1a494cec-03f7-4a94-a901-a26fbb7f92fc",
   "metadata": {},
   "outputs": [],
   "source": [
    "sweep_job = backend.retrieve_job('6360b59dec45f9623c8791b7')"
   ]
  },
  {
   "cell_type": "code",
   "execution_count": 8,
   "id": "bc7d3e3f-eccc-4f71-b751-4838607297a2",
   "metadata": {
    "pycharm": {
     "name": "#%%\n"
    }
   },
   "outputs": [],
   "source": [
    "frequency_sweep_results = sweep_job.result(timeout=120) "
   ]
  },
  {
   "cell_type": "code",
   "execution_count": 13,
   "id": "43d86806-7cce-4676-bed8-d841bdba26dc",
   "metadata": {},
   "outputs": [
    {
     "data": {
      "image/png": "[encoded data removed]",
      "text/plain": [
       "<Figure size 432x288 with 1 Axes>"
      ]
     },
     "metadata": {
      "needs_background": "light"
     },
     "output_type": "display_data"
    }
   ],
   "source": [
    "sweep_values = []\n",
    "for i in range(len(frequency_sweep_results.results)):\n",
    "    # Get the results from the ith experiment\n",
    "    res = frequency_sweep_results.get_memory(i)*scale_factor\n",
    "    # Get the results for `qubit` from this experiment\n",
    "    sweep_values.append(res[0])\n",
    "\n",
    "plt.scatter(frequencies_GHz, np.real(sweep_values), color='black') # plot real part of sweep values\n",
    "plt.xlim([min(frequencies_GHz), max(frequencies_GHz)])\n",
    "plt.xlabel(\"Frequency [GHz]\")\n",
    "plt.ylabel(\"Measured signal [a.u.]\")\n",
    "plt.show()"
   ]
  },
  {
   "cell_type": "code",
   "execution_count": 26,
   "id": "2d42ad19-f288-4b84-bdc8-e971d67daedb",
   "metadata": {
    "pycharm": {
     "name": "#%%\n"
    }
   },
   "outputs": [
    {
     "data": {
      "image/png": "[encoded data removed]",
      "text/plain": [
       "<Figure size 432x288 with 1 Axes>"
      ]
     },
     "metadata": {
      "needs_background": "light"
     },
     "output_type": "display_data"
    },
    {
     "data": {
      "text/plain": [
       "array([ 7.90540104e-01,  4.92499352e+00,  1.17431489e-02, -1.36517662e+01])"
      ]
     },
     "execution_count": 26,
     "metadata": {},
     "output_type": "execute_result"
    }
   ],
   "source": [
    "fit_params, y_fit = fit_function(frequencies_GHz,\n",
    "                                 np.real(sweep_values), \n",
    "                                 lambda x, A, q_freq, B, C: (A / np.pi) * (B / ((x - q_freq)**2 + B**2)) + C,\n",
    "                                 [8, 4.925, 1, -8] # initial parameters for curve_fit\n",
    "                                )\n",
    "\n",
    "plt.scatter(frequencies_GHz, np.real(sweep_values), color='black')\n",
    "plt.plot(frequencies_GHz, y_fit, color='red')\n",
    "plt.xlim([min(frequencies_GHz), max(frequencies_GHz)])\n",
    "\n",
    "plt.xlabel(\"Frequency [GHz]\")\n",
    "plt.ylabel(\"Measured Signal [a.u.]\")\n",
    "plt.show()\n",
    "fit_params"
   ]
  },
  {
   "cell_type": "code",
   "execution_count": 28,
   "id": "8f507115-8435-4e51-b92e-5ce922dfc6f4",
   "metadata": {
    "pycharm": {
     "name": "#%%\n"
    }
   },
   "outputs": [
    {
     "name": "stdout",
     "output_type": "stream",
     "text": [
      "We've updated our qubit frequency estimate from 4925046570.024763 Hz to 4924993522.1397295 Hz.\n"
     ]
    }
   ],
   "source": [
    "A, rough_qubit_frequency, B, C = fit_params\n",
    "rough_qubit_frequency = rough_qubit_frequency*GHz # make sure qubit freq is in Hz\n",
    "print(f\"We've updated our qubit frequency estimate from \"\n",
    "      f\"{backend_defaults.qubit_freq_est[qubit]} Hz to {rough_qubit_frequency} Hz.\")"
   ]
  },
  {
   "cell_type": "code",
   "execution_count": 11,
   "id": "99c3f857-78be-4c89-b328-ca4694c51b06",
   "metadata": {
    "pycharm": {
     "name": "#%%\n"
    }
   },
   "outputs": [],
   "source": [
    "f01 = 4924993522.1397295"
   ]
  },
  {
   "cell_type": "markdown",
   "id": "3451319d-c936-44ea-8b82-e079ba3deee7",
   "metadata": {
    "pycharm": {
     "name": "#%% md\n"
    },
    "tags": []
   },
   "source": [
    "## Rabi 01"
   ]
  },
  {
   "cell_type": "code",
   "execution_count": 4,
   "id": "28c6005e-afba-45c0-a58b-b3b5bbe4f92e",
   "metadata": {
    "pycharm": {
     "name": "#%%\n"
    }
   },
   "outputs": [],
   "source": [
    "# This experiment uses these values from the previous experiment:\n",
    "# `qubit`,and\n",
    "# `rough_qubit_frequency`.\n",
    "\n",
    "# Rabi experiment parameters\n",
    "num_rabi_points = 100\n",
    "\n",
    "# Drive amplitude values to iterate over: 50 amplitudes evenly spaced from 0 to 0.75\n",
    "drive_amp_min = 0\n",
    "drive_amp_max = 0.75\n",
    "drive_amps = np.linspace(drive_amp_min, drive_amp_max, num_rabi_points)\n",
    "# f01 = 4924993522.1397295\n",
    "f01 = backend_defaults.qubit_freq_est[qubit]"
   ]
  },
  {
   "cell_type": "code",
   "execution_count": 25,
   "id": "e02ae0fc-25f7-4a8d-8398-e805745712aa",
   "metadata": {
    "pycharm": {
     "name": "#%%\n"
    }
   },
   "outputs": [],
   "source": [
    "# Build the Rabi experiments:\n",
    "#    A drive pulse at the qubit frequency, followed by a measurement,\n",
    "#    where we vary the drive amplitude each time.\n",
    "drive_sigma_sec = 0.015 * us                           # This determines the actual width of the gaussian\n",
    "drive_duration_sec = drive_sigma_sec * 8\n",
    "\n",
    "\n",
    "drive_amp = Parameter('drive_amp')\n",
    "with pulse.build(backend=backend, default_alignment='sequential', name='Rabi Experiment') as rabi_sched:\n",
    "    drive_duration = 320\n",
    "    drive_sigma = 80\n",
    "    drive_chan = pulse.drive_channel(qubit)\n",
    "    pulse.set_frequency(f01, drive_chan)\n",
    "    pulse.play(pulse.Gaussian(duration=drive_duration,\n",
    "                              amp=drive_amp,\n",
    "                              sigma=drive_sigma,\n",
    "                              name='Rabi Pulse'), drive_chan)"
   ]
  },
  {
   "cell_type": "code",
   "execution_count": 26,
   "id": "ce8cbbfe-caea-4e3e-ad9f-b8911ac1cc39",
   "metadata": {
    "pycharm": {
     "name": "#%%\n"
    }
   },
   "outputs": [],
   "source": [
    "rabi_gate = Gate(\"rabi\", 1, [drive_amp])\n",
    "\n",
    "qc_rabi = QuantumCircuit(1, 1)\n",
    "\n",
    "qc_rabi.append(rabi_gate, [0])\n",
    "qc_rabi.measure(0, 0)\n",
    "qc_rabi.add_calibration(rabi_gate, (0,), rabi_sched, [drive_amp])\n",
    "\n",
    "exp_rabi_circs = [qc_rabi.assign_parameters({drive_amp: a}, inplace=False) for a in drive_amps]"
   ]
  },
  {
   "cell_type": "code",
   "execution_count": 27,
   "id": "35b6e6ef-2cdb-412b-8734-1f9481013e25",
   "metadata": {
    "pycharm": {
     "name": "#%%\n"
    },
    "tags": []
   },
   "outputs": [
    {
     "data": {
      "text/plain": [
       "'63614b2a0f4ec79e1e651375'"
      ]
     },
     "execution_count": 27,
     "metadata": {},
     "output_type": "execute_result"
    }
   ],
   "source": [
    "num_shots_per_point = 20000\n",
    "\n",
    "rabi01_job = backend.run(exp_rabi_circs, \n",
    "                  meas_level=1,\n",
    "                  meas_return='avg',\n",
    "                  shots=num_shots_per_point)\n",
    "\n",
    "rabi01_job.job_id()"
   ]
  },
  {
   "cell_type": "markdown",
   "id": "dc7a3ebf-78fc-4547-ad52-c1d809edf298",
   "metadata": {},
   "source": [
    "### Job id:\n",
    "01/11/22: '63614b2a0f4ec79e1e651375'"
   ]
  },
  {
   "cell_type": "code",
   "execution_count": 5,
   "id": "3a0ed024-84e1-493f-8f09-9f5cdc4ea493",
   "metadata": {},
   "outputs": [],
   "source": [
    "rabi01_job = backend.retrieve_job('63614b2a0f4ec79e1e651375')"
   ]
  },
  {
   "cell_type": "code",
   "execution_count": 6,
   "id": "2fe4f007-9571-474d-949f-b8d27facaaf9",
   "metadata": {},
   "outputs": [],
   "source": [
    "rabi_results = rabi01_job.result()"
   ]
  },
  {
   "cell_type": "code",
   "execution_count": 10,
   "id": "c54efbb4-3a3b-4375-b978-1afd6261a5ad",
   "metadata": {},
   "outputs": [
    {
     "data": {
      "image/png": "[encoded data removed]",
      "text/plain": [
       "<Figure size 432x288 with 1 Axes>"
      ]
     },
     "metadata": {
      "needs_background": "light"
     },
     "output_type": "display_data"
    }
   ],
   "source": [
    "def baseline_remove(values):\n",
    "    return np.array(values) - np.mean(values)\n",
    "\n",
    "rabi_values = []\n",
    "for i in range(num_rabi_points):\n",
    "    # Get the results for `qubit` from the ith experiment\n",
    "    rabi_values.append(rabi_results.get_memory(i)[0] * scale_factor)\n",
    "\n",
    "rabi_values = np.real(baseline_remove(rabi_values))\n",
    "\n",
    "plt.xlabel(\"Drive amp [a.u.]\")\n",
    "plt.ylabel(\"Measured signal [a.u.]\")\n",
    "plt.scatter(drive_amps, rabi_values, color='black') # plot real part of Rabi values\n",
    "plt.show()"
   ]
  },
  {
   "cell_type": "code",
   "execution_count": 11,
   "id": "5383a35a-0428-4ecf-84c9-9b9eda76d05d",
   "metadata": {},
   "outputs": [
    {
     "data": {
      "image/png": "[encoded data removed]",
      "text/plain": [
       "<Figure size 432x288 with 1 Axes>"
      ]
     },
     "metadata": {
      "needs_background": "light"
     },
     "output_type": "display_data"
    }
   ],
   "source": [
    "fit_params, y_fit = fit_function(drive_amps,\n",
    "                                 rabi_values, \n",
    "                                 lambda x, A, B, drive_period, phi: (A*np.cos(2*np.pi*x/drive_period - phi) + B),\n",
    "                                 [15, 0, 0.15, np.pi])\n",
    "\n",
    "plt.scatter(drive_amps, rabi_values, color='black')\n",
    "plt.plot(drive_amps, y_fit, color='red')\n",
    "\n",
    "drive_period = fit_params[2] # get period of rabi oscillation\n",
    "\n",
    "plt.axvline(drive_period/2, color='red', linestyle='--')\n",
    "plt.axvline(drive_period, color='red', linestyle='--')\n",
    "plt.annotate(\"\", xy=(drive_period, 0), xytext=(drive_period/2,0), arrowprops=dict(arrowstyle=\"<->\", color='red'))\n",
    "plt.annotate(\"$\\pi$\", xy=(drive_period/2-0.03, 0.1), color='red')\n",
    "\n",
    "plt.xlabel(\"Drive amp [a.u.]\", fontsize=15)\n",
    "plt.ylabel(\"Measured signal [a.u.]\", fontsize=15)\n",
    "plt.show()"
   ]
  },
  {
   "cell_type": "code",
   "execution_count": 12,
   "id": "01a098ee-2cdb-4cec-93c2-f2d7e0664525",
   "metadata": {},
   "outputs": [
    {
     "name": "stdout",
     "output_type": "stream",
     "text": [
      "Pi Amplitude = 0.08766575883814695\n"
     ]
    }
   ],
   "source": [
    "X01_amp = abs(drive_period / 2)\n",
    "print(f\"Pi Amplitude = {X01_amp}\")"
   ]
  },
  {
   "cell_type": "markdown",
   "id": "3ff02629-f884-4c96-ad72-cfb5e5ae5e7a",
   "metadata": {
    "tags": []
   },
   "source": [
    "# Overrotation experiment"
   ]
  },
  {
   "cell_type": "code",
   "execution_count": 67,
   "id": "10ca4fc8-b8d7-4d46-b49d-57ca214d0bdc",
   "metadata": {},
   "outputs": [],
   "source": [
    "def overrot_circs(x01_amp):\n",
    "    with pulse.build(backend=backend, default_alignment='sequential', name=r'$X_{\\pi}^{(01)}$') as X01_Gaussian_sched:\n",
    "        drive_chan = pulse.drive_channel(qubit)\n",
    "        pulse.set_frequency(f01, drive_chan)\n",
    "        pulse.play(pulse.Gaussian(duration=x_duration,\n",
    "                                amp=x01_amp,\n",
    "                                sigma=x_sigma,\n",
    "                                name=r'$X_{\\pi}^{(01)}$'), drive_chan)\n",
    "    \n",
    "    re_circs = []\n",
    "    for i in range(100):\n",
    "        qc_re = QuantumCircuit(1, 1)\n",
    "        X01_Gaussian = Gate(\"$X_\\pi^{01}$\", 1, [])\n",
    "        qc_re.add_calibration(X01_Gaussian, (0,), X01_Gaussian_sched, [])\n",
    "        qc_re.append(X01_Gaussian, [0])\n",
    "        for j in range(i):\n",
    "            qc_re.append(X01_Gaussian, [0])\n",
    "        qc_re.measure(qubit, 0)\n",
    "        re_circs.append(qc_re)\n",
    "    return re_circs"
   ]
  },
  {
   "cell_type": "code",
   "execution_count": 66,
   "id": "cec72fb0-16a9-4f0c-b13c-69f2f826cc91",
   "metadata": {},
   "outputs": [],
   "source": [
    "x01_amp = 0.08602764657895232"
   ]
  },
  {
   "cell_type": "code",
   "execution_count": 68,
   "id": "494d5f3a-700e-4953-924c-d2307e8ba354",
   "metadata": {
    "tags": []
   },
   "outputs": [
    {
     "data": {
      "text/plain": [
       "'636d1f2f754e4634fb4ce454'"
      ]
     },
     "execution_count": 68,
     "metadata": {},
     "output_type": "execute_result"
    }
   ],
   "source": [
    "re_job = backend.run(overrot_circs(x01_amp),\n",
    "                    meas_level=2,\n",
    "                    meas_return='single',\n",
    "                    shots=20000)\n",
    "re_job.job_id()"
   ]
  },
  {
   "cell_type": "markdown",
   "id": "a7387156-1298-4e0d-9a0c-3bf2a481f3f5",
   "metadata": {},
   "source": [
    "job id \n",
    "10/11/22:  '636c741d718d1151a7630cca' eps = 0.026853754547430636, amp = 0.08692275912573019\n",
    "           '636d0b48754e46c9824ce411' eps = 0.014222391860302382, amp = 0.08653102211831362\n",
    "           '636d18e10565beac0500762d' eps = 0.018382473069316667, amp = 0.08602764657895232\n",
    "           '636d1f2f754e4634fb4ce454' "
   ]
  },
  {
   "cell_type": "code",
   "execution_count": 103,
   "id": "ca44d864-09ee-4bc9-9e23-72419a363049",
   "metadata": {},
   "outputs": [],
   "source": [
    "re_job = backend.retrieve_job('636d0b48754e46c9824ce411')"
   ]
  },
  {
   "cell_type": "code",
   "execution_count": 104,
   "id": "3d928d08-303e-4745-8c77-c7d83d576af9",
   "metadata": {},
   "outputs": [
    {
     "data": {
      "text/plain": [
       "<matplotlib.collections.PathCollection at 0x7f3eb0834730>"
      ]
     },
     "execution_count": 104,
     "metadata": {},
     "output_type": "execute_result"
    },
    {
     "data": {
      "image/png": "[encoded data removed]",
      "text/plain": [
       "<Figure size 432x288 with 1 Axes>"
      ]
     },
     "metadata": {
      "needs_background": "light"
     },
     "output_type": "display_data"
    }
   ],
   "source": [
    "zero_population = [res['0']/20000 for res in re_job.result().get_counts()]\n",
    "plt.scatter(range(1, 101), zero_population, marker='o', linestyle='-', color= 'red')"
   ]
  },
  {
   "cell_type": "code",
   "execution_count": 105,
   "id": "66b24f80-88f4-4154-8b67-bc4bbc1abb5e",
   "metadata": {},
   "outputs": [
    {
     "name": "stdout",
     "output_type": "stream",
     "text": [
      "epsilon = -0.014222391839604161\n",
      "r-squared = 0.9980010037423825\n"
     ]
    },
    {
     "data": {
      "image/png": "[encoded data removed]",
      "text/plain": [
       "<Figure size 432x288 with 1 Axes>"
      ]
     },
     "metadata": {
      "needs_background": "light"
     },
     "output_type": "display_data"
    }
   ],
   "source": [
    "from sklearn.metrics import r2_score\n",
    "\n",
    "def population_theory(n, eps):\n",
    "    return 1/2*np.cos(n*(np.pi + eps)) + 1/2\n",
    "params = curve_fit(population_theory, range(1, 101), zero_population, [-0.01], maxfev = 50000)[0]\n",
    "eps = params[0]\n",
    "print('epsilon =', eps)\n",
    "m = 100\n",
    "x_val = np.linspace(1, m, 10000)\n",
    "plt.scatter(range(1, m + 1), zero_population[0:m], marker='o', linestyle='-', color= 'red')\n",
    "plt.plot(x_val, population_theory(x_val, *params), color= 'black')\n",
    "\n",
    "zero_population_theory = population_theory(range(1,101), *params)\n",
    "print('r-squared =', r2_score(zero_population, zero_population_theory))"
   ]
  },
  {
   "cell_type": "code",
   "execution_count": 98,
   "id": "08fcfa08-04cb-4cda-94df-f0268c361f90",
   "metadata": {},
   "outputs": [
    {
     "name": "stdout",
     "output_type": "stream",
     "text": [
      "epsilon = -0.03472593122744784\n",
      "corrected amp = 0.08698919092755843\n",
      "x01_amp is corrected by 1.1177155098897755%\n"
     ]
    }
   ],
   "source": [
    "x01_amp = 0.08602764657895232\n",
    "x01_amp_corrected = np.pi/(np.pi + eps)*x01_amp\n",
    "print('epsilon =', eps)\n",
    "print('corrected amp =', x01_amp_corrected)\n",
    "print('x01_amp is corrected by ' +  str(np.abs((x01_amp_corrected - x01_amp))/x01_amp*100) + '%')\n"
   ]
  }
 ],
 "metadata": {
  "kernelspec": {
   "display_name": "Python 3 (ipykernel)",
   "language": "python",
   "name": "python3"
  },
  "language_info": {
   "codemirror_mode": {
    "name": "ipython",
    "version": 3
   },
   "file_extension": ".py",
   "mimetype": "text/x-python",
   "name": "python",
   "nbconvert_exporter": "python",
   "pygments_lexer": "ipython3",
   "version": "3.8.13"
  },
  "widgets": {
   "application/vnd.jupyter.widget-state+json": {
    "state": {},
    "version_major": 2,
    "version_minor": 0
   }
  }
 },
 "nbformat": 4,
 "nbformat_minor": 5
}
