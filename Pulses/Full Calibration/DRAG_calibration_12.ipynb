{
 "cells": [
  {
   "cell_type": "code",
   "execution_count": 1,
   "id": "51e83e36-668b-457d-aeab-3be5f1e44f19",
   "metadata": {},
   "outputs": [
    {
     "name": "stderr",
     "output_type": "stream",
     "text": [
      "<frozen importlib._bootstrap>:219: RuntimeWarning: scipy._lib.messagestream.MessageStream size changed, may indicate binary incompatibility. Expected 56 from C header, got 64 from PyObject\n"
     ]
    }
   ],
   "source": [
    "# First we set up some basic dependencies\n",
    "\n",
    "import numpy as np\n",
    "import pandas as pd\n",
    "import matplotlib.pyplot as plt\n",
    "from scipy.optimize import curve_fit\n",
    "\n",
    "import qiskit as qis\n",
    "import qiskit.pulse as pulse\n",
    "from qiskit.circuit import Parameter, QuantumCircuit, Gate\n",
    "from qiskit import IBMQ, schedule\n",
    "from qiskit.providers.ibmq.managed import IBMQJobManager\n",
    "from qiskit.compiler.assembler import MeasLevel, MeasReturnType\n",
    "from qiskit.tools.monitor import job_monitor\n",
    "\n",
    "if not IBMQ.active_account():\n",
    "    IBMQ.load_account()\n",
    "    \n",
    "provider = IBMQ.get_provider(hub='ibm-q', group='open', project='main')\n",
    "backend = provider.get_backend('ibm_oslo')\n",
    "\n",
    "qubit = 0\n",
    "\n",
    "x_sigma = 80\n",
    "x_duration = 320\n",
    "f01 = 4924993522.1397295\n",
    "f12 = 4580649319.495695\n",
    "x01_amp = 0.08660095392689886\n",
    "x12_amp = 0.06870562817072146"
   ]
  },
  {
   "cell_type": "markdown",
   "id": "b8345102-c7b4-41fe-90f7-11f6b1475b66",
   "metadata": {
    "tags": []
   },
   "source": [
    "# Utility functions"
   ]
  },
  {
   "cell_type": "code",
   "execution_count": 2,
   "id": "caf0b61b-95d7-48fe-b221-a0ecffb2b485",
   "metadata": {},
   "outputs": [],
   "source": [
    "scale_factor = 1e-7\n",
    "def get_job_data(job, average):\n",
    "    \"\"\"Retrieve data from a job that has already run.\n",
    "    Args:\n",
    "        job (Job): The job whose data you want.\n",
    "        average (bool): If True, gets the data assuming data is an average.\n",
    "                        If False, gets the data assuming it is for single shots.\n",
    "    Return:\n",
    "        list: List containing job result data.\n",
    "    \"\"\"\n",
    "    job_results = job.result()  # timeout parameter set to 120 s\n",
    "    result_data = []\n",
    "    for i in range(len(job_results.results)):\n",
    "        if average:  # get avg data\n",
    "            result_data.append(np.real(job_results.get_memory(i)[qubit] * scale_factor))\n",
    "            print('here')\n",
    "        else:  # get single data\n",
    "            result_data.append(job_results.get_memory(i)[:, qubit] * scale_factor)\n",
    "            print(i, end='\\r')\n",
    "    return result_data\n",
    "\n",
    "\n",
    "def get_closest_multiple_of_16(num):\n",
    "    \"\"\"Compute the nearest multiple of 16. Needed because pulse enabled devices require\n",
    "    durations which are multiples of 16 samples.\n",
    "    \"\"\"\n",
    "    return int(num + 8) - (int(num + 8) % 16)\n",
    "\n",
    "def fit_function(x_values, y_values, function, init_params):\n",
    "    fitparams, conv = curve_fit(function, x_values, y_values, init_params)\n",
    "    y_fit = function(x_values, *fitparams)\n",
    "    \n",
    "    return fitparams, y_fit\n",
    "\n",
    "def sinusoid(x, A, B, drive_period, phi):\n",
    "    return A * np.cos(2 * np.pi * x / drive_period - phi) + B\n",
    "\n",
    "def lorentzian(x, A, q_freq, B, C):\n",
    "    return (A / np.pi) * (B / ((x - q_freq)**2 + B**2)) + C"
   ]
  },
  {
   "cell_type": "markdown",
   "id": "2539bbf3-2276-4da9-9193-55adb1c08418",
   "metadata": {
    "tags": []
   },
   "source": [
    "## Mitigation"
   ]
  },
  {
   "cell_type": "code",
   "execution_count": 3,
   "id": "3d9e0ec1-6e3b-42ed-bcc8-9c733d6226ca",
   "metadata": {},
   "outputs": [
    {
     "name": "stdout",
     "output_type": "stream",
     "text": [
      "Collecting cvxopt\n",
      "  Using cached cvxopt-1.3.0-cp38-cp38-manylinux_2_17_x86_64.manylinux2014_x86_64.whl (12.7 MB)\n",
      "Installing collected packages: cvxopt\n",
      "Successfully installed cvxopt-1.3.0\n"
     ]
    }
   ],
   "source": [
    "!pip install cvxopt\n",
    "\n",
    "from cvxopt import matrix, solvers\n",
    "def mitigated_population(p, C):\n",
    "    P = matrix(np.transpose(C).dot(C))\n",
    "    q = matrix(-np.transpose(p).dot(C))\n",
    "    G = matrix([[-1.0,0.0,0.0],[0.0,-1.0,0.0],[0.0,0.0,-1.0]])\n",
    "    h = matrix([0.0, 0.0, 0.0])\n",
    "    A = matrix([1.0, 1.0, 1.0], (1,3))\n",
    "    b = matrix(1.0)\n",
    "    solvers.options['show_progress'] = False\n",
    "    sol=solvers.qp(P, q, G, h, A, b)\n",
    "    return sol['x']\n",
    "\n",
    "def get_population(job_id, discriminator):\n",
    "    drag_job = backend.retrieve_job(job_id)\n",
    "    print('getting population from', job_id)\n",
    "    drag_values = count(drag_job, discriminator)\n",
    "    return [[val['0']/20000, val['1']/20000, val['2']/20000] for val in drag_values]\n",
    "\n",
    "def get_mitigated_population(job_id, discriminator, confusion_matrix):\n",
    "    population = get_population(job_id, discriminator)\n",
    "    mitigated = [mitigated_population(pop, confusion_matrix) for pop in population]\n",
    "    return mitigated"
   ]
  },
  {
   "cell_type": "markdown",
   "id": "e5947d61-054c-4eb8-8906-46fe82d6b3bf",
   "metadata": {
    "tags": []
   },
   "source": [
    "# Gaussian Discriminator"
   ]
  },
  {
   "cell_type": "code",
   "execution_count": null,
   "id": "e68cd0d7-5831-48df-a33c-212458ab6cc7",
   "metadata": {
    "tags": []
   },
   "outputs": [],
   "source": [
    "with qisp.build(backend=backend, default_alignment='sequential', name=r'$X_{\\pi}^{(01)}$') as X01_Gaussian_sched:\n",
    "    drive_chan = qisp.drive_channel(qubit)\n",
    "    qisp.set_frequency(f01, drive_chan)\n",
    "    qisp.play(qisp.Gaussian(duration=x_duration,\n",
    "                            amp=x01_amp,\n",
    "                            sigma=x_sigma,\n",
    "                            name=r'$X_{\\pi}^{(01)}$'), drive_chan)\n",
    "\n",
    "with qisp.build(backend=backend, default_alignment='sequential', name=r'$X_{\\pi}^{(12)}$') as X12_Gaussian_sched:\n",
    "    drive_chan = qisp.drive_channel(qubit)\n",
    "    qisp.set_frequency(f12, drive_chan)\n",
    "    qisp.play(qisp.Gaussian(duration=x_duration,\n",
    "                            amp=x12_amp,\n",
    "                            sigma=x_sigma,\n",
    "                            name=r'$X_{\\pi}^{(12)}$'), drive_chan)"
   ]
  },
  {
   "cell_type": "code",
   "execution_count": null,
   "id": "3dfa94c4-26de-4667-959a-d8c6157429bb",
   "metadata": {},
   "outputs": [],
   "source": [
    "# Create the three circuits\n",
    "X01_Gaussian = Gate(\"$X_{\\pi}^{01}$\", 1, [])\n",
    "X12_Gaussian = Gate(\"$X_{\\pi}^{12}$\", 1, [])\n",
    "# 0 state\n",
    "qc_g = QuantumCircuit(1, 1)\n",
    "qc_g.measure(0, 0)\n",
    "\n",
    "# 1 state\n",
    "qc_e = QuantumCircuit(1, 1)\n",
    "\n",
    "qc_e.append(X01_Gaussian, [0])\n",
    "qc_e.add_calibration(X01_Gaussian, (0,), X01_Gaussian_sched, [])\n",
    "qc_e.measure(0, 0)\n",
    "\n",
    "# 2 state \n",
    "qc_f = QuantumCircuit(1, 1)\n",
    "qc_f.append(X01_Gaussian, [0])\n",
    "qc_f.append(X12_Gaussian, [0])\n",
    "qc_f.measure(0, 0)\n",
    "qc_f.add_calibration(X01_Gaussian, (0,), X01_Gaussian_sched, [])\n",
    "qc_f.add_calibration(X12_Gaussian, (0,), X12_Gaussian_sched, [])"
   ]
  },
  {
   "cell_type": "code",
   "execution_count": null,
   "id": "c58ce119-dc28-4c1a-bed4-b8ee14ebd98f",
   "metadata": {},
   "outputs": [],
   "source": [
    "# Assemble the schedules into a program\\\n",
    "NUM_SHOTS = 20000\n",
    "IQ_012_job = backend.run([qc_g, qc_e, qc_f], \n",
    "                          meas_level=1, \n",
    "                          meas_return='single', \n",
    "                          shots=NUM_SHOTS)\n",
    "IQ_012_job.job_id()"
   ]
  },
  {
   "cell_type": "code",
   "execution_count": 4,
   "id": "35fc0ab1-1458-4138-9e30-9cf3d207b600",
   "metadata": {},
   "outputs": [],
   "source": [
    "IQ_012_job = backend.retrieve_job('6364c464718d11b10862f44c')"
   ]
  },
  {
   "cell_type": "code",
   "execution_count": 5,
   "id": "342f3c15-e10f-4819-9638-d52d42536cce",
   "metadata": {},
   "outputs": [
    {
     "name": "stdout",
     "output_type": "stream",
     "text": [
      "(60000, 2)\n",
      "60000\n",
      "retrieving data from 6364c464718d11b10862f44c\n",
      "data is retrieved from 6364c464718d11b10862f44c\n",
      "predicting 2\r"
     ]
    },
    {
     "data": {
      "text/plain": [
       "[[0.9778, 0.0089, 0.0133],\n",
       " [0.0108, 0.97845, 0.01075],\n",
       " [0.0079, 0.03235, 0.95975]]"
      ]
     },
     "execution_count": 5,
     "metadata": {},
     "output_type": "execute_result"
    },
    {
     "data": {
      "image/png": "[encoded data removed]",
      "text/plain": [
       "<Figure size 432x288 with 1 Axes>"
      ]
     },
     "metadata": {
      "needs_background": "light"
     },
     "output_type": "display_data"
    }
   ],
   "source": [
    "# Get job data (single); split for zero, one and two\n",
    "IQ_012_data = get_job_data(IQ_012_job, average=False)\n",
    "zero_data = IQ_012_data[0]\n",
    "one_data = IQ_012_data[1]\n",
    "two_data = IQ_012_data[2]\n",
    "\n",
    "from sklearn.discriminant_analysis import LinearDiscriminantAnalysis\n",
    "from sklearn.model_selection import train_test_split\n",
    "\n",
    "def reshape_complex_vec(vec):\n",
    "    \"\"\"Take in complex vector vec and return 2d array w/ real, imag entries. This is needed for the learning.\n",
    "    Args:\n",
    "        vec (list): complex vector of data\n",
    "    Returns:\n",
    "        list: vector w/ entries given by (real(vec], imag(vec))\n",
    "    \"\"\"\n",
    "    length = len(vec)\n",
    "    vec_reshaped = np.zeros((length, 2))\n",
    "    for i in range(len(vec)):\n",
    "        vec_reshaped[i] = [np.real(vec[i]), np.imag(vec[i])]\n",
    "    return vec_reshaped\n",
    "\n",
    "\n",
    "# Create IQ vector (split real, imag parts)\n",
    "zero_data_reshaped = reshape_complex_vec(zero_data)\n",
    "one_data_reshaped = reshape_complex_vec(one_data)\n",
    "two_data_reshaped = reshape_complex_vec(two_data)\n",
    "\n",
    "IQ_012_data = np.concatenate((zero_data_reshaped, one_data_reshaped, two_data_reshaped))\n",
    "print(IQ_012_data.shape)  # verify IQ data shape\n",
    "\n",
    "NUM_SHOTS = 20000\n",
    "\n",
    "# construct vector w/ 0's, 1's and 2's (for testing)\n",
    "state_012 = np.zeros(NUM_SHOTS)  # shots gives number of experiments\n",
    "state_012 = np.concatenate((state_012, np.ones(NUM_SHOTS)))\n",
    "state_012 = np.concatenate((state_012, 2 * np.ones(NUM_SHOTS)))\n",
    "print(len(state_012))\n",
    "\n",
    "# Shuffle and split data into training and test sets\n",
    "IQ_012_train, IQ_012_test, state_012_train, state_012_test = train_test_split(IQ_012_data, state_012, test_size=0.5)\n",
    "\n",
    "# Set up the LDA\n",
    "LDA_012 = LinearDiscriminantAnalysis()\n",
    "LDA_012.fit(IQ_012_train, state_012_train)\n",
    "\n",
    "\n",
    "def count(job, discriminator):\n",
    "    print('retrieving data from', job.job_id())\n",
    "    data = get_job_data(job, average=False)\n",
    "    print('data is retrieved from', job.job_id())\n",
    "    sched_data = []\n",
    "    for i in range(len(data)):\n",
    "        sched_data.append(reshape_complex_vec(data[i]))\n",
    "    discrim_data = []\n",
    "    for j in range(len(sched_data)):\n",
    "        discrim_data.append(discriminator.predict(sched_data[j]))\n",
    "        print('predicting', j, end='\\r')\n",
    "    final_result = []\n",
    "    for k in range(len(discrim_data)):\n",
    "        result = {'0': 0, '1': 0, '2': 0}\n",
    "        for l in range(len(discrim_data[k])):\n",
    "            if discrim_data[k][l] == 0.0:\n",
    "                result['0'] += 1\n",
    "            elif discrim_data[k][l] == 1.0:\n",
    "                result['1'] += 1\n",
    "            elif discrim_data[k][l] == 2.0:\n",
    "                result['2'] += 1\n",
    "            else:\n",
    "                print('Unexpected behavior')\n",
    "        final_result.append(result)\n",
    "    return final_result\n",
    "\n",
    "def IQ_012_plot(x_min, x_max, y_min, y_max):\n",
    "    \"\"\"Helper function for plotting IQ plane for 0, 1, 2. Limits of plot given\n",
    "    as arguments.\"\"\"\n",
    "    # zero data plotted in blue\n",
    "    alpha = 0.2\n",
    "    size = 0.05\n",
    "    plt.scatter(np.real(zero_data), np.imag(zero_data),\n",
    "                s=size, cmap='viridis', c='blue', alpha=alpha, label=r'$|0\\rangle$')\n",
    "    # one data plotted in red\n",
    "    plt.scatter(np.real(one_data), np.imag(one_data),\n",
    "                s=size, cmap='viridis', c='red', alpha=alpha, label=r'$|1\\rangle$')\n",
    "    # two data plotted in green\n",
    "    plt.scatter(np.real(two_data), np.imag(two_data),\n",
    "                s=size, cmap='viridis', c='green', alpha=alpha, label=r'$|2\\rangle$')\n",
    "\n",
    "    # Plot a large dot for the average result of the 0, 1 and 2 states.\n",
    "    mean_zero = np.mean(zero_data) # takes mean of both real and imaginary parts\n",
    "    mean_one = np.mean(one_data)\n",
    "    mean_two = np.mean(two_data)\n",
    "    mean_alpha = 1\n",
    "    mean_size = 100\n",
    "    plt.scatter(np.real(mean_zero), np.imag(mean_zero),\n",
    "                s=mean_size, cmap='viridis', c='black',alpha=mean_alpha)\n",
    "    plt.scatter(np.real(mean_one), np.imag(mean_one),\n",
    "                s=mean_size, cmap='viridis', c='black',alpha=mean_alpha)\n",
    "    plt.scatter(np.real(mean_two), np.imag(mean_two),\n",
    "                s=mean_size, cmap='viridis', c='black',alpha=mean_alpha)\n",
    "\n",
    "    plt.xlim(x_min, x_max)\n",
    "    plt.ylim(y_min,y_max)\n",
    "    plt.legend()\n",
    "    plt.ylabel('I [a.u.]', fontsize=15)\n",
    "    plt.xlabel('Q [a.u.]', fontsize=15)\n",
    "    plt.title(\"0-1-2 discrimination\", fontsize=15)\n",
    "\n",
    "def separatrixPlot(lda, x_min, x_max, y_min, y_max, shots):\n",
    "    nx, ny = shots, shots\n",
    "\n",
    "    xx, yy = np.meshgrid(np.linspace(x_min, x_max, nx),\n",
    "                         np.linspace(y_min, y_max, ny))\n",
    "    Z = lda.predict_proba(np.c_[xx.ravel(), yy.ravel()])\n",
    "    Z = Z[:, 1].reshape(xx.shape)\n",
    "\n",
    "    plt.contour(xx, yy, Z, [0.5], linewidths=2., colors='black')\n",
    "x_min = -30\n",
    "x_max = 40\n",
    "y_min = -40\n",
    "y_max = 30\n",
    "IQ_012_plot(x_min, x_max, y_min, y_max)\n",
    "\n",
    "discr_data = count(IQ_012_job, LDA_012)\n",
    "#confusion matrix\n",
    "conf_mat = [[discr_data[i]['0'] / 20000, discr_data[i]['1'] / 20000, discr_data[i]['2'] / 20000] for i in\n",
    "                   range(np.shape(discr_data)[0])] \n",
    "conf_mat"
   ]
  },
  {
   "cell_type": "markdown",
   "id": "73602cf9-704d-49b1-aa3e-4665b9f47633",
   "metadata": {
    "tags": []
   },
   "source": [
    "# DRAG 12 calibration"
   ]
  },
  {
   "cell_type": "markdown",
   "id": "b0c5e54a-5139-4266-b5f8-57ee9072b033",
   "metadata": {
    "tags": []
   },
   "source": [
    "## $\\beta^{(12)}$ sweeping - XX experiment"
   ]
  },
  {
   "cell_type": "code",
   "execution_count": 9,
   "id": "b13d77de-9965-416f-b0d0-57e100ef39ce",
   "metadata": {},
   "outputs": [],
   "source": [
    "beta01 = -0.17001700170015965"
   ]
  },
  {
   "cell_type": "code",
   "execution_count": 10,
   "id": "f8300024-37d6-413b-ae5b-91be26509b83",
   "metadata": {},
   "outputs": [],
   "source": [
    "with qisp.build(backend=backend, default_alignment='sequential') as X01_drag_sched:\n",
    "    qisp.set_frequency(f01, qisp.drive_channel(0))\n",
    "    qisp.play(qisp.Drag(duration=x_duration,\n",
    "                        amp=x01_amp,\n",
    "                        sigma=x_sigma,\n",
    "                        beta=beta01), qisp.drive_channel(0))"
   ]
  },
  {
   "cell_type": "code",
   "execution_count": 41,
   "id": "bc040f7b-e431-4cf7-ac56-c2f3de222635",
   "metadata": {
    "tags": []
   },
   "outputs": [],
   "source": [
    "drive_betas = np.linspace(-25, 75, 100)\n",
    "def exp_drag_circs(n, drive_betas):\n",
    "    drive_beta = Parameter('drive_beta')\n",
    "    with qisp.build(backend=backend, default_alignment='sequential') as XX_sched:\n",
    "        qisp.set_frequency(f12, qisp.drive_channel(0))\n",
    "        qisp.play(qisp.Drag(duration=x_duration,\n",
    "                            amp=x12_amp,\n",
    "                            sigma=x_sigma,\n",
    "                            beta=drive_beta), qisp.drive_channel(0))\n",
    "        qisp.shift_phase(-np.pi, qisp.drive_channel(0))\n",
    "        qisp.play(qisp.Drag(duration=x_duration,\n",
    "                            amp=x12_amp,\n",
    "                            sigma=x_sigma,\n",
    "                            beta=drive_beta), qisp.drive_channel(0))\n",
    "        qisp.shift_phase(-np.pi, qisp.drive_channel(0))\n",
    "\n",
    "    XX = Gate(\"$X_\\pi X_{-\\pi}$\", 1, [drive_beta])\n",
    "    X01_drag = Gate(\"$X^{01}_\\pi$\", 1, [drive_beta])\n",
    "    qc_DRAG = QuantumCircuit(1, 1)\n",
    "    qc_DRAG.append(X01_drag, [0])\n",
    "    i = 0\n",
    "    while i < n:\n",
    "        qc_DRAG.append(XX, [0])\n",
    "        i += 1\n",
    "    qc_DRAG.measure(0, 0)\n",
    "    qc_DRAG.add_calibration(X01_drag, (0,), X01_drag_sched, [])\n",
    "    qc_DRAG.add_calibration(XX, (0,), XX_sched, [drive_beta])\n",
    "    return [qc_DRAG.assign_parameters({drive_beta: b}, inplace=False) for b in drive_betas]"
   ]
  },
  {
   "cell_type": "code",
   "execution_count": 27,
   "id": "70e05f42-af14-46f4-9feb-ed6f9a67fad0",
   "metadata": {},
   "outputs": [],
   "source": [
    "circs = exp_drag_circs(7, drive_betas)"
   ]
  },
  {
   "cell_type": "code",
   "execution_count": 28,
   "id": "b3dbfe3f-0443-4fed-85e0-fca7b055893e",
   "metadata": {},
   "outputs": [
    {
     "data": {
      "image/png": "[encoded data removed]",
      "text/plain": [
       "<Figure size 1096.73x144.48 with 1 Axes>"
      ]
     },
     "execution_count": 28,
     "metadata": {},
     "output_type": "execute_result"
    }
   ],
   "source": [
    "circs[0].draw(output='mpl')"
   ]
  },
  {
   "cell_type": "code",
   "execution_count": 29,
   "id": "4a302e6f-e4a9-41d3-b264-97711cb7ef4b",
   "metadata": {},
   "outputs": [
    {
     "data": {
      "text/plain": [
       "['636b32aae0f730a6519be47d',\n",
       " '636b32acc18278061c76cc2a',\n",
       " '636b32ad754e4696e54cdd42',\n",
       " '636b32afe0f73033779be47e',\n",
       " '636b32b0aa69d07cbf0969ce']"
      ]
     },
     "execution_count": 29,
     "metadata": {},
     "output_type": "execute_result"
    }
   ],
   "source": [
    "drag12_sweeping_job = []\n",
    "drag12_sweeping_job_id = []\n",
    "for i in range(5):\n",
    "    drag_job = backend.run(exp_drag_circs(2*i + 3, drive_betas),\n",
    "                           meas_level=1,\n",
    "                           meas_return='single',\n",
    "                           shots=20000)\n",
    "    drag12_sweeping_job.append(drag_job)\n",
    "    drag12_sweeping_job_id.append(drag_job.job_id())\n",
    "drag12_sweeping_job_id"
   ]
  },
  {
   "cell_type": "markdown",
   "id": "f80b9d4a-aff9-41d2-8f9b-23ce95aca271",
   "metadata": {},
   "source": [
    "Job id\n",
    "02/11/22: ['6364fb38e0f73025fd9bd202',\n",
    " '6364fb3b0565bec719005d3a',\n",
    " '6364fb3dad24141a0510ebe5',\n",
    " '6364fb40c18278103976b94c',\n",
    " '6364fb43e0f73081209bd203']\n",
    "09/11/22: \n",
    " ['636b1d8fad2414f0de10fe2d',\n",
    " '636b1d90aa69d01a3709696e',\n",
    " '636b1d92ad24142a2510fe2e',\n",
    " '636b1d94d0f9b2619f652530',\n",
    " '636b1d95c18278c43f76cbca']\n",
    " \n",
    " ['636b32aae0f730a6519be47d',\n",
    " '636b32acc18278061c76cc2a',\n",
    " '636b32ad754e4696e54cdd42',\n",
    " '636b32afe0f73033779be47e',\n",
    " '636b32b0aa69d07cbf0969ce']"
   ]
  },
  {
   "cell_type": "code",
   "execution_count": 39,
   "id": "e7240961-a2e6-4166-92fe-35e970423947",
   "metadata": {},
   "outputs": [
    {
     "name": "stdout",
     "output_type": "stream",
     "text": [
      "getting population from 636b32aae0f730a6519be47d\n",
      "retrieving data from 636b32aae0f730a6519be47d\n",
      "data is retrieved from 636b32aae0f730a6519be47d\n",
      "getting population from 636b32acc18278061c76cc2a\n",
      "retrieving data from 636b32acc18278061c76cc2a\n",
      "data is retrieved from 636b32acc18278061c76cc2a\n",
      "getting population from 636b32ad754e4696e54cdd42\n",
      "retrieving data from 636b32ad754e4696e54cdd42\n",
      "data is retrieved from 636b32ad754e4696e54cdd42\n",
      "getting population from 636b32afe0f73033779be47e\n",
      "retrieving data from 636b32afe0f73033779be47e\n",
      "data is retrieved from 636b32afe0f73033779be47e\n",
      "getting population from 636b32b0aa69d07cbf0969ce\n",
      "retrieving data from 636b32b0aa69d07cbf0969ce\n",
      "data is retrieved from 636b32b0aa69d07cbf0969ce\n",
      "predicting 99\r"
     ]
    }
   ],
   "source": [
    "job_ids =   ['636b32aae0f730a6519be47d',\n",
    " '636b32acc18278061c76cc2a',\n",
    " '636b32ad754e4696e54cdd42',\n",
    " '636b32afe0f73033779be47e',\n",
    " '636b32b0aa69d07cbf0969ce']\n",
    "population = [get_mitigated_population(id, LDA_012, conf_mat) for id in job_ids]"
   ]
  },
  {
   "cell_type": "code",
   "execution_count": 42,
   "id": "9d537aef-cc4a-4c2e-a79f-044bf7dfedf1",
   "metadata": {},
   "outputs": [
    {
     "data": {
      "text/plain": [
       "Text(0, 0.5, '$P_{|1\\\\rangle}$')"
      ]
     },
     "execution_count": 42,
     "metadata": {},
     "output_type": "execute_result"
    },
    {
     "data": {
      "image/png": "[encoded data removed]",
      "text/plain": [
       "<Figure size 432x288 with 1 Axes>"
      ]
     },
     "metadata": {
      "needs_background": "light"
     },
     "output_type": "display_data"
    }
   ],
   "source": [
    "colors = ['red', 'blue', 'green', 'pink', 'orange']\n",
    "plt.rcParams['text.usetex'] = True\n",
    "for i in range(5):\n",
    "    plt.scatter(drive_betas, [pop[1] for pop in population[i]], s = 10, marker='o', linestyle='-', color= colors[i])\n",
    "plt.legend([f'$n = {2*i + 3}$' for i in range(5)], fontsize = 10)\n",
    "plt.xlabel('$\\\\beta$', fontsize = 20)\n",
    "plt.ylabel('$P_{|1\\\\rangle}$', fontsize = 20)"
   ]
  },
  {
   "cell_type": "markdown",
   "id": "96304be9-396a-4e7c-995d-e71c5cb84fcd",
   "metadata": {},
   "source": [
    "## $\\beta^{(12)}$ sweeping - Single gate experiment"
   ]
  },
  {
   "cell_type": "code",
   "execution_count": 35,
   "id": "d8f96da4-8c35-42da-a1aa-43901ca852af",
   "metadata": {},
   "outputs": [],
   "source": [
    "beta01 = -0.17001700170015965"
   ]
  },
  {
   "cell_type": "code",
   "execution_count": 36,
   "id": "3e318ec4-4281-4783-9781-89c3ab660ee3",
   "metadata": {},
   "outputs": [],
   "source": [
    "with qisp.build(backend=backend, default_alignment='sequential') as X01_drag_sched:\n",
    "    qisp.set_frequency(f01, qisp.drive_channel(0))\n",
    "    qisp.play(qisp.Drag(duration=x_duration,\n",
    "                        amp=x01_amp,\n",
    "                        sigma=x_sigma,\n",
    "                        beta=beta01), qisp.drive_channel(0))"
   ]
  },
  {
   "cell_type": "code",
   "execution_count": 37,
   "id": "33bfde1d-93ab-4d02-8163-6f166e1e616b",
   "metadata": {},
   "outputs": [],
   "source": [
    "drive_betas = np.linspace(100, 199, 100)\n",
    "drive_beta = Parameter('drive_beta')\n",
    "with qisp.build(backend=backend, default_alignment='sequential') as X12_drag_sched:\n",
    "    qisp.set_frequency(f12, qisp.drive_channel(0))\n",
    "    qisp.play(qisp.Drag(duration=x_duration,\n",
    "                        amp=x12_amp,\n",
    "                        sigma=x_sigma,\n",
    "                        beta=drive_beta), qisp.drive_channel(0))\n",
    "qc_DRAG = QuantumCircuit(1, 1)\n",
    "X01_drag = Gate(\"$X^{01}_\\pi$\", 1, [])\n",
    "X12_drag = Gate(\"$X^{12}_\\pi$\", 1, [drive_beta])\n",
    "qc_DRAG.append(X01_drag, [0])\n",
    "qc_DRAG.append(X12_drag, [0])\n",
    "qc_DRAG.measure(0, 0)\n",
    "qc_DRAG.add_calibration(X01_drag, (0,), X01_drag_sched)\n",
    "qc_DRAG.add_calibration(X12_drag, (0,), X12_drag_sched, [drive_beta])\n",
    "\n",
    "X12_drag_circs = [qc_DRAG.assign_parameters({drive_beta: b}, inplace=False) for b in drive_betas]"
   ]
  },
  {
   "cell_type": "code",
   "execution_count": 38,
   "id": "f23de099-d466-42a1-8d8b-9ca24e5a5c41",
   "metadata": {},
   "outputs": [
    {
     "data": {
      "text/plain": [
       "'636b430ae0f73044979be4c1'"
      ]
     },
     "execution_count": 38,
     "metadata": {},
     "output_type": "execute_result"
    }
   ],
   "source": [
    "X12_drag_job = backend.run(X12_drag_circs,\n",
    "                              meas_level=1,\n",
    "                              meas_return='single',\n",
    "                              shots=20000)\n",
    "X12_drag_job.job_id()"
   ]
  },
  {
   "cell_type": "code",
   "execution_count": null,
   "id": "eb19812a-0686-4d59-ad07-2d1c00735565",
   "metadata": {},
   "outputs": [],
   "source": [
    "X12_drag_job = backend.retrieve_job('')"
   ]
  },
  {
   "cell_type": "markdown",
   "id": "d61025c1-1ecb-4560-aaa5-1d096815391d",
   "metadata": {},
   "source": [
    "job id\n",
    "09/11/22: '636b2fafd0f9b279e7652583' (0,99)\n",
    "            '636b430ae0f73044979be4c1' (100,199)\n"
   ]
  },
  {
   "cell_type": "code",
   "execution_count": 30,
   "id": "68f720e3-dd6e-40f7-b766-39d33614d22b",
   "metadata": {},
   "outputs": [
    {
     "name": "stdout",
     "output_type": "stream",
     "text": [
      "getting population from 636b2fafd0f9b279e7652583\n",
      "retrieving data from 636b2fafd0f9b279e7652583\n",
      "data is retrieved from 636b2fafd0f9b279e7652583\n",
      "predicting 99\r"
     ]
    }
   ],
   "source": [
    "population = get_mitigated_population('636b2fafd0f9b279e7652583', LDA_012, conf_mat)"
   ]
  },
  {
   "cell_type": "code",
   "execution_count": 34,
   "id": "19d26310-b678-43bb-939d-29e75817dfe8",
   "metadata": {},
   "outputs": [
    {
     "data": {
      "text/plain": [
       "(0.0, 1.0)"
      ]
     },
     "execution_count": 34,
     "metadata": {},
     "output_type": "execute_result"
    },
    {
     "data": {
      "image/png": "[encoded data removed]",
      "text/plain": [
       "<Figure size 432x288 with 1 Axes>"
      ]
     },
     "metadata": {
      "needs_background": "light"
     },
     "output_type": "display_data"
    }
   ],
   "source": [
    "plt.scatter(drive_betas, [pop[1] for pop in population], marker='o', linestyle='-', color= 'red')\n",
    "plt.ylim(0,1)"
   ]
  },
  {
   "cell_type": "code",
   "execution_count": null,
   "id": "6423c005-c7b4-4e10-9556-2b63d3b78270",
   "metadata": {
    "tags": []
   },
   "outputs": [],
   "source": [
    "params = curve_fit(lorentzian, drive_betas, [pop[1] for pop in population], [1,1,0,0], maxfev = 50000)[0]\n",
    "params"
   ]
  },
  {
   "cell_type": "markdown",
   "id": "0be3d58f-e9ba-46d8-9659-83992f7426d6",
   "metadata": {},
   "source": [
    "## Single DRAG 12 gate schedule"
   ]
  },
  {
   "cell_type": "code",
   "execution_count": null,
   "id": "3e52dbff-a688-4640-ba1e-71a14b81608a",
   "metadata": {},
   "outputs": [],
   "source": [
    "beta12 = 0"
   ]
  },
  {
   "cell_type": "code",
   "execution_count": 12,
   "id": "2f92c61a-98b0-495e-9ade-081f16fd45f6",
   "metadata": {},
   "outputs": [
    {
     "name": "stdout",
     "output_type": "stream",
     "text": [
      "Traceback \u001b[1;36m(most recent call last)\u001b[0m:\n",
      "\u001b[1;36m  Input \u001b[1;32mIn [12]\u001b[1;36m in \u001b[1;35m<cell line: 1>\u001b[1;36m\u001b[0m\n",
      "\u001b[1;33m    beta=beta12), qisp.drive_channel(0))\u001b[0m\n",
      "\u001b[1;31mNameError\u001b[0m\u001b[1;31m:\u001b[0m name 'beta12' is not defined\n",
      "\n",
      "Use %tb to get the full traceback.\n"
     ]
    },
    {
     "data": {
      "text/html": [
       "\n",
       "<style>\n",
       ".button {\n",
       "  border: none;\n",
       "  color: white;\n",
       "  padding: 4px 8px;\n",
       "  text-align: center;\n",
       "  text-decoration: none;\n",
       "  display: inline-block;\n",
       "  font-size: 12px;\n",
       "  margin: 4px 2px;\n",
       "  transition-duration: 0.2s;\n",
       "  cursor: pointer;\n",
       "}\n",
       ".iqx-button {\n",
       "  background-color: #0f62fe; \n",
       "  color: white; \n",
       "}\n",
       ".iqx-button:hover {\n",
       "  background-color: #0043ce;\n",
       "  color: white;\n",
       "}\n",
       "</style>\n",
       "<a href=\"https://stackoverflow.com/search?q=NameError: name 'beta12' is not defined\" target='_blank'><button class='button iqx-button'>Search for solution online</button></a>\n"
      ],
      "text/plain": [
       "<IPython.core.display.HTML object>"
      ]
     },
     "metadata": {},
     "output_type": "display_data"
    }
   ],
   "source": [
    "with qisp.build(backend=backend, default_alignment='sequential') as X12_drag_sched:\n",
    "    qisp.set_frequency(f12, qisp.drive_channel(0))\n",
    "    qisp.play(qisp.Drag(duration=x_duration,\n",
    "                        amp=x12_amp,\n",
    "                        sigma=x_sigma,\n",
    "                        beta=beta12), qisp.drive_channel(0))"
   ]
  },
  {
   "cell_type": "markdown",
   "id": "35f41831-74f9-4a19-8b0f-93930b0c1e43",
   "metadata": {},
   "source": [
    "## Overrotation correction"
   ]
  },
  {
   "cell_type": "code",
   "execution_count": 78,
   "id": "99b33074-4abb-4891-a2cf-d1042bee9a43",
   "metadata": {},
   "outputs": [],
   "source": [
    "with pulse.build(backend=backend, default_alignment='sequential', name=r'$X_{\\pi}^{(01)}$') as X01_Gaussian_sched:\n",
    "    drive_chan = pulse.drive_channel(qubit)\n",
    "    pulse.set_frequency(f01, drive_chan)\n",
    "    pulse.play(pulse.Gaussian(duration=x_duration,\n",
    "                            amp=x01_amp,\n",
    "                            sigma=x_sigma,\n",
    "                            name=r'$X_{\\pi}^{(01)}$'), drive_chan)\n",
    "\n",
    "\n",
    "def overrot_circs(x12_amp):\n",
    "    with pulse.build(backend=backend, default_alignment='sequential', name=r'$X_{\\pi}^{(12)}$') as X12_Gaussian_sched:\n",
    "        drive_chan = pulse.drive_channel(qubit)\n",
    "        pulse.set_frequency(f12, drive_chan)\n",
    "        pulse.play(pulse.Gaussian(duration=x_duration,\n",
    "                                amp=x12_amp,\n",
    "                                sigma=x_sigma,\n",
    "                                name=r'$X_{\\pi}^{(12)}$'), drive_chan)\n",
    "    \n",
    "    re_circs = []\n",
    "    for i in range(100):\n",
    "        qc_re = QuantumCircuit(1, 1)\n",
    "        X01_Gaussian = Gate(\"$X_\\pi^{01}$\", 1, [])\n",
    "        qc_re.add_calibration(X01_Gaussian, (0,), X01_Gaussian_sched, [])\n",
    "        X12_Gaussian = Gate(\"$X_\\pi^{12}$\", 1, [])\n",
    "        qc_re.add_calibration(X12_Gaussian, (0,), X12_Gaussian_sched, [])\n",
    "        \n",
    "        qc_re.append(X01_Gaussian, [0]) #first circuit has 0 X12\n",
    "        for j in range(i):\n",
    "            qc_re.append(X12_Gaussian, [0])\n",
    "        qc_re.measure(qubit, 0)\n",
    "        re_circs.append(qc_re)\n",
    "    return re_circs"
   ]
  },
  {
   "cell_type": "code",
   "execution_count": 79,
   "id": "a98a19b7-5eee-45f6-9bb3-bc9cc75ec743",
   "metadata": {},
   "outputs": [],
   "source": [
    "x12_amp = 0.06870562817072146"
   ]
  },
  {
   "cell_type": "code",
   "execution_count": 77,
   "id": "505999d4-4f9b-4f22-a5f4-9b2314e1bbd2",
   "metadata": {},
   "outputs": [
    {
     "data": {
      "image/png": "[encoded data removed]",
      "text/plain": [
       "<Figure size 494.726x144.48 with 1 Axes>"
      ]
     },
     "execution_count": 77,
     "metadata": {},
     "output_type": "execute_result"
    }
   ],
   "source": [
    "overrot_circs(x12_amp)[2].draw(output='mpl')"
   ]
  },
  {
   "cell_type": "code",
   "execution_count": null,
   "id": "56986287-5898-48b4-b9bf-66dc00f59270",
   "metadata": {},
   "outputs": [],
   "source": [
    "re_job = backend.run(overrot_circs(x12_amp),\n",
    "                        meas_level=1,\n",
    "                        meas_return='single',\n",
    "                        shots=20000)\n",
    "    re_job.job_id()"
   ]
  },
  {
   "cell_type": "code",
   "execution_count": 32,
   "id": "038b3168-036b-4b4c-bdf6-10a744ebecff",
   "metadata": {},
   "outputs": [
    {
     "data": {
      "text/plain": [
       "'636db556d849aa390a310f7b'"
      ]
     },
     "execution_count": 32,
     "metadata": {},
     "output_type": "execute_result"
    }
   ],
   "source": [
    "x12_amp = 0.06670562817072146\n",
    "re_job_id = []\n",
    "for i in range(5):\n",
    "    re_job = backend.run(overrot_circs(x12_amp),\n",
    "                        meas_level=1,\n",
    "                        meas_return='single',\n",
    "                        shots=20000)\n",
    "    re_job_idre_job.job_id()"
   ]
  },
  {
   "cell_type": "markdown",
   "id": "4f309410-94f1-4291-a6b5-2f5f4bf69098",
   "metadata": {},
   "source": [
    "job id\n",
    "10/11/22\n",
    "'636d225ce0f730ba319beb4f' failed\n",
    "11/11/22\n",
    "'636db556d849aa390a310f7b'\n",
    "\n",
    "636dc370c182784b0976d681\n",
    "636dc3720565be37280078b7\n",
    "636dc3743f146d1f9aee8fc5\n",
    "636dc377754e4678484ce69e\n",
    "636dc378d0f9b243bd652f34"
   ]
  },
  {
   "cell_type": "code",
   "execution_count": 14,
   "id": "07a31cda-11d8-41a2-924e-4796ff70c6e9",
   "metadata": {},
   "outputs": [
    {
     "name": "stdout",
     "output_type": "stream",
     "text": [
      "getting population from 636dc370c182784b0976d681\n",
      "retrieving data from 636dc370c182784b0976d681\n",
      "data is retrieved from 636dc370c182784b0976d681\n",
      "predicting 99\r"
     ]
    }
   ],
   "source": [
    "population = get_mitigated_population('636dc370c182784b0976d681', LDA_012, conf_mat)"
   ]
  },
  {
   "cell_type": "code",
   "execution_count": 15,
   "id": "e5dd4dce-5280-408c-bc4c-ef26a365003d",
   "metadata": {},
   "outputs": [
    {
     "data": {
      "text/plain": [
       "(0.0, 1.0)"
      ]
     },
     "execution_count": 15,
     "metadata": {},
     "output_type": "execute_result"
    },
    {
     "data": {
      "image/png": "[encoded data removed]",
      "text/plain": [
       "<Figure size 432x288 with 1 Axes>"
      ]
     },
     "metadata": {
      "needs_background": "light"
     },
     "output_type": "display_data"
    }
   ],
   "source": [
    "one_population = [pop[1] for pop in population]\n",
    "plt.scatter(range(100), one_population, marker='o', linestyle='-', color= 'red')\n",
    "plt.ylim(0, 1)"
   ]
  },
  {
   "cell_type": "code",
   "execution_count": 13,
   "id": "2a637a1c-8f5f-4dbf-9aaf-377957f00dd7",
   "metadata": {},
   "outputs": [
    {
     "name": "stdout",
     "output_type": "stream",
     "text": [
      "[0.02309692]\n",
      "epsilon = 0.023096923668027385\n",
      "r-squared = -2.0645072922127743\n"
     ]
    },
    {
     "data": {
      "image/png": "[encoded data removed]",
      "text/plain": [
       "<Figure size 432x288 with 1 Axes>"
      ]
     },
     "metadata": {
      "needs_background": "light"
     },
     "output_type": "display_data"
    }
   ],
   "source": [
    "from sklearn.metrics import r2_score\n",
    "\n",
    "# def population_theory(n, A, B, eps):\n",
    "#     return A*np.cos(n*(np.pi + eps)) + B\n",
    "\n",
    "def population_theory(n, eps):\n",
    "    A = one_population[0]/2\n",
    "    return A*np.cos(n*(np.pi + eps)) + A\n",
    "\n",
    "params = curve_fit(population_theory, range(100), one_population, [0.01], maxfev = 50000)[0]\n",
    "eps = params[0]\n",
    "print(params)\n",
    "print('epsilon =', eps)\n",
    "m = 100\n",
    "x_val = np.linspace(0, m - 1, 10000)\n",
    "plt.scatter(range(0, m), one_population[0:m], marker='o', linestyle='-', color= 'red', s = 10)\n",
    "plt.plot(x_val, population_theory(x_val, *params), color= 'black')\n",
    "plt.ylim(0, 1)\n",
    "plt.xlim(0, 10)\n",
    "\n",
    "one_population_theory = population_theory(range(100), *params)\n",
    "print('r-squared =', r2_score(one_population, one_population_theory))"
   ]
  },
  {
   "cell_type": "code",
   "execution_count": 74,
   "id": "c63205da-c8ab-4037-b735-c5c85dbea1d0",
   "metadata": {},
   "outputs": [
    {
     "data": {
      "text/plain": [
       "0.3116311631163116"
      ]
     },
     "execution_count": 74,
     "metadata": {},
     "output_type": "execute_result"
    }
   ],
   "source": [
    "r2 = -3\n",
    "eps = 0\n",
    "for epsilon in np.linspace(0, 2, 10000):\n",
    "    one_population_theory = population_theory(range(100), epsilon)\n",
    "    r2_eps = r2_score(one_population, one_population_theory)\n",
    "    if(r2_eps > r2):\n",
    "        r2 = r2_eps\n",
    "        eps = epsilon\n",
    "eps"
   ]
  },
  {
   "cell_type": "code",
   "execution_count": null,
   "id": "55343370-f247-451e-aa61-7e48c04c3514",
   "metadata": {},
   "outputs": [],
   "source": [
    "x01_amp_corrected = np.pi/(np.pi + eps)*x01_amp\n",
    "print('epsilon =', eps)\n",
    "print('amp =', x01_amp)\n",
    "print('corrected amp =', x01_amp_corrected)\n",
    "print('x01_amp is corrected by ' +  str(np.abs((x01_amp_corrected - x01_amp))/x01_amp*100) + ' percent')"
   ]
  }
 ],
 "metadata": {
  "kernelspec": {
   "display_name": "Python 3 (ipykernel)",
   "language": "python",
   "name": "python3"
  },
  "language_info": {
   "codemirror_mode": {
    "name": "ipython",
    "version": 3
   },
   "file_extension": ".py",
   "mimetype": "text/x-python",
   "name": "python",
   "nbconvert_exporter": "python",
   "pygments_lexer": "ipython3",
   "version": "3.8.13"
  },
  "widgets": {
   "application/vnd.jupyter.widget-state+json": {
    "state": {},
    "version_major": 2,
    "version_minor": 0
   }
  }
 },
 "nbformat": 4,
 "nbformat_minor": 5
}
