{
 "cells": [
  {
   "cell_type": "markdown",
   "source": [
    "# Never gonna give you up\n",
    "# Never gonna DRAG you down"
   ],
   "metadata": {
    "collapsed": false,
    "pycharm": {
     "name": "#%% md\n"
    }
   }
  },
  {
   "cell_type": "markdown",
   "id": "62cf3594",
   "metadata": {
    "pycharm": {
     "name": "#%% md\n"
    }
   },
   "source": [
    "Howdy folks. Today we'll be quantum mechanic."
   ]
  },
  {
   "cell_type": "code",
   "execution_count": 1,
   "id": "dec2fdb6",
   "metadata": {
    "pycharm": {
     "name": "#%%\n"
    }
   },
   "outputs": [],
   "source": [
    "# First we set up some basic dependencies\n",
    "\n",
    "import numpy as np\n",
    "import pandas as pd\n",
    "import matplotlib.pyplot as plt\n",
    "from scipy.optimize import curve_fit\n",
    "\n",
    "import qiskit as qis\n",
    "import qiskit.pulse as qisp\n",
    "from qiskit.circuit import Parameter, QuantumCircuit, Gate\n",
    "from qiskit import IBMQ, schedule\n",
    "from qiskit.providers.ibmq.managed import IBMQJobManager\n",
    "from qiskit.compiler.assembler import MeasLevel, MeasReturnType\n",
    "from qiskit.tools.monitor import job_monitor\n",
    "\n",
    "if not IBMQ.active_account():\n",
    "    IBMQ.load_account()\n",
    "    \n",
    "provider = IBMQ.get_provider(hub='ibm-q', group='open', project='main')\n",
    "backend = provider.get_backend('ibmq_manila')"
   ]
  },
  {
   "cell_type": "code",
   "execution_count": 2,
   "id": "ffbaf61e",
   "metadata": {
    "pycharm": {
     "name": "#%%\n"
    }
   },
   "outputs": [],
   "source": [
    "qubit = 0\n",
    "drive_freq = backend.configuration().hamiltonian['vars'][f'wq{qubit}']/(2*np.pi)\n",
    "# drive_coupling = backend.configuration().hamiltonian['vars'][f'omegad{qubit}']\n",
    "\n",
    "x_sigma = 80\n",
    "x_duration = 320\n",
    "\n",
    "x_amp = 0.10218341976411754\n",
    "drive_betas = np.linspace(-20, 20, 33)\n",
    "\n",
    "drive_beta = Parameter('drive_beta')\n",
    "with qisp.build(backend=backend, default_alignment='sequential') as XX_sched:\n",
    "        qisp.set_frequency(drive_freq, qisp.drive_channel(0))\n",
    "        qisp.play(qisp.Drag(duration=x_duration,\n",
    "                              amp=x_amp,\n",
    "                              sigma=x_sigma,\n",
    "                              beta=drive_beta), qisp.drive_channel(0))\n",
    "        qisp.shift_phase(-np.pi, qisp.drive_channel(0))\n",
    "        qisp.play(qisp.Drag(duration=x_duration,\n",
    "                              amp=x_amp,\n",
    "                              sigma=x_sigma,\n",
    "                              beta=drive_beta), qisp.drive_channel(0))\n",
    "        qisp.shift_phase(-np.pi, qisp.drive_channel(0))"
   ]
  },
  {
   "cell_type": "code",
   "execution_count": 3,
   "id": "51a5d55c",
   "metadata": {
    "pycharm": {
     "name": "#%%\n"
    }
   },
   "outputs": [
    {
     "ename": "NameError",
     "evalue": "name 'k' is not defined",
     "output_type": "error",
     "traceback": [
      "\u001B[0;31m---------------------------------------------------------------------------\u001B[0m",
      "\u001B[0;31mNameError\u001B[0m                                 Traceback (most recent call last)",
      "Input \u001B[0;32mIn [3]\u001B[0m, in \u001B[0;36m<cell line: 6>\u001B[0;34m()\u001B[0m\n\u001B[1;32m      4\u001B[0m XX \u001B[38;5;241m=\u001B[39m Gate(\u001B[38;5;124m\"\u001B[39m\u001B[38;5;124m$X_\u001B[39m\u001B[38;5;124m\\\u001B[39m\u001B[38;5;124mpi X_\u001B[39m\u001B[38;5;124m{\u001B[39m\u001B[38;5;124m-\u001B[39m\u001B[38;5;124m\\\u001B[39m\u001B[38;5;124mpi}$\u001B[39m\u001B[38;5;124m\"\u001B[39m, \u001B[38;5;241m1\u001B[39m, [drive_beta])\n\u001B[1;32m      5\u001B[0m qc_DRAG \u001B[38;5;241m=\u001B[39m QuantumCircuit(\u001B[38;5;241m1\u001B[39m, \u001B[38;5;241m1\u001B[39m)\n\u001B[0;32m----> 6\u001B[0m n \u001B[38;5;241m=\u001B[39m \u001B[38;5;241m2\u001B[39m\u001B[38;5;241m*\u001B[39m\u001B[43mk\u001B[49m \u001B[38;5;241m+\u001B[39m \u001B[38;5;241m1\u001B[39m\n\u001B[1;32m      7\u001B[0m i \u001B[38;5;241m=\u001B[39m \u001B[38;5;241m0\u001B[39m\n\u001B[1;32m      8\u001B[0m \u001B[38;5;28;01mwhile\u001B[39;00m i \u001B[38;5;241m<\u001B[39m n:\n",
      "\u001B[0;31mNameError\u001B[0m: name 'k' is not defined"
     ]
    }
   ],
   "source": [
    "# n = 1\n",
    "\n",
    "n = 1\n",
    "XX = Gate(\"$X_\\pi X_{-\\pi}$\", 1, [drive_beta])\n",
    "qc_DRAG = QuantumCircuit(1, 1)\n",
    "n = 2*k + 1\n",
    "i = 0\n",
    "while i < n:\n",
    "    qc_DRAG.append(XX, [0])\n",
    "    i += 1\n",
    "qc_DRAG.measure(0, 0)\n",
    "qc_DRAG.add_calibration(XX, (0,), XX_sched, [drive_beta])\n",
    "exp_DRAG_circuits_n1 = [qc_DRAG.assign_parameters({drive_beta: b}, inplace=False) for b in drive_betas]\n",
    "qc_DRAG.draw(output='mpl')"
   ]
  },
  {
   "cell_type": "code",
   "execution_count": 24,
   "outputs": [
    {
     "data": {
      "text/plain": "51"
     },
     "execution_count": 24,
     "metadata": {},
     "output_type": "execute_result"
    }
   ],
   "source": [
    "len(exp_DRAG_circuits_n1)"
   ],
   "metadata": {
    "collapsed": false,
    "pycharm": {
     "name": "#%%\n"
    }
   }
  },
  {
   "cell_type": "code",
   "execution_count": 35,
   "id": "afcd0f11",
   "metadata": {
    "pycharm": {
     "name": "#%%\n"
    }
   },
   "outputs": [],
   "source": [
    "# n = 3\n",
    "\n",
    "# for k in range(2):\n",
    "n = 3\n",
    "XX = Gate(\"$X_\\pi X_{-\\pi}$\", 1, [drive_beta])\n",
    "qc_DRAG = QuantumCircuit(1, 1)\n",
    "i = 0\n",
    "while i < n:\n",
    "    qc_DRAG.append(XX, [0])\n",
    "    i += 1\n",
    "qc_DRAG.measure(0, 0)\n",
    "qc_DRAG.add_calibration(XX, (0,), XX_sched, [drive_beta])\n",
    "exp_DRAG_circuits_n3 = [qc_DRAG.assign_parameters({drive_beta: b}, inplace=False) for b in drive_betas]"
   ]
  },
  {
   "cell_type": "code",
   "execution_count": 36,
   "id": "e5436e57",
   "metadata": {
    "pycharm": {
     "name": "#%%\n"
    }
   },
   "outputs": [],
   "source": [
    "# n = 5\n",
    "\n",
    "n = 5\n",
    "XX = Gate(\"$X_\\pi X_{-\\pi}$\", 1, [drive_beta])\n",
    "qc_DRAG = QuantumCircuit(1, 1)\n",
    "i = 0\n",
    "while i < n:\n",
    "    qc_DRAG.append(XX, [0])\n",
    "    i += 1\n",
    "qc_DRAG.measure(0, 0)\n",
    "qc_DRAG.add_calibration(XX, (0,), XX_sched, [drive_beta])\n",
    "exp_DRAG_circuits_n5 = [qc_DRAG.assign_parameters({drive_beta: b}, inplace=False) for b in drive_betas]"
   ]
  },
  {
   "cell_type": "code",
   "execution_count": 37,
   "outputs": [
    {
     "data": {
      "text/plain": "<Figure size 735.526x144.48 with 1 Axes>",
      "image/png": "[encoded data removed]"
     },
     "execution_count": 37,
     "metadata": {},
     "output_type": "execute_result"
    }
   ],
   "source": [
    "exp_DRAG_circuits_n5[0].draw(output='mpl')"
   ],
   "metadata": {
    "collapsed": false,
    "pycharm": {
     "name": "#%%\n"
    }
   }
  },
  {
   "cell_type": "code",
   "execution_count": 38,
   "id": "39c9404c",
   "metadata": {
    "pycharm": {
     "name": "#%%\n"
    }
   },
   "outputs": [],
   "source": [
    "# n = 7\n",
    "n = 7\n",
    "XX = Gate(\"$X_\\pi X_{-\\pi}$\", 1, [drive_beta])\n",
    "qc_DRAG = QuantumCircuit(1, 1)\n",
    "i = 0\n",
    "while i < n:\n",
    "    qc_DRAG.append(XX, [0])\n",
    "    i += 1\n",
    "qc_DRAG.measure(0, 0)\n",
    "qc_DRAG.add_calibration(XX, (0,), XX_sched, [drive_beta])\n",
    "exp_DRAG_circuits_n7 = [qc_DRAG.assign_parameters({drive_beta: b}, inplace=False) for b in drive_betas]"
   ]
  },
  {
   "cell_type": "code",
   "execution_count": 39,
   "id": "b02e2865",
   "metadata": {
    "scrolled": true,
    "pycharm": {
     "name": "#%%\n"
    }
   },
   "outputs": [
    {
     "data": {
      "text/plain": "<Figure size 936x334.8 with 1 Axes>",
      "image/png": "[encoded data removed]"
     },
     "execution_count": 39,
     "metadata": {},
     "output_type": "execute_result"
    }
   ],
   "source": [
    "schedule(exp_DRAG_circuits_n7[7], backend).draw()"
   ]
  },
  {
   "cell_type": "code",
   "execution_count": 40,
   "outputs": [],
   "source": [
    "exp_DRAG_circuits = []\n",
    "for i in exp_DRAG_circuits_n3:\n",
    "    exp_DRAG_circuits.append(i)\n",
    "for i in exp_DRAG_circuits_n5:\n",
    "    exp_DRAG_circuits.append(i)\n",
    "for i in exp_DRAG_circuits_n7:\n",
    "    exp_DRAG_circuits.append(i)"
   ],
   "metadata": {
    "collapsed": false,
    "pycharm": {
     "name": "#%%\n"
    }
   }
  },
  {
   "cell_type": "code",
   "execution_count": 41,
   "outputs": [],
   "source": [
    "drag_job = backend.run(exp_DRAG_circuits,\n",
    "                       meas_level=MeasLevel.KERNELED,\n",
    "                       meas_return=MeasReturnType.AVERAGE,\n",
    "                       shots=2**14)"
   ],
   "metadata": {
    "collapsed": false,
    "pycharm": {
     "name": "#%%\n"
    }
   }
  },
  {
   "cell_type": "code",
   "execution_count": 49,
   "outputs": [
    {
     "ename": "NameError",
     "evalue": "name 'drag_job' is not defined",
     "output_type": "error",
     "traceback": [
      "\u001B[0;31m---------------------------------------------------------------------------\u001B[0m",
      "\u001B[0;31mNameError\u001B[0m                                 Traceback (most recent call last)",
      "Input \u001B[0;32mIn [49]\u001B[0m, in \u001B[0;36m<cell line: 1>\u001B[0;34m()\u001B[0m\n\u001B[0;32m----> 1\u001B[0m \u001B[38;5;28mprint\u001B[39m(\u001B[43mdrag_job\u001B[49m\u001B[38;5;241m.\u001B[39mjob_id())\n",
      "\u001B[0;31mNameError\u001B[0m: name 'drag_job' is not defined"
     ]
    }
   ],
   "source": [
    "print(drag_job.job_id())"
   ],
   "metadata": {
    "collapsed": false,
    "pycharm": {
     "name": "#%%\n"
    }
   }
  },
  {
   "cell_type": "code",
   "execution_count": 43,
   "outputs": [
    {
     "name": "stdout",
     "output_type": "stream",
     "text": [
      "Job Status: job has successfully run\n"
     ]
    }
   ],
   "source": [
    "job_monitor(drag_job)"
   ],
   "metadata": {
    "collapsed": false,
    "pycharm": {
     "name": "#%%\n"
    }
   }
  },
  {
   "cell_type": "code",
   "execution_count": 83,
   "id": "ee4a3ed3",
   "metadata": {
    "pycharm": {
     "name": "#%%\n"
    }
   },
   "outputs": [],
   "source": [
    "# dragJob_n3 = backend.retrieve_job('633c44bb5765650b1c1165aa')\n",
    "# dragJob_n5 = backend.retrieve_job('633c44bdbfe8f437459e2e78')\n",
    "# dragJob_n7 = backend.retrieve_job('633c44bffeb64c4bf89ff98c')"
   ]
  },
  {
   "cell_type": "code",
   "execution_count": 4,
   "outputs": [],
   "source": [
    "drag_job = backend.retrieve_job('633d9ee5338f421278b75c38')"
   ],
   "metadata": {
    "collapsed": false,
    "pycharm": {
     "name": "#%%\n"
    }
   }
  },
  {
   "cell_type": "code",
   "execution_count": null,
   "id": "807beb48",
   "metadata": {
    "pycharm": {
     "name": "#%%\n"
    }
   },
   "outputs": [],
   "source": [
    "# def baselineRemover(values):\n",
    "#     return np.array(values) - np.mean(values)\n",
    "#\n",
    "# num_beta_points = len(drive_betas)"
   ]
  },
  {
   "cell_type": "code",
   "execution_count": 5,
   "id": "684938f6",
   "metadata": {
    "pycharm": {
     "name": "#%%\n"
    }
   },
   "outputs": [],
   "source": [
    "drag_results = drag_job.result(timeout=120)\n",
    "drag_values = []\n",
    "for i in range(99):\n",
    "    drag_values.append(drag_results.get_memory(i)[qubit] * 1e-7)\n",
    "drag_values = np.real(drag_values)"
   ]
  },
  {
   "cell_type": "code",
   "execution_count": 54,
   "outputs": [
    {
     "data": {
      "text/plain": "array([ 1.7280132 ,  1.8922742 ,  1.9431302 ,  1.907682  ,  1.7274942 ,\n        1.4498591 ,  1.1097709 ,  0.71238655,  0.24472087, -0.21003777,\n       -0.67687065, -1.0903186 , -1.4553187 , -1.747258  , -1.9859602 ,\n       -2.076898  , -2.084088  , -1.9791028 , -1.7950134 , -1.4656009 ,\n       -1.105744  , -0.6777517 , -0.1969616 ,  0.29808505,  0.7133552 ,\n        1.0852388 ,  1.4861069 ,  1.7142516 ,  1.8901374 ,  1.9365616 ,\n        1.8932324 ,  1.738274  ,  1.4807542 , -1.9908752 , -1.6497685 ,\n       -1.0710741 , -0.33427117,  0.3895005 ,  1.1017385 ,  1.6520149 ,\n        1.9290896 ,  1.8753392 ,  1.5567262 ,  0.9851483 ,  0.262118  ,\n       -0.48679705, -1.2196441 , -1.7763348 , -2.0450464 , -2.0616584 ,\n       -1.7629918 , -1.2697059 , -0.50718945,  0.23502675,  0.9995585 ,\n        1.5719033 ,  1.8834206 ,  1.900191  ,  1.6550145 ,  1.128275  ,\n        0.4538341 , -0.3019029 , -1.0938652 , -1.6593981 , -2.0078722 ,\n       -2.0914622 ,  0.9509089 , -0.05751869, -1.0586543 , -1.8428882 ,\n       -2.076955  , -1.7638632 , -0.9381215 ,  0.1453633 ,  1.1755573 ,\n        1.790743  ,  1.8985904 ,  1.4139449 ,  0.5717472 , -0.5182289 ,\n       -1.4651784 , -2.0068876 , -2.0114584 , -1.42761   , -0.51658105,\n        0.52991615,  1.4318495 ,  1.9003318 ,  1.778792  ,  1.1195584 ,\n        0.15542251, -0.8975374 , -1.7460436 , -2.0813238 , -1.8431366 ,\n       -1.0676214 , -0.05509727,  0.9465134 ,  1.6902326 ])"
     },
     "execution_count": 54,
     "metadata": {},
     "output_type": "execute_result"
    }
   ],
   "source": [
    "drag_values"
   ],
   "metadata": {
    "collapsed": false,
    "pycharm": {
     "name": "#%%\n"
    }
   }
  },
  {
   "cell_type": "code",
   "execution_count": 6,
   "outputs": [],
   "source": [
    "drag_values_n3 = drag_values[0:33]\n",
    "drag_values_n5 = drag_values[33:66]\n",
    "drag_values_n7 = drag_values[66:99]"
   ],
   "metadata": {
    "collapsed": false,
    "pycharm": {
     "name": "#%%\n"
    }
   }
  },
  {
   "cell_type": "code",
   "execution_count": 7,
   "outputs": [],
   "source": [
    "from scipy.optimize import curve_fit\n",
    "\n",
    "def fit_function(x_values, y_values, function, init_params):\n",
    "    fitparams, conv = curve_fit(function, x_values, y_values, init_params)\n",
    "    y_fit = function(x_values, *fitparams)\n",
    "\n",
    "    return fitparams, y_fit"
   ],
   "metadata": {
    "collapsed": false,
    "pycharm": {
     "name": "#%%\n"
    }
   }
  },
  {
   "cell_type": "code",
   "execution_count": 8,
   "outputs": [],
   "source": [
    "def sinusoid(x, fit_params):\n",
    "    A, B, drive_period, phi = fit_params\n",
    "    return A*np.cos(2*np.pi*x/drive_period - phi) + B"
   ],
   "metadata": {
    "collapsed": false,
    "pycharm": {
     "name": "#%%\n"
    }
   }
  },
  {
   "cell_type": "code",
   "execution_count": null,
   "outputs": [],
   "source": [],
   "metadata": {
    "collapsed": false,
    "pycharm": {
     "name": "#%%\n"
    }
   }
  },
  {
   "cell_type": "code",
   "execution_count": 10,
   "outputs": [
    {
     "data": {
      "text/plain": "-0.6206206206206204"
     },
     "execution_count": 10,
     "metadata": {},
     "output_type": "execute_result"
    },
    {
     "data": {
      "text/plain": "<Figure size 432x288 with 1 Axes>",
      "image/png": "[encoded data removed]"
     },
     "metadata": {
      "needs_background": "light"
     },
     "output_type": "display_data"
    }
   ],
   "source": [
    "fit_params_n3, y_fit_n3 = fit_function(drive_betas,\n",
    "                                       drag_values_n3,\n",
    "                                       lambda x, A, B, drive_period, phi: (A*np.cos(2*np.pi*x/drive_period - phi) + B),\n",
    "                                       [2, 0, 40, 0])\n",
    "fit_params_n5, y_fit_n5 = fit_function(drive_betas,\n",
    "                                       drag_values_n5,\n",
    "                                       lambda x, A, B, drive_period, phi: (A*np.cos(2*np.pi*x/drive_period - phi) + B),\n",
    "                                       [2, 0, 20, 0])\n",
    "fit_params_n7, y_fit_n7 = fit_function(drive_betas,\n",
    "                                       drag_values_n7,\n",
    "                                       lambda x, A, B, drive_period, phi: (A*np.cos(2*np.pi*x/drive_period - phi) + B),\n",
    "                                       [2, 0, 20, 0])\n",
    "x_val = np.linspace(-20, 20, 1000)\n",
    "min_val = 1\n",
    "beta_optimum = 0\n",
    "for x in x_val:\n",
    "    l = (sinusoid(x, fit_params_n3) + np.abs(fit_params_n3[0]) - fit_params_n3[1])**2 + (sinusoid(x, fit_params_n5) + np.abs(fit_params_n5[0]) - fit_params_n5[1])**2 + (sinusoid(x, fit_params_n7) + np.abs(fit_params_n7[0]) - fit_params_n7[1])**2\n",
    "    if l < min_val:\n",
    "        min_val = l\n",
    "        x_optimum = x\n",
    "\n",
    "plt.scatter(drive_betas, drag_values_n3, marker='o', linestyle='-', color='red')\n",
    "plt.plot(x_val, sinusoid(x_val, fit_params_n3), color = 'red')\n",
    "plt.scatter(drive_betas, drag_values_n5, marker='s', linestyle='-', color='blue')\n",
    "plt.plot(x_val, sinusoid(x_val, fit_params_n5), color = 'blue')\n",
    "plt.scatter(drive_betas, drag_values_n7, marker='v', linestyle='-', color='green')\n",
    "plt.plot(x_val, sinusoid(x_val, fit_params_n7), color = 'green')\n",
    "plt.axvline(x_optimum, linestyle='--', color='yellow')\n",
    "plt.xlim(-2, 2)\n",
    "x_optimum"
   ],
   "metadata": {
    "collapsed": false,
    "pycharm": {
     "name": "#%%\n"
    }
   }
  },
  {
   "cell_type": "code",
   "execution_count": 11,
   "outputs": [],
   "source": [
    "x_optimum = -0.6206206206206204\n",
    "beta_optimum = x_optimum"
   ],
   "metadata": {
    "collapsed": false,
    "pycharm": {
     "name": "#%%\n"
    }
   }
  },
  {
   "cell_type": "code",
   "execution_count": 12,
   "outputs": [],
   "source": [
    "with qisp.build(backend=backend, default_alignment='sequential') as SX_sched:\n",
    "    qisp.set_frequency(drive_freq, qisp.drive_channel(0))\n",
    "    qisp.play(qisp.Drag(duration=x_duration,\n",
    "                        amp=x_amp/2,\n",
    "                        sigma=x_sigma,\n",
    "                        beta=beta_optimum), qisp.drive_channel(0))\n"
   ],
   "metadata": {
    "collapsed": false,
    "pycharm": {
     "name": "#%%\n"
    }
   }
  },
  {
   "cell_type": "code",
   "execution_count": 13,
   "outputs": [],
   "source": [
    "SX_circs = []\n",
    "for i in range(100):\n",
    "    qc_SX = QuantumCircuit(1, 1)\n",
    "    SX = Gate(\"$SX$\", 1, [])\n",
    "    qc_SX.add_calibration(SX, (0,), SX_sched, [])\n",
    "    qc_SX.append(SX, [0])\n",
    "    for j in range(i):\n",
    "        qc_SX.append(SX, [0])\n",
    "    qc_SX.measure(qubit, 0)\n",
    "    SX_circs.append(qc_SX)"
   ],
   "metadata": {
    "collapsed": false,
    "pycharm": {
     "name": "#%%\n"
    }
   }
  },
  {
   "cell_type": "code",
   "execution_count": 344,
   "outputs": [
    {
     "data": {
      "text/plain": "<Figure size 374.326x144.48 with 1 Axes>",
      "image/png": "[encoded data removed]"
     },
     "execution_count": 344,
     "metadata": {},
     "output_type": "execute_result"
    }
   ],
   "source": [
    "SX_circs[1].draw(output='mpl')"
   ],
   "metadata": {
    "collapsed": false,
    "pycharm": {
     "name": "#%%\n"
    }
   }
  },
  {
   "cell_type": "code",
   "execution_count": 345,
   "outputs": [
    {
     "data": {
      "text/plain": "100"
     },
     "execution_count": 345,
     "metadata": {},
     "output_type": "execute_result"
    }
   ],
   "source": [
    "len(SX_circs)"
   ],
   "metadata": {
    "collapsed": false,
    "pycharm": {
     "name": "#%%\n"
    }
   }
  },
  {
   "cell_type": "code",
   "execution_count": 346,
   "outputs": [
    {
     "data": {
      "text/plain": "'633f8983e212b028d4beef0c'"
     },
     "execution_count": 346,
     "metadata": {},
     "output_type": "execute_result"
    }
   ],
   "source": [
    "SX_job = backend.run(SX_circs,\n",
    "                    meas_level=2,\n",
    "                    meas_return='single',\n",
    "                    shots=2**14)\n",
    "SX_job.job_id()"
   ],
   "metadata": {
    "collapsed": false,
    "pycharm": {
     "name": "#%%\n"
    }
   }
  },
  {
   "cell_type": "code",
   "execution_count": 117,
   "outputs": [
    {
     "name": "stdout",
     "output_type": "stream",
     "text": [
      "Job Status: job is queued (156)"
     ]
    },
    {
     "ename": "KeyboardInterrupt",
     "evalue": "",
     "output_type": "error",
     "traceback": [
      "\u001B[0;31m---------------------------------------------------------------------------\u001B[0m",
      "\u001B[0;31mKeyboardInterrupt\u001B[0m                         Traceback (most recent call last)",
      "Input \u001B[0;32mIn [117]\u001B[0m, in \u001B[0;36m<cell line: 1>\u001B[0;34m()\u001B[0m\n\u001B[0;32m----> 1\u001B[0m \u001B[43mjob_monitor\u001B[49m\u001B[43m(\u001B[49m\u001B[43mSX_job\u001B[49m\u001B[43m)\u001B[49m\n",
      "File \u001B[0;32m~/.local/lib/python3.10/site-packages/qiskit/tools/monitor/job_monitor.py:89\u001B[0m, in \u001B[0;36mjob_monitor\u001B[0;34m(job, interval, quiet, output, line_discipline)\u001B[0m\n\u001B[1;32m     86\u001B[0m \u001B[38;5;28;01melse\u001B[39;00m:\n\u001B[1;32m     87\u001B[0m     _interval_set \u001B[38;5;241m=\u001B[39m \u001B[38;5;28;01mTrue\u001B[39;00m\n\u001B[0;32m---> 89\u001B[0m \u001B[43m_text_checker\u001B[49m\u001B[43m(\u001B[49m\n\u001B[1;32m     90\u001B[0m \u001B[43m    \u001B[49m\u001B[43mjob\u001B[49m\u001B[43m,\u001B[49m\u001B[43m \u001B[49m\u001B[43minterval\u001B[49m\u001B[43m,\u001B[49m\u001B[43m \u001B[49m\u001B[43m_interval_set\u001B[49m\u001B[43m,\u001B[49m\u001B[43m \u001B[49m\u001B[43mquiet\u001B[49m\u001B[38;5;241;43m=\u001B[39;49m\u001B[43mquiet\u001B[49m\u001B[43m,\u001B[49m\u001B[43m \u001B[49m\u001B[43moutput\u001B[49m\u001B[38;5;241;43m=\u001B[39;49m\u001B[43moutput\u001B[49m\u001B[43m,\u001B[49m\u001B[43m \u001B[49m\u001B[43mline_discipline\u001B[49m\u001B[38;5;241;43m=\u001B[39;49m\u001B[43mline_discipline\u001B[49m\n\u001B[1;32m     91\u001B[0m \u001B[43m\u001B[49m\u001B[43m)\u001B[49m\n",
      "File \u001B[0;32m~/.local/lib/python3.10/site-packages/qiskit/tools/monitor/job_monitor.py:44\u001B[0m, in \u001B[0;36m_text_checker\u001B[0;34m(job, interval, _interval_set, quiet, output, line_discipline)\u001B[0m\n\u001B[1;32m     42\u001B[0m     \u001B[38;5;28mprint\u001B[39m(\u001B[38;5;124m\"\u001B[39m\u001B[38;5;132;01m{}\u001B[39;00m\u001B[38;5;132;01m{}\u001B[39;00m\u001B[38;5;124m: \u001B[39m\u001B[38;5;132;01m{}\u001B[39;00m\u001B[38;5;124m\"\u001B[39m\u001B[38;5;241m.\u001B[39mformat(line_discipline, \u001B[38;5;124m\"\u001B[39m\u001B[38;5;124mJob Status\u001B[39m\u001B[38;5;124m\"\u001B[39m, msg), end\u001B[38;5;241m=\u001B[39m\u001B[38;5;124m\"\u001B[39m\u001B[38;5;124m\"\u001B[39m, file\u001B[38;5;241m=\u001B[39moutput)\n\u001B[1;32m     43\u001B[0m \u001B[38;5;28;01mwhile\u001B[39;00m status\u001B[38;5;241m.\u001B[39mname \u001B[38;5;129;01mnot\u001B[39;00m \u001B[38;5;129;01min\u001B[39;00m [\u001B[38;5;124m\"\u001B[39m\u001B[38;5;124mDONE\u001B[39m\u001B[38;5;124m\"\u001B[39m, \u001B[38;5;124m\"\u001B[39m\u001B[38;5;124mCANCELLED\u001B[39m\u001B[38;5;124m\"\u001B[39m, \u001B[38;5;124m\"\u001B[39m\u001B[38;5;124mERROR\u001B[39m\u001B[38;5;124m\"\u001B[39m]:\n\u001B[0;32m---> 44\u001B[0m     \u001B[43mtime\u001B[49m\u001B[38;5;241;43m.\u001B[39;49m\u001B[43msleep\u001B[49m\u001B[43m(\u001B[49m\u001B[43minterval\u001B[49m\u001B[43m)\u001B[49m\n\u001B[1;32m     45\u001B[0m     status \u001B[38;5;241m=\u001B[39m job\u001B[38;5;241m.\u001B[39mstatus()\n\u001B[1;32m     46\u001B[0m     msg \u001B[38;5;241m=\u001B[39m status\u001B[38;5;241m.\u001B[39mvalue\n",
      "\u001B[0;31mKeyboardInterrupt\u001B[0m: "
     ]
    }
   ],
   "source": [
    "job_monitor(SX_job)"
   ],
   "metadata": {
    "collapsed": false,
    "pycharm": {
     "name": "#%%\n"
    }
   }
  },
  {
   "cell_type": "markdown",
   "source": [
    "# SX job\n",
    "633ea125feb64c920ea00369: -1.3013013013013008\n",
    "633f8983e212b028d4beef0c: -0.6206206206206204\n"
   ],
   "metadata": {
    "collapsed": false,
    "pycharm": {
     "name": "#%% md\n"
    }
   }
  },
  {
   "cell_type": "code",
   "execution_count": 14,
   "outputs": [],
   "source": [
    "SX_job = backend.retrieve_job('633f8983e212b028d4beef0c')"
   ],
   "metadata": {
    "collapsed": false,
    "pycharm": {
     "name": "#%%\n"
    }
   }
  },
  {
   "cell_type": "code",
   "execution_count": 15,
   "outputs": [],
   "source": [
    "SX_results = SX_job.result().get_counts()"
   ],
   "metadata": {
    "collapsed": false,
    "pycharm": {
     "name": "#%%\n"
    }
   }
  },
  {
   "cell_type": "code",
   "execution_count": 16,
   "outputs": [
    {
     "data": {
      "text/plain": "100"
     },
     "execution_count": 16,
     "metadata": {},
     "output_type": "execute_result"
    }
   ],
   "source": [
    "zero_population = [SX_results[i]['0']/2**14 for i in range(100)]\n",
    "len(zero_population)"
   ],
   "metadata": {
    "collapsed": false,
    "pycharm": {
     "name": "#%%\n"
    }
   }
  },
  {
   "cell_type": "code",
   "execution_count": 162,
   "outputs": [],
   "source": [
    "def SX_theory(val, epsilon):\n",
    "    # return [1/2 + 1/2*np.cos(n*(np.pi/2 + epsilon)) for n in val]\n",
    "    return [np.cos(n*(np.pi/2 + epsilon)/2)**2 for n in val]\n"
   ],
   "metadata": {
    "collapsed": false,
    "pycharm": {
     "name": "#%%\n"
    }
   }
  },
  {
   "cell_type": "code",
   "execution_count": 159,
   "outputs": [
    {
     "name": "stdout",
     "output_type": "stream",
     "text": [
      "[0.04397003]\n"
     ]
    },
    {
     "data": {
      "text/plain": "<matplotlib.collections.PathCollection at 0x7f256c1883a0>"
     },
     "execution_count": 159,
     "metadata": {},
     "output_type": "execute_result"
    },
    {
     "data": {
      "text/plain": "<Figure size 432x288 with 1 Axes>",
      "image/png": "[encoded data removed]"
     },
     "metadata": {
      "needs_background": "light"
     },
     "output_type": "display_data"
    }
   ],
   "source": [
    "exp_num = [i + 1  for i in range(100)]\n",
    "\n",
    "SX_params, SX_fit = fit_function(range(100),\n",
    "                                       zero_population,\n",
    "                                       SX_theory,\n",
    "                                       [0.02])\n",
    "print(SX_params)\n",
    "plt.scatter(exp_num, zero_population, marker='o', linestyle='-', color='blue')\n",
    "# plt.plot(range(100), SX_theory(range(100), SX_params), color='red')\n",
    "# plt.xlim([0, 20])\n",
    "plt.scatter(exp_num, SX_theory(exp_num, SX_params), color='red')"
   ],
   "metadata": {
    "collapsed": false,
    "pycharm": {
     "name": "#%%\n"
    }
   }
  },
  {
   "cell_type": "code",
   "execution_count": 163,
   "outputs": [
    {
     "data": {
      "text/plain": "(0.0, 20.0)"
     },
     "execution_count": 163,
     "metadata": {},
     "output_type": "execute_result"
    },
    {
     "data": {
      "text/plain": "<Figure size 432x288 with 1 Axes>",
      "image/png": "[encoded data removed]"
     },
     "metadata": {
      "needs_background": "light"
     },
     "output_type": "display_data"
    }
   ],
   "source": [
    "plt.scatter(exp_num, zero_population, marker='o', linestyle='-', color='blue')\n",
    "plt.scatter(exp_num, SX_theory(exp_num, 0.02), color='red')\n",
    "plt.xlim(0, 20)"
   ],
   "metadata": {
    "collapsed": false,
    "pycharm": {
     "name": "#%%\n"
    }
   }
  },
  {
   "cell_type": "code",
   "execution_count": 18,
   "outputs": [],
   "source": [
    "SX_odd_circs = []\n",
    "for i in range(100):\n",
    "    qc_SX = QuantumCircuit(1, 1)\n",
    "    SX = Gate(\"$SX$\", 1, [])\n",
    "    qc_SX.add_calibration(SX, (0,), SX_sched, [])\n",
    "    qc_SX.append(SX, [0])\n",
    "    for j in range(i):\n",
    "        qc_SX.append(SX, [0])\n",
    "        qc_SX.append(SX, [0])\n",
    "    qc_SX.measure(qubit, 0)\n",
    "    SX_odd_circs.append(qc_SX)\n"
   ],
   "metadata": {
    "collapsed": false,
    "pycharm": {
     "name": "#%%\n"
    }
   }
  },
  {
   "cell_type": "code",
   "execution_count": 351,
   "outputs": [
    {
     "data": {
      "text/plain": "<Figure size 494.726x144.48 with 1 Axes>",
      "image/png": "[encoded data removed]"
     },
     "execution_count": 351,
     "metadata": {},
     "output_type": "execute_result"
    }
   ],
   "source": [
    "SX_odd_circs[1].draw(output='mpl')"
   ],
   "metadata": {
    "collapsed": false,
    "pycharm": {
     "name": "#%%\n"
    }
   }
  },
  {
   "cell_type": "code",
   "execution_count": 266,
   "outputs": [
    {
     "data": {
      "text/plain": "'633ebe58338f42c077b76051'"
     },
     "execution_count": 266,
     "metadata": {},
     "output_type": "execute_result"
    }
   ],
   "source": [
    "SX_odd_job = backend.run(SX_odd_circs,\n",
    "                     meas_level=2,\n",
    "                     meas_return='single',\n",
    "                     shots=2**14)\n",
    "SX_odd_job.job_id()"
   ],
   "metadata": {
    "collapsed": false,
    "pycharm": {
     "name": "#%%\n"
    }
   }
  },
  {
   "cell_type": "code",
   "execution_count": 19,
   "outputs": [],
   "source": [
    "SX_odd_job = backend.retrieve_job('633ebe58338f42c077b76051')"
   ],
   "metadata": {
    "collapsed": false,
    "pycharm": {
     "name": "#%%\n"
    }
   }
  },
  {
   "cell_type": "code",
   "execution_count": 21,
   "outputs": [],
   "source": [
    "SX_odd_results = SX_odd_job.result().get_counts()\n",
    "zero_population_odd = [SX_odd_results[i]['0']/2**14 for i in range(100)]"
   ],
   "metadata": {
    "collapsed": false,
    "pycharm": {
     "name": "#%%\n"
    }
   }
  },
  {
   "cell_type": "code",
   "execution_count": 151,
   "outputs": [],
   "source": [
    "def SX_odd_theory(val, A, B, epsilon):\n",
    "    # return [1/2 + 1/2*(-1)**n*np.cos(np.pi/2 + (2*n + 1)*epsilon) for n in val] #sheldon 2015\n",
    "    return [A + B*np.cos((2*n + 1)*(epsilon + np.pi/2)) for n in val]\n",
    "    # return [np.cos((epsilon + np.pi/2)*(n + 1/2))**2 for n in val]"
   ],
   "metadata": {
    "collapsed": false,
    "pycharm": {
     "name": "#%%\n"
    }
   }
  },
  {
   "cell_type": "code",
   "execution_count": 166,
   "outputs": [
    {
     "name": "stdout",
     "output_type": "stream",
     "text": [
      "[0.50823087 0.4525394  0.02019534]\n"
     ]
    },
    {
     "ename": "TypeError",
     "evalue": "'int' object is not iterable",
     "output_type": "error",
     "traceback": [
      "\u001B[0;31m---------------------------------------------------------------------------\u001B[0m",
      "\u001B[0;31mTypeError\u001B[0m                                 Traceback (most recent call last)",
      "Input \u001B[0;32mIn [166]\u001B[0m, in \u001B[0;36m<cell line: 5>\u001B[0;34m()\u001B[0m\n\u001B[1;32m      3\u001B[0m SX_odd_params \u001B[38;5;241m=\u001B[39m curve_fit(SX_odd_theory, exp_num[:num_fit], zero_population_odd[:num_fit], p0 \u001B[38;5;241m=\u001B[39m [\u001B[38;5;241m1\u001B[39m\u001B[38;5;241m/\u001B[39m\u001B[38;5;241m2\u001B[39m, \u001B[38;5;241m1\u001B[39m\u001B[38;5;241m/\u001B[39m\u001B[38;5;241m2\u001B[39m, \u001B[38;5;241m0.02\u001B[39m], maxfev\u001B[38;5;241m=\u001B[39m\u001B[38;5;241m5000\u001B[39m)[\u001B[38;5;241m0\u001B[39m]\n\u001B[1;32m      4\u001B[0m \u001B[38;5;28mprint\u001B[39m(SX_odd_params)\n\u001B[0;32m----> 5\u001B[0m residuals \u001B[38;5;241m=\u001B[39m [zero_population_odd[i] \u001B[38;5;241m-\u001B[39m SX_odd_theory(exp_num[i], \u001B[38;5;241m*\u001B[39mSX_odd_params) \u001B[38;5;28;01mfor\u001B[39;00m i \u001B[38;5;129;01min\u001B[39;00m \u001B[38;5;28mrange\u001B[39m(num_fit)]\n\u001B[1;32m      6\u001B[0m ss_res \u001B[38;5;241m=\u001B[39m np\u001B[38;5;241m.\u001B[39msum(residuals\u001B[38;5;241m*\u001B[39m\u001B[38;5;241m*\u001B[39m\u001B[38;5;241m2\u001B[39m)\n\u001B[1;32m      7\u001B[0m ss_tot \u001B[38;5;241m=\u001B[39m np\u001B[38;5;241m.\u001B[39msum((zero_population_odd[:num_fit]\u001B[38;5;241m-\u001B[39mnp\u001B[38;5;241m.\u001B[39mmean(zero_population_odd[:num_fit]))\u001B[38;5;241m*\u001B[39m\u001B[38;5;241m*\u001B[39m\u001B[38;5;241m2\u001B[39m)\n",
      "Input \u001B[0;32mIn [166]\u001B[0m, in \u001B[0;36m<listcomp>\u001B[0;34m(.0)\u001B[0m\n\u001B[1;32m      3\u001B[0m SX_odd_params \u001B[38;5;241m=\u001B[39m curve_fit(SX_odd_theory, exp_num[:num_fit], zero_population_odd[:num_fit], p0 \u001B[38;5;241m=\u001B[39m [\u001B[38;5;241m1\u001B[39m\u001B[38;5;241m/\u001B[39m\u001B[38;5;241m2\u001B[39m, \u001B[38;5;241m1\u001B[39m\u001B[38;5;241m/\u001B[39m\u001B[38;5;241m2\u001B[39m, \u001B[38;5;241m0.02\u001B[39m], maxfev\u001B[38;5;241m=\u001B[39m\u001B[38;5;241m5000\u001B[39m)[\u001B[38;5;241m0\u001B[39m]\n\u001B[1;32m      4\u001B[0m \u001B[38;5;28mprint\u001B[39m(SX_odd_params)\n\u001B[0;32m----> 5\u001B[0m residuals \u001B[38;5;241m=\u001B[39m [zero_population_odd[i] \u001B[38;5;241m-\u001B[39m \u001B[43mSX_odd_theory\u001B[49m\u001B[43m(\u001B[49m\u001B[43mexp_num\u001B[49m\u001B[43m[\u001B[49m\u001B[43mi\u001B[49m\u001B[43m]\u001B[49m\u001B[43m,\u001B[49m\u001B[43m \u001B[49m\u001B[38;5;241;43m*\u001B[39;49m\u001B[43mSX_odd_params\u001B[49m\u001B[43m)\u001B[49m \u001B[38;5;28;01mfor\u001B[39;00m i \u001B[38;5;129;01min\u001B[39;00m \u001B[38;5;28mrange\u001B[39m(num_fit)]\n\u001B[1;32m      6\u001B[0m ss_res \u001B[38;5;241m=\u001B[39m np\u001B[38;5;241m.\u001B[39msum(residuals\u001B[38;5;241m*\u001B[39m\u001B[38;5;241m*\u001B[39m\u001B[38;5;241m2\u001B[39m)\n\u001B[1;32m      7\u001B[0m ss_tot \u001B[38;5;241m=\u001B[39m np\u001B[38;5;241m.\u001B[39msum((zero_population_odd[:num_fit]\u001B[38;5;241m-\u001B[39mnp\u001B[38;5;241m.\u001B[39mmean(zero_population_odd[:num_fit]))\u001B[38;5;241m*\u001B[39m\u001B[38;5;241m*\u001B[39m\u001B[38;5;241m2\u001B[39m)\n",
      "Input \u001B[0;32mIn [151]\u001B[0m, in \u001B[0;36mSX_odd_theory\u001B[0;34m(val, A, B, epsilon)\u001B[0m\n\u001B[1;32m      1\u001B[0m \u001B[38;5;28;01mdef\u001B[39;00m \u001B[38;5;21mSX_odd_theory\u001B[39m(val, A, B, epsilon):\n\u001B[1;32m      2\u001B[0m     \u001B[38;5;66;03m# return [1/2 + 1/2*(-1)**n*np.cos(np.pi/2 + (2*n + 1)*epsilon) for n in val] #sheldon 2015\u001B[39;00m\n\u001B[0;32m----> 3\u001B[0m     \u001B[38;5;28;01mreturn\u001B[39;00m [A \u001B[38;5;241m+\u001B[39m B\u001B[38;5;241m*\u001B[39mnp\u001B[38;5;241m.\u001B[39mcos((\u001B[38;5;241m2\u001B[39m\u001B[38;5;241m*\u001B[39mn \u001B[38;5;241m+\u001B[39m \u001B[38;5;241m1\u001B[39m)\u001B[38;5;241m*\u001B[39m(epsilon \u001B[38;5;241m+\u001B[39m np\u001B[38;5;241m.\u001B[39mpi\u001B[38;5;241m/\u001B[39m\u001B[38;5;241m2\u001B[39m)) \u001B[38;5;28;01mfor\u001B[39;00m n \u001B[38;5;129;01min\u001B[39;00m val]\n",
      "\u001B[0;31mTypeError\u001B[0m: 'int' object is not iterable"
     ]
    }
   ],
   "source": [
    "num_fit = 78\n",
    "exp_num = [i + 1  for i in range(100)]\n",
    "SX_odd_params = curve_fit(SX_odd_theory, exp_num[:num_fit], zero_population_odd[:num_fit], p0 = [1/2, 1/2, 0.02], maxfev=5000)[0]\n",
    "print(SX_odd_params)\n",
    "residuals = [zero_population_odd[i] - SX_odd_theory(exp_num[i], *SX_odd_params) for i in range(num_fit)]\n",
    "ss_res = np.sum(residuals**2)\n",
    "ss_tot = np.sum((zero_population_odd[:num_fit]-np.mean(zero_population_odd[:num_fit]))**2)\n",
    "r_squared = 1 - (ss_res / ss_tot)\n",
    "print('r-squared =', r_squared)\n",
    "\n",
    "plt.scatter(exp_num[:num_fit], zero_population_odd[:num_fit], marker='o', linestyle='-', color='blue')\n",
    "# plt.plot(range(75), zero_population_odd[:75], marker='o', linestyle='-', color='blue')\n",
    "# plt.xlim(0,10)\n",
    "\n",
    "plt.scatter(exp_num[:num_fit], SX_odd_theory(range(num_fit), *SX_odd_params), color='red')"
   ],
   "metadata": {
    "collapsed": false,
    "pycharm": {
     "name": "#%%\n"
    }
   }
  },
  {
   "cell_type": "code",
   "execution_count": 143,
   "outputs": [
    {
     "data": {
      "text/plain": "(0.0, 10.0)"
     },
     "execution_count": 143,
     "metadata": {},
     "output_type": "execute_result"
    },
    {
     "data": {
      "text/plain": "<Figure size 432x288 with 1 Axes>",
      "image/png": "[encoded data removed]"
     },
     "metadata": {
      "needs_background": "light"
     },
     "output_type": "display_data"
    }
   ],
   "source": [
    "plt.scatter(exp_num[:75], zero_population_odd[:75], marker='o', linestyle='-', color='blue')\n",
    "plt.scatter(exp_num[:75], SX_odd_theory(exp_num[:75], 0.02), color='red')\n",
    "plt.xlim(0, 10)"
   ],
   "metadata": {
    "collapsed": false,
    "pycharm": {
     "name": "#%%\n"
    }
   }
  }
 ],
 "metadata": {
  "kernelspec": {
   "display_name": "Python 3 (ipykernel)",
   "language": "python",
   "name": "python3"
  },
  "language_info": {
   "codemirror_mode": {
    "name": "ipython",
    "version": 3
   },
   "file_extension": ".py",
   "mimetype": "text/x-python",
   "name": "python",
   "nbconvert_exporter": "python",
   "pygments_lexer": "ipython3",
   "version": "3.8.2"
  }
 },
 "nbformat": 4,
 "nbformat_minor": 5
}