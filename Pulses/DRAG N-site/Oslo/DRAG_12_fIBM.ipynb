{
 "cells": [
  {
   "cell_type": "markdown",
   "id": "3180405e",
   "metadata": {
    "pycharm": {
     "name": "#%% md\n"
    }
   },
   "source": [
    "# Never gonna give you up\n",
    "# Never gonna DRAG you down"
   ]
  },
  {
   "cell_type": "markdown",
   "id": "62cf3594",
   "metadata": {
    "pycharm": {
     "name": "#%% md\n"
    }
   },
   "source": [
    "Howdy folks. Today we'll be quantum mechanic."
   ]
  },
  {
   "cell_type": "code",
   "execution_count": 1,
   "id": "dec2fdb6",
   "metadata": {
    "pycharm": {
     "name": "#%%\n"
    }
   },
   "outputs": [
    {
     "name": "stderr",
     "output_type": "stream",
     "text": [
      "<frozen importlib._bootstrap>:219: RuntimeWarning: scipy._lib.messagestream.MessageStream size changed, may indicate binary incompatibility. Expected 56 from C header, got 64 from PyObject\n"
     ]
    }
   ],
   "source": [
    "# First we set up some basic dependencies\n",
    "\n",
    "import numpy as np\n",
    "import pandas as pd\n",
    "import matplotlib.pyplot as plt\n",
    "from scipy.optimize import curve_fit\n",
    "\n",
    "import qiskit as qis\n",
    "import qiskit.pulse as qisp\n",
    "from qiskit.circuit import Parameter, QuantumCircuit, Gate\n",
    "from qiskit import IBMQ, schedule\n",
    "from qiskit.providers.ibmq.managed import IBMQJobManager\n",
    "from qiskit.compiler.assembler import MeasLevel, MeasReturnType\n",
    "from qiskit.tools.monitor import job_monitor\n",
    "\n",
    "if not IBMQ.active_account():\n",
    "    IBMQ.load_account()\n",
    "    \n",
    "provider = IBMQ.get_provider(hub='ibm-q', group='open', project='main')\n",
    "backend = provider.get_backend('ibm_oslo')\n",
    "backend_defaults = backend.defaults()\n",
    "backend_properties = backend.properties()"
   ]
  },
  {
   "cell_type": "code",
   "execution_count": null,
   "outputs": [],
   "source": [
    "scale_factor = 1e-7\n",
    "def get_job_data(job, average):\n",
    "    \"\"\"Retrieve data from a job that has already run.\n",
    "    Args:\n",
    "        job (Job): The job whose data you want.\n",
    "        average (bool): If True, gets the data assuming data is an average.\n",
    "                        If False, gets the data assuming it is for single shots.\n",
    "    Return:\n",
    "        list: List containing job result data.\n",
    "    \"\"\"\n",
    "    job_results = job.result()  # timeout parameter set to 120 s\n",
    "    result_data = []\n",
    "    for i in range(len(job_results.results)):\n",
    "        if average:  # get avg data\n",
    "            result_data.append(np.real(job_results.get_memo(i)[qubit] * scale_factor))\n",
    "            print('here')\n",
    "        else:  # get single data\n",
    "            result_data.append(job_results.get_memory(i)[:, qubit] * scale_factor)\n",
    "            print(i, end='\\r')\n",
    "    return result_data\n",
    "\n",
    "\n",
    "def get_closest_multiple_of_16(num):\n",
    "    \"\"\"Compute the nearest multiple of 16. Needed because pulse enabled devices require\n",
    "    durations which are multiples of 16 samples.\n",
    "    \"\"\"\n",
    "    return int(num + 8) - (int(num + 8) % 16)"
   ],
   "metadata": {
    "collapsed": false,
    "pycharm": {
     "name": "#%%\n"
    }
   }
  },
  {
   "cell_type": "code",
   "execution_count": null,
   "outputs": [],
   "source": [
    "qubit = 0\n",
    "\n",
    "GHz = 1.0e9 # Gigahertz\n",
    "MHz = 1.0e6 # Megahertz\n",
    "us = 1.0e-6 # Microseconds\n",
    "ns = 1.0e-9 # Nanoseconds\n",
    "\n",
    "f01 = backend.configuration().hamiltonian['vars'][f'wq{qubit}']/(2*np.pi)\n",
    "anhar = (backend.properties().qubits[qubit][3].value)*1e9 # anhar in Hz => convert to GHz\n",
    "f12 = f01 + anhar\n",
    "x_sigma = 80\n",
    "x_duration = 320\n",
    "x01_amp = 0.07513041041956571\n",
    "x12_amp = 0.07077182615095635"
   ],
   "metadata": {
    "collapsed": false,
    "pycharm": {
     "name": "#%%\n"
    }
   }
  },
  {
   "cell_type": "code",
   "execution_count": null,
   "outputs": [],
   "source": [
    "def lorentzian(x, A, q_freq, B, C):\n",
    "    return (A / np.pi) * (B / ((x - q_freq)**2 + B**2)) + C\n",
    "def sinusoid(x, A, B, period, phi):\n",
    "    return A*np.cos(2*np.pi*x/period + phi) + B"
   ],
   "metadata": {
    "collapsed": false,
    "pycharm": {
     "name": "#%%\n"
    }
   }
  },
  {
   "cell_type": "markdown",
   "source": [
    "# Discriminator"
   ],
   "metadata": {
    "collapsed": false,
    "pycharm": {
     "name": "#%% md\n"
    }
   }
  },
  {
   "cell_type": "code",
   "execution_count": null,
   "outputs": [],
   "source": [
    "with qisp.build(backend=backend, default_alignment='sequential', name=r'$X_{\\pi}^{(01)}$') as inst_xpi01:\n",
    "    drive_chan = qisp.drive_channel(qubit)\n",
    "    qisp.set_frequency(f01, drive_chan)\n",
    "    qisp.play(qisp.Gaussian(duration=x_duration,\n",
    "                            amp=x01_amp,\n",
    "                            sigma=x_sigma,\n",
    "                            name=r'$X_{\\pi}^{(01)}$'), drive_chan)\n",
    "xpi01 = Gate('xp01', 1, [])\n",
    "inst_xpi01.draw()"
   ],
   "metadata": {
    "collapsed": false,
    "pycharm": {
     "name": "#%%\n"
    }
   }
  },
  {
   "cell_type": "code",
   "execution_count": null,
   "outputs": [],
   "source": [
    "with qisp.build(backend=backend, default_alignment='sequential', name=r'$X_{\\pi}^{(12)}$') as inst_xpi12:\n",
    "    drive_chan = qisp.drive_channel(qubit)\n",
    "    qisp.set_frequency(f12, drive_chan)\n",
    "    qisp.play(qisp.Gaussian(duration=x_duration,\n",
    "                              amp=x12_amp,\n",
    "                              sigma=x_sigma,\n",
    "                              name=r'$X_{\\pi}^{(12)}$'), drive_chan)\n",
    "\n",
    "xpi12 = Gate('xp12', 1, [])\n",
    "inst_xpi12.draw()"
   ],
   "metadata": {
    "collapsed": false,
    "pycharm": {
     "name": "#%%\n"
    }
   }
  },
  {
   "cell_type": "code",
   "execution_count": null,
   "outputs": [],
   "source": [],
   "metadata": {
    "collapsed": false,
    "pycharm": {
     "name": "#%%\n"
    }
   }
  },
  {
   "cell_type": "code",
   "execution_count": null,
   "outputs": [],
   "source": [
    "# 0 state\n",
    "ground_circs = QuantumCircuit(1, 1)\n",
    "ground_circs.measure(0, 0)\n",
    "\n",
    "# 1 state\n",
    "one_circs = QuantumCircuit(1, 1)\n",
    "one_circs.append(xpi01, [0])\n",
    "one_circs.measure(0, 0)\n",
    "one_circs.add_calibration(xpi01, (0,), inst_xpi01, [])\n",
    "\n",
    "# 2 state\n",
    "two_circs = QuantumCircuit(1, 1)\n",
    "two_circs.append(xpi01, [0])\n",
    "two_circs.append(xpi12, [0])\n",
    "two_circs.measure(0, 0)\n",
    "two_circs.add_calibration(xpi12, (0,), inst_xpi12, [])\n",
    "two_circs.add_calibration(xpi01, (0,), inst_xpi01, [])\n",
    "\n",
    "discriminator_circs = [ground_circs, one_circs, two_circs]"
   ],
   "metadata": {
    "collapsed": false,
    "pycharm": {
     "name": "#%%\n"
    }
   }
  },
  {
   "cell_type": "code",
   "execution_count": null,
   "outputs": [],
   "source": [
    "\n",
    "discriminator_job = backend.run(discriminator_circs,\n",
    "                       meas_level=1,\n",
    "                       meas_return='single',\n",
    "                       shots=20000)"
   ],
   "metadata": {
    "collapsed": false,
    "pycharm": {
     "name": "#%%\n"
    }
   }
  },
  {
   "cell_type": "code",
   "execution_count": null,
   "outputs": [],
   "source": [
    "discriminator_job.job_id()"
   ],
   "metadata": {
    "collapsed": false,
    "pycharm": {
     "name": "#%%\n"
    }
   }
  },
  {
   "cell_type": "markdown",
   "source": [
    "# Discriminator job\n",
    "'6347db674a53e849a5e39285'\n",
    "'6358f281227bc17b6c7e6206"
   ],
   "metadata": {
    "collapsed": false,
    "pycharm": {
     "name": "#%% md\n"
    }
   }
  },
  {
   "cell_type": "code",
   "execution_count": null,
   "outputs": [],
   "source": [
    "discriminator_job = backend.retrieve_job('6347db674a53e849a5e39285')"
   ],
   "metadata": {
    "collapsed": false,
    "pycharm": {
     "name": "#%%\n"
    }
   }
  },
  {
   "cell_type": "code",
   "execution_count": null,
   "outputs": [],
   "source": [
    "discriminator_data = get_job_data(discriminator_job, average=False)\n",
    "zero_data = discriminator_data[0]\n",
    "one_data = discriminator_data[1]\n",
    "two_data = discriminator_data[2]\n",
    "\n",
    "\n",
    "from sklearn.discriminant_analysis import LinearDiscriminantAnalysis\n",
    "from sklearn.model_selection import train_test_split\n",
    "\n",
    "def reshape_complex_vec(vec):\n",
    "    \"\"\"Take in complex vector vec and return 2d array w/ real, imag entries. This is needed for the learning.\n",
    "    Args:\n",
    "        vec (list): complex vector of data\n",
    "    Returns:\n",
    "        list: vector w/ entries given by (real(vec], imag(vec))\n",
    "    \"\"\"\n",
    "    length = len(vec)\n",
    "    vec_reshaped = np.zeros((length, 2))\n",
    "    for i in range(len(vec)):\n",
    "        vec_reshaped[i] = [np.real(vec[i]), np.imag(vec[i])]\n",
    "    return vec_reshaped\n",
    "\n",
    "\n",
    "# Create IQ vector (split real, imag parts)\n",
    "zero_data_reshaped = reshape_complex_vec(zero_data)\n",
    "one_data_reshaped = reshape_complex_vec(one_data)\n",
    "two_data_reshaped = reshape_complex_vec(two_data)\n",
    "\n",
    "IQ_012_data = np.concatenate((zero_data_reshaped, one_data_reshaped, two_data_reshaped))\n",
    "print(IQ_012_data.shape)  # verify IQ data shape\n",
    "\n",
    "NUM_SHOTS = 20000\n",
    "\n",
    "# construct vector w/ 0's, 1's and 2's (for testing)\n",
    "state_012 = np.zeros(NUM_SHOTS)  # shots gives number of experiments\n",
    "state_012 = np.concatenate((state_012, np.ones(NUM_SHOTS)))\n",
    "state_012 = np.concatenate((state_012, 2 * np.ones(NUM_SHOTS)))\n",
    "print(len(state_012))\n",
    "\n",
    "# Shuffle and split data into training and test sets\n",
    "IQ_012_train, IQ_012_test, state_012_train, state_012_test = train_test_split(IQ_012_data, state_012, test_size=0.5)\n",
    "\n",
    "# Set up the LDA\n",
    "LDA_012 = LinearDiscriminantAnalysis()\n",
    "LDA_012.fit(IQ_012_train, state_012_train)\n",
    "\n",
    "\n",
    "def count(job, discriminator):\n",
    "    print('retrieving data from', job.job_id())\n",
    "    data = get_job_data(job, average=False)\n",
    "    print('data is retrieved from', job.job_id())\n",
    "    sched_data = []\n",
    "    for i in range(len(data)):\n",
    "        sched_data.append(reshape_complex_vec(data[i]))\n",
    "    discrim_data = []\n",
    "    for j in range(len(sched_data)):\n",
    "        discrim_data.append(discriminator.predict(sched_data[j]))\n",
    "        print('predicting', j, end='\\r')\n",
    "    final_result = []\n",
    "    for k in range(len(discrim_data)):\n",
    "        result = {'0': 0, '1': 0, '2': 0}\n",
    "        for l in range(len(discrim_data[k])):\n",
    "            if discrim_data[k][l] == 0.0:\n",
    "                result['0'] += 1\n",
    "            elif discrim_data[k][l] == 1.0:\n",
    "                result['1'] += 1\n",
    "            elif discrim_data[k][l] == 2.0:\n",
    "                result['2'] += 1\n",
    "            else:\n",
    "                print('Unexpected behavior')\n",
    "        final_result.append(result)\n",
    "    return final_result\n"
   ],
   "metadata": {
    "collapsed": false,
    "pycharm": {
     "name": "#%%\n"
    }
   }
  },
  {
   "cell_type": "code",
   "execution_count": null,
   "outputs": [],
   "source": [
    "def IQ_012_plot(x_min, x_max, y_min, y_max):\n",
    "    \"\"\"Helper function for plotting IQ plane for 0, 1, 2. Limits of plot given\n",
    "    as arguments.\"\"\"\n",
    "    # zero data plotted in blue\n",
    "    alpha = 0.2\n",
    "    size = 0.05\n",
    "    plt.scatter(np.real(zero_data), np.imag(zero_data),\n",
    "                s=size, cmap='viridis', c='blue', alpha=alpha, label=r'$|0\\rangle$')\n",
    "    # one data plotted in red\n",
    "    plt.scatter(np.real(one_data), np.imag(one_data),\n",
    "                s=size, cmap='viridis', c='red', alpha=alpha, label=r'$|1\\rangle$')\n",
    "    # two data plotted in green\n",
    "    plt.scatter(np.real(two_data), np.imag(two_data),\n",
    "                s=size, cmap='viridis', c='green', alpha=alpha, label=r'$|2\\rangle$')\n",
    "\n",
    "    # Plot a large dot for the average result of the 0, 1 and 2 states.\n",
    "    mean_zero = np.mean(zero_data) # takes mean of both real and imaginary parts\n",
    "    mean_one = np.mean(one_data)\n",
    "    mean_two = np.mean(two_data)\n",
    "    mean_alpha = 1\n",
    "    mean_size = 100\n",
    "    plt.scatter(np.real(mean_zero), np.imag(mean_zero),\n",
    "                s=mean_size, cmap='viridis', c='black',alpha=mean_alpha)\n",
    "    plt.scatter(np.real(mean_one), np.imag(mean_one),\n",
    "                s=mean_size, cmap='viridis', c='black',alpha=mean_alpha)\n",
    "    plt.scatter(np.real(mean_two), np.imag(mean_two),\n",
    "                s=mean_size, cmap='viridis', c='black',alpha=mean_alpha)\n",
    "\n",
    "    plt.xlim(x_min, x_max)\n",
    "    plt.ylim(y_min,y_max)\n",
    "    plt.legend()\n",
    "    plt.ylabel('I [a.u.]', fontsize=15)\n",
    "    plt.xlabel('Q [a.u.]', fontsize=15)\n",
    "    plt.title(\"0-1-2 discrimination\", fontsize=15)\n",
    "\n",
    "def separatrixPlot(lda, x_min, x_max, y_min, y_max, shots):\n",
    "    nx, ny = shots, shots\n",
    "\n",
    "    xx, yy = np.meshgrid(np.linspace(x_min, x_max, nx),\n",
    "                         np.linspace(y_min, y_max, ny))\n",
    "    Z = lda.predict_proba(np.c_[xx.ravel(), yy.ravel()])\n",
    "    Z = Z[:, 1].reshape(xx.shape)\n",
    "\n",
    "    plt.contour(xx, yy, Z, [0.5], linewidths=2., colors='black')\n",
    "x_min = -30\n",
    "x_max = 40\n",
    "y_min = -40\n",
    "y_max = 30\n",
    "IQ_012_plot(x_min, x_max, y_min, y_max)\n",
    "# separatrixPlot(LDA_012, x_min, x_max, y_min, y_max, NUM_SHOTS)\n"
   ],
   "metadata": {
    "collapsed": false,
    "pycharm": {
     "name": "#%%\n"
    }
   }
  },
  {
   "cell_type": "code",
   "execution_count": null,
   "outputs": [],
   "source": [
    "discr_data = count(discriminator_job, LDA_012)\n",
    "#confusion matrix\n",
    "conf_mat = [[discr_data[i]['0'] / 20000, discr_data[i]['1'] / 20000, discr_data[i]['2'] / 20000] for i in\n",
    "                   range(np.shape(discr_data)[0])] \n",
    "conf_mat\n"
   ],
   "metadata": {
    "collapsed": false,
    "pycharm": {
     "name": "#%%\n"
    }
   }
  },
  {
   "cell_type": "code",
   "execution_count": null,
   "outputs": [],
   "source": [
    "!pip install cvxopt\n"
   ],
   "metadata": {
    "collapsed": false,
    "pycharm": {
     "name": "#%%\n"
    }
   }
  },
  {
   "cell_type": "code",
   "execution_count": null,
   "outputs": [],
   "source": [
    "from cvxopt import matrix, solvers\n",
    "def mitigated_population(p, C):\n",
    "    P = matrix(np.transpose(C).dot(C))\n",
    "    q = matrix(-np.transpose(p).dot(C))\n",
    "    G = matrix([[-1.0,0.0,0.0],[0.0,-1.0,0.0],[0.0,0.0,-1.0]])\n",
    "    h = matrix([0.0, 0.0, 0.0])\n",
    "    A = matrix([1.0, 1.0, 1.0], (1,3))\n",
    "    b = matrix(1.0)\n",
    "    solvers.options['show_progress'] = False\n",
    "    sol=solvers.qp(P, q, G, h, A, b)\n",
    "    return sol['x']\n",
    "\n",
    "def get_population(job_id, discriminator):\n",
    "    drag_job = backend.retrieve_job(job_id)\n",
    "    print('getting population from', job_id)\n",
    "    drag_values = count(drag_job, discriminator)\n",
    "    return [[val['0']/20000, val['1']/20000, val['2']/20000] for val in drag_values]\n",
    "\n",
    "def get_mitigated_population(job_id, discriminator, confusion_matrix):\n",
    "    population = get_population(job_id, discriminator)\n",
    "    mitigated = [mitigated_population(pop, confusion_matrix) for pop in population]\n",
    "    return mitigated"
   ],
   "metadata": {
    "collapsed": false,
    "pycharm": {
     "name": "#%%\n"
    }
   }
  },
  {
   "cell_type": "markdown",
   "source": [
    "# DRAG calibration"
   ],
   "metadata": {
    "collapsed": false,
    "pycharm": {
     "name": "#%% md\n"
    }
   }
  },
  {
   "cell_type": "code",
   "execution_count": null,
   "outputs": [],
   "source": [
    "drive_betas = np.linspace(-25, 75, 100)\n",
    "def exp_drag_circs(n, drive_betas):\n",
    "    drive_beta = Parameter('drive_beta')\n",
    "    with qisp.build(backend=backend, default_alignment='sequential') as XX_sched:\n",
    "        qisp.set_frequency(f12, qisp.drive_channel(0))\n",
    "        qisp.play(qisp.Drag(duration=x_duration,\n",
    "                            amp=x12_amp,\n",
    "                            sigma=x_sigma,\n",
    "                            beta=drive_beta), qisp.drive_channel(0))\n",
    "        qisp.shift_phase(-np.pi, qisp.drive_channel(0))\n",
    "        qisp.play(qisp.Drag(duration=x_duration,\n",
    "                            amp=x12_amp,\n",
    "                            sigma=x_sigma,\n",
    "                            beta=drive_beta), qisp.drive_channel(0))\n",
    "        qisp.shift_phase(-np.pi, qisp.drive_channel(0))\n",
    "\n",
    "    XX = Gate(\"$X_\\pi X_{-\\pi}$\", 1, [drive_beta])\n",
    "    qc_DRAG = QuantumCircuit(1, 1)\n",
    "    qc_DRAG.x(0)\n",
    "    i = 0\n",
    "    while i < n:\n",
    "        qc_DRAG.append(XX, [0])\n",
    "        i += 1\n",
    "    qc_DRAG.measure(0, 0)\n",
    "    qc_DRAG.add_calibration(XX, (0,), XX_sched, [drive_beta])\n",
    "    return [qc_DRAG.assign_parameters({drive_beta: b}, inplace=False) for b in drive_betas]\n"
   ],
   "metadata": {
    "collapsed": false,
    "pycharm": {
     "name": "#%%\n"
    }
   }
  },
  {
   "cell_type": "markdown",
   "source": [
    "# single meas_level = 1"
   ],
   "metadata": {
    "collapsed": false,
    "pycharm": {
     "name": "#%% md\n"
    }
   }
  },
  {
   "cell_type": "code",
   "execution_count": null,
   "outputs": [],
   "source": [
    "drag_job_single = backend.run(exp_drag_circs(1, np.linspace(-100, 100, 100)),\n",
    "                              meas_level=1,\n",
    "                              meas_return='single',\n",
    "                              shots=20000)\n",
    "drag_job_single.job_id()"
   ],
   "metadata": {
    "collapsed": false,
    "pycharm": {
     "name": "#%%\n"
    }
   }
  },
  {
   "cell_type": "code",
   "execution_count": null,
   "outputs": [],
   "source": [
    "drag_job_single = backend.retrieve_job('6350bf8c708bc4d2acf01fb5')\n",
    "drag_values = count(drag_job_single, LDA_012)\n",
    "one_population = [val['1']/20000 for val in drag_values]\n",
    "plt.scatter(drive_betas, one_population, marker='o', linestyle='-', color= 'red')"
   ],
   "metadata": {
    "collapsed": false,
    "pycharm": {
     "name": "#%%\n"
    }
   }
  },
  {
   "cell_type": "code",
   "execution_count": null,
   "outputs": [],
   "source": [
    "drag_job_single = []\n",
    "drag_job_single_id = []\n",
    "for i in range(5):\n",
    "    drag_job = backend.run(exp_drag_circs(2*i + 3, drive_betas),\n",
    "                               meas_level=1,\n",
    "                               meas_return='single',\n",
    "                               shots=20000)\n",
    "    drag_job_single.append(drag_job)\n",
    "    drag_job_single_id.append(drag_job.job_id())\n",
    "drag_job_single_id"
   ],
   "metadata": {
    "collapsed": false,
    "pycharm": {
     "name": "#%%\n"
    }
   }
  },
  {
   "cell_type": "code",
   "execution_count": null,
   "outputs": [],
   "source": [
    "# job_ids = ['634d129d65bf29eba1a757be', '634d4f61e1fa1c1a11de3e9d', '634d4f694a53e8ceaee39d8d']\n",
    "job_ids = ['634e93c8d85187394ffb637e',\n",
    "           '634e93cb708bc4e8c0f01749',\n",
    "           '634e93ce65bf291e66a75c42',\n",
    "           '634e93d2e1fa1c8992de41cb',\n",
    "           '634e93d54a53e8725ce3a0a3']\n",
    "colors = ['red', 'blue', 'green']\n",
    "population = [get_mitigated_population(id, LDA_012, conf_mat) for id in job_ids]"
   ],
   "metadata": {
    "collapsed": false,
    "pycharm": {
     "name": "#%%\n"
    }
   }
  },
  {
   "cell_type": "code",
   "execution_count": null,
   "outputs": [],
   "source": [
    "colors = ['red', 'blue', 'green', 'pink', 'orange']\n",
    "plt.rcParams['text.usetex'] = True\n",
    "for i in range(5):\n",
    "    plt.scatter(drive_betas, [pop[1] for pop in population[i]], marker='o', linestyle='-', color= colors[i])\n",
    "plt.legend([f'$n = {2*i + 3}$' for i in range(5)], fontsize = 10)\n",
    "plt.ylim(0.9, 1.1)\n",
    "plt.xlabel('$\\\\beta$', fontsize = 20)\n",
    "plt.ylabel('$P_{|1\\\\rangle}$', fontsize = 20)"
   ],
   "metadata": {
    "collapsed": false,
    "pycharm": {
     "name": "#%%\n"
    }
   }
  },
  {
   "cell_type": "code",
   "execution_count": null,
   "outputs": [],
   "source": [],
   "metadata": {
    "collapsed": false,
    "pycharm": {
     "name": "#%%\n"
    }
   }
  },
  {
   "cell_type": "code",
   "execution_count": null,
   "outputs": [],
   "source": [
    "x_def = backend.defaults().instruction_schedule_map.get('x',qubits = [0])\n",
    "x_def_pulse = x_def.instructions[0][1].pulse\n",
    "print(f\"amplitude = {x_def_pulse.amp}, beta = {x_def_pulse.beta}, duration = {x_def.duration}, sigma = {x_def_pulse.sigma}\")\n",
    "x_def.draw()"
   ],
   "metadata": {
    "collapsed": false,
    "pycharm": {
     "name": "#%%\n"
    }
   }
  },
  {
   "cell_type": "markdown",
   "source": [
    "# X12 DRAG Schedule"
   ],
   "metadata": {
    "collapsed": false,
    "pycharm": {
     "name": "#%% md\n"
    }
   }
  },
  {
   "cell_type": "code",
   "execution_count": null,
   "outputs": [],
   "source": [
    "beta01 = -5.56027426e-02"
   ],
   "metadata": {
    "collapsed": false,
    "pycharm": {
     "name": "#%%\n"
    }
   }
  },
  {
   "cell_type": "code",
   "execution_count": null,
   "outputs": [],
   "source": [
    "with qisp.build(backend=backend, default_alignment='sequential') as X01_drag_sched:\n",
    "    qisp.set_frequency(f01, qisp.drive_channel(0))\n",
    "    qisp.play(qisp.Drag(duration=x_duration,\n",
    "                        amp=x01_amp,\n",
    "                        sigma=x_sigma,\n",
    "                        beta=beta01), qisp.drive_channel(0))"
   ],
   "metadata": {
    "collapsed": false,
    "pycharm": {
     "name": "#%%\n"
    }
   }
  },
  {
   "cell_type": "code",
   "execution_count": null,
   "outputs": [],
   "source": [
    "drive_betas = np.linspace(0, 99, 100)\n",
    "drive_beta = Parameter('drive_beta')\n",
    "with qisp.build(backend=backend, default_alignment='sequential') as X12_drag_sched:\n",
    "    qisp.set_frequency(f12, qisp.drive_channel(0))\n",
    "    qisp.play(qisp.Drag(duration=x_duration,\n",
    "                        amp=x12_amp,\n",
    "                        sigma=x_sigma,\n",
    "                        beta=drive_beta), qisp.drive_channel(0))\n",
    "qc_DRAG = QuantumCircuit(1, 1)\n",
    "X01_drag = Gate(\"$X^{01}_\\pi$\", 1, [])\n",
    "X12_drag = Gate(\"$X^{12}_\\pi$\", 1, [drive_beta])\n",
    "qc_DRAG.append(X01_drag, [0])\n",
    "qc_DRAG.append(X12_drag, [0])\n",
    "qc_DRAG.measure(0, 0)\n",
    "qc_DRAG.add_calibration(X01_drag, (0,), X01_drag_sched)\n",
    "qc_DRAG.add_calibration(X12_drag, (0,), X12_drag_sched, [drive_beta])\n",
    "\n",
    "X12_drag_circs = [qc_DRAG.assign_parameters({drive_beta: b}, inplace=False) for b in drive_betas]"
   ],
   "metadata": {
    "collapsed": false,
    "pycharm": {
     "name": "#%%\n"
    }
   }
  },
  {
   "cell_type": "code",
   "execution_count": null,
   "outputs": [],
   "source": [
    "X12_drag_circs[0].draw(output='mpl')"
   ],
   "metadata": {
    "collapsed": false,
    "pycharm": {
     "name": "#%%\n"
    }
   }
  },
  {
   "cell_type": "code",
   "execution_count": null,
   "outputs": [],
   "source": [
    "X12_drag_job = backend.run(X12_drag_circs,\n",
    "                              meas_level=1,\n",
    "                              meas_return='single',\n",
    "                              shots=20000)\n",
    "X12_drag_job.job_id()"
   ],
   "metadata": {
    "collapsed": false,
    "pycharm": {
     "name": "#%%\n"
    }
   }
  },
  {
   "cell_type": "markdown",
   "source": [
    "## X12 DRAG beta sweeping\n",
    "(0, 99): '6357ddba3bceada9e35ea903' '635cb4e67a93ee23a3e2581f'\n",
    "(-100, -1): '6357ddfa3bcead76595ea906' '635ca49d7a93ee3c69e2580f'\n",
    "\n"
   ],
   "metadata": {
    "collapsed": false,
    "pycharm": {
     "name": "#%% md\n"
    }
   }
  },
  {
   "cell_type": "code",
   "execution_count": null,
   "outputs": [],
   "source": [
    "x01_amp = 0.07806141411699999"
   ],
   "metadata": {
    "collapsed": false,
    "pycharm": {
     "name": "#%%\n"
    }
   }
  },
  {
   "cell_type": "code",
   "execution_count": null,
   "outputs": [],
   "source": [
    "ids = ['635ca49d7a93ee3c69e2580f', '635cb4e67a93ee23a3e2581f']\n",
    "population = []\n",
    "for id in ids:\n",
    "    for pop in get_mitigated_population(id, LDA_012, conf_mat):\n",
    "        population.append(pop)"
   ],
   "metadata": {
    "collapsed": false,
    "pycharm": {
     "name": "#%%\n"
    }
   }
  },
  {
   "cell_type": "code",
   "execution_count": null,
   "outputs": [],
   "source": [],
   "metadata": {
    "collapsed": false,
    "pycharm": {
     "name": "#%%\n"
    }
   }
  },
  {
   "cell_type": "code",
   "execution_count": null,
   "outputs": [],
   "source": [
    "one_population = np.array([pop[1] for pop in population])\n",
    "drive_betas = np.linspace(-100, 99, 200)\n",
    "params = curve_fit(sinusoid, drive_betas, [pop[2] for pop in population], [1,0.5,200,0], maxfev = 50000)[0]\n",
    "\n",
    "x_val = np.linspace(-100, 99, 10000)\n",
    "plt.scatter(drive_betas, [pop[2] for pop in population], marker='o', linestyle='-', color= 'red')\n",
    "plt.plot(x_val, sinusoid(x_val, *params), color= 'black')\n",
    "sinusoid(params[1], *params)"
   ],
   "metadata": {
    "collapsed": false,
    "pycharm": {
     "name": "#%%\n"
    }
   }
  },
  {
   "cell_type": "code",
   "execution_count": null,
   "outputs": [],
   "source": [
    "beta_12 = params[1]\n",
    "beta_12"
   ],
   "metadata": {
    "collapsed": false,
    "pycharm": {
     "name": "#%%\n"
    }
   }
  },
  {
   "cell_type": "markdown",
   "source": [
    "## X12 drag testing beta\n",
    "beta12 = 0.5000966716948915"
   ],
   "metadata": {
    "collapsed": false,
    "pycharm": {
     "name": "#%% md\n"
    }
   }
  },
  {
   "cell_type": "code",
   "execution_count": null,
   "outputs": [],
   "source": [
    "beta12 = 0.5000966716948915"
   ],
   "metadata": {
    "collapsed": false,
    "pycharm": {
     "name": "#%%\n"
    }
   }
  },
  {
   "cell_type": "code",
   "execution_count": null,
   "outputs": [],
   "source": [
    "with qisp.build(backend=backend, default_alignment='sequential') as X12_drag_sched:\n",
    "    qisp.set_frequency(f12, qisp.drive_channel(0))\n",
    "    qisp.play(qisp.Drag(duration=x_duration,\n",
    "                        amp=x12_amp,\n",
    "                        sigma=x_sigma,\n",
    "                        beta=beta12), qisp.drive_channel(0))\n",
    "X12_circs = []\n",
    "for i in range(100):\n",
    "    qc_DRAG = QuantumCircuit(1, 1)\n",
    "    X01_drag = Gate(\"$X^{01}_\\pi$\", 1, [])\n",
    "    X12_drag = Gate(\"$X^{12}_\\pi$\", 1, [])\n",
    "    qc_DRAG.append(X01_drag, [0])\n",
    "    qc_DRAG.append(X12_drag, [0])\n",
    "    qc_DRAG.measure(0, 0)\n",
    "    qc_DRAG.add_calibration(X01_drag, (0,), X01_drag_sched)\n",
    "    qc_DRAG.add_calibration(X12_drag, (0,), X12_drag_sched)\n",
    "    X12_circs.append(qc_DRAG)"
   ],
   "metadata": {
    "collapsed": false,
    "pycharm": {
     "name": "#%%\n"
    }
   }
  },
  {
   "cell_type": "code",
   "execution_count": null,
   "outputs": [],
   "source": [
    "len(X12_circs)"
   ],
   "metadata": {
    "collapsed": false,
    "pycharm": {
     "name": "#%%\n"
    }
   }
  },
  {
   "cell_type": "code",
   "execution_count": null,
   "outputs": [],
   "source": [
    "X12_job = backend.run(X12_circs,\n",
    "                           meas_level=1,\n",
    "                           meas_return='single',\n",
    "                           shots=20000)\n",
    "X12_job.job_id()"
   ],
   "metadata": {
    "collapsed": false,
    "pycharm": {
     "name": "#%%\n"
    }
   }
  },
  {
   "cell_type": "code",
   "execution_count": null,
   "outputs": [],
   "source": [
    "population = get_mitigated_population('635e7d67c585eacc097ab2d6', LDA_012, conf_mat)"
   ],
   "metadata": {
    "collapsed": false,
    "pycharm": {
     "name": "#%%\n"
    }
   }
  },
  {
   "cell_type": "code",
   "execution_count": null,
   "outputs": [],
   "source": [
    "plt.scatter(range(100), [pop[2] for pop in population], marker='o', linestyle='-', color= 'red')"
   ],
   "metadata": {
    "collapsed": false,
    "pycharm": {
     "name": "#%%\n"
    }
   }
  },
  {
   "cell_type": "code",
   "execution_count": null,
   "outputs": [],
   "source": [
    "print(population[10])"
   ],
   "metadata": {
    "collapsed": false,
    "pycharm": {
     "name": "#%%\n"
    }
   }
  },
  {
   "cell_type": "markdown",
   "source": [
    "## X01 DRAG result"
   ],
   "metadata": {
    "collapsed": false,
    "pycharm": {
     "name": "#%% md\n"
    }
   }
  },
  {
   "cell_type": "code",
   "execution_count": null,
   "outputs": [],
   "source": [
    "drive_betas = np.linspace(-100, 100, 100)\n",
    "drive_beta = Parameter('drive_beta')\n",
    "with qisp.build(backend=backend, default_alignment='sequential') as X01_drag_sched:\n",
    "    qisp.set_frequency(f01, qisp.drive_channel(0))\n",
    "    qisp.play(qisp.Drag(duration=x_duration,\n",
    "                        amp=x01_amp,\n",
    "                        sigma=x_sigma,\n",
    "                        beta=drive_beta), qisp.drive_channel(0))"
   ],
   "metadata": {
    "collapsed": false,
    "pycharm": {
     "name": "#%%\n"
    }
   }
  },
  {
   "cell_type": "code",
   "execution_count": null,
   "outputs": [],
   "source": [
    "qc_X = QuantumCircuit(1, 1)\n",
    "X01_drag = Gate(\"$X^{01}_\\pi$\", 1, [drive_beta])\n",
    "qc_X.add_calibration(X01_drag, (0,), X01_drag_sched, [drive_beta])\n",
    "qc_X.append(X01_drag, [0])\n",
    "qc_X.measure(0, 0)\n",
    "X_circs = [qc_X.assign_parameters({drive_beta: b}, inplace=False) for b in drive_betas]\n"
   ],
   "metadata": {
    "collapsed": false,
    "pycharm": {
     "name": "#%%\n"
    }
   }
  },
  {
   "cell_type": "code",
   "execution_count": null,
   "outputs": [],
   "source": [
    "X01_drag_job = backend.run(X_circs,\n",
    "                              meas_level=1,\n",
    "                              meas_return='single',\n",
    "                              shots=20000)\n",
    "X01_drag_job.job_id()"
   ],
   "metadata": {
    "collapsed": false,
    "pycharm": {
     "name": "#%%\n"
    }
   }
  },
  {
   "cell_type": "markdown",
   "source": [
    "(-25, 25): 635acf6b227bc120ea7e66bf\n",
    "(-100, 100): 635b4c4c1c0b4a2d4bcae2bf"
   ],
   "metadata": {
    "collapsed": false,
    "pycharm": {
     "name": "#%% md\n"
    }
   }
  },
  {
   "cell_type": "code",
   "execution_count": null,
   "outputs": [],
   "source": [
    "population = get_mitigated_population('635b4c4c1c0b4a2d4bcae2bf', LDA_012, conf_mat)"
   ],
   "metadata": {
    "collapsed": false,
    "pycharm": {
     "name": "#%%\n"
    }
   }
  },
  {
   "cell_type": "code",
   "execution_count": null,
   "outputs": [],
   "source": [
    "drive_betas = np.linspace(-25, 25, 100)\n",
    "params = curve_fit(lorentzian, drive_betas, [pop[1] for pop in population], [1,1,0,0], maxfev = 50000)[0]\n",
    "params"
   ],
   "metadata": {
    "collapsed": false,
    "pycharm": {
     "name": "#%%\n"
    }
   }
  },
  {
   "cell_type": "code",
   "execution_count": null,
   "outputs": [],
   "source": [
    "x_val = np.linspace(-25, 25, 10000)\n",
    "plt.scatter(drive_betas, [pop[1] for pop in population], marker='o', linestyle='-', color= 'red')\n",
    "plt.plot(x_val, lorentzian(x_val, *params), color= 'black')\n",
    "lorentzian(params[1], *params)"
   ],
   "metadata": {
    "collapsed": false,
    "pycharm": {
     "name": "#%%\n"
    }
   }
  },
  {
   "cell_type": "markdown",
   "source": [
    "# Rabi 01"
   ],
   "metadata": {
    "collapsed": false,
    "pycharm": {
     "name": "#%% md\n"
    }
   }
  },
  {
   "cell_type": "code",
   "execution_count": null,
   "outputs": [],
   "source": [
    "# population = get_population('635a778e6756f96a08ef497f', LDA_012)\n",
    "population = get_mitigated_population('635a778e6756f96a08ef497f', LDA_012, conf_mat)"
   ],
   "metadata": {
    "collapsed": false,
    "pycharm": {
     "name": "#%%\n"
    }
   }
  },
  {
   "cell_type": "code",
   "execution_count": null,
   "outputs": [],
   "source": [
    "drive_betas = np.linspace(0,0.75, 100)\n",
    "x_val = np.linspace(0,0.75, 10000)\n",
    "plt.scatter(drive_betas, [pop[1] for pop in population], marker='o', linestyle='-', color= 'blue')\n",
    "params = curve_fit(sinusoid, drive_betas, [pop[1] for pop in population], [1/2,1/2,0.15,0], maxfev = 50000)[0]\n",
    "plt.plot(x_val, sinusoid(x_val, *params), color= 'black')\n",
    "plt.ylim(0,1)\n",
    "sinusoid(params[2]/2, *params)"
   ],
   "metadata": {
    "collapsed": false,
    "pycharm": {
     "name": "#%%\n"
    }
   }
  },
  {
   "cell_type": "markdown",
   "source": [
    "## IBM default X result"
   ],
   "metadata": {
    "collapsed": false,
    "pycharm": {
     "name": "#%% md\n"
    }
   }
  },
  {
   "cell_type": "markdown",
   "source": [
    "'6357a8a2333aebed5989e9ae' '6357dec51ff364fb82749621'"
   ],
   "metadata": {
    "collapsed": false,
    "pycharm": {
     "name": "#%% md\n"
    }
   }
  },
  {
   "cell_type": "code",
   "execution_count": null,
   "outputs": [],
   "source": [
    "# population = get_population('6357dec51ff364fb82749621', LDA_012)\n",
    "population = get_mitigated_population('6357dec51ff364fb82749621', LDA_012, conf_mat)"
   ],
   "metadata": {
    "collapsed": false,
    "pycharm": {
     "name": "#%%\n"
    }
   }
  },
  {
   "cell_type": "code",
   "execution_count": null,
   "outputs": [],
   "source": [
    "plt.scatter(range(100), [pop[0] for pop in population], marker='o', linestyle='-', color= 'red')\n",
    "plt.scatter(range(100), [pop[1] for pop in population], marker='o', linestyle='-', color= 'blue')\n",
    "plt.scatter(range(100), [pop[2] for pop in population], marker='o', linestyle='-', color= 'green')\n",
    "\n",
    "plt.ylim(0,1)"
   ],
   "metadata": {
    "collapsed": false,
    "pycharm": {
     "name": "#%%\n"
    }
   }
  },
  {
   "cell_type": "code",
   "execution_count": null,
   "outputs": [],
   "source": [
    "population = get_population('6357dec51ff364fb82749621', LDA_012)\n",
    "plt.scatter(range(100), [pop[1] for pop in population], marker='o', linestyle='-', color= 'blue')\n"
   ],
   "metadata": {
    "collapsed": false,
    "pycharm": {
     "name": "#%%\n"
    }
   }
  },
  {
   "cell_type": "markdown",
   "source": [
    "# SX exp"
   ],
   "metadata": {
    "collapsed": false,
    "pycharm": {
     "name": "#%% md\n"
    }
   }
  },
  {
   "cell_type": "code",
   "execution_count": null,
   "outputs": [],
   "source": [
    "beta_optimum = -5.56027426e-02"
   ],
   "metadata": {
    "collapsed": false,
    "pycharm": {
     "name": "#%%\n"
    }
   }
  },
  {
   "cell_type": "code",
   "execution_count": null,
   "outputs": [],
   "source": [
    "with qisp.build(backend=backend, default_alignment='sequential') as SX_sched:\n",
    "    qisp.set_frequency(f01, qisp.drive_channel(0))\n",
    "    qisp.play(qisp.Drag(duration=x_duration,\n",
    "                        amp=x01_amp/2,\n",
    "                        sigma=x_sigma,\n",
    "                        beta=beta_optimum), qisp.drive_channel(0))\n"
   ],
   "metadata": {
    "collapsed": false,
    "pycharm": {
     "name": "#%%\n"
    }
   }
  },
  {
   "cell_type": "code",
   "execution_count": null,
   "outputs": [],
   "source": [
    "SX_circs = []\n",
    "for i in range(100):\n",
    "    qc_SX = QuantumCircuit(1, 1)\n",
    "    SX = Gate(\"$SX$\", 1, [])\n",
    "    qc_SX.add_calibration(SX, (0,), SX_sched, [])\n",
    "    qc_SX.append(SX, [0])\n",
    "    for j in range(i):\n",
    "        qc_SX.append(SX, [0])\n",
    "    qc_SX.measure(qubit, 0)\n",
    "    SX_circs.append(qc_SX)"
   ],
   "metadata": {
    "collapsed": false,
    "pycharm": {
     "name": "#%%\n"
    }
   }
  },
  {
   "cell_type": "code",
   "execution_count": null,
   "outputs": [],
   "source": [
    "SX_circs[1].draw(output='mpl')"
   ],
   "metadata": {
    "collapsed": false,
    "pycharm": {
     "name": "#%%\n"
    }
   }
  },
  {
   "cell_type": "code",
   "execution_count": null,
   "outputs": [],
   "source": [
    "len(SX_circs)"
   ],
   "metadata": {
    "collapsed": false,
    "pycharm": {
     "name": "#%%\n"
    }
   }
  },
  {
   "cell_type": "code",
   "execution_count": null,
   "outputs": [],
   "source": [
    "SX_job = backend.run(SX_circs,\n",
    "                    meas_level=2,\n",
    "                    meas_return='single',\n",
    "                    shots=2**14)\n",
    "SX_job.job_id()"
   ],
   "metadata": {
    "collapsed": false,
    "pycharm": {
     "name": "#%%\n"
    }
   }
  },
  {
   "cell_type": "markdown",
   "source": [
    "# SX job\n",
    "633ea125feb64c920ea00369: -1.3013013013013008\n",
    "633f8983e212b028d4beef0c: -0.6206206206206204\n"
   ],
   "metadata": {
    "collapsed": false,
    "pycharm": {
     "name": "#%% md\n"
    }
   }
  },
  {
   "cell_type": "code",
   "execution_count": null,
   "outputs": [],
   "source": [
    "SX_job = backend.retrieve_job('635ca382333aeb857a89f81c')"
   ],
   "metadata": {
    "collapsed": false,
    "pycharm": {
     "name": "#%%\n"
    }
   }
  },
  {
   "cell_type": "code",
   "execution_count": 11,
   "id": "a7535a06-bb8e-4362-b0dd-a7dc587fccba",
   "metadata": {},
   "outputs": [
    {
     "name": "stdout",
     "output_type": "stream",
     "text": [
      "getting population from 635b4c4c1c0b4a2d4bcae2bf\n",
      "retrieving data from 635b4c4c1c0b4a2d4bcae2bf\n",
      "data is retrieved from 635b4c4c1c0b4a2d4bcae2bf\n",
      "predicting 99\r"
     ]
    }
   ],
   "source": [
    "population = get_mitigated_population('635b4c4c1c0b4a2d4bcae2bf', LDA_012, conf_mat)"
   ]
  },
  {
   "cell_type": "code",
   "execution_count": 14,
   "id": "7d7f05ed-3637-4069-a801-3625caef22f3",
   "metadata": {},
   "outputs": [
    {
     "data": {
      "text/plain": [
       "array([ 1.46324712e+02, -1.49071884e-02,  2.57753563e+01, -9.41108369e-01])"
      ]
     },
     "execution_count": 14,
     "metadata": {},
     "output_type": "execute_result"
    }
   ],
   "source": [
    "drive_betas = np.linspace(-25, 25, 100)\n",
    "params = curve_fit(lorentzian, drive_betas, [pop[1] for pop in population], [1,1,0,0], maxfev = 50000)[0]\n",
    "params"
   ]
  },
  {
   "cell_type": "code",
   "execution_count": 15,
   "id": "32b555be-7842-4083-9826-eb7c41f5d77a",
   "metadata": {},
   "outputs": [
    {
     "data": {
      "text/plain": [
       "0.8659123266990938"
      ]
     },
     "execution_count": 15,
     "metadata": {},
     "output_type": "execute_result"
    },
    {
     "data": {
      "image/png": "[encoded data removed]",
      "text/plain": [
       "<Figure size 432x288 with 1 Axes>"
      ]
     },
     "metadata": {
      "needs_background": "light"
     },
     "output_type": "display_data"
    }
   ],
   "source": [
    "x_val = np.linspace(-25, 25, 10000)\n",
    "plt.scatter(drive_betas, [pop[1] for pop in population], marker='o', linestyle='-', color= 'red')\n",
    "plt.plot(x_val, lorentzian(x_val, *params), color= 'black')\n",
    "lorentzian(params[1], *params)"
   ]
  },
  {
   "cell_type": "markdown",
   "id": "b8871ca9-cbe3-498a-907a-cac3a74ee393",
   "metadata": {},
   "source": [
    "# Rabi 01"
   ]
  },
  {
   "cell_type": "code",
   "execution_count": 20,
   "id": "3fefdc8a-3e4e-408f-97cb-69aa8a8efd68",
   "metadata": {},
   "outputs": [
    {
     "name": "stdout",
     "output_type": "stream",
     "text": [
      "getting population from 635a778e6756f96a08ef497f\n",
      "retrieving data from 635a778e6756f96a08ef497f\n",
      "data is retrieved from 635a778e6756f96a08ef497f\n",
      "predicting 99\r"
     ]
    }
   ],
   "source": [
    "# population = get_population('635a778e6756f96a08ef497f', LDA_012)\n",
    "population = get_mitigated_population('635a778e6756f96a08ef497f', LDA_012, conf_mat)"
   ]
  },
  {
   "cell_type": "code",
   "execution_count": 25,
   "id": "496bc0bb-77ee-4f15-a161-16a1e4445a82",
   "metadata": {},
   "outputs": [
    {
     "data": {
      "text/plain": [
       "0.9054618339194518"
      ]
     },
     "execution_count": 25,
     "metadata": {},
     "output_type": "execute_result"
    },
    {
     "data": {
      "image/png": "[encoded data removed]",
      "text/plain": [
       "<Figure size 432x288 with 1 Axes>"
      ]
     },
     "metadata": {
      "needs_background": "light"
     },
     "output_type": "display_data"
    }
   ],
   "source": [
    "drive_betas = np.linspace(0,0.75, 100)\n",
    "x_val = np.linspace(0,0.75, 10000)\n",
    "plt.scatter(drive_betas, [pop[1] for pop in population], marker='o', linestyle='-', color= 'blue')\n",
    "params = curve_fit(sinusoid, drive_betas, [pop[1] for pop in population], [1/2,1/2,0.15,0], maxfev = 50000)[0]\n",
    "plt.plot(x_val, sinusoid(x_val, *params), color= 'black')\n",
    "plt.ylim(0,1)\n",
    "sinusoid(params[2]/2, *params)"
   ]
  },
  {
   "cell_type": "markdown",
   "id": "bc1e25c2",
   "metadata": {
    "tags": []
   },
   "source": [
    "## IBM default X result"
   ]
  },
  {
   "cell_type": "markdown",
   "id": "255d4b2c-0478-44c7-8ce2-e6bd6ad65abf",
   "metadata": {},
   "source": [
    "'6357a8a2333aebed5989e9ae' '6357dec51ff364fb82749621'"
   ]
  },
  {
   "cell_type": "code",
   "execution_count": 16,
   "id": "c19004dc",
   "metadata": {
    "collapsed": false,
    "jupyter": {
     "outputs_hidden": false
    },
    "pycharm": {
     "name": "#%%\n"
    }
   },
   "outputs": [
    {
     "name": "stdout",
     "output_type": "stream",
     "text": [
      "getting population from 6357dec51ff364fb82749621\n",
      "retrieving data from 6357dec51ff364fb82749621\n",
      "data is retrieved from 6357dec51ff364fb82749621\n",
      "predicting 99\r"
     ]
    }
   ],
   "source": [
    "# population = get_population('6357dec51ff364fb82749621', LDA_012)\n",
    "population = get_mitigated_population('6357dec51ff364fb82749621', LDA_012, conf_mat)"
   ]
  },
  {
   "cell_type": "code",
   "execution_count": 19,
   "id": "dbcd4d01",
   "metadata": {
    "collapsed": false,
    "jupyter": {
     "outputs_hidden": false
    },
    "pycharm": {
     "name": "#%%\n"
    }
   },
   "outputs": [
    {
     "data": {
      "text/plain": [
       "<matplotlib.collections.PathCollection at 0x7f33915c30d0>"
      ]
     },
     "execution_count": 19,
     "metadata": {},
     "output_type": "execute_result"
    },
    {
     "data": {
      "image/png": "[encoded data removed]",
      "text/plain": [
       "<Figure size 432x288 with 1 Axes>"
      ]
     },
     "metadata": {
      "needs_background": "light"
     },
     "output_type": "display_data"
    }
   ],
   "source": [
    "plt.scatter(range(100), [pop[0] for pop in population], marker='o', linestyle='-', color= 'red')\n",
    "plt.scatter(range(100), [pop[1] for pop in population], marker='o', linestyle='-', color= 'blue')\n",
    "plt.scatter(range(100), [pop[2] for pop in population], marker='o', linestyle='-', color= 'green')\n",
    "\n",
    "plt.ylim(0,1)"
   ]
  },
  {
   "cell_type": "code",
   "execution_count": 29,
   "id": "3965a015-3a79-4c3a-9258-9aba5a9f58f1",
   "metadata": {},
   "outputs": [
    {
     "name": "stdout",
     "output_type": "stream",
     "text": [
      "getting population from 6357dec51ff364fb82749621\n",
      "retrieving data from 6357dec51ff364fb82749621\n",
      "data is retrieved from 6357dec51ff364fb82749621\n",
      "predicting 99\r"
     ]
    },
    {
     "data": {
      "text/plain": [
       "<matplotlib.collections.PathCollection at 0x7f3f74b68e80>"
      ]
     },
     "execution_count": 29,
     "metadata": {},
     "output_type": "execute_result"
    },
    {
     "data": {
      "image/png": "[encoded data removed]",
      "text/plain": [
       "<Figure size 432x288 with 1 Axes>"
      ]
     },
     "metadata": {
      "needs_background": "light"
     },
     "output_type": "display_data"
    }
   ],
   "source": [
    "population = get_population('6357dec51ff364fb82749621', LDA_012)\n",
    "plt.scatter(range(100), [pop[1] for pop in population], marker='o', linestyle='-', color= 'blue')\n"
   ]
  },
  {
   "cell_type": "markdown",
   "id": "1c1fabef",
   "metadata": {
    "pycharm": {
     "name": "#%% md\n"
    },
    "tags": []
   },
   "source": [
    "# SX exp"
   ]
  },
  {
   "cell_type": "code",
   "execution_count": 114,
   "id": "8a835c6f-b79a-4db8-8d56-6a6606043bf1",
   "metadata": {},
   "outputs": [],
   "source": [
    "beta_optimum = -5.56027426e-02"
   ]
  },
  {
   "cell_type": "code",
   "execution_count": 117,
   "id": "7b8e1ba5",
   "metadata": {
    "collapsed": false,
    "jupyter": {
     "outputs_hidden": false
    },
    "pycharm": {
     "name": "#%%\n"
    }
   },
   "outputs": [],
   "source": [
    "with qisp.build(backend=backend, default_alignment='sequential') as SX_sched:\n",
    "    qisp.set_frequency(f01, qisp.drive_channel(0))\n",
    "    qisp.play(qisp.Drag(duration=x_duration,\n",
    "                        amp=x01_amp/2,\n",
    "                        sigma=x_sigma,\n",
    "                        beta=beta_optimum), qisp.drive_channel(0))\n"
   ]
  },
  {
   "cell_type": "code",
   "execution_count": 118,
   "id": "f2a1cf6d",
   "metadata": {
    "collapsed": false,
    "jupyter": {
     "outputs_hidden": false
    },
    "pycharm": {
     "name": "#%%\n"
    }
   },
   "outputs": [],
   "source": [
    "SX_circs = []\n",
    "for i in range(100):\n",
    "    qc_SX = QuantumCircuit(1, 1)\n",
    "    SX = Gate(\"$SX$\", 1, [])\n",
    "    qc_SX.add_calibration(SX, (0,), SX_sched, [])\n",
    "    qc_SX.append(SX, [0])\n",
    "    for j in range(i):\n",
    "        qc_SX.append(SX, [0])\n",
    "    qc_SX.measure(qubit, 0)\n",
    "    SX_circs.append(qc_SX)"
   ]
  },
  {
   "cell_type": "code",
   "execution_count": 119,
   "id": "3d913b6b",
   "metadata": {
    "collapsed": false,
    "jupyter": {
     "outputs_hidden": false
    },
    "pycharm": {
     "name": "#%%\n"
    }
   },
   "outputs": [
    {
     "data": {
      "image/png": "[encoded data removed]",
      "text/plain": [
       "<Figure size 374.326x144.48 with 1 Axes>"
      ]
     },
     "execution_count": 119,
     "metadata": {},
     "output_type": "execute_result"
    }
   ],
   "source": [
    "SX_circs[1].draw(output='mpl')"
   ]
  },
  {
   "cell_type": "code",
   "execution_count": 120,
   "id": "52d1f2f9",
   "metadata": {
    "collapsed": false,
    "jupyter": {
     "outputs_hidden": false
    },
    "pycharm": {
     "name": "#%%\n"
    }
   },
   "outputs": [
    {
     "data": {
      "text/plain": [
       "100"
      ]
     },
     "execution_count": 120,
     "metadata": {},
     "output_type": "execute_result"
    }
   ],
   "source": [
    "len(SX_circs)"
   ]
  },
  {
   "cell_type": "code",
   "execution_count": 121,
   "id": "e16fc735",
   "metadata": {
    "collapsed": false,
    "jupyter": {
     "outputs_hidden": false
    },
    "pycharm": {
     "name": "#%%\n"
    }
   },
   "outputs": [
    {
     "data": {
      "text/plain": [
       "'635ca382333aeb857a89f81c'"
      ]
     },
     "execution_count": 121,
     "metadata": {},
     "output_type": "execute_result"
    }
   ],
   "source": [
    "SX_job = backend.run(SX_circs,\n",
    "                    meas_level=2,\n",
    "                    meas_return='single',\n",
    "                    shots=2**14)\n",
    "SX_job.job_id()"
   ]
  },
  {
   "cell_type": "markdown",
   "id": "7697d59d",
   "metadata": {
    "pycharm": {
     "name": "#%% md\n"
    },
    "tags": []
   },
   "source": [
    "# SX job\n",
    "633ea125feb64c920ea00369: -1.3013013013013008\n",
    "633f8983e212b028d4beef0c: -0.6206206206206204\n"
   ]
  },
  {
   "cell_type": "code",
   "execution_count": 136,
   "id": "35111a18",
   "metadata": {
    "collapsed": false,
    "jupyter": {
     "outputs_hidden": false
    },
    "pycharm": {
     "name": "#%%\n"
    }
   },
   "outputs": [],
   "source": [
    "SX_job = backend.retrieve_job('635ca382333aeb857a89f81c')"
   ]
  },
  {
   "cell_type": "code",
   "execution_count": 137,
   "id": "6873281e",
   "metadata": {
    "collapsed": false,
    "jupyter": {
     "outputs_hidden": false
    },
    "pycharm": {
     "name": "#%%\n"
    }
   },
   "outputs": [],
   "source": [
    "SX_results = SX_job.result().get_counts()"
   ]
  },
  {
   "cell_type": "code",
   "execution_count": 138,
   "id": "d3e92c91",
   "metadata": {
    "collapsed": false,
    "jupyter": {
     "outputs_hidden": false
    },
    "pycharm": {
     "name": "#%%\n"
    }
   },
   "outputs": [
    {
     "data": {
      "text/plain": [
       "100"
      ]
     },
     "execution_count": 138,
     "metadata": {},
     "output_type": "execute_result"
    }
   ],
   "source": [
    "zero_population = [SX_results[i]['0']/2**14 for i in range(100)]\n",
    "len(zero_population)"
   ]
  },
  {
   "cell_type": "code",
   "execution_count": 139,
   "id": "8ef244cf",
   "metadata": {
    "collapsed": false,
    "jupyter": {
     "outputs_hidden": false
    },
    "pycharm": {
     "name": "#%%\n"
    }
   },
   "outputs": [],
   "source": [
    "def SX_theory(val, epsilon):\n",
    "    # return [1/2 + 1/2*np.cos(n*(np.pi/2 + epsilon)) for n in val]\n",
    "    return [np.cos(n*(np.pi/2 + epsilon)/2)**2 for n in val]\n"
   ]
  },
  {
   "cell_type": "code",
   "execution_count": 140,
   "id": "b9a063dc",
   "metadata": {
    "collapsed": false,
    "jupyter": {
     "outputs_hidden": false
    },
    "pycharm": {
     "name": "#%%\n"
    }
   },
   "outputs": [
    {
     "name": "stdout",
     "output_type": "stream",
     "text": [
      "Traceback \u001B[1;36m(most recent call last)\u001B[0m:\n",
      "\u001B[1;36m  Input \u001B[1;32mIn [140]\u001B[1;36m in \u001B[1;35m<cell line: 3>\u001B[1;36m\u001B[0m\n",
      "\u001B[1;33m    SX_params, SX_fit = fit_function(range(100),\u001B[0m\n",
      "\u001B[1;31mNameError\u001B[0m\u001B[1;31m:\u001B[0m name 'fit_function' is not defined\n",
      "\n",
      "Use %tb to get the full traceback.\n"
     ]
    },
    {
     "data": {
      "text/html": [
       "\n",
       "<style>\n",
       ".button {\n",
       "  border: none;\n",
       "  color: white;\n",
       "  padding: 4px 8px;\n",
       "  text-align: center;\n",
       "  text-decoration: none;\n",
       "  display: inline-block;\n",
       "  font-size: 12px;\n",
       "  margin: 4px 2px;\n",
       "  transition-duration: 0.2s;\n",
       "  cursor: pointer;\n",
       "}\n",
       ".iqx-button {\n",
       "  background-color: #0f62fe; \n",
       "  color: white; \n",
       "}\n",
       ".iqx-button:hover {\n",
       "  background-color: #0043ce;\n",
       "  color: white;\n",
       "}\n",
       "</style>\n",
       "<a href=\"https://stackoverflow.com/search?q=NameError: name 'fit_function' is not defined\" target='_blank'><button class='button iqx-button'>Search for solution online</button></a>\n"
      ],
      "text/plain": [
       "<IPython.core.display.HTML object>"
      ]
     },
     "metadata": {},
     "output_type": "display_data"
    }
   ],
   "source": [
    "exp_num = [i + 1  for i in range(100)]\n",
    "\n",
    "SX_params, SX_fit = fit_function(range(100),\n",
    "                                       zero_population,\n",
    "                                       SX_theory,\n",
    "                                       [0.02])\n",
    "print(SX_params)\n",
    "plt.scatter(exp_num, zero_population, marker='o', linestyle='-', color='blue')\n",
    "# plt.plot(range(100), SX_theory(range(100), SX_params), color='red')\n",
    "# plt.xlim([0, 20])\n",
    "plt.scatter(exp_num, SX_theory(exp_num, SX_params), color='red')"
   ]
  },
  {
   "cell_type": "code",
   "execution_count": 163,
   "id": "abb2f771",
   "metadata": {
    "collapsed": false,
    "jupyter": {
     "outputs_hidden": false
    },
    "pycharm": {
     "name": "#%%\n"
    }
   },
   "outputs": [
    {
     "data": {
      "text/plain": [
       "(0.0, 20.0)"
      ]
     },
     "execution_count": 163,
     "metadata": {},
     "output_type": "execute_result"
    },
    {
     "data": {
      "image/png": "[encoded data removed]",
      "text/plain": [
       "<Figure size 432x288 with 1 Axes>"
      ]
     },
     "metadata": {
      "needs_background": "light"
     },
     "output_type": "display_data"
    }
   ],
   "source": [
    "plt.scatter(exp_num, zero_population, marker='o', linestyle='-', color='blue')\n",
    "plt.scatter(exp_num, SX_theory(exp_num, 0.02), color='red')\n",
    "plt.xlim(0, 20)"
   ]
  },
  {
   "cell_type": "code",
   "execution_count": 18,
   "id": "61014e56",
   "metadata": {
    "collapsed": false,
    "jupyter": {
     "outputs_hidden": false
    },
    "pycharm": {
     "name": "#%%\n"
    }
   },
   "outputs": [],
   "source": [
    "SX_odd_circs = []\n",
    "for i in range(100):\n",
    "    qc_SX = QuantumCircuit(1, 1)\n",
    "    SX = Gate(\"$SX$\", 1, [])\n",
    "    qc_SX.add_calibration(SX, (0,), SX_sched, [])\n",
    "    qc_SX.append(SX, [0])\n",
    "    for j in range(i):\n",
    "        qc_SX.append(SX, [0])\n",
    "        qc_SX.append(SX, [0])\n",
    "    qc_SX.measure(qubit, 0)\n",
    "    SX_odd_circs.append(qc_SX)\n"
   ]
  },
  {
   "cell_type": "code",
   "execution_count": 351,
   "id": "d800f3ad",
   "metadata": {
    "collapsed": false,
    "jupyter": {
     "outputs_hidden": false
    },
    "pycharm": {
     "name": "#%%\n"
    }
   },
   "outputs": [
    {
     "data": {
      "image/png": "[encoded data removed]",
      "text/plain": [
       "<Figure size 494.726x144.48 with 1 Axes>"
      ]
     },
     "execution_count": 351,
     "metadata": {},
     "output_type": "execute_result"
    }
   ],
   "source": [
    "SX_odd_circs[1].draw(output='mpl')"
   ]
  },
  {
   "cell_type": "code",
   "execution_count": 266,
   "id": "e5e20396",
   "metadata": {
    "collapsed": false,
    "jupyter": {
     "outputs_hidden": false
    },
    "pycharm": {
     "name": "#%%\n"
    }
   },
   "outputs": [
    {
     "data": {
      "text/plain": [
       "'633ebe58338f42c077b76051'"
      ]
     },
     "execution_count": 266,
     "metadata": {},
     "output_type": "execute_result"
    }
   ],
   "source": [
    "SX_odd_job = backend.run(SX_odd_circs,\n",
    "                     meas_level=2,\n",
    "                     meas_return='single',\n",
    "                     shots=2**14)\n",
    "SX_odd_job.job_id()"
   ]
  },
  {
   "cell_type": "code",
   "execution_count": 19,
   "id": "1aeb7ad9",
   "metadata": {
    "collapsed": false,
    "jupyter": {
     "outputs_hidden": false
    },
    "pycharm": {
     "name": "#%%\n"
    }
   },
   "outputs": [],
   "source": [
    "SX_odd_job = backend.retrieve_job('633ebe58338f42c077b76051')"
   ]
  },
  {
   "cell_type": "code",
   "execution_count": 21,
   "id": "c084d10f",
   "metadata": {
    "collapsed": false,
    "jupyter": {
     "outputs_hidden": false
    },
    "pycharm": {
     "name": "#%%\n"
    }
   },
   "outputs": [],
   "source": [
    "SX_odd_results = SX_odd_job.result().get_counts()\n",
    "zero_population_odd = [SX_odd_results[i]['0']/2**14 for i in range(100)]"
   ]
  },
  {
   "cell_type": "code",
   "execution_count": 151,
   "id": "45b48adb",
   "metadata": {
    "collapsed": false,
    "jupyter": {
     "outputs_hidden": false
    },
    "pycharm": {
     "name": "#%%\n"
    }
   },
   "outputs": [],
   "source": [
    "def SX_odd_theory(val, A, B, epsilon):\n",
    "    # return [1/2 + 1/2*(-1)**n*np.cos(np.pi/2 + (2*n + 1)*epsilon) for n in val] #sheldon 2015\n",
    "    return [A + B*np.cos((2*n + 1)*(epsilon + np.pi/2)) for n in val]\n",
    "    # return [np.cos((epsilon + np.pi/2)*(n + 1/2))**2 for n in val]"
   ]
  },
  {
   "cell_type": "code",
   "execution_count": 166,
   "id": "403b9aab",
   "metadata": {
    "collapsed": false,
    "jupyter": {
     "outputs_hidden": false
    },
    "pycharm": {
     "name": "#%%\n"
    }
   },
   "outputs": [
    {
     "name": "stdout",
     "output_type": "stream",
     "text": [
      "[0.50823087 0.4525394  0.02019534]\n"
     ]
    },
    {
     "ename": "TypeError",
     "evalue": "'int' object is not iterable",
     "output_type": "error",
     "traceback": [
      "\u001B[0;31m---------------------------------------------------------------------------\u001B[0m",
      "\u001B[0;31mTypeError\u001B[0m                                 Traceback (most recent call last)",
      "Input \u001B[0;32mIn [166]\u001B[0m, in \u001B[0;36m<cell line: 5>\u001B[0;34m()\u001B[0m\n\u001B[1;32m      3\u001B[0m SX_odd_params \u001B[38;5;241m=\u001B[39m curve_fit(SX_odd_theory, exp_num[:num_fit], zero_population_odd[:num_fit], p0 \u001B[38;5;241m=\u001B[39m [\u001B[38;5;241m1\u001B[39m\u001B[38;5;241m/\u001B[39m\u001B[38;5;241m2\u001B[39m, \u001B[38;5;241m1\u001B[39m\u001B[38;5;241m/\u001B[39m\u001B[38;5;241m2\u001B[39m, \u001B[38;5;241m0.02\u001B[39m], maxfev\u001B[38;5;241m=\u001B[39m\u001B[38;5;241m5000\u001B[39m)[\u001B[38;5;241m0\u001B[39m]\n\u001B[1;32m      4\u001B[0m \u001B[38;5;28mprint\u001B[39m(SX_odd_params)\n\u001B[0;32m----> 5\u001B[0m residuals \u001B[38;5;241m=\u001B[39m [zero_population_odd[i] \u001B[38;5;241m-\u001B[39m SX_odd_theory(exp_num[i], \u001B[38;5;241m*\u001B[39mSX_odd_params) \u001B[38;5;28;01mfor\u001B[39;00m i \u001B[38;5;129;01min\u001B[39;00m \u001B[38;5;28mrange\u001B[39m(num_fit)]\n\u001B[1;32m      6\u001B[0m ss_res \u001B[38;5;241m=\u001B[39m np\u001B[38;5;241m.\u001B[39msum(residuals\u001B[38;5;241m*\u001B[39m\u001B[38;5;241m*\u001B[39m\u001B[38;5;241m2\u001B[39m)\n\u001B[1;32m      7\u001B[0m ss_tot \u001B[38;5;241m=\u001B[39m np\u001B[38;5;241m.\u001B[39msum((zero_population_odd[:num_fit]\u001B[38;5;241m-\u001B[39mnp\u001B[38;5;241m.\u001B[39mmean(zero_population_odd[:num_fit]))\u001B[38;5;241m*\u001B[39m\u001B[38;5;241m*\u001B[39m\u001B[38;5;241m2\u001B[39m)\n",
      "Input \u001B[0;32mIn [166]\u001B[0m, in \u001B[0;36m<listcomp>\u001B[0;34m(.0)\u001B[0m\n\u001B[1;32m      3\u001B[0m SX_odd_params \u001B[38;5;241m=\u001B[39m curve_fit(SX_odd_theory, exp_num[:num_fit], zero_population_odd[:num_fit], p0 \u001B[38;5;241m=\u001B[39m [\u001B[38;5;241m1\u001B[39m\u001B[38;5;241m/\u001B[39m\u001B[38;5;241m2\u001B[39m, \u001B[38;5;241m1\u001B[39m\u001B[38;5;241m/\u001B[39m\u001B[38;5;241m2\u001B[39m, \u001B[38;5;241m0.02\u001B[39m], maxfev\u001B[38;5;241m=\u001B[39m\u001B[38;5;241m5000\u001B[39m)[\u001B[38;5;241m0\u001B[39m]\n\u001B[1;32m      4\u001B[0m \u001B[38;5;28mprint\u001B[39m(SX_odd_params)\n\u001B[0;32m----> 5\u001B[0m residuals \u001B[38;5;241m=\u001B[39m [zero_population_odd[i] \u001B[38;5;241m-\u001B[39m \u001B[43mSX_odd_theory\u001B[49m\u001B[43m(\u001B[49m\u001B[43mexp_num\u001B[49m\u001B[43m[\u001B[49m\u001B[43mi\u001B[49m\u001B[43m]\u001B[49m\u001B[43m,\u001B[49m\u001B[43m \u001B[49m\u001B[38;5;241;43m*\u001B[39;49m\u001B[43mSX_odd_params\u001B[49m\u001B[43m)\u001B[49m \u001B[38;5;28;01mfor\u001B[39;00m i \u001B[38;5;129;01min\u001B[39;00m \u001B[38;5;28mrange\u001B[39m(num_fit)]\n\u001B[1;32m      6\u001B[0m ss_res \u001B[38;5;241m=\u001B[39m np\u001B[38;5;241m.\u001B[39msum(residuals\u001B[38;5;241m*\u001B[39m\u001B[38;5;241m*\u001B[39m\u001B[38;5;241m2\u001B[39m)\n\u001B[1;32m      7\u001B[0m ss_tot \u001B[38;5;241m=\u001B[39m np\u001B[38;5;241m.\u001B[39msum((zero_population_odd[:num_fit]\u001B[38;5;241m-\u001B[39mnp\u001B[38;5;241m.\u001B[39mmean(zero_population_odd[:num_fit]))\u001B[38;5;241m*\u001B[39m\u001B[38;5;241m*\u001B[39m\u001B[38;5;241m2\u001B[39m)\n",
      "Input \u001B[0;32mIn [151]\u001B[0m, in \u001B[0;36mSX_odd_theory\u001B[0;34m(val, A, B, epsilon)\u001B[0m\n\u001B[1;32m      1\u001B[0m \u001B[38;5;28;01mdef\u001B[39;00m \u001B[38;5;21mSX_odd_theory\u001B[39m(val, A, B, epsilon):\n\u001B[1;32m      2\u001B[0m     \u001B[38;5;66;03m# return [1/2 + 1/2*(-1)**n*np.cos(np.pi/2 + (2*n + 1)*epsilon) for n in val] #sheldon 2015\u001B[39;00m\n\u001B[0;32m----> 3\u001B[0m     \u001B[38;5;28;01mreturn\u001B[39;00m [A \u001B[38;5;241m+\u001B[39m B\u001B[38;5;241m*\u001B[39mnp\u001B[38;5;241m.\u001B[39mcos((\u001B[38;5;241m2\u001B[39m\u001B[38;5;241m*\u001B[39mn \u001B[38;5;241m+\u001B[39m \u001B[38;5;241m1\u001B[39m)\u001B[38;5;241m*\u001B[39m(epsilon \u001B[38;5;241m+\u001B[39m np\u001B[38;5;241m.\u001B[39mpi\u001B[38;5;241m/\u001B[39m\u001B[38;5;241m2\u001B[39m)) \u001B[38;5;28;01mfor\u001B[39;00m n \u001B[38;5;129;01min\u001B[39;00m val]\n",
      "\u001B[0;31mTypeError\u001B[0m: 'int' object is not iterable"
     ]
    }
   ],
   "source": [
    "num_fit = 78\n",
    "exp_num = [i + 1  for i in range(100)]\n",
    "SX_odd_params = curve_fit(SX_odd_theory, exp_num[:num_fit], zero_population_odd[:num_fit], p0 = [1/2, 1/2, 0.02], maxfev=5000)[0]\n",
    "print(SX_odd_params)\n",
    "residuals = [zero_population_odd[i] - SX_odd_theory(exp_num[i], *SX_odd_params) for i in range(num_fit)]\n",
    "ss_res = np.sum(residuals**2)\n",
    "ss_tot = np.sum((zero_population_odd[:num_fit]-np.mean(zero_population_odd[:num_fit]))**2)\n",
    "r_squared = 1 - (ss_res / ss_tot)\n",
    "print('r-squared =', r_squared)\n",
    "\n",
    "plt.scatter(exp_num[:num_fit], zero_population_odd[:num_fit], marker='o', linestyle='-', color='blue')\n",
    "# plt.plot(range(75), zero_population_odd[:75], marker='o', linestyle='-', color='blue')\n",
    "# plt.xlim(0,10)\n",
    "\n",
    "plt.scatter(exp_num[:num_fit], SX_odd_theory(range(num_fit), *SX_odd_params), color='red')"
   ]
  },
  {
   "cell_type": "code",
   "execution_count": 143,
   "id": "24b172b4",
   "metadata": {
    "collapsed": false,
    "jupyter": {
     "outputs_hidden": false
    },
    "pycharm": {
     "name": "#%%\n"
    }
   },
   "outputs": [
    {
     "data": {
      "text/plain": [
       "(0.0, 10.0)"
      ]
     },
     "execution_count": 143,
     "metadata": {},
     "output_type": "execute_result"
    },
    {
     "data": {
      "image/png": "[encoded data removed]",
      "text/plain": [
       "<Figure size 432x288 with 1 Axes>"
      ]
     },
     "metadata": {
      "needs_background": "light"
     },
     "output_type": "display_data"
    }
   ],
   "source": [
    "plt.scatter(exp_num[:75], zero_population_odd[:75], marker='o', linestyle='-', color='blue')\n",
    "plt.scatter(exp_num[:75], SX_odd_theory(exp_num[:75], 0.02), color='red')\n",
    "plt.xlim(0, 10)"
   ]
  }
 ],
 "metadata": {
  "kernelspec": {
   "display_name": "Python 3 (ipykernel)",
   "language": "python",
   "name": "python3"
  },
  "language_info": {
   "codemirror_mode": {
    "name": "ipython",
    "version": 3
   },
   "file_extension": ".py",
   "mimetype": "text/x-python",
   "name": "python",
   "nbconvert_exporter": "python",
   "pygments_lexer": "ipython3",
   "version": "3.8.13"
  },
  "widgets": {
   "application/vnd.jupyter.widget-state+json": {
    "state": {},
    "version_major": 2,
    "version_minor": 0
   }
  }
 },
 "nbformat": 4,
 "nbformat_minor": 5
}