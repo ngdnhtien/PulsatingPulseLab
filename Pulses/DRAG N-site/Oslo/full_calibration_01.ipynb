{
 "cells": [
  {
   "cell_type": "code",
   "execution_count": 2,
   "id": "91d8fd70-f5d7-4923-91b0-12171cf170c7",
   "metadata": {
    "pycharm": {
     "name": "#%%\n"
    }
   },
   "outputs": [
    {
     "name": "stderr",
     "output_type": "stream",
     "text": [
      "ibmqfactory.load_account:WARNING:2022-10-30 13:37:20,730: Credentials are already in use. The existing account in the session will be replaced.\n"
     ]
    },
    {
     "name": "stdout",
     "output_type": "stream",
     "text": [
      "Least common multiple of acquire_alignment and pulse_alignment: 16\n"
     ]
    }
   ],
   "source": [
    "from qiskit import IBMQ\n",
    "import numpy as np\n",
    "\n",
    "IBMQ.load_account()\n",
    "provider = IBMQ.get_provider(hub='ibm-q', group='open', project='main')\n",
    "backend = provider.get_backend('ibm_oslo')\n",
    "backend_config = backend.configuration()\n",
    "dt = backend_config.dt\n",
    "\n",
    "backend.configuration().timing_constraints\n",
    "acquire_alignment = backend.configuration().timing_constraints['acquire_alignment']\n",
    "granularity = backend.configuration().timing_constraints['granularity']\n",
    "pulse_alignment = backend.configuration().timing_constraints['pulse_alignment']\n",
    "lcm = np.lcm(acquire_alignment, pulse_alignment)\n",
    "print(f\"Least common multiple of acquire_alignment and pulse_alignment: {lcm}\")\n",
    "backend_defaults = backend.defaults()"
   ]
  },
  {
   "cell_type": "markdown",
   "id": "dfe543a6-059f-4597-a675-9fb38dc8488c",
   "metadata": {
    "jp-MarkdownHeadingCollapsed": true,
    "tags": [],
    "pycharm": {
     "name": "#%% md\n"
    }
   },
   "source": [
    "# Utility functions"
   ]
  },
  {
   "cell_type": "code",
   "execution_count": 4,
   "id": "6c8aedca-a875-42f4-aca9-a50aa2409dc3",
   "metadata": {
    "pycharm": {
     "name": "#%%\n"
    }
   },
   "outputs": [],
   "source": [
    "def get_closest_multiple_of(vaule, base_number):\n",
    "    return int(vaule + base_number/2) - (int(vaule + base_number/2) % base_number)\n",
    "# samples need to be multiples of 16\n",
    "def get_closest_multiple_of_16(num):\n",
    "    return get_closest_multiple_of(num, granularity)\n",
    "# Convert seconds to dt\n",
    "def get_dt_from(sec):\n",
    "    return get_closest_multiple_of(sec/dt, lcm)"
   ]
  },
  {
   "cell_type": "code",
   "execution_count": null,
   "id": "9cc22cc8-e884-4763-9977-21c81ac95b77",
   "metadata": {
    "pycharm": {
     "name": "#%%\n"
    }
   },
   "outputs": [],
   "source": [
    "from scipy.optimize import curve_fit\n",
    "\n",
    "def fit_function(x_values, y_values, function, init_params):\n",
    "    fitparams, conv = curve_fit(function, x_values, y_values, init_params)\n",
    "    y_fit = function(x_values, *fitparams)\n",
    "    \n",
    "    return fitparams, y_fit"
   ]
  },
  {
   "cell_type": "markdown",
   "id": "3e6dd313-4a67-4c1a-b1f3-32ca40e8c55d",
   "metadata": {
    "jp-MarkdownHeadingCollapsed": true,
    "tags": [],
    "pycharm": {
     "name": "#%% md\n"
    }
   },
   "source": [
    "# 01 calibration"
   ]
  },
  {
   "cell_type": "markdown",
   "id": "8c0d0266-8afb-4a14-897d-10832d763b69",
   "metadata": {
    "tags": [],
    "pycharm": {
     "name": "#%% md\n"
    }
   },
   "source": [
    "## Frequency sweep"
   ]
  },
  {
   "cell_type": "code",
   "execution_count": 3,
   "id": "7f0c2a85-e801-4f48-8fbc-500d6caa066b",
   "metadata": {
    "pycharm": {
     "name": "#%%\n"
    }
   },
   "outputs": [
    {
     "name": "stdout",
     "output_type": "stream",
     "text": [
      "Qubit 0 has an estimated frequency of 4.925040273110692 GHz.\n",
      "The sweep will go from 4.905040273110692 GHz to 4.945040273110692 GHz in steps of 1.0 MHz.\n"
     ]
    }
   ],
   "source": [
    "# unit conversion factors -> all backend properties returned in SI (Hz, sec, etc.)\n",
    "GHz = 1.0e9 # Gigahertz\n",
    "MHz = 1.0e6 # Megahertz\n",
    "us = 1.0e-6 # Microseconds\n",
    "ns = 1.0e-9 # Nanoseconds\n",
    "\n",
    "# We will find the qubit frequency for the following qubit.\n",
    "qubit = 0\n",
    "\n",
    "# The sweep will be centered around the estimated qubit frequency.\n",
    "center_frequency_Hz = backend_defaults.qubit_freq_est[qubit]        # The default frequency is given in Hz\n",
    "                                                                    # warning: this will change in a future release\n",
    "print(f\"Qubit {qubit} has an estimated frequency of {center_frequency_Hz / GHz} GHz.\")\n",
    "\n",
    "# scale factor to remove factors of 10 from the data\n",
    "scale_factor = 1e-7\n",
    "\n",
    "# We will sweep 40 MHz around the estimated frequency\n",
    "frequency_span_Hz = 40 * MHz\n",
    "# in steps of 1 MHz.\n",
    "frequency_step_Hz = 1 * MHz\n",
    "\n",
    "# We will sweep 20 MHz above and 20 MHz below the estimated frequency\n",
    "frequency_min = center_frequency_Hz - frequency_span_Hz / 2\n",
    "frequency_max = center_frequency_Hz + frequency_span_Hz / 2\n",
    "# Construct an np array of the frequencies for our experiment\n",
    "frequencies_GHz = np.arange(frequency_min / GHz, \n",
    "                            frequency_max / GHz, \n",
    "                            frequency_step_Hz / GHz)\n",
    "\n",
    "print(f\"The sweep will go from {frequency_min / GHz} GHz to {frequency_max / GHz} GHz \\\n",
    "in steps of {frequency_step_Hz / MHz} MHz.\")"
   ]
  },
  {
   "cell_type": "code",
   "execution_count": 5,
   "id": "af15bf64-e3a7-473d-bf52-46ec24439394",
   "metadata": {
    "pycharm": {
     "name": "#%%\n"
    }
   },
   "outputs": [],
   "source": [
    "from qiskit import pulse                  # This is where we access all of our Pulse features!\n",
    "from qiskit.circuit import Parameter      # This is Parameter Class for variable parameters.\n",
    "from qiskit.circuit import QuantumCircuit, Gate\n",
    "\n",
    "# Drive pulse parameters (us = microseconds)\n",
    "drive_sigma_sec = 0.015 * us                           # This determines the actual width of the gaussian\n",
    "drive_duration_sec = drive_sigma_sec * 8                # This is a truncating parameter, because gaussians don't have \n",
    "                                                        # a natural finite length\n",
    "drive_amp = 0.05\n",
    "\n",
    "# Create the base schedule\n",
    "# Start with drive pulse acting on the drive channel\n",
    "freq = Parameter('freq')\n",
    "with pulse.build(backend=backend, default_alignment='sequential', name='Frequency sweep') as sweep_sched:\n",
    "    drive_duration = get_closest_multiple_of_16(pulse.seconds_to_samples(drive_duration_sec))\n",
    "    drive_sigma = pulse.seconds_to_samples(drive_sigma_sec)\n",
    "    drive_chan = pulse.drive_channel(qubit)\n",
    "    pulse.set_frequency(freq, drive_chan)\n",
    "    # Drive pulse samples\n",
    "    pulse.play(pulse.Gaussian(duration=drive_duration,\n",
    "                              sigma=drive_sigma,\n",
    "                              amp=drive_amp,\n",
    "                              name='freq_sweep_excitation_pulse'), drive_chan)"
   ]
  },
  {
   "cell_type": "code",
   "execution_count": 8,
   "id": "95f3832b-0a0d-44a6-83f2-806fbb774484",
   "metadata": {
    "pycharm": {
     "name": "#%%\n"
    }
   },
   "outputs": [
    {
     "data": {
      "image/png": "[encoded data removed]",
      "text/plain": [
       "<Figure size 253.926x144.48 with 1 Axes>"
      ]
     },
     "execution_count": 8,
     "metadata": {},
     "output_type": "execute_result"
    }
   ],
   "source": [
    "sweep_gate = Gate(\"sweep\", 1, [freq])\n",
    "\n",
    "qc_sweep = QuantumCircuit(1, 1)\n",
    "\n",
    "qc_sweep.append(sweep_gate, [0])\n",
    "qc_sweep.measure(0, 0)\n",
    "qc_sweep.add_calibration(sweep_gate, (0,), sweep_sched, [freq])\n",
    "\n",
    "# Create the frequency settings for the sweep (MUST BE IN HZ)\n",
    "frequencies_Hz = frequencies_GHz*GHz\n",
    "exp_sweep_circs = [qc_sweep.assign_parameters({freq: f}, inplace=False) for f in frequencies_Hz]\n",
    "exp_sweep_circs[0].draw(output='mpl')"
   ]
  },
  {
   "cell_type": "code",
   "execution_count": 7,
   "id": "f9740e69-a108-4dc3-bfa1-e6337acd9873",
   "metadata": {
    "pycharm": {
     "name": "#%%\n"
    }
   },
   "outputs": [
    {
     "data": {
      "image/png": "[encoded data removed]",
      "text/plain": [
       "<Figure size 253.926x144.48 with 1 Axes>"
      ]
     },
     "execution_count": 7,
     "metadata": {},
     "output_type": "execute_result"
    }
   ],
   "source": [
    "num_shots_per_frequency = 1024\n",
    "\n",
    "job = backend.run(exp_sweep_circs,\n",
    "                  meas_level=1,\n",
    "                  meas_return='avg',\n",
    "                  shots=num_shots_per_frequency)\n",
    "job.job_id()\n"
   ]
  },
  {
   "cell_type": "code",
   "execution_count": null,
   "id": "bc7d3e3f-eccc-4f71-b751-4838607297a2",
   "metadata": {
    "pycharm": {
     "name": "#%%\n"
    }
   },
   "outputs": [],
   "source": [
    "frequency_sweep_results = job.result(timeout=120) "
   ]
  },
  {
   "cell_type": "code",
   "execution_count": null,
   "id": "2d42ad19-f288-4b84-bdc8-e971d67daedb",
   "metadata": {
    "pycharm": {
     "name": "#%%\n"
    }
   },
   "outputs": [],
   "source": [
    "fit_params, y_fit = fit_function(frequencies_GHz,\n",
    "                                 np.real(sweep_values), \n",
    "                                 lambda x, A, q_freq, B, C: (A / np.pi) * (B / ((x - q_freq)**2 + B**2)) + C,\n",
    "                                 [8, 5.245, 0, -2] # initial parameters for curve_fit\n",
    "                                )"
   ]
  },
  {
   "cell_type": "code",
   "execution_count": null,
   "id": "bd8aa089-08d0-4fbb-82e7-2928fda75208",
   "metadata": {
    "pycharm": {
     "name": "#%%\n"
    }
   },
   "outputs": [],
   "source": [
    "plt.scatter(frequencies_GHz, np.real(sweep_values), color='black')\n",
    "plt.plot(frequencies_GHz, y_fit, color='red')\n",
    "plt.xlim([min(frequencies_GHz), max(frequencies_GHz)])\n",
    "\n",
    "plt.xlabel(\"Frequency [GHz]\")\n",
    "plt.ylabel(\"Measured Signal [a.u.]\")\n",
    "plt.show()"
   ]
  },
  {
   "cell_type": "code",
   "execution_count": null,
   "id": "8f507115-8435-4e51-b92e-5ce922dfc6f4",
   "metadata": {
    "pycharm": {
     "name": "#%%\n"
    }
   },
   "outputs": [],
   "source": [
    "A, rough_qubit_frequency, B, C = fit_params\n",
    "rough_qubit_frequency = rough_qubit_frequency*GHz # make sure qubit freq is in Hz\n",
    "print(f\"We've updated our qubit frequency estimate from \"\n",
    "      f\"{round(backend_defaults.qubit_freq_est[qubit] / GHz, 5)} GHz to {round(rough_qubit_frequency/GHz, 5)} GHz.\")"
   ]
  },
  {
   "cell_type": "code",
   "execution_count": null,
   "id": "99c3f857-78be-4c89-b328-ca4694c51b06",
   "metadata": {
    "pycharm": {
     "name": "#%%\n"
    }
   },
   "outputs": [],
   "source": [
    "rough_qubit_frequency = 0"
   ]
  },
  {
   "cell_type": "markdown",
   "id": "3451319d-c936-44ea-8b82-e079ba3deee7",
   "metadata": {
    "jp-MarkdownHeadingCollapsed": true,
    "tags": [],
    "pycharm": {
     "name": "#%% md\n"
    }
   },
   "source": [
    "## Rabi 01"
   ]
  },
  {
   "cell_type": "code",
   "execution_count": null,
   "id": "28c6005e-afba-45c0-a58b-b3b5bbe4f92e",
   "metadata": {
    "pycharm": {
     "name": "#%%\n"
    }
   },
   "outputs": [],
   "source": [
    "# This experiment uses these values from the previous experiment:\n",
    "# `qubit`,and\n",
    "# `rough_qubit_frequency`.\n",
    "\n",
    "# Rabi experiment parameters\n",
    "num_rabi_points = 100\n",
    "\n",
    "# Drive amplitude values to iterate over: 50 amplitudes evenly spaced from 0 to 0.75\n",
    "drive_amp_min = 0\n",
    "drive_amp_max = 0.75\n",
    "drive_amps = np.linspace(drive_amp_min, drive_amp_max, num_rabi_points)"
   ]
  },
  {
   "cell_type": "code",
   "execution_count": null,
   "id": "e02ae0fc-25f7-4a8d-8398-e805745712aa",
   "metadata": {
    "pycharm": {
     "name": "#%%\n"
    }
   },
   "outputs": [],
   "source": [
    "# Build the Rabi experiments:\n",
    "#    A drive pulse at the qubit frequency, followed by a measurement,\n",
    "#    where we vary the drive amplitude each time.\n",
    "\n",
    "drive_amp = Parameter('drive_amp')\n",
    "with pulse.build(backend=backend, default_alignment='sequential', name='Rabi Experiment') as rabi_sched:\n",
    "    drive_duration = get_closest_multiple_of_16(pulse.seconds_to_samples(drive_duration_sec))\n",
    "    drive_sigma = pulse.seconds_to_samples(drive_sigma_sec)\n",
    "    drive_chan = pulse.drive_channel(qubit)\n",
    "    pulse.set_frequency(rough_qubit_frequency, drive_chan)\n",
    "    pulse.play(pulse.Gaussian(duration=drive_duration,\n",
    "                              amp=drive_amp,\n",
    "                              sigma=drive_sigma,\n",
    "                              name='Rabi Pulse'), drive_chan)"
   ]
  },
  {
   "cell_type": "code",
   "execution_count": null,
   "id": "ce8cbbfe-caea-4e3e-ad9f-b8911ac1cc39",
   "metadata": {
    "pycharm": {
     "name": "#%%\n"
    }
   },
   "outputs": [],
   "source": [
    "rabi_gate = Gate(\"rabi\", 1, [drive_amp])\n",
    "\n",
    "qc_rabi = QuantumCircuit(1, 1)\n",
    "\n",
    "qc_rabi.append(rabi_gate, [0])\n",
    "qc_rabi.measure(0, 0)\n",
    "qc_rabi.add_calibration(rabi_gate, (0,), rabi_sched, [drive_amp])\n",
    "\n",
    "exp_rabi_circs = [qc_rabi.assign_parameters({drive_amp: a}, inplace=False) for a in drive_amps]"
   ]
  },
  {
   "cell_type": "code",
   "execution_count": null,
   "id": "35b6e6ef-2cdb-412b-8734-1f9481013e25",
   "metadata": {
    "pycharm": {
     "name": "#%%\n"
    }
   },
   "outputs": [],
   "source": []
  }
 ],
 "metadata": {
  "kernelspec": {
   "display_name": "Python 3 (ipykernel)",
   "language": "python",
   "name": "python3"
  },
  "language_info": {
   "codemirror_mode": {
    "name": "ipython",
    "version": 3
   },
   "file_extension": ".py",
   "mimetype": "text/x-python",
   "name": "python",
   "nbconvert_exporter": "python",
   "pygments_lexer": "ipython3",
   "version": "3.8.13"
  },
  "widgets": {
   "application/vnd.jupyter.widget-state+json": {
    "state": {
     "025022aac4ba433cae7d2a1126395b8d": {
      "model_module": "@jupyter-widgets/controls",
      "model_module_version": "1.5.0",
      "model_name": "DescriptionStyleModel",
      "state": {
       "description_width": ""
      }
     },
     "0ed5e0e747d2439aa61520c983507c4a": {
      "model_module": "@jupyter-widgets/controls",
      "model_module_version": "1.5.0",
      "model_name": "HTMLModel",
      "state": {
       "layout": "IPY_MODEL_53bf9ec99a5f4435b257352adb61b2ac",
       "style": "IPY_MODEL_c12b7e4aec424461af48ed1681d8c432",
       "value": "<p style='font-family: IBM Plex Sans, Arial, Helvetica, sans-serif; font-size: 20px; font-weight: medium;'>Circuit Properties</p>"
      }
     },
     "1c52d3bbf5944ad5971a25071cfe94b4": {
      "model_module": "@jupyter-widgets/base",
      "model_module_version": "1.2.0",
      "model_name": "LayoutModel",
      "state": {}
     },
     "2a6ab07f53f841faa840244a5efeb84e": {
      "model_module": "@jupyter-widgets/base",
      "model_module_version": "1.2.0",
      "model_name": "LayoutModel",
      "state": {
       "width": "190px"
      }
     },
     "33487d52559b4c5a8e6297dbefaa2281": {
      "model_module": "@jupyter-widgets/controls",
      "model_module_version": "1.5.0",
      "model_name": "ButtonModel",
      "state": {
       "button_style": "primary",
       "description": "Clear",
       "layout": "IPY_MODEL_cf93e69a18b74dfc92155bba3eb69233",
       "style": "IPY_MODEL_decf8eaa63c247dd84c66344c7b1cd52"
      }
     },
     "340aa37212354f55a2e770a696fe3e31": {
      "model_module": "@jupyter-widgets/base",
      "model_module_version": "1.2.0",
      "model_name": "LayoutModel",
      "state": {
       "width": "95px"
      }
     },
     "3c8ec7a57c3d420981f7343570e7071f": {
      "model_module": "@jupyter-widgets/controls",
      "model_module_version": "1.5.0",
      "model_name": "DescriptionStyleModel",
      "state": {
       "description_width": ""
      }
     },
     "42b9b57540e44092befa22721a941168": {
      "model_module": "@jupyter-widgets/base",
      "model_module_version": "1.2.0",
      "model_name": "LayoutModel",
      "state": {
       "grid_template_areas": "\n                                       \". . . . right \"\n                                        ",
       "grid_template_columns": "20% 20% 20% 20% 20%",
       "width": "100%"
      }
     },
     "4569b5cb42594605bd8510dfa985281b": {
      "model_module": "@jupyter-widgets/controls",
      "model_module_version": "1.5.0",
      "model_name": "HTMLModel",
      "state": {
       "layout": "IPY_MODEL_340aa37212354f55a2e770a696fe3e31",
       "style": "IPY_MODEL_814726de4ed54356b412c20547262268",
       "value": "<h5>Status</h5>"
      }
     },
     "52e22594c7774026bbbbb5a0055c94c6": {
      "model_module": "@jupyter-widgets/controls",
      "model_module_version": "1.5.0",
      "model_name": "HBoxModel",
      "state": {
       "children": [
        "IPY_MODEL_7335bd522ca94ade8c4ebd65ec5ca437",
        "IPY_MODEL_c8aee8df824f4e5f929cf84a1fc419d0",
        "IPY_MODEL_4569b5cb42594605bd8510dfa985281b",
        "IPY_MODEL_fba51f2f77bb4f809dc25157a135c651",
        "IPY_MODEL_98b686097a234de2b4a9fcc1e8d98c1d"
       ],
       "layout": "IPY_MODEL_84e5316a95eb43d59dffe30a996cab44"
      }
     },
     "53bf9ec99a5f4435b257352adb61b2ac": {
      "model_module": "@jupyter-widgets/base",
      "model_module_version": "1.2.0",
      "model_name": "LayoutModel",
      "state": {
       "margin": "0px 0px 10px 0px"
      }
     },
     "62d24c070c8d4100af8c04aad0f7a2c2": {
      "model_module": "@jupyter-widgets/controls",
      "model_module_version": "1.5.0",
      "model_name": "DescriptionStyleModel",
      "state": {
       "description_width": ""
      }
     },
     "7335bd522ca94ade8c4ebd65ec5ca437": {
      "model_module": "@jupyter-widgets/controls",
      "model_module_version": "1.5.0",
      "model_name": "HTMLModel",
      "state": {
       "layout": "IPY_MODEL_2a6ab07f53f841faa840244a5efeb84e",
       "style": "IPY_MODEL_62d24c070c8d4100af8c04aad0f7a2c2",
       "value": "<h5>Job ID</h5>"
      }
     },
     "814726de4ed54356b412c20547262268": {
      "model_module": "@jupyter-widgets/controls",
      "model_module_version": "1.5.0",
      "model_name": "DescriptionStyleModel",
      "state": {
       "description_width": ""
      }
     },
     "84e5316a95eb43d59dffe30a996cab44": {
      "model_module": "@jupyter-widgets/base",
      "model_module_version": "1.2.0",
      "model_name": "LayoutModel",
      "state": {
       "margin": "0px 0px 0px 37px",
       "width": "600px"
      }
     },
     "98b686097a234de2b4a9fcc1e8d98c1d": {
      "model_module": "@jupyter-widgets/controls",
      "model_module_version": "1.5.0",
      "model_name": "HTMLModel",
      "state": {
       "layout": "IPY_MODEL_1c52d3bbf5944ad5971a25071cfe94b4",
       "style": "IPY_MODEL_d8b7415e603a41098450de7d1b656ba8",
       "value": "<h5>Message</h5>"
      }
     },
     "a355256794364453a865c7a89c3e022a": {
      "model_module": "@jupyter-widgets/base",
      "model_module_version": "1.2.0",
      "model_name": "LayoutModel",
      "state": {
       "width": "145px"
      }
     },
     "ace0d2d85ce94721992fd4a5873e509c": {
      "model_module": "@jupyter-widgets/base",
      "model_module_version": "1.2.0",
      "model_name": "LayoutModel",
      "state": {
       "width": "70px"
      }
     },
     "c12b7e4aec424461af48ed1681d8c432": {
      "model_module": "@jupyter-widgets/controls",
      "model_module_version": "1.5.0",
      "model_name": "DescriptionStyleModel",
      "state": {
       "description_width": ""
      }
     },
     "c8aee8df824f4e5f929cf84a1fc419d0": {
      "model_module": "@jupyter-widgets/controls",
      "model_module_version": "1.5.0",
      "model_name": "HTMLModel",
      "state": {
       "layout": "IPY_MODEL_a355256794364453a865c7a89c3e022a",
       "style": "IPY_MODEL_3c8ec7a57c3d420981f7343570e7071f",
       "value": "<h5>Backend</h5>"
      }
     },
     "cf93e69a18b74dfc92155bba3eb69233": {
      "model_module": "@jupyter-widgets/base",
      "model_module_version": "1.2.0",
      "model_name": "LayoutModel",
      "state": {
       "grid_area": "right",
       "padding": "0px 0px 0px 0px",
       "width": "70px"
      }
     },
     "d8b7415e603a41098450de7d1b656ba8": {
      "model_module": "@jupyter-widgets/controls",
      "model_module_version": "1.5.0",
      "model_name": "DescriptionStyleModel",
      "state": {
       "description_width": ""
      }
     },
     "decf8eaa63c247dd84c66344c7b1cd52": {
      "model_module": "@jupyter-widgets/controls",
      "model_module_version": "1.5.0",
      "model_name": "ButtonStyleModel",
      "state": {}
     },
     "eb691e38dc5449f09af2e07a2af4d3c2": {
      "model_module": "@jupyter-widgets/controls",
      "model_module_version": "1.5.0",
      "model_name": "GridBoxModel",
      "state": {
       "children": [
        "IPY_MODEL_33487d52559b4c5a8e6297dbefaa2281"
       ],
       "layout": "IPY_MODEL_42b9b57540e44092befa22721a941168"
      }
     },
     "fba51f2f77bb4f809dc25157a135c651": {
      "model_module": "@jupyter-widgets/controls",
      "model_module_version": "1.5.0",
      "model_name": "HTMLModel",
      "state": {
       "layout": "IPY_MODEL_ace0d2d85ce94721992fd4a5873e509c",
       "style": "IPY_MODEL_025022aac4ba433cae7d2a1126395b8d",
       "value": "<h5>Queue</h5>"
      }
     }
    },
    "version_major": 2,
    "version_minor": 0
   }
  }
 },
 "nbformat": 4,
 "nbformat_minor": 5
}