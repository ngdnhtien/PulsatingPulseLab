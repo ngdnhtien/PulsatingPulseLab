{
 "cells": [
  {
   "cell_type": "markdown",
   "source": [
    "# Never gonna give you up\n",
    "# Never gonna DRAG you down"
   ],
   "metadata": {
    "collapsed": false,
    "pycharm": {
     "name": "#%% md\n"
    }
   }
  },
  {
   "cell_type": "markdown",
   "id": "62cf3594",
   "metadata": {
    "pycharm": {
     "name": "#%% md\n"
    }
   },
   "source": [
    "Howdy folks. Today we'll be quantum mechanic."
   ]
  },
  {
   "cell_type": "code",
   "execution_count": 3,
   "id": "dec2fdb6",
   "metadata": {
    "pycharm": {
     "name": "#%%\n"
    }
   },
   "outputs": [],
   "source": [
    "# First we set up some basic dependencies\n",
    "\n",
    "import numpy as np\n",
    "import pandas as pd\n",
    "import matplotlib.pyplot as plt\n",
    "from scipy.optimize import curve_fit\n",
    "\n",
    "import qiskit as qis\n",
    "import qiskit.pulse as qisp\n",
    "from qiskit.circuit import Parameter, QuantumCircuit, Gate\n",
    "from qiskit import IBMQ, schedule\n",
    "from qiskit.providers.ibmq.managed import IBMQJobManager\n",
    "from qiskit.compiler.assembler import MeasLevel, MeasReturnType\n",
    "from qiskit.tools.monitor import job_monitor\n",
    "\n",
    "if not IBMQ.active_account():\n",
    "    IBMQ.load_account()\n",
    "    \n",
    "provider = IBMQ.get_provider(hub='ibm-q', group='open', project='main')\n",
    "backend = provider.get_backend('ibm_oslo')"
   ]
  },
  {
   "cell_type": "code",
   "execution_count": 4,
   "id": "ffbaf61e",
   "metadata": {
    "pycharm": {
     "name": "#%%\n"
    }
   },
   "outputs": [],
   "source": [
    "qubit = 0\n",
    "f01 = backend.configuration().hamiltonian['vars'][f'wq{qubit}']/(2*np.pi)\n",
    "# drive_coupling = backend.configuration().hamiltonian['vars'][f'omegad{qubit}']\n",
    "\n",
    "x_sigma = 80\n",
    "x_duration = 320\n",
    "\n",
    "x01_amp = 0.07513041041956571"
   ]
  },
  {
   "cell_type": "code",
   "execution_count": 5,
   "outputs": [],
   "source": [
    "scale_factor = 1e-7\n",
    "def get_job_data(job, average):\n",
    "    \"\"\"Retrieve data from a job that has already run.\n",
    "    Args:\n",
    "        job (Job): The job whose data you want.\n",
    "        average (bool): If True, gets the data assuming data is an average.\n",
    "                        If False, gets the data assuming it is for single shots.\n",
    "    Return:\n",
    "        list: List containing job result data.\n",
    "    \"\"\"\n",
    "    job_results = job.result()  # timeout parameter set to 120 s\n",
    "    result_data = []\n",
    "    for i in range(len(job_results.results)):\n",
    "        if average:  # get avg data\n",
    "            result_data.append(np.real(job_results.get_memory(i)[qubit] * scale_factor))\n",
    "            print('here')\n",
    "        else:  # get single data\n",
    "            result_data.append(job_results.get_memory(i)[:, qubit] * scale_factor)\n",
    "            print(i, end='\\r')\n",
    "    return result_data\n",
    "\n",
    "\n",
    "def get_closest_multiple_of_16(num):\n",
    "    \"\"\"Compute the nearest multiple of 16. Needed because pulse enabled devices require\n",
    "    durations which are multiples of 16 samples.\n",
    "    \"\"\"\n",
    "    return int(num + 8) - (int(num + 8) % 16)"
   ],
   "metadata": {
    "collapsed": false,
    "pycharm": {
     "name": "#%%\n"
    }
   }
  },
  {
   "cell_type": "code",
   "execution_count": 8,
   "outputs": [],
   "source": [
    "discriminator_job = backend.retrieve_job('6347db674a53e849a5e39285')"
   ],
   "metadata": {
    "collapsed": false,
    "pycharm": {
     "name": "#%%\n"
    }
   }
  },
  {
   "cell_type": "code",
   "execution_count": 6,
   "outputs": [
    {
     "ename": "NameError",
     "evalue": "name 'discriminator_job' is not defined",
     "output_type": "error",
     "traceback": [
      "\u001B[0;31m---------------------------------------------------------------------------\u001B[0m",
      "\u001B[0;31mNameError\u001B[0m                                 Traceback (most recent call last)",
      "Input \u001B[0;32mIn [6]\u001B[0m, in \u001B[0;36m<cell line: 1>\u001B[0;34m()\u001B[0m\n\u001B[0;32m----> 1\u001B[0m discriminator_data \u001B[38;5;241m=\u001B[39m get_job_data(\u001B[43mdiscriminator_job\u001B[49m, average\u001B[38;5;241m=\u001B[39m\u001B[38;5;28;01mFalse\u001B[39;00m)\n\u001B[1;32m      2\u001B[0m zero_data \u001B[38;5;241m=\u001B[39m discriminator_data[\u001B[38;5;241m0\u001B[39m]\n\u001B[1;32m      3\u001B[0m one_data \u001B[38;5;241m=\u001B[39m discriminator_data[\u001B[38;5;241m1\u001B[39m]\n",
      "\u001B[0;31mNameError\u001B[0m: name 'discriminator_job' is not defined"
     ]
    }
   ],
   "source": [
    "discriminator_data = get_job_data(discriminator_job, average=False)\n",
    "zero_data = discriminator_data[0]\n",
    "one_data = discriminator_data[1]\n",
    "two_data = discriminator_data[2]\n",
    "\n",
    "\n",
    "from sklearn.discriminant_analysis import LinearDiscriminantAnalysis\n",
    "from sklearn.model_selection import train_test_split\n",
    "\n",
    "def reshape_complex_vec(vec):\n",
    "    \"\"\"Take in complex vector vec and return 2d array w/ real, imag entries. This is needed for the learning.\n",
    "    Args:\n",
    "        vec (list): complex vector of data\n",
    "    Returns:\n",
    "        list: vector w/ entries given by (real(vec], imag(vec))\n",
    "    \"\"\"\n",
    "    length = len(vec)\n",
    "    vec_reshaped = np.zeros((length, 2))\n",
    "    for i in range(len(vec)):\n",
    "        vec_reshaped[i] = [np.real(vec[i]), np.imag(vec[i])]\n",
    "    return vec_reshaped\n",
    "\n",
    "\n",
    "# Create IQ vector (split real, imag parts)\n",
    "zero_data_reshaped = reshape_complex_vec(zero_data)\n",
    "one_data_reshaped = reshape_complex_vec(one_data)\n",
    "two_data_reshaped = reshape_complex_vec(two_data)\n",
    "\n",
    "IQ_012_data = np.concatenate((zero_data_reshaped, one_data_reshaped, two_data_reshaped))\n",
    "print(IQ_012_data.shape)  # verify IQ data shape\n",
    "\n",
    "NUM_SHOTS = 20000\n",
    "\n",
    "# construct vector w/ 0's, 1's and 2's (for testing)\n",
    "state_012 = np.zeros(NUM_SHOTS)  # shots gives number of experiments\n",
    "state_012 = np.concatenate((state_012, np.ones(NUM_SHOTS)))\n",
    "state_012 = np.concatenate((state_012, 2 * np.ones(NUM_SHOTS)))\n",
    "print(len(state_012))\n",
    "\n",
    "# Shuffle and split data into training and test sets\n",
    "IQ_012_train, IQ_012_test, state_012_train, state_012_test = train_test_split(IQ_012_data, state_012, test_size=0.5)\n",
    "\n",
    "# Set up the LDA\n",
    "LDA_012 = LinearDiscriminantAnalysis()\n",
    "LDA_012.fit(IQ_012_train, state_012_train)\n",
    "\n",
    "\n",
    "def count(job, discriminator):\n",
    "    print('retrieving data from', job.job_id())\n",
    "    data = get_job_data(job, average=False)\n",
    "    print('data is retrieved from', job.job_id())\n",
    "    sched_data = []\n",
    "    for i in range(len(data)):\n",
    "        sched_data.append(reshape_complex_vec(data[i]))\n",
    "    discrim_data = []\n",
    "    for j in range(len(sched_data)):\n",
    "        discrim_data.append(discriminator.predict(sched_data[j]))\n",
    "        print('predicting', j, end='\\r')\n",
    "    final_result = []\n",
    "    for k in range(len(discrim_data)):\n",
    "        result = {'0': 0, '1': 0, '2': 0}\n",
    "        for l in range(len(discrim_data[k])):\n",
    "            if discrim_data[k][l] == 0.0:\n",
    "                result['0'] += 1\n",
    "            elif discrim_data[k][l] == 1.0:\n",
    "                result['1'] += 1\n",
    "            elif discrim_data[k][l] == 2.0:\n",
    "                result['2'] += 1\n",
    "            else:\n",
    "                print('Unexpected behavior')\n",
    "        final_result.append(result)\n",
    "    return final_result\n"
   ],
   "metadata": {
    "collapsed": false,
    "pycharm": {
     "name": "#%%\n"
    }
   }
  },
  {
   "cell_type": "code",
   "execution_count": 4,
   "outputs": [],
   "source": [
    "drive_betas = np.linspace(-25, 25, 100)\n",
    "def exp_drag_circs(n, drive_betas):\n",
    "    drive_beta = Parameter('drive_beta')\n",
    "    with qisp.build(backend=backend, default_alignment='sequential') as XX_sched:\n",
    "        qisp.set_frequency(f01, qisp.drive_channel(0))\n",
    "        qisp.play(qisp.Drag(duration=x_duration,\n",
    "                            amp=x01_amp,\n",
    "                            sigma=x_sigma,\n",
    "                            beta=drive_beta), qisp.drive_channel(0))\n",
    "        qisp.shift_phase(-np.pi, qisp.drive_channel(0))\n",
    "        qisp.play(qisp.Drag(duration=x_duration,\n",
    "                            amp=x01_amp,\n",
    "                            sigma=x_sigma,\n",
    "                            beta=drive_beta), qisp.drive_channel(0))\n",
    "        qisp.shift_phase(-np.pi, qisp.drive_channel(0))\n",
    "\n",
    "    XX = Gate(\"$X_\\pi X_{-\\pi}$\", 1, [drive_beta])\n",
    "    qc_DRAG = QuantumCircuit(1, 1)\n",
    "    qc_DRAG.x(0)\n",
    "    i = 0\n",
    "    while i < n:\n",
    "        qc_DRAG.append(XX, [0])\n",
    "        i += 1\n",
    "    qc_DRAG.measure(0, 0)\n",
    "    qc_DRAG.add_calibration(XX, (0,), XX_sched, [drive_beta])\n",
    "    return [qc_DRAG.assign_parameters({drive_beta: b}, inplace=False) for b in drive_betas]"
   ],
   "metadata": {
    "collapsed": false,
    "pycharm": {
     "name": "#%%\n"
    }
   }
  },
  {
   "cell_type": "code",
   "execution_count": 5,
   "outputs": [
    {
     "data": {
      "text/plain": "['6357f5ba1ff36453147496cc',\n '6357f5bd3bcead4fee5ea9ad',\n '6357f5c07a93ee2b5ee249cd',\n '6357f5c37a93ee2231e249cf',\n '6357f5c5333aebf44789eb9b']"
     },
     "execution_count": 5,
     "metadata": {},
     "output_type": "execute_result"
    }
   ],
   "source": [
    "drag_job_single = []\n",
    "drag_job_single_id = []\n",
    "for i in range(5):\n",
    "    drag_job = backend.run(exp_drag_circs(2*i + 3, drive_betas),\n",
    "                           meas_level=1,\n",
    "                           meas_return='single',\n",
    "                           shots=20000)\n",
    "    drag_job_single.append(drag_job)\n",
    "    drag_job_single_id.append(drag_job.job_id())\n",
    "drag_job_single_id"
   ],
   "metadata": {
    "collapsed": false,
    "pycharm": {
     "name": "#%%\n"
    }
   }
  },
  {
   "cell_type": "markdown",
   "source": [
    "# Oslo DRAG 12 calibration jobs\n",
    "['6357f5ba1ff36453147496cc',\n",
    " '6357f5bd3bcead4fee5ea9ad',\n",
    " '6357f5c07a93ee2b5ee249cd',\n",
    " '6357f5c37a93ee2231e249cf',\n",
    " '6357f5c5333aebf44789eb9b']"
   ],
   "metadata": {
    "collapsed": false,
    "pycharm": {
     "name": "#%% md\n"
    }
   }
  },
  {
   "cell_type": "code",
   "execution_count": 1,
   "outputs": [],
   "source": [
    "def get_population(job_id, discriminator):\n",
    "    drag_job = backend.retrieve_job(job_id)\n",
    "    print('getting population from', job_id)\n",
    "    drag_values = count(drag_job, discriminator)\n",
    "    return [[val['0']/20000, val['1']/20000, val['2']/20000] for val in drag_values]"
   ],
   "metadata": {
    "collapsed": false,
    "pycharm": {
     "name": "#%%\n"
    }
   }
  },
  {
   "cell_type": "code",
   "execution_count": 2,
   "outputs": [
    {
     "ename": "NameError",
     "evalue": "name 'LDA_012' is not defined",
     "output_type": "error",
     "traceback": [
      "\u001B[0;31m---------------------------------------------------------------------------\u001B[0m",
      "\u001B[0;31mNameError\u001B[0m                                 Traceback (most recent call last)",
      "Input \u001B[0;32mIn [2]\u001B[0m, in \u001B[0;36m<cell line: 7>\u001B[0;34m()\u001B[0m\n\u001B[1;32m      1\u001B[0m job_ids \u001B[38;5;241m=\u001B[39m [\u001B[38;5;124m'\u001B[39m\u001B[38;5;124m6357f5ba1ff36453147496cc\u001B[39m\u001B[38;5;124m'\u001B[39m,\n\u001B[1;32m      2\u001B[0m            \u001B[38;5;124m'\u001B[39m\u001B[38;5;124m6357f5bd3bcead4fee5ea9ad\u001B[39m\u001B[38;5;124m'\u001B[39m,\n\u001B[1;32m      3\u001B[0m            \u001B[38;5;124m'\u001B[39m\u001B[38;5;124m6357f5c07a93ee2b5ee249cd\u001B[39m\u001B[38;5;124m'\u001B[39m,\n\u001B[1;32m      4\u001B[0m            \u001B[38;5;124m'\u001B[39m\u001B[38;5;124m6357f5c37a93ee2231e249cf\u001B[39m\u001B[38;5;124m'\u001B[39m,\n\u001B[1;32m      5\u001B[0m            \u001B[38;5;124m'\u001B[39m\u001B[38;5;124m6357f5c5333aebf44789eb9b\u001B[39m\u001B[38;5;124m'\u001B[39m]\n\u001B[1;32m      6\u001B[0m colors \u001B[38;5;241m=\u001B[39m [\u001B[38;5;124m'\u001B[39m\u001B[38;5;124mred\u001B[39m\u001B[38;5;124m'\u001B[39m, \u001B[38;5;124m'\u001B[39m\u001B[38;5;124mblue\u001B[39m\u001B[38;5;124m'\u001B[39m, \u001B[38;5;124m'\u001B[39m\u001B[38;5;124mgreen\u001B[39m\u001B[38;5;124m'\u001B[39m]\n\u001B[0;32m----> 7\u001B[0m population \u001B[38;5;241m=\u001B[39m [get_population(\u001B[38;5;28mid\u001B[39m, LDA_012) \u001B[38;5;28;01mfor\u001B[39;00m \u001B[38;5;28mid\u001B[39m \u001B[38;5;129;01min\u001B[39;00m job_ids]\n",
      "Input \u001B[0;32mIn [2]\u001B[0m, in \u001B[0;36m<listcomp>\u001B[0;34m(.0)\u001B[0m\n\u001B[1;32m      1\u001B[0m job_ids \u001B[38;5;241m=\u001B[39m [\u001B[38;5;124m'\u001B[39m\u001B[38;5;124m6357f5ba1ff36453147496cc\u001B[39m\u001B[38;5;124m'\u001B[39m,\n\u001B[1;32m      2\u001B[0m            \u001B[38;5;124m'\u001B[39m\u001B[38;5;124m6357f5bd3bcead4fee5ea9ad\u001B[39m\u001B[38;5;124m'\u001B[39m,\n\u001B[1;32m      3\u001B[0m            \u001B[38;5;124m'\u001B[39m\u001B[38;5;124m6357f5c07a93ee2b5ee249cd\u001B[39m\u001B[38;5;124m'\u001B[39m,\n\u001B[1;32m      4\u001B[0m            \u001B[38;5;124m'\u001B[39m\u001B[38;5;124m6357f5c37a93ee2231e249cf\u001B[39m\u001B[38;5;124m'\u001B[39m,\n\u001B[1;32m      5\u001B[0m            \u001B[38;5;124m'\u001B[39m\u001B[38;5;124m6357f5c5333aebf44789eb9b\u001B[39m\u001B[38;5;124m'\u001B[39m]\n\u001B[1;32m      6\u001B[0m colors \u001B[38;5;241m=\u001B[39m [\u001B[38;5;124m'\u001B[39m\u001B[38;5;124mred\u001B[39m\u001B[38;5;124m'\u001B[39m, \u001B[38;5;124m'\u001B[39m\u001B[38;5;124mblue\u001B[39m\u001B[38;5;124m'\u001B[39m, \u001B[38;5;124m'\u001B[39m\u001B[38;5;124mgreen\u001B[39m\u001B[38;5;124m'\u001B[39m]\n\u001B[0;32m----> 7\u001B[0m population \u001B[38;5;241m=\u001B[39m [get_population(\u001B[38;5;28mid\u001B[39m, \u001B[43mLDA_012\u001B[49m) \u001B[38;5;28;01mfor\u001B[39;00m \u001B[38;5;28mid\u001B[39m \u001B[38;5;129;01min\u001B[39;00m job_ids]\n",
      "\u001B[0;31mNameError\u001B[0m: name 'LDA_012' is not defined"
     ]
    }
   ],
   "source": [
    "job_ids = ['6357f5ba1ff36453147496cc',\n",
    "           '6357f5bd3bcead4fee5ea9ad',\n",
    "           '6357f5c07a93ee2b5ee249cd',\n",
    "           '6357f5c37a93ee2231e249cf',\n",
    "           '6357f5c5333aebf44789eb9b']\n",
    "colors = ['red', 'blue', 'green']\n",
    "population = [get_population(id, LDA_012) for id in job_ids]"
   ],
   "metadata": {
    "collapsed": false,
    "pycharm": {
     "name": "#%%\n"
    }
   }
  },
  {
   "cell_type": "code",
   "execution_count": 29,
   "outputs": [
    {
     "data": {
      "text/plain": "<Figure size 432x288 with 1 Axes>",
      "image/png": "[encoded data removed]"
     },
     "metadata": {
      "needs_background": "light"
     },
     "output_type": "display_data"
    }
   ],
   "source": [
    "colors = ['red', 'blue', 'green', 'pink', 'orange']\n",
    "plt.rcParams['text.usetex'] = True\n",
    "for i in range(5):\n",
    "    plt.scatter(drive_betas, [exp[1] for exp in population[i]], marker='o', linestyle='-', color= colors[i])\n",
    "plt.legend([f'$n = {2*i + 3}$' for i in range(5)], fontsize = 10)\n",
    "# plt.xlim(20, 40)\n",
    "plt.xlabel('$\\\\beta$', fontsize = 20)\n",
    "plt.ylabel('$P_{|1\\\\rangle}$', fontsize = 20)\n",
    "plt.savefig('drag01_results.pdf')"
   ],
   "metadata": {
    "collapsed": false,
    "pycharm": {
     "name": "#%%\n"
    }
   }
  },
  {
   "cell_type": "code",
   "execution_count": 24,
   "outputs": [],
   "source": [
    "from scipy.optimize import curve_fit\n",
    "\n",
    "\n",
    "def fit_function(x_values, y_values, function, init_params):\n",
    "    fitparams, conv = curve_fit(function, x_values, y_values, init_params)\n",
    "    y_fit = function(x_values, *fitparams)\n",
    "\n",
    "    return fitparams, y_fit\n",
    "\n",
    "\n",
    "def sinusoid(x, A, B, drive_period, phi):\n",
    "    return A * np.cos(2 * np.pi * x / drive_period - phi) + B"
   ],
   "metadata": {
    "collapsed": false,
    "pycharm": {
     "name": "#%%\n"
    }
   }
  },
  {
   "cell_type": "code",
   "execution_count": 57,
   "outputs": [],
   "source": [
    "params = []\n",
    "periods = [40, 20, 20, 20, 15]\n",
    "for i in range(5):\n",
    "    param = curve_fit(sinusoid, drive_betas, [exp[1] for exp in population[i]], [1, 0.5, periods[i], 0])[0]\n",
    "    params.append(param)"
   ],
   "metadata": {
    "collapsed": false,
    "pycharm": {
     "name": "#%%\n"
    }
   }
  },
  {
   "cell_type": "code",
   "execution_count": 35,
   "outputs": [
    {
     "data": {
      "text/plain": "array([3.89106767e-01, 4.47547714e-01, 4.22326682e+01, 3.42307841e-02])"
     },
     "execution_count": 35,
     "metadata": {},
     "output_type": "execute_result"
    }
   ],
   "source": [
    "params[0]"
   ],
   "metadata": {
    "collapsed": false,
    "pycharm": {
     "name": "#%%\n"
    }
   }
  },
  {
   "cell_type": "code",
   "execution_count": 58,
   "outputs": [
    {
     "data": {
      "text/plain": "<Figure size 432x288 with 1 Axes>",
      "image/png": "[encoded data removed]"
     },
     "metadata": {
      "needs_background": "light"
     },
     "output_type": "display_data"
    }
   ],
   "source": [
    "x_val = np.linspace(-25, 25, 1000)\n",
    "for i in range(3):\n",
    "    plt.scatter(drive_betas, [exp[1] for exp in population[i]], marker='o', linestyle='-', color= colors[i])\n",
    "    plt.xlabel('$\\\\beta$', fontsize = 20)\n",
    "    plt.ylabel('$P_{|1\\\\rangle}$', fontsize = 20)\n",
    "    plt.plot(x_val, [sinusoid(x, *params[i]) for x in x_val], color=colors[i])\n",
    "# plt.legend([f'$n = {2*i + 3}$' for i in range(5)], fontsize = 10)"
   ],
   "metadata": {
    "collapsed": false,
    "pycharm": {
     "name": "#%%\n"
    }
   }
  },
  {
   "cell_type": "markdown",
   "source": [
    "drag job id oslo: 6347daa2e1fa1c3a61de3397"
   ],
   "metadata": {
    "collapsed": false,
    "pycharm": {
     "name": "#%% md\n"
    }
   }
  },
  {
   "cell_type": "code",
   "execution_count": 20,
   "outputs": [],
   "source": [
    "drag_job = backend.retrieve_job('6347daa2e1fa1c3a61de3397')"
   ],
   "metadata": {
    "collapsed": false,
    "pycharm": {
     "name": "#%%\n"
    }
   }
  },
  {
   "cell_type": "code",
   "execution_count": 34,
   "outputs": [],
   "source": [
    "drag_results = drag_job.result(timeout=120)\n",
    "drag_values = []\n",
    "for i in range(99):\n",
    "    drag_values.append(drag_results.get_memory(i)[qubit] * 1e-7)\n",
    "iq_pts = drag_values\n",
    "drag_values = np.real(drag_values)"
   ],
   "metadata": {
    "collapsed": false,
    "pycharm": {
     "name": "#%%\n"
    }
   }
  },
  {
   "cell_type": "code",
   "execution_count": 33,
   "outputs": [
    {
     "data": {
      "text/plain": "0.1401401401401401"
     },
     "execution_count": 33,
     "metadata": {},
     "output_type": "execute_result"
    },
    {
     "data": {
      "text/plain": "<Figure size 432x288 with 1 Axes>",
      "image/png": "[encoded data removed]"
     },
     "metadata": {
      "needs_background": "light"
     },
     "output_type": "display_data"
    }
   ],
   "source": [
    "fit_params_n3, y_fit_n3 = fit_function(drive_betas,\n",
    "                                       drag_values_n3,\n",
    "                                       lambda x, A, B, drive_period, phi: (A*np.cos(2*np.pi*x/drive_period - phi) + B),\n",
    "                                       [10, 5, 40, 0])\n",
    "fit_params_n5, y_fit_n5 = fit_function(drive_betas,\n",
    "                                       drag_values_n5,\n",
    "                                       lambda x, A, B, drive_period, phi: (A*np.cos(2*np.pi*x/drive_period - phi) + B),\n",
    "                                       [10, 5, 20, 0])\n",
    "fit_params_n7, y_fit_n7 = fit_function(drive_betas,\n",
    "                                       drag_values_n7,\n",
    "                                       lambda x, A, B, drive_period, phi: (A*np.cos(2*np.pi*x/drive_period - phi) + B),\n",
    "                                       [10, 5, 20, 0])\n",
    "x_val = np.linspace(-20, 20, 1000)\n",
    "min_val = 1\n",
    "beta_optimum = 0\n",
    "for x in x_val:\n",
    "    l = (sinusoid(x, fit_params_n3) + np.abs(fit_params_n3[0]) - fit_params_n3[1])**2 + (sinusoid(x, fit_params_n5) + np.abs(fit_params_n5[0]) - fit_params_n5[1])**2 + (sinusoid(x, fit_params_n7) + np.abs(fit_params_n7[0]) - fit_params_n7[1])**2\n",
    "    if l < min_val:\n",
    "        min_val = l\n",
    "        x_optimum = x\n",
    "\n",
    "plt.scatter(drive_betas, drag_values_n3, marker='o', linestyle='-', color='red')\n",
    "plt.plot(x_val, sinusoid(x_val, fit_params_n3), color = 'red')\n",
    "plt.scatter(drive_betas, drag_values_n5, marker='s', linestyle='-', color='blue')\n",
    "plt.plot(x_val, sinusoid(x_val, fit_params_n5), color = 'blue')\n",
    "plt.scatter(drive_betas, drag_values_n7, marker='v', linestyle='-', color='green')\n",
    "plt.plot(x_val, sinusoid(x_val, fit_params_n7), color = 'green')\n",
    "plt.axvline(x_optimum, linestyle='--', color='yellow')\n",
    "# plt.xlim(-2, 2)\n",
    "x_optimum"
   ],
   "metadata": {
    "collapsed": false,
    "pycharm": {
     "name": "#%%\n"
    }
   }
  },
  {
   "cell_type": "code",
   "execution_count": 14,
   "outputs": [],
   "source": [
    "beta_optimum = x_optimum"
   ],
   "metadata": {
    "collapsed": false,
    "pycharm": {
     "name": "#%%\n"
    }
   }
  },
  {
   "cell_type": "code",
   "execution_count": 15,
   "outputs": [],
   "source": [
    "with qisp.build(backend=backend, default_alignment='sequential') as SX_sched:\n",
    "    qisp.set_frequency(drive_freq, qisp.drive_channel(0))\n",
    "    qisp.play(qisp.Drag(duration=x_duration,\n",
    "                        amp=x_amp/2,\n",
    "                        sigma=x_sigma,\n",
    "                        beta=beta_optimum), qisp.drive_channel(0))\n"
   ],
   "metadata": {
    "collapsed": false,
    "pycharm": {
     "name": "#%%\n"
    }
   }
  },
  {
   "cell_type": "code",
   "execution_count": 13,
   "outputs": [],
   "source": [
    "SX_circs = []\n",
    "for i in range(100):\n",
    "    qc_SX = QuantumCircuit(1, 1)\n",
    "    SX = Gate(\"$SX$\", 1, [])\n",
    "    qc_SX.add_calibration(SX, (0,), SX_sched, [])\n",
    "    qc_SX.append(SX, [0])\n",
    "    for j in range(i):\n",
    "        qc_SX.append(SX, [0])\n",
    "    qc_SX.measure(qubit, 0)\n",
    "    SX_circs.append(qc_SX)"
   ],
   "metadata": {
    "collapsed": false,
    "pycharm": {
     "name": "#%%\n"
    }
   }
  },
  {
   "cell_type": "code",
   "execution_count": 344,
   "outputs": [
    {
     "data": {
      "text/plain": "<Figure size 374.326x144.48 with 1 Axes>",
      "image/png": "[encoded data removed]"
     },
     "execution_count": 344,
     "metadata": {},
     "output_type": "execute_result"
    }
   ],
   "source": [
    "SX_circs[1].draw(output='mpl')"
   ],
   "metadata": {
    "collapsed": false,
    "pycharm": {
     "name": "#%%\n"
    }
   }
  },
  {
   "cell_type": "code",
   "execution_count": 345,
   "outputs": [
    {
     "data": {
      "text/plain": "100"
     },
     "execution_count": 345,
     "metadata": {},
     "output_type": "execute_result"
    }
   ],
   "source": [
    "len(SX_circs)"
   ],
   "metadata": {
    "collapsed": false,
    "pycharm": {
     "name": "#%%\n"
    }
   }
  },
  {
   "cell_type": "code",
   "execution_count": 346,
   "outputs": [
    {
     "data": {
      "text/plain": "'633f8983e212b028d4beef0c'"
     },
     "execution_count": 346,
     "metadata": {},
     "output_type": "execute_result"
    }
   ],
   "source": [
    "SX_job = backend.run(SX_circs,\n",
    "                    meas_level=2,\n",
    "                    meas_return='single',\n",
    "                    shots=2**14)\n",
    "SX_job.job_id()"
   ],
   "metadata": {
    "collapsed": false,
    "pycharm": {
     "name": "#%%\n"
    }
   }
  },
  {
   "cell_type": "code",
   "execution_count": 117,
   "outputs": [
    {
     "name": "stdout",
     "output_type": "stream",
     "text": [
      "Job Status: job is queued (156)"
     ]
    },
    {
     "ename": "KeyboardInterrupt",
     "evalue": "",
     "output_type": "error",
     "traceback": [
      "\u001B[0;31m---------------------------------------------------------------------------\u001B[0m",
      "\u001B[0;31mKeyboardInterrupt\u001B[0m                         Traceback (most recent call last)",
      "Input \u001B[0;32mIn [117]\u001B[0m, in \u001B[0;36m<cell line: 1>\u001B[0;34m()\u001B[0m\n\u001B[0;32m----> 1\u001B[0m \u001B[43mjob_monitor\u001B[49m\u001B[43m(\u001B[49m\u001B[43mSX_job\u001B[49m\u001B[43m)\u001B[49m\n",
      "File \u001B[0;32m~/.local/lib/python3.10/site-packages/qiskit/tools/monitor/job_monitor.py:89\u001B[0m, in \u001B[0;36mjob_monitor\u001B[0;34m(job, interval, quiet, output, line_discipline)\u001B[0m\n\u001B[1;32m     86\u001B[0m \u001B[38;5;28;01melse\u001B[39;00m:\n\u001B[1;32m     87\u001B[0m     _interval_set \u001B[38;5;241m=\u001B[39m \u001B[38;5;28;01mTrue\u001B[39;00m\n\u001B[0;32m---> 89\u001B[0m \u001B[43m_text_checker\u001B[49m\u001B[43m(\u001B[49m\n\u001B[1;32m     90\u001B[0m \u001B[43m    \u001B[49m\u001B[43mjob\u001B[49m\u001B[43m,\u001B[49m\u001B[43m \u001B[49m\u001B[43minterval\u001B[49m\u001B[43m,\u001B[49m\u001B[43m \u001B[49m\u001B[43m_interval_set\u001B[49m\u001B[43m,\u001B[49m\u001B[43m \u001B[49m\u001B[43mquiet\u001B[49m\u001B[38;5;241;43m=\u001B[39;49m\u001B[43mquiet\u001B[49m\u001B[43m,\u001B[49m\u001B[43m \u001B[49m\u001B[43moutput\u001B[49m\u001B[38;5;241;43m=\u001B[39;49m\u001B[43moutput\u001B[49m\u001B[43m,\u001B[49m\u001B[43m \u001B[49m\u001B[43mline_discipline\u001B[49m\u001B[38;5;241;43m=\u001B[39;49m\u001B[43mline_discipline\u001B[49m\n\u001B[1;32m     91\u001B[0m \u001B[43m\u001B[49m\u001B[43m)\u001B[49m\n",
      "File \u001B[0;32m~/.local/lib/python3.10/site-packages/qiskit/tools/monitor/job_monitor.py:44\u001B[0m, in \u001B[0;36m_text_checker\u001B[0;34m(job, interval, _interval_set, quiet, output, line_discipline)\u001B[0m\n\u001B[1;32m     42\u001B[0m     \u001B[38;5;28mprint\u001B[39m(\u001B[38;5;124m\"\u001B[39m\u001B[38;5;132;01m{}\u001B[39;00m\u001B[38;5;132;01m{}\u001B[39;00m\u001B[38;5;124m: \u001B[39m\u001B[38;5;132;01m{}\u001B[39;00m\u001B[38;5;124m\"\u001B[39m\u001B[38;5;241m.\u001B[39mformat(line_discipline, \u001B[38;5;124m\"\u001B[39m\u001B[38;5;124mJob Status\u001B[39m\u001B[38;5;124m\"\u001B[39m, msg), end\u001B[38;5;241m=\u001B[39m\u001B[38;5;124m\"\u001B[39m\u001B[38;5;124m\"\u001B[39m, file\u001B[38;5;241m=\u001B[39moutput)\n\u001B[1;32m     43\u001B[0m \u001B[38;5;28;01mwhile\u001B[39;00m status\u001B[38;5;241m.\u001B[39mname \u001B[38;5;129;01mnot\u001B[39;00m \u001B[38;5;129;01min\u001B[39;00m [\u001B[38;5;124m\"\u001B[39m\u001B[38;5;124mDONE\u001B[39m\u001B[38;5;124m\"\u001B[39m, \u001B[38;5;124m\"\u001B[39m\u001B[38;5;124mCANCELLED\u001B[39m\u001B[38;5;124m\"\u001B[39m, \u001B[38;5;124m\"\u001B[39m\u001B[38;5;124mERROR\u001B[39m\u001B[38;5;124m\"\u001B[39m]:\n\u001B[0;32m---> 44\u001B[0m     \u001B[43mtime\u001B[49m\u001B[38;5;241;43m.\u001B[39;49m\u001B[43msleep\u001B[49m\u001B[43m(\u001B[49m\u001B[43minterval\u001B[49m\u001B[43m)\u001B[49m\n\u001B[1;32m     45\u001B[0m     status \u001B[38;5;241m=\u001B[39m job\u001B[38;5;241m.\u001B[39mstatus()\n\u001B[1;32m     46\u001B[0m     msg \u001B[38;5;241m=\u001B[39m status\u001B[38;5;241m.\u001B[39mvalue\n",
      "\u001B[0;31mKeyboardInterrupt\u001B[0m: "
     ]
    }
   ],
   "source": [
    "job_monitor(SX_job)"
   ],
   "metadata": {
    "collapsed": false,
    "pycharm": {
     "name": "#%%\n"
    }
   }
  },
  {
   "cell_type": "markdown",
   "source": [
    "# SX job\n",
    "633ea125feb64c920ea00369: -1.3013013013013008\n",
    "633f8983e212b028d4beef0c: -0.6206206206206204\n"
   ],
   "metadata": {
    "collapsed": false,
    "pycharm": {
     "name": "#%% md\n"
    }
   }
  },
  {
   "cell_type": "code",
   "execution_count": 59,
   "outputs": [
    {
     "name": "stderr",
     "output_type": "stream",
     "text": [
      "/home/khoinguyen/.local/lib/python3.10/site-packages/qiskit/providers/ibmq/ibmqbackend.py:691: UserWarning: Job 633f8983e212b028d4beef0c belongs to another backend than the one queried. The query was made on backend ibm_oslo, but the job actually belongs to backend ibmq_manila.\n",
      "  warnings.warn('Job {} belongs to another backend than the one queried. '\n"
     ]
    },
    {
     "ename": "IBMQBackendError",
     "evalue": "'Failed to get job 633f8983e212b028d4beef0c: job does not belong to backend ibm_oslo.'",
     "output_type": "error",
     "traceback": [
      "\u001B[0;31m---------------------------------------------------------------------------\u001B[0m",
      "\u001B[0;31mIBMQBackendError\u001B[0m                          Traceback (most recent call last)",
      "Input \u001B[0;32mIn [59]\u001B[0m, in \u001B[0;36m<cell line: 1>\u001B[0;34m()\u001B[0m\n\u001B[0;32m----> 1\u001B[0m SX_job \u001B[38;5;241m=\u001B[39m \u001B[43mbackend\u001B[49m\u001B[38;5;241;43m.\u001B[39;49m\u001B[43mretrieve_job\u001B[49m\u001B[43m(\u001B[49m\u001B[38;5;124;43m'\u001B[39;49m\u001B[38;5;124;43m633f8983e212b028d4beef0c\u001B[39;49m\u001B[38;5;124;43m'\u001B[39;49m\u001B[43m)\u001B[49m\n",
      "File \u001B[0;32m~/.local/lib/python3.10/site-packages/qiskit/providers/ibmq/ibmqbackend.py:695\u001B[0m, in \u001B[0;36mIBMQBackend.retrieve_job\u001B[0;34m(self, job_id)\u001B[0m\n\u001B[1;32m    690\u001B[0m \u001B[38;5;28;01mif\u001B[39;00m \u001B[38;5;28mself\u001B[39m\u001B[38;5;241m.\u001B[39mname() \u001B[38;5;241m!=\u001B[39m job_backend\u001B[38;5;241m.\u001B[39mname():\n\u001B[1;32m    691\u001B[0m     warnings\u001B[38;5;241m.\u001B[39mwarn(\u001B[38;5;124m'\u001B[39m\u001B[38;5;124mJob \u001B[39m\u001B[38;5;132;01m{}\u001B[39;00m\u001B[38;5;124m belongs to another backend than the one queried. \u001B[39m\u001B[38;5;124m'\u001B[39m\n\u001B[1;32m    692\u001B[0m                   \u001B[38;5;124m'\u001B[39m\u001B[38;5;124mThe query was made on backend \u001B[39m\u001B[38;5;132;01m{}\u001B[39;00m\u001B[38;5;124m, \u001B[39m\u001B[38;5;124m'\u001B[39m\n\u001B[1;32m    693\u001B[0m                   \u001B[38;5;124m'\u001B[39m\u001B[38;5;124mbut the job actually belongs to backend \u001B[39m\u001B[38;5;132;01m{}\u001B[39;00m\u001B[38;5;124m.\u001B[39m\u001B[38;5;124m'\u001B[39m\n\u001B[1;32m    694\u001B[0m                   \u001B[38;5;241m.\u001B[39mformat(job_id, \u001B[38;5;28mself\u001B[39m\u001B[38;5;241m.\u001B[39mname(), job_backend\u001B[38;5;241m.\u001B[39mname()))\n\u001B[0;32m--> 695\u001B[0m     \u001B[38;5;28;01mraise\u001B[39;00m IBMQBackendError(\u001B[38;5;124m'\u001B[39m\u001B[38;5;124mFailed to get job \u001B[39m\u001B[38;5;132;01m{}\u001B[39;00m\u001B[38;5;124m: \u001B[39m\u001B[38;5;124m'\u001B[39m\n\u001B[1;32m    696\u001B[0m                            \u001B[38;5;124m'\u001B[39m\u001B[38;5;124mjob does not belong to backend \u001B[39m\u001B[38;5;132;01m{}\u001B[39;00m\u001B[38;5;124m.\u001B[39m\u001B[38;5;124m'\u001B[39m\n\u001B[1;32m    697\u001B[0m                            \u001B[38;5;241m.\u001B[39mformat(job_id, \u001B[38;5;28mself\u001B[39m\u001B[38;5;241m.\u001B[39mname()))\n\u001B[1;32m    699\u001B[0m \u001B[38;5;28;01mreturn\u001B[39;00m job\n",
      "\u001B[0;31mIBMQBackendError\u001B[0m: 'Failed to get job 633f8983e212b028d4beef0c: job does not belong to backend ibm_oslo.'"
     ]
    }
   ],
   "source": [
    "SX_job = backend.retrieve_job('633f8983e212b028d4beef0c')"
   ],
   "metadata": {
    "collapsed": false,
    "pycharm": {
     "name": "#%%\n"
    }
   }
  },
  {
   "cell_type": "code",
   "execution_count": 15,
   "outputs": [],
   "source": [
    "SX_results = SX_job.result().get_counts()"
   ],
   "metadata": {
    "collapsed": false,
    "pycharm": {
     "name": "#%%\n"
    }
   }
  },
  {
   "cell_type": "code",
   "execution_count": 16,
   "outputs": [
    {
     "data": {
      "text/plain": "100"
     },
     "execution_count": 16,
     "metadata": {},
     "output_type": "execute_result"
    }
   ],
   "source": [
    "zero_population = [SX_results[i]['0']/2**14 for i in range(100)]\n",
    "len(zero_population)"
   ],
   "metadata": {
    "collapsed": false,
    "pycharm": {
     "name": "#%%\n"
    }
   }
  },
  {
   "cell_type": "code",
   "execution_count": 162,
   "outputs": [],
   "source": [
    "def SX_theory(val, epsilon):\n",
    "    # return [1/2 + 1/2*np.cos(n*(np.pi/2 + epsilon)) for n in val]\n",
    "    return [np.cos(n*(np.pi/2 + epsilon)/2)**2 for n in val]\n"
   ],
   "metadata": {
    "collapsed": false,
    "pycharm": {
     "name": "#%%\n"
    }
   }
  },
  {
   "cell_type": "code",
   "execution_count": 159,
   "outputs": [
    {
     "name": "stdout",
     "output_type": "stream",
     "text": [
      "[0.04397003]\n"
     ]
    },
    {
     "data": {
      "text/plain": "<matplotlib.collections.PathCollection at 0x7f256c1883a0>"
     },
     "execution_count": 159,
     "metadata": {},
     "output_type": "execute_result"
    },
    {
     "data": {
      "text/plain": "<Figure size 432x288 with 1 Axes>",
      "image/png": "[encoded data removed]"
     },
     "metadata": {
      "needs_background": "light"
     },
     "output_type": "display_data"
    }
   ],
   "source": [
    "exp_num = [i + 1  for i in range(100)]\n",
    "\n",
    "SX_params, SX_fit = fit_function(range(100),\n",
    "                                       zero_population,\n",
    "                                       SX_theory,\n",
    "                                       [0.02])\n",
    "print(SX_params)\n",
    "plt.scatter(exp_num, zero_population, marker='o', linestyle='-', color='blue')\n",
    "# plt.plot(range(100), SX_theory(range(100), SX_params), color='red')\n",
    "# plt.xlim([0, 20])\n",
    "plt.scatter(exp_num, SX_theory(exp_num, SX_params), color='red')"
   ],
   "metadata": {
    "collapsed": false,
    "pycharm": {
     "name": "#%%\n"
    }
   }
  },
  {
   "cell_type": "code",
   "execution_count": 163,
   "outputs": [
    {
     "data": {
      "text/plain": "(0.0, 20.0)"
     },
     "execution_count": 163,
     "metadata": {},
     "output_type": "execute_result"
    },
    {
     "data": {
      "text/plain": "<Figure size 432x288 with 1 Axes>",
      "image/png": "[encoded data removed]"
     },
     "metadata": {
      "needs_background": "light"
     },
     "output_type": "display_data"
    }
   ],
   "source": [
    "plt.scatter(exp_num, zero_population, marker='o', linestyle='-', color='blue')\n",
    "plt.scatter(exp_num, SX_theory(exp_num, 0.02), color='red')\n",
    "plt.xlim(0, 20)"
   ],
   "metadata": {
    "collapsed": false,
    "pycharm": {
     "name": "#%%\n"
    }
   }
  },
  {
   "cell_type": "code",
   "execution_count": 18,
   "outputs": [],
   "source": [
    "SX_odd_circs = []\n",
    "for i in range(100):\n",
    "    qc_SX = QuantumCircuit(1, 1)\n",
    "    SX = Gate(\"$SX$\", 1, [])\n",
    "    qc_SX.add_calibration(SX, (0,), SX_sched, [])\n",
    "    qc_SX.append(SX, [0])\n",
    "    for j in range(i):\n",
    "        qc_SX.append(SX, [0])\n",
    "        qc_SX.append(SX, [0])\n",
    "    qc_SX.measure(qubit, 0)\n",
    "    SX_odd_circs.append(qc_SX)\n"
   ],
   "metadata": {
    "collapsed": false,
    "pycharm": {
     "name": "#%%\n"
    }
   }
  },
  {
   "cell_type": "code",
   "execution_count": 351,
   "outputs": [
    {
     "data": {
      "text/plain": "<Figure size 494.726x144.48 with 1 Axes>",
      "image/png": "[encoded data removed]"
     },
     "execution_count": 351,
     "metadata": {},
     "output_type": "execute_result"
    }
   ],
   "source": [
    "SX_odd_circs[1].draw(output='mpl')"
   ],
   "metadata": {
    "collapsed": false,
    "pycharm": {
     "name": "#%%\n"
    }
   }
  },
  {
   "cell_type": "code",
   "execution_count": 266,
   "outputs": [
    {
     "data": {
      "text/plain": "'633ebe58338f42c077b76051'"
     },
     "execution_count": 266,
     "metadata": {},
     "output_type": "execute_result"
    }
   ],
   "source": [
    "SX_odd_job = backend.run(SX_odd_circs,\n",
    "                     meas_level=2,\n",
    "                     meas_return='single',\n",
    "                     shots=2**14)\n",
    "SX_odd_job.job_id()"
   ],
   "metadata": {
    "collapsed": false,
    "pycharm": {
     "name": "#%%\n"
    }
   }
  },
  {
   "cell_type": "code",
   "execution_count": 19,
   "outputs": [],
   "source": [
    "SX_odd_job = backend.retrieve_job('633ebe58338f42c077b76051')"
   ],
   "metadata": {
    "collapsed": false,
    "pycharm": {
     "name": "#%%\n"
    }
   }
  },
  {
   "cell_type": "code",
   "execution_count": 21,
   "outputs": [],
   "source": [
    "SX_odd_results = SX_odd_job.result().get_counts()\n",
    "zero_population_odd = [SX_odd_results[i]['0']/2**14 for i in range(100)]"
   ],
   "metadata": {
    "collapsed": false,
    "pycharm": {
     "name": "#%%\n"
    }
   }
  },
  {
   "cell_type": "code",
   "execution_count": 151,
   "outputs": [],
   "source": [
    "def SX_odd_theory(val, A, B, epsilon):\n",
    "    # return [1/2 + 1/2*(-1)**n*np.cos(np.pi/2 + (2*n + 1)*epsilon) for n in val] #sheldon 2015\n",
    "    return [A + B*np.cos((2*n + 1)*(epsilon + np.pi/2)) for n in val]\n",
    "    # return [np.cos((epsilon + np.pi/2)*(n + 1/2))**2 for n in val]"
   ],
   "metadata": {
    "collapsed": false,
    "pycharm": {
     "name": "#%%\n"
    }
   }
  },
  {
   "cell_type": "code",
   "execution_count": 169,
   "outputs": [
    {
     "name": "stdout",
     "output_type": "stream",
     "text": [
      "[0.50823087 0.4525394  0.02019534]\n"
     ]
    },
    {
     "ename": "TypeError",
     "evalue": "'int' object is not iterable",
     "output_type": "error",
     "traceback": [
      "\u001B[0;31m---------------------------------------------------------------------------\u001B[0m",
      "\u001B[0;31mTypeError\u001B[0m                                 Traceback (most recent call last)",
      "Input \u001B[0;32mIn [169]\u001B[0m, in \u001B[0;36m<cell line: 5>\u001B[0;34m()\u001B[0m\n\u001B[1;32m      3\u001B[0m SX_odd_params \u001B[38;5;241m=\u001B[39m curve_fit(SX_odd_theory, exp_num[:num_fit], zero_population_odd[:num_fit], p0 \u001B[38;5;241m=\u001B[39m [\u001B[38;5;241m1\u001B[39m\u001B[38;5;241m/\u001B[39m\u001B[38;5;241m2\u001B[39m, \u001B[38;5;241m1\u001B[39m\u001B[38;5;241m/\u001B[39m\u001B[38;5;241m2\u001B[39m, \u001B[38;5;241m0.02\u001B[39m], maxfev\u001B[38;5;241m=\u001B[39m\u001B[38;5;241m5000\u001B[39m)[\u001B[38;5;241m0\u001B[39m]\n\u001B[1;32m      4\u001B[0m \u001B[38;5;28mprint\u001B[39m(SX_odd_params)\n\u001B[0;32m----> 5\u001B[0m residuals \u001B[38;5;241m=\u001B[39m [zero_population_odd[i] \u001B[38;5;241m-\u001B[39m SX_odd_theory(exp_num[i], \u001B[38;5;241m*\u001B[39mSX_odd_params) \u001B[38;5;28;01mfor\u001B[39;00m i \u001B[38;5;129;01min\u001B[39;00m \u001B[38;5;28mrange\u001B[39m(num_fit)]\n\u001B[1;32m      6\u001B[0m ss_res \u001B[38;5;241m=\u001B[39m np\u001B[38;5;241m.\u001B[39msum(residuals\u001B[38;5;241m*\u001B[39m\u001B[38;5;241m*\u001B[39m\u001B[38;5;241m2\u001B[39m)\n\u001B[1;32m      7\u001B[0m ss_tot \u001B[38;5;241m=\u001B[39m np\u001B[38;5;241m.\u001B[39msum((zero_population_odd[:num_fit]\u001B[38;5;241m-\u001B[39mnp\u001B[38;5;241m.\u001B[39mmean(zero_population_odd[:num_fit]))\u001B[38;5;241m*\u001B[39m\u001B[38;5;241m*\u001B[39m\u001B[38;5;241m2\u001B[39m)\n",
      "Input \u001B[0;32mIn [169]\u001B[0m, in \u001B[0;36m<listcomp>\u001B[0;34m(.0)\u001B[0m\n\u001B[1;32m      3\u001B[0m SX_odd_params \u001B[38;5;241m=\u001B[39m curve_fit(SX_odd_theory, exp_num[:num_fit], zero_population_odd[:num_fit], p0 \u001B[38;5;241m=\u001B[39m [\u001B[38;5;241m1\u001B[39m\u001B[38;5;241m/\u001B[39m\u001B[38;5;241m2\u001B[39m, \u001B[38;5;241m1\u001B[39m\u001B[38;5;241m/\u001B[39m\u001B[38;5;241m2\u001B[39m, \u001B[38;5;241m0.02\u001B[39m], maxfev\u001B[38;5;241m=\u001B[39m\u001B[38;5;241m5000\u001B[39m)[\u001B[38;5;241m0\u001B[39m]\n\u001B[1;32m      4\u001B[0m \u001B[38;5;28mprint\u001B[39m(SX_odd_params)\n\u001B[0;32m----> 5\u001B[0m residuals \u001B[38;5;241m=\u001B[39m [zero_population_odd[i] \u001B[38;5;241m-\u001B[39m \u001B[43mSX_odd_theory\u001B[49m\u001B[43m(\u001B[49m\u001B[43mexp_num\u001B[49m\u001B[43m[\u001B[49m\u001B[43mi\u001B[49m\u001B[43m]\u001B[49m\u001B[43m,\u001B[49m\u001B[43m \u001B[49m\u001B[38;5;241;43m*\u001B[39;49m\u001B[43mSX_odd_params\u001B[49m\u001B[43m)\u001B[49m \u001B[38;5;28;01mfor\u001B[39;00m i \u001B[38;5;129;01min\u001B[39;00m \u001B[38;5;28mrange\u001B[39m(num_fit)]\n\u001B[1;32m      6\u001B[0m ss_res \u001B[38;5;241m=\u001B[39m np\u001B[38;5;241m.\u001B[39msum(residuals\u001B[38;5;241m*\u001B[39m\u001B[38;5;241m*\u001B[39m\u001B[38;5;241m2\u001B[39m)\n\u001B[1;32m      7\u001B[0m ss_tot \u001B[38;5;241m=\u001B[39m np\u001B[38;5;241m.\u001B[39msum((zero_population_odd[:num_fit]\u001B[38;5;241m-\u001B[39mnp\u001B[38;5;241m.\u001B[39mmean(zero_population_odd[:num_fit]))\u001B[38;5;241m*\u001B[39m\u001B[38;5;241m*\u001B[39m\u001B[38;5;241m2\u001B[39m)\n",
      "Input \u001B[0;32mIn [151]\u001B[0m, in \u001B[0;36mSX_odd_theory\u001B[0;34m(val, A, B, epsilon)\u001B[0m\n\u001B[1;32m      1\u001B[0m \u001B[38;5;28;01mdef\u001B[39;00m \u001B[38;5;21mSX_odd_theory\u001B[39m(val, A, B, epsilon):\n\u001B[1;32m      2\u001B[0m     \u001B[38;5;66;03m# return [1/2 + 1/2*(-1)**n*np.cos(np.pi/2 + (2*n + 1)*epsilon) for n in val] #sheldon 2015\u001B[39;00m\n\u001B[0;32m----> 3\u001B[0m     \u001B[38;5;28;01mreturn\u001B[39;00m [A \u001B[38;5;241m+\u001B[39m B\u001B[38;5;241m*\u001B[39mnp\u001B[38;5;241m.\u001B[39mcos((\u001B[38;5;241m2\u001B[39m\u001B[38;5;241m*\u001B[39mn \u001B[38;5;241m+\u001B[39m \u001B[38;5;241m1\u001B[39m)\u001B[38;5;241m*\u001B[39m(epsilon \u001B[38;5;241m+\u001B[39m np\u001B[38;5;241m.\u001B[39mpi\u001B[38;5;241m/\u001B[39m\u001B[38;5;241m2\u001B[39m)) \u001B[38;5;28;01mfor\u001B[39;00m n \u001B[38;5;129;01min\u001B[39;00m val]\n",
      "\u001B[0;31mTypeError\u001B[0m: 'int' object is not iterable"
     ]
    }
   ],
   "source": [
    "num_fit = 78\n",
    "exp_num = [i + 1  for i in range(100)]\n",
    "SX_odd_params = curve_fit(SX_odd_theory, exp_num[:num_fit], zero_population_odd[:num_fit], p0 = [1/2, 1/2, 0.02], maxfev=5000)[0]\n",
    "print(SX_odd_params)\n",
    "residuals = [zero_population_odd[i] - SX_odd_theory(exp_num[i], *SX_odd_params) for i in range(num_fit)]\n",
    "ss_res = np.sum(residuals**2)\n",
    "ss_tot = np.sum((zero_population_odd[:num_fit]-np.mean(zero_population_odd[:num_fit]))**2)\n",
    "r_squared = 1 - (ss_res / ss_tot)\n",
    "print('r-squared =', r_squared)\n",
    "\n",
    "plt.scatter(exp_num[:num_fit], zero_population_odd[:num_fit], marker='o', linestyle='-', color='blue')\n",
    "# plt.plot(range(75), zero_population_odd[:75], marker='o', linestyle='-', color='blue')\n",
    "# plt.xlim(0,10)\n",
    "\n",
    "plt.scatter(exp_num[:num_fit], SX_odd_theory(range(num_fit), *SX_odd_params), color='red')"
   ],
   "metadata": {
    "collapsed": false,
    "pycharm": {
     "name": "#%%\n"
    }
   }
  },
  {
   "cell_type": "code",
   "execution_count": 168,
   "outputs": [
    {
     "ename": "TypeError",
     "evalue": "SX_odd_theory() missing 2 required positional arguments: 'B' and 'epsilon'",
     "output_type": "error",
     "traceback": [
      "\u001B[0;31m---------------------------------------------------------------------------\u001B[0m",
      "\u001B[0;31mTypeError\u001B[0m                                 Traceback (most recent call last)",
      "Input \u001B[0;32mIn [168]\u001B[0m, in \u001B[0;36m<cell line: 2>\u001B[0;34m()\u001B[0m\n\u001B[1;32m      1\u001B[0m plt\u001B[38;5;241m.\u001B[39mscatter(exp_num[:\u001B[38;5;241m75\u001B[39m], zero_population_odd[:\u001B[38;5;241m75\u001B[39m], marker\u001B[38;5;241m=\u001B[39m\u001B[38;5;124m'\u001B[39m\u001B[38;5;124mo\u001B[39m\u001B[38;5;124m'\u001B[39m, linestyle\u001B[38;5;241m=\u001B[39m\u001B[38;5;124m'\u001B[39m\u001B[38;5;124m-\u001B[39m\u001B[38;5;124m'\u001B[39m, color\u001B[38;5;241m=\u001B[39m\u001B[38;5;124m'\u001B[39m\u001B[38;5;124mblue\u001B[39m\u001B[38;5;124m'\u001B[39m)\n\u001B[0;32m----> 2\u001B[0m plt\u001B[38;5;241m.\u001B[39mscatter(exp_num[:\u001B[38;5;241m75\u001B[39m], \u001B[43mSX_odd_theory\u001B[49m\u001B[43m(\u001B[49m\u001B[43mexp_num\u001B[49m\u001B[43m[\u001B[49m\u001B[43m:\u001B[49m\u001B[38;5;241;43m75\u001B[39;49m\u001B[43m]\u001B[49m\u001B[43m,\u001B[49m\u001B[43m \u001B[49m\u001B[38;5;241;43m0.02\u001B[39;49m\u001B[43m)\u001B[49m, color\u001B[38;5;241m=\u001B[39m\u001B[38;5;124m'\u001B[39m\u001B[38;5;124mred\u001B[39m\u001B[38;5;124m'\u001B[39m)\n",
      "\u001B[0;31mTypeError\u001B[0m: SX_odd_theory() missing 2 required positional arguments: 'B' and 'epsilon'"
     ]
    },
    {
     "data": {
      "text/plain": "<Figure size 432x288 with 1 Axes>",
      "image/png": "[encoded data removed]"
     },
     "metadata": {
      "needs_background": "light"
     },
     "output_type": "display_data"
    }
   ],
   "source": [
    "plt.scatter(exp_num[:75], zero_population_odd[:75], marker='o', linestyle='-', color='blue')\n",
    "plt.scatter(exp_num[:75], SX_odd_theory(exp_num[:75], 0.02), color='red')\n",
    "# plt.xlim(0, 10)"
   ],
   "metadata": {
    "collapsed": false,
    "pycharm": {
     "name": "#%%\n"
    }
   }
  }
 ],
 "metadata": {
  "kernelspec": {
   "display_name": "Python 3 (ipykernel)",
   "language": "python",
   "name": "python3"
  },
  "language_info": {
   "codemirror_mode": {
    "name": "ipython",
    "version": 3
   },
   "file_extension": ".py",
   "mimetype": "text/x-python",
   "name": "python",
   "nbconvert_exporter": "python",
   "pygments_lexer": "ipython3",
   "version": "3.8.2"
  }
 },
 "nbformat": 4,
 "nbformat_minor": 5
}