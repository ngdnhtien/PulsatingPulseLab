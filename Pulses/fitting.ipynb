{
 "cells": [
  {
   "cell_type": "code",
   "execution_count": 165,
   "metadata": {
    "collapsed": true,
    "pycharm": {
     "name": "#%%\n"
    }
   },
   "outputs": [],
   "source": [
    "import numpy as np\n",
    "from numpy import genfromtxt\n",
    "\n",
    "import matplotlib.pyplot as plt\n",
    "from scipy.optimize import curve_fit\n",
    "from qiskit.tools.jupyter import *\n",
    "from scipy.optimize import minimize\n",
    "import matplotlib as mpl\n",
    "import matplotlib.pylab as pylab\n",
    "from mpl_toolkits.mplot3d import Axes3D\n",
    "import pandas as pd\n",
    "import seaborn as sns\n",
    "\n",
    "from sklearn.model_selection import train_test_split\n",
    "from sklearn.discriminant_analysis import LinearDiscriminantAnalysis\n",
    "\n",
    "import warnings\n",
    "\n",
    "warnings.filterwarnings('ignore')\n",
    "\n",
    "pi = np.pi\n",
    "cos = np.cos\n",
    "sin = np.sin\n",
    "exp = np.exp\n",
    "sqrt = np.sqrt"
   ]
  },
  {
   "cell_type": "code",
   "execution_count": 166,
   "outputs": [],
   "source": [
    "anharmonicity = 4581552617.648945 - 4.92517 * 1e9"
   ],
   "metadata": {
    "collapsed": false,
    "pycharm": {
     "name": "#%%\n"
    }
   }
  },
  {
   "cell_type": "code",
   "execution_count": 167,
   "outputs": [],
   "source": [
    "NUM_DATA = 95\n",
    "param = genfromtxt('find_phase_exp.csv', delimiter=\",\")\n",
    "exp_data = genfromtxt('exp_data.csv', delimiter=\",\")[3:]"
   ],
   "metadata": {
    "collapsed": false,
    "pycharm": {
     "name": "#%%\n"
    }
   }
  },
  {
   "cell_type": "code",
   "execution_count": 168,
   "outputs": [
    {
     "name": "stdout",
     "output_type": "stream",
     "text": [
      "[3.91888329 0.03403396 6.0370559 ]\n",
      "[1.5109066  0.62337626 2.06321865]\n",
      "[6.05653657 4.89386627 3.43197177]\n",
      "[0.17919457 2.49710906 4.38431256]\n",
      "[3.20926878 3.20982402 5.23457955]\n",
      "[0.34225085 0.94326611 5.20497559]\n",
      "[2.34651654 3.95431389 3.05087517]\n",
      "[1.4888863  0.79867661 0.56599537]\n",
      "[2.57968474 4.45072969 0.97783279]\n",
      "[3.68835056 1.18921785 4.02256947]\n",
      "[3.71766088 4.23369495 4.82063136]\n",
      "[5.27495204 1.72928872 5.66006704]\n",
      "[0.15497756 0.51501466 6.03680898]\n",
      "[1.75822285 2.20694101 3.13027852]\n",
      "[0.39625713 4.39552955 5.23311667]\n",
      "[3.08154406 1.76892843 2.57153954]\n",
      "[3.38571915 4.50528543 4.24891738]\n",
      "[2.35979064 0.75925089 2.5393576 ]\n",
      "[1.12192408 5.97310756 1.36702269]\n",
      "[4.63096649 1.12355499 0.21186329]\n",
      "[2.37583492 4.67068495 0.77554916]\n",
      "[4.29836803 5.91580966 5.20803008]\n",
      "[4.54173195 4.28794418 2.67756696]\n",
      "[2.14018646 2.67219003 1.07983617]\n",
      "[1.27885162 1.74993502 2.87428942]\n",
      "[3.26051878 0.58713072 0.22939062]\n",
      "[3.83918419 1.66607345 3.12063265]\n",
      "[4.05809782 2.34504535 1.58066794]\n",
      "[1.14599239 5.21761792 3.65141232]\n",
      "[3.77665328 5.11013612 6.02699168]\n",
      "[2.75749916 0.16347959 4.59935421]\n",
      "[5.6937358  0.18828201 4.94892665]\n",
      "[5.67676211 4.86799215 5.36212564]\n",
      "[1.17267442 3.28495179 3.67716323]\n",
      "[2.0386812  2.57254251 1.04919329]\n",
      "[1.77394706 4.23848918 2.2381682 ]\n",
      "[6.08946123 2.23541677 1.62373097]\n",
      "[3.52290182 0.6804338  3.16528259]\n",
      "[5.71654989 2.0083042  1.28799204]\n",
      "[4.41425214 0.1090825  3.02127186]\n",
      "[3.19106204 2.62496659 4.54247441]\n",
      "[2.86285355 0.63216865 0.64553075]\n",
      "[3.76260037 3.98705063 2.41475697]\n",
      "[3.45444552 0.68321241 3.51111173]\n",
      "[3.50565991 3.86311514 1.7221653 ]\n",
      "[4.3030728  0.83837832 3.45939567]\n",
      "[3.51965587 5.07894894 0.09822517]\n",
      "[5.75207329 4.66998953 4.58156846]\n",
      "[0.07893096 3.045003   2.95941005]\n",
      "[2.64952568 5.85827354 1.26332614]\n",
      "[1.56523741 4.6558212  3.06780578]\n",
      "[0.79507623 4.19241839 4.7920115 ]\n",
      "[5.10021329 3.49799238 1.60159253]\n",
      "[4.35467397 4.83086665 2.24261112]\n",
      "[0.33066881 5.13414916 5.43132915]\n",
      "[2.06045795 2.76691915 2.99632763]\n",
      "[0.37859571 1.01353297 4.63031324]\n",
      "[2.73449732 4.48929032 0.50225481]\n",
      "[4.57616196 5.26945486 1.50538806]\n",
      "[3.9386457  3.75860645 5.83231215]\n",
      "[4.38617255 3.5019447  2.32140122]\n",
      "[1.08241219 1.58847211 1.76017221]\n",
      "[4.82859511 4.88865465 4.87205448]\n",
      "[5.46289163 6.04502597 1.66444182]\n",
      "[3.66700835 0.28202563 3.643541  ]\n",
      "[2.27723242 4.67769317 3.00461041]\n",
      "[1.26860581 2.73248672 2.63802507]\n",
      "[1.22839482 0.10334355 2.56318437]\n",
      "[2.48447412 4.08985459 1.30207866]\n",
      "[5.8664518  3.94385543 0.23408639]\n",
      "[2.86739186 4.07084903 1.3247501 ]\n",
      "[2.00621592 1.35092196 2.38107414]\n",
      "[5.52389821 3.15917855 3.22304042]\n",
      "[3.70381163 1.40247266 2.9681034 ]\n",
      "[3.25736844 2.74227477 5.13467389]\n",
      "[0.20220066 5.37019236 2.76853383]\n",
      "[2.85291153 3.00360398 5.73592393]\n",
      "[5.65214754 5.25393554 0.09490222]\n",
      "[4.72985296 0.9853343  1.27417944]\n",
      "[4.11908003 2.89234319 5.89985075]\n",
      "[1.88550856 1.53498383 1.84868654]\n",
      "[2.30133803 3.34669161 2.35465922]\n",
      "[5.61861739 1.40573453 6.25666853]\n",
      "[2.51469597 5.24706412 1.94295823]\n",
      "[0.36136248 4.34823879 5.71906265]\n",
      "[2.09639247 4.74746904 1.64163833]\n",
      "[2.26078033 1.0197346  4.12527432]\n",
      "[4.05739958 0.04742423 3.62603241]\n",
      "[4.70243181 2.66884008 2.93188706]\n",
      "[0.48157046 3.25925712 5.84445335]\n",
      "[5.41740218 2.29593087 0.02000692]\n",
      "[4.98249576 3.8264822  2.85942935]\n",
      "[5.17092295 0.78512155 3.63945373]\n",
      "[0.06535996 0.20863383 0.1199143 ]\n",
      "[0.22566575 0.22300522 3.68880402]\n"
     ]
    }
   ],
   "source": [
    "for theta in param:\n",
    "    print(theta)"
   ],
   "metadata": {
    "collapsed": false,
    "pycharm": {
     "name": "#%%\n"
    }
   }
  },
  {
   "cell_type": "code",
   "execution_count": 169,
   "outputs": [
    {
     "data": {
      "text/plain": "0.03145"
     },
     "execution_count": 169,
     "metadata": {},
     "output_type": "execute_result"
    }
   ],
   "source": [
    "exp_data[1, 0]"
   ],
   "metadata": {
    "collapsed": false,
    "pycharm": {
     "name": "#%%\n"
    }
   }
  },
  {
   "cell_type": "code",
   "execution_count": 170,
   "outputs": [],
   "source": [
    "def Z01(phi):\n",
    "    return np.array([[exp(1j * phi), 0, 0],\n",
    "                     [0, 1, 0],\n",
    "                     [0, 0, 1]])\n",
    "\n",
    "\n",
    "def Z12(phi):\n",
    "    return np.array([[1, 0, 0],\n",
    "                     [0, 1, 0],\n",
    "                     [0, 0, exp(1j * phi)]])\n",
    "\n",
    "\n",
    "def X01(theta):\n",
    "    return np.array([[np.cos(theta / 2), -1j * np.sin(theta / 2), 0],\n",
    "                     [-1j * np.sin(theta / 2), np.cos(theta / 2), 0],\n",
    "                     [0, 0, 1]])\n",
    "\n",
    "\n",
    "def X12(theta):\n",
    "    return np.array([[1, 0, 0],\n",
    "                     [0, np.cos(theta / 2), -1j * np.sin(theta / 2)],\n",
    "                     [0, -1j * np.sin(theta / 2), np.cos(theta / 2)]])\n",
    "\n",
    "def model_population(theta, alpha):\n",
    "    # alpha are parameters of the model\n",
    "    psi_init = [[1], [0], [0]]\n",
    "    psi_final = Z12(alpha[0]) @ X01(theta[2]) @ Z12(alpha[0]) @ X01(theta[1]) @ Z12(alpha[0]) @ X01(theta[0]) @ Z01(\n",
    "        alpha[1]) @ X12(pi / 2) @ Z12(alpha[0]) @ X01(pi / 2) @ psi_init\n",
    "    return [np.absolute(psi_final[0][0]) ** 2, np.absolute(psi_final[1][0]) ** 2, np.absolute(psi_final[2][0]) ** 2]\n",
    "\n",
    "\n",
    "def obj_func(alpha):\n",
    "    theo_data = [model_population(theta, alpha) for theta in param]\n",
    "    L = 0\n",
    "    for i in range(NUM_DATA):\n",
    "        L += (exp_data[i, 0] - theo_data[i][0]) ** 2 + (exp_data[i, 1] - theo_data[i][1]) ** 2 + (\n",
    "                    exp_data[i, 2] - theo_data[i][2]) ** 2\n",
    "    return L"
   ],
   "metadata": {
    "collapsed": false,
    "pycharm": {
     "name": "#%%\n"
    }
   }
  },
  {
   "cell_type": "code",
   "execution_count": 171,
   "outputs": [
    {
     "name": "stdout",
     "output_type": "stream",
     "text": [
      "error =  0.3224360939119659\n",
      "alpha =  [ 2.858849   -2.56750437]\n"
     ]
    }
   ],
   "source": [
    "NUM_OPTIMIZER = 10\n",
    "err = 100\n",
    "optimized_alpha = []\n",
    "for i in range(NUM_OPTIMIZER):\n",
    "    alpha_init = [pi * np.random.randint(-100, 100) / 100 for j in range(2)]\n",
    "    result = minimize(obj_func, alpha_init)\n",
    "    if result.fun < err:\n",
    "        err = result.fun\n",
    "        optimized_alpha = result.x\n",
    "print('error = ', err)\n",
    "print('alpha = ', optimized_alpha)"
   ],
   "metadata": {
    "collapsed": false,
    "pycharm": {
     "name": "#%%\n"
    }
   }
  },
  {
   "cell_type": "code",
   "execution_count": 172,
   "outputs": [],
   "source": [
    "theo_data = [model_population(theta, optimized_alpha) for theta in param]"
   ],
   "metadata": {
    "collapsed": false,
    "pycharm": {
     "name": "#%%\n"
    }
   }
  },
  {
   "cell_type": "code",
   "execution_count": 191,
   "outputs": [],
   "source": [
    "p0t = [arr[0] for arr in theo_data]\n",
    "p1t = [arr[1] for arr in theo_data]\n",
    "p2t = [arr[2] for arr in theo_data]\n",
    "p0 = [exp_data[:, 0][i] for i in range(NUM_DATA)]\n",
    "p1 = [exp_data[:, 1][i] for i in range(NUM_DATA)]\n",
    "p2 = [exp_data[:, 2][i] for i in range(NUM_DATA)]"
   ],
   "metadata": {
    "collapsed": false,
    "pycharm": {
     "name": "#%%\n"
    }
   }
  },
  {
   "cell_type": "code",
   "execution_count": 188,
   "outputs": [],
   "source": [
    "### Start from electron\n",
    "params = {'legend.fontsize': 'x-large',\n",
    "          'figure.figsize': (9, 9),\n",
    "          'axes.labelsize': 'x-large',\n",
    "          'axes.titlesize':'x-large',\n",
    "          'xtick.labelsize':'x-large',\n",
    "          'ytick.labelsize':'x-large'}\n",
    "pylab.rcParams.update(params)\n",
    "colors=sns.color_palette(\"rocket\",3)\n",
    "seshadri = ['#c3121e', '#0348a1', '#ffb01c', '#027608', '#0193b0', '#9c5300', '#949c01', '#7104b5']\n",
    "#            0sangre,   1neptune,  2pumpkin,  3clover,   4denim,    5cocoa,    6cumin,    7berry"
   ],
   "metadata": {
    "collapsed": false,
    "pycharm": {
     "name": "#%%\n"
    }
   }
  },
  {
   "cell_type": "code",
   "execution_count": 189,
   "outputs": [
    {
     "data": {
      "text/plain": "Text(0, 0.5, '$P_{0_{exp}}$')"
     },
     "execution_count": 189,
     "metadata": {},
     "output_type": "execute_result"
    },
    {
     "data": {
      "text/plain": "<Figure size 648x648 with 1 Axes>",
      "image/png": "[encoded data removed]"
     },
     "metadata": {
      "needs_background": "light"
     },
     "output_type": "display_data"
    }
   ],
   "source": [
    "plt.plot(p0t,p0, 'o', c=seshadri[2],label='|0>')\n",
    "plt.plot(p0t,p0t, 'k', c=seshadri[1])\n",
    "plt.legend(fontsize=20)\n",
    "plt.xlabel(r'$P_{0_{theo}}$',fontsize=20)\n",
    "plt.ylabel(r'$P_{0_{exp}}$',fontsize=20)"
   ],
   "metadata": {
    "collapsed": false,
    "pycharm": {
     "name": "#%%\n"
    }
   }
  },
  {
   "cell_type": "code",
   "execution_count": 192,
   "outputs": [
    {
     "data": {
      "text/plain": "<Figure size 648x648 with 1 Axes>",
      "image/png": "[encoded data removed]"
     },
     "metadata": {
      "needs_background": "light"
     },
     "output_type": "display_data"
    }
   ],
   "source": [
    "plt.plot(p1t,p1, 'o', c=seshadri[0],label='|1>')\n",
    "plt.plot(p1t,p1t, 'k', c=seshadri[1])\n",
    "plt.legend(fontsize=20)\n",
    "plt.xlabel(r'$P_{1_{theo}}$',fontsize=20)\n",
    "plt.ylabel(r'$P_{1_{exp}}$',fontsize=20)\n",
    "plt.show()"
   ],
   "metadata": {
    "collapsed": false,
    "pycharm": {
     "name": "#%%\n"
    }
   }
  },
  {
   "cell_type": "code",
   "execution_count": 193,
   "outputs": [
    {
     "data": {
      "text/plain": "<Figure size 648x648 with 1 Axes>",
      "image/png": "[encoded data removed]"
     },
     "metadata": {
      "needs_background": "light"
     },
     "output_type": "display_data"
    }
   ],
   "source": [
    "plt.plot(p2t,p2, 'o', c=seshadri[3],label='|2>')\n",
    "plt.plot(p2t,p2t,  c=seshadri[1])\n",
    "plt.legend(fontsize=20)\n",
    "plt.xlabel(r'$P_{2_{theo}}$',fontsize=20)\n",
    "plt.ylabel(r'$P_{2_{exp}}$',fontsize=20)\n",
    "plt.axis('equal')\n",
    "plt.show()"
   ],
   "metadata": {
    "collapsed": false,
    "pycharm": {
     "name": "#%%\n"
    }
   }
  }
 ],
 "metadata": {
  "kernelspec": {
   "display_name": "Python 3",
   "language": "python",
   "name": "python3"
  },
  "language_info": {
   "codemirror_mode": {
    "name": "ipython",
    "version": 2
   },
   "file_extension": ".py",
   "mimetype": "text/x-python",
   "name": "python",
   "nbconvert_exporter": "python",
   "pygments_lexer": "ipython2",
   "version": "2.7.6"
  }
 },
 "nbformat": 4,
 "nbformat_minor": 0
}