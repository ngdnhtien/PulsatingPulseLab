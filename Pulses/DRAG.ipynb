{
 "cells": [
  {
   "cell_type": "markdown",
   "source": [
    "# Never gonna give you up\n",
    "# Never gonna DRAG you down"
   ],
   "metadata": {
    "collapsed": false,
    "pycharm": {
     "name": "#%% md\n"
    }
   }
  },
  {
   "cell_type": "markdown",
   "id": "62cf3594",
   "metadata": {
    "pycharm": {
     "name": "#%% md\n"
    }
   },
   "source": [
    "Howdy folks. Today we'll be quantum mechanic."
   ]
  },
  {
   "cell_type": "code",
   "execution_count": 1,
   "id": "dec2fdb6",
   "metadata": {
    "pycharm": {
     "name": "#%%\n"
    }
   },
   "outputs": [],
   "source": [
    "# First we set up some basic dependencies\n",
    "\n",
    "import numpy as np\n",
    "import pandas as pd\n",
    "import matplotlib.pyplot as plt\n",
    "from scipy.optimize import curve_fit\n",
    "\n",
    "import qiskit as qis\n",
    "import qiskit.pulse as qisp\n",
    "from qiskit.circuit import Parameter, QuantumCircuit, Gate\n",
    "from qiskit import IBMQ, schedule\n",
    "from qiskit.providers.ibmq.managed import IBMQJobManager\n",
    "from qiskit.compiler.assembler import MeasLevel, MeasReturnType\n",
    "from qiskit.tools.monitor import job_monitor\n",
    "\n",
    "if not IBMQ.active_account():\n",
    "    IBMQ.load_account()\n",
    "    \n",
    "provider = IBMQ.get_provider(hub='ibm-q', group='open', project='main')\n",
    "backend = provider.get_backend('ibmq_manila')"
   ]
  },
  {
   "cell_type": "code",
   "execution_count": 33,
   "id": "ffbaf61e",
   "metadata": {
    "pycharm": {
     "name": "#%%\n"
    }
   },
   "outputs": [],
   "source": [
    "qubit = 0\n",
    "drive_freq = backend.configuration().hamiltonian['vars'][f'wq{qubit}']/(2*np.pi)\n",
    "# drive_coupling = backend.configuration().hamiltonian['vars'][f'omegad{qubit}']\n",
    "\n",
    "x_sigma = 80\n",
    "x_duration = 320\n",
    "\n",
    "x_amp = 0.10218341976411754\n",
    "drive_betas = np.linspace(-20, 20, 33)\n",
    "\n",
    "drive_beta = Parameter('drive_beta')\n",
    "with qisp.build(backend=backend, default_alignment='sequential') as XX_sched:\n",
    "        qisp.set_frequency(drive_freq, qisp.drive_channel(0))\n",
    "        qisp.play(qisp.Drag(duration=x_duration,\n",
    "                              amp=x_amp,\n",
    "                              sigma=x_sigma,\n",
    "                              beta=drive_beta), qisp.drive_channel(0))\n",
    "        qisp.shift_phase(-np.pi, qisp.drive_channel(0))\n",
    "        qisp.play(qisp.Drag(duration=x_duration,\n",
    "                              amp=x_amp,\n",
    "                              sigma=x_sigma,\n",
    "                              beta=drive_beta), qisp.drive_channel(0))\n",
    "        qisp.shift_phase(-np.pi, qisp.drive_channel(0))"
   ]
  },
  {
   "cell_type": "code",
   "execution_count": 34,
   "id": "51a5d55c",
   "metadata": {
    "pycharm": {
     "name": "#%%\n"
    }
   },
   "outputs": [
    {
     "data": {
      "text/plain": "<Figure size 253.926x144.48 with 1 Axes>",
      "image/png": "[encoded data removed]"
     },
     "execution_count": 34,
     "metadata": {},
     "output_type": "execute_result"
    }
   ],
   "source": [
    "# n = 1\n",
    "\n",
    "n = 1\n",
    "XX = Gate(\"$X_\\pi X_{-\\pi}$\", 1, [drive_beta])\n",
    "qc_DRAG = QuantumCircuit(1, 1)\n",
    "n = 2*k + 1\n",
    "i = 0\n",
    "while i < n:\n",
    "    qc_DRAG.append(XX, [0])\n",
    "    i += 1\n",
    "qc_DRAG.measure(0, 0)\n",
    "qc_DRAG.add_calibration(XX, (0,), XX_sched, [drive_beta])\n",
    "exp_DRAG_circuits_n1 = [qc_DRAG.assign_parameters({drive_beta: b}, inplace=False) for b in drive_betas]\n",
    "qc_DRAG.draw(output='mpl')"
   ]
  },
  {
   "cell_type": "code",
   "execution_count": 24,
   "outputs": [
    {
     "data": {
      "text/plain": "51"
     },
     "execution_count": 24,
     "metadata": {},
     "output_type": "execute_result"
    }
   ],
   "source": [
    "len(exp_DRAG_circuits_n1)"
   ],
   "metadata": {
    "collapsed": false,
    "pycharm": {
     "name": "#%%\n"
    }
   }
  },
  {
   "cell_type": "code",
   "execution_count": 35,
   "id": "afcd0f11",
   "metadata": {
    "pycharm": {
     "name": "#%%\n"
    }
   },
   "outputs": [],
   "source": [
    "# n = 3\n",
    "\n",
    "# for k in range(2):\n",
    "n = 3\n",
    "XX = Gate(\"$X_\\pi X_{-\\pi}$\", 1, [drive_beta])\n",
    "qc_DRAG = QuantumCircuit(1, 1)\n",
    "i = 0\n",
    "while i < n:\n",
    "    qc_DRAG.append(XX, [0])\n",
    "    i += 1\n",
    "qc_DRAG.measure(0, 0)\n",
    "qc_DRAG.add_calibration(XX, (0,), XX_sched, [drive_beta])\n",
    "exp_DRAG_circuits_n3 = [qc_DRAG.assign_parameters({drive_beta: b}, inplace=False) for b in drive_betas]"
   ]
  },
  {
   "cell_type": "code",
   "execution_count": 36,
   "id": "e5436e57",
   "metadata": {
    "pycharm": {
     "name": "#%%\n"
    }
   },
   "outputs": [],
   "source": [
    "# n = 5\n",
    "\n",
    "n = 5\n",
    "XX = Gate(\"$X_\\pi X_{-\\pi}$\", 1, [drive_beta])\n",
    "qc_DRAG = QuantumCircuit(1, 1)\n",
    "i = 0\n",
    "while i < n:\n",
    "    qc_DRAG.append(XX, [0])\n",
    "    i += 1\n",
    "qc_DRAG.measure(0, 0)\n",
    "qc_DRAG.add_calibration(XX, (0,), XX_sched, [drive_beta])\n",
    "exp_DRAG_circuits_n5 = [qc_DRAG.assign_parameters({drive_beta: b}, inplace=False) for b in drive_betas]"
   ]
  },
  {
   "cell_type": "code",
   "execution_count": 37,
   "outputs": [
    {
     "data": {
      "text/plain": "<Figure size 735.526x144.48 with 1 Axes>",
      "image/png": "[encoded data removed]"
     },
     "execution_count": 37,
     "metadata": {},
     "output_type": "execute_result"
    }
   ],
   "source": [
    "exp_DRAG_circuits_n5[0].draw(output='mpl')"
   ],
   "metadata": {
    "collapsed": false,
    "pycharm": {
     "name": "#%%\n"
    }
   }
  },
  {
   "cell_type": "code",
   "execution_count": 38,
   "id": "39c9404c",
   "metadata": {
    "pycharm": {
     "name": "#%%\n"
    }
   },
   "outputs": [],
   "source": [
    "# n = 7\n",
    "n = 7\n",
    "XX = Gate(\"$X_\\pi X_{-\\pi}$\", 1, [drive_beta])\n",
    "qc_DRAG = QuantumCircuit(1, 1)\n",
    "i = 0\n",
    "while i < n:\n",
    "    qc_DRAG.append(XX, [0])\n",
    "    i += 1\n",
    "qc_DRAG.measure(0, 0)\n",
    "qc_DRAG.add_calibration(XX, (0,), XX_sched, [drive_beta])\n",
    "exp_DRAG_circuits_n7 = [qc_DRAG.assign_parameters({drive_beta: b}, inplace=False) for b in drive_betas]"
   ]
  },
  {
   "cell_type": "code",
   "execution_count": 39,
   "id": "b02e2865",
   "metadata": {
    "scrolled": true,
    "pycharm": {
     "name": "#%%\n"
    }
   },
   "outputs": [
    {
     "data": {
      "text/plain": "<Figure size 936x334.8 with 1 Axes>",
      "image/png": "[encoded data removed]"
     },
     "execution_count": 39,
     "metadata": {},
     "output_type": "execute_result"
    }
   ],
   "source": [
    "schedule(exp_DRAG_circuits_n7[7], backend).draw()"
   ]
  },
  {
   "cell_type": "code",
   "execution_count": 40,
   "outputs": [],
   "source": [
    "exp_DRAG_circuits = []\n",
    "for i in exp_DRAG_circuits_n3:\n",
    "    exp_DRAG_circuits.append(i)\n",
    "for i in exp_DRAG_circuits_n5:\n",
    "    exp_DRAG_circuits.append(i)\n",
    "for i in exp_DRAG_circuits_n7:\n",
    "    exp_DRAG_circuits.append(i)"
   ],
   "metadata": {
    "collapsed": false,
    "pycharm": {
     "name": "#%%\n"
    }
   }
  },
  {
   "cell_type": "code",
   "execution_count": 41,
   "outputs": [],
   "source": [
    "drag_job = backend.run(exp_DRAG_circuits,\n",
    "                       meas_level=MeasLevel.KERNELED,\n",
    "                       meas_return=MeasReturnType.AVERAGE,\n",
    "                       shots=2**14)"
   ],
   "metadata": {
    "collapsed": false,
    "pycharm": {
     "name": "#%%\n"
    }
   }
  },
  {
   "cell_type": "code",
   "execution_count": 42,
   "outputs": [
    {
     "name": "stdout",
     "output_type": "stream",
     "text": [
      "633d9ee5338f421278b75c38\n"
     ]
    }
   ],
   "source": [
    "print(drag_job.job_id())"
   ],
   "metadata": {
    "collapsed": false,
    "pycharm": {
     "name": "#%%\n"
    }
   }
  },
  {
   "cell_type": "code",
   "execution_count": 43,
   "outputs": [
    {
     "name": "stdout",
     "output_type": "stream",
     "text": [
      "Job Status: job has successfully run\n"
     ]
    }
   ],
   "source": [
    "job_monitor(drag_job)"
   ],
   "metadata": {
    "collapsed": false,
    "pycharm": {
     "name": "#%%\n"
    }
   }
  },
  {
   "cell_type": "code",
   "execution_count": 83,
   "id": "ee4a3ed3",
   "metadata": {
    "pycharm": {
     "name": "#%%\n"
    }
   },
   "outputs": [],
   "source": [
    "# dragJob_n3 = backend.retrieve_job('633c44bb5765650b1c1165aa')\n",
    "# dragJob_n5 = backend.retrieve_job('633c44bdbfe8f437459e2e78')\n",
    "# dragJob_n7 = backend.retrieve_job('633c44bffeb64c4bf89ff98c')"
   ]
  },
  {
   "cell_type": "code",
   "execution_count": 44,
   "id": "807beb48",
   "metadata": {
    "pycharm": {
     "name": "#%%\n"
    }
   },
   "outputs": [],
   "source": [
    "def baselineRemover(values):\n",
    "    return np.array(values) - np.mean(values)\n",
    "\n",
    "num_beta_points = len(drive_betas)"
   ]
  },
  {
   "cell_type": "code",
   "execution_count": 65,
   "id": "684938f6",
   "metadata": {
    "pycharm": {
     "name": "#%%\n"
    }
   },
   "outputs": [],
   "source": [
    "drag_results = drag_job.result(timeout=120)\n",
    "drag_values = []\n",
    "for i in range(99):\n",
    "    drag_values.append(drag_results.get_memory(i)[qubit] * 1e-7)\n",
    "drag_values = np.real(baselineRemover(drag_values))"
   ]
  },
  {
   "cell_type": "code",
   "execution_count": 66,
   "outputs": [
    {
     "data": {
      "text/plain": "array([ 1.7403545 ,  1.9046155 ,  1.9554715 ,  1.9200233 ,  1.7398355 ,\n        1.4622004 ,  1.1221122 ,  0.72472785,  0.25706217, -0.19769648,\n       -0.66452935, -1.0779773 , -1.4429774 , -1.7349167 , -1.9736189 ,\n       -2.0645567 , -2.0717467 , -1.9667615 , -1.7826721 , -1.4532596 ,\n       -1.0934027 , -0.6654104 , -0.1846203 ,  0.31042635,  0.7256965 ,\n        1.0975801 ,  1.4984482 ,  1.7265929 ,  1.9024787 ,  1.9489029 ,\n        1.9055737 ,  1.7506153 ,  1.4930955 , -1.9785339 , -1.6374272 ,\n       -1.0587328 , -0.32192988,  0.4018418 ,  1.1140798 ,  1.6643562 ,\n        1.9414309 ,  1.8876805 ,  1.5690675 ,  0.9974896 ,  0.2744593 ,\n       -0.47445575, -1.2073028 , -1.7639935 , -2.0327051 , -2.0493171 ,\n       -1.7506505 , -1.2573646 , -0.49484815,  0.24736805,  1.0118998 ,\n        1.5842446 ,  1.8957619 ,  1.9125323 ,  1.6673558 ,  1.1406163 ,\n        0.4661754 , -0.2895616 , -1.0815239 , -1.6470568 , -1.9955309 ,\n       -2.0791209 ,  0.9632502 , -0.0451774 , -1.046313  , -1.8305469 ,\n       -2.0646137 , -1.7515219 , -0.9257802 ,  0.1577046 ,  1.1878986 ,\n        1.8030843 ,  1.9109317 ,  1.4262862 ,  0.5840885 , -0.5058876 ,\n       -1.4528371 , -1.9945463 , -1.9991171 , -1.4152687 , -0.50423975,\n        0.54225745,  1.4441908 ,  1.9126731 ,  1.7911333 ,  1.1318997 ,\n        0.16776381, -0.8851961 , -1.7337023 , -2.0689825 , -1.8307953 ,\n       -1.0552801 , -0.04275598,  0.9588547 ,  1.7025739 ])"
     },
     "execution_count": 66,
     "metadata": {},
     "output_type": "execute_result"
    }
   ],
   "source": [
    "drag_values"
   ],
   "metadata": {
    "collapsed": false,
    "pycharm": {
     "name": "#%%\n"
    }
   }
  },
  {
   "cell_type": "code",
   "execution_count": 67,
   "outputs": [],
   "source": [
    "drag_values_n3 = drag_values[0:33]\n",
    "drag_values_n5 = drag_values[33:66]\n",
    "drag_values_n7 = drag_values[66:99]"
   ],
   "metadata": {
    "collapsed": false,
    "pycharm": {
     "name": "#%%\n"
    }
   }
  },
  {
   "cell_type": "code",
   "execution_count": 81,
   "outputs": [],
   "source": [
    "from scipy.optimize import curve_fit\n",
    "\n",
    "def fit_function(x_values, y_values, function, init_params):\n",
    "    fitparams, conv = curve_fit(function, x_values, y_values, init_params)\n",
    "    y_fit = function(x_values, *fitparams)\n",
    "\n",
    "    return fitparams, y_fit"
   ],
   "metadata": {
    "collapsed": false,
    "pycharm": {
     "name": "#%%\n"
    }
   }
  },
  {
   "cell_type": "code",
   "execution_count": 85,
   "outputs": [],
   "source": [
    "def sinusoid(x, fit_params):\n",
    "    A, B, drive_period, phi = fit_params\n",
    "    return A*np.cos(2*np.pi*x/drive_period - phi) + B"
   ],
   "metadata": {
    "collapsed": false,
    "pycharm": {
     "name": "#%%\n"
    }
   }
  },
  {
   "cell_type": "code",
   "execution_count": null,
   "outputs": [],
   "source": [],
   "metadata": {
    "collapsed": false,
    "pycharm": {
     "name": "#%%\n"
    }
   }
  },
  {
   "cell_type": "code",
   "execution_count": 341,
   "outputs": [
    {
     "data": {
      "text/plain": "-0.6206206206206204"
     },
     "execution_count": 341,
     "metadata": {},
     "output_type": "execute_result"
    },
    {
     "data": {
      "text/plain": "<Figure size 432x288 with 1 Axes>",
      "image/png": "[encoded data removed]"
     },
     "metadata": {
      "needs_background": "light"
     },
     "output_type": "display_data"
    }
   ],
   "source": [
    "fit_params_n3, y_fit_n3 = fit_function(drive_betas,\n",
    "                                       drag_values_n3,\n",
    "                                       lambda x, A, B, drive_period, phi: (A*np.cos(2*np.pi*x/drive_period - phi) + B),\n",
    "                                       [2, 0, 40, 0])\n",
    "fit_params_n5, y_fit_n5 = fit_function(drive_betas,\n",
    "                                       drag_values_n5,\n",
    "                                       lambda x, A, B, drive_period, phi: (A*np.cos(2*np.pi*x/drive_period - phi) + B),\n",
    "                                       [2, 0, 20, 0])\n",
    "fit_params_n7, y_fit_n7 = fit_function(drive_betas,\n",
    "                                       drag_values_n7,\n",
    "                                       lambda x, A, B, drive_period, phi: (A*np.cos(2*np.pi*x/drive_period - phi) + B),\n",
    "                                       [2, 0, 20, 0])\n",
    "x_val = np.linspace(-20, 20, 1000)\n",
    "min_val = 1\n",
    "beta_optimum = 0\n",
    "for x in x_val:\n",
    "    l = (sinusoid(x, fit_params_n3) + np.abs(fit_params_n3[0]) - fit_params_n3[1])**2 + (sinusoid(x, fit_params_n5) + np.abs(fit_params_n5[0]) - fit_params_n5[1])**2 + (sinusoid(x, fit_params_n7) + np.abs(fit_params_n7[0]) - fit_params_n7[1])**2\n",
    "    if l < min_val:\n",
    "        min_val = l\n",
    "        x_optimum = x\n",
    "\n",
    "plt.scatter(drive_betas, drag_values_n3, marker='o', linestyle='-', color='red')\n",
    "plt.plot(x_val, sinusoid(x_val, fit_params_n3), color = 'red')\n",
    "plt.scatter(drive_betas, drag_values_n5, marker='s', linestyle='-', color='blue')\n",
    "plt.plot(x_val, sinusoid(x_val, fit_params_n5), color = 'blue')\n",
    "plt.scatter(drive_betas, drag_values_n7, marker='v', linestyle='-', color='green')\n",
    "plt.plot(x_val, sinusoid(x_val, fit_params_n7), color = 'green')\n",
    "plt.axvline(x_optimum, linestyle='--', color='yellow')\n",
    "x_optimum"
   ],
   "metadata": {
    "collapsed": false,
    "pycharm": {
     "name": "#%%\n"
    }
   }
  },
  {
   "cell_type": "code",
   "execution_count": 342,
   "outputs": [],
   "source": [
    "with qisp.build(backend=backend, default_alignment='sequential') as SX_sched:\n",
    "    qisp.set_frequency(drive_freq, qisp.drive_channel(0))\n",
    "    qisp.play(qisp.Drag(duration=x_duration,\n",
    "                        amp=x_amp/2,\n",
    "                        sigma=x_sigma,\n",
    "                        beta=beta_optimum), qisp.drive_channel(0))\n"
   ],
   "metadata": {
    "collapsed": false,
    "pycharm": {
     "name": "#%%\n"
    }
   }
  },
  {
   "cell_type": "code",
   "execution_count": 343,
   "outputs": [],
   "source": [
    "SX_circs = []\n",
    "for i in range(100):\n",
    "    qc_SX = QuantumCircuit(1, 1)\n",
    "    SX = Gate(\"$SX$\", 1, [])\n",
    "    qc_SX.add_calibration(SX, (0,), SX_sched, [])\n",
    "    qc_SX.append(SX, [0])\n",
    "    for j in range(i):\n",
    "        qc_SX.append(SX, [0])\n",
    "    qc_SX.measure(qubit, 0)\n",
    "    SX_circs.append(qc_SX)"
   ],
   "metadata": {
    "collapsed": false,
    "pycharm": {
     "name": "#%%\n"
    }
   }
  },
  {
   "cell_type": "code",
   "execution_count": 344,
   "outputs": [
    {
     "data": {
      "text/plain": "<Figure size 374.326x144.48 with 1 Axes>",
      "image/png": "[encoded data removed]"
     },
     "execution_count": 344,
     "metadata": {},
     "output_type": "execute_result"
    }
   ],
   "source": [
    "SX_circs[1].draw(output='mpl')"
   ],
   "metadata": {
    "collapsed": false,
    "pycharm": {
     "name": "#%%\n"
    }
   }
  },
  {
   "cell_type": "code",
   "execution_count": 345,
   "outputs": [
    {
     "data": {
      "text/plain": "100"
     },
     "execution_count": 345,
     "metadata": {},
     "output_type": "execute_result"
    }
   ],
   "source": [
    "len(SX_circs)"
   ],
   "metadata": {
    "collapsed": false,
    "pycharm": {
     "name": "#%%\n"
    }
   }
  },
  {
   "cell_type": "code",
   "execution_count": 346,
   "outputs": [
    {
     "data": {
      "text/plain": "'633f8983e212b028d4beef0c'"
     },
     "execution_count": 346,
     "metadata": {},
     "output_type": "execute_result"
    }
   ],
   "source": [
    "SX_job = backend.run(SX_circs,\n",
    "                    meas_level=2,\n",
    "                    meas_return='single',\n",
    "                    shots=2**14)\n",
    "SX_job.job_id()"
   ],
   "metadata": {
    "collapsed": false,
    "pycharm": {
     "name": "#%%\n"
    }
   }
  },
  {
   "cell_type": "code",
   "execution_count": 117,
   "outputs": [
    {
     "name": "stdout",
     "output_type": "stream",
     "text": [
      "Job Status: job is queued (156)"
     ]
    },
    {
     "ename": "KeyboardInterrupt",
     "evalue": "",
     "output_type": "error",
     "traceback": [
      "\u001B[0;31m---------------------------------------------------------------------------\u001B[0m",
      "\u001B[0;31mKeyboardInterrupt\u001B[0m                         Traceback (most recent call last)",
      "Input \u001B[0;32mIn [117]\u001B[0m, in \u001B[0;36m<cell line: 1>\u001B[0;34m()\u001B[0m\n\u001B[0;32m----> 1\u001B[0m \u001B[43mjob_monitor\u001B[49m\u001B[43m(\u001B[49m\u001B[43mSX_job\u001B[49m\u001B[43m)\u001B[49m\n",
      "File \u001B[0;32m~/.local/lib/python3.10/site-packages/qiskit/tools/monitor/job_monitor.py:89\u001B[0m, in \u001B[0;36mjob_monitor\u001B[0;34m(job, interval, quiet, output, line_discipline)\u001B[0m\n\u001B[1;32m     86\u001B[0m \u001B[38;5;28;01melse\u001B[39;00m:\n\u001B[1;32m     87\u001B[0m     _interval_set \u001B[38;5;241m=\u001B[39m \u001B[38;5;28;01mTrue\u001B[39;00m\n\u001B[0;32m---> 89\u001B[0m \u001B[43m_text_checker\u001B[49m\u001B[43m(\u001B[49m\n\u001B[1;32m     90\u001B[0m \u001B[43m    \u001B[49m\u001B[43mjob\u001B[49m\u001B[43m,\u001B[49m\u001B[43m \u001B[49m\u001B[43minterval\u001B[49m\u001B[43m,\u001B[49m\u001B[43m \u001B[49m\u001B[43m_interval_set\u001B[49m\u001B[43m,\u001B[49m\u001B[43m \u001B[49m\u001B[43mquiet\u001B[49m\u001B[38;5;241;43m=\u001B[39;49m\u001B[43mquiet\u001B[49m\u001B[43m,\u001B[49m\u001B[43m \u001B[49m\u001B[43moutput\u001B[49m\u001B[38;5;241;43m=\u001B[39;49m\u001B[43moutput\u001B[49m\u001B[43m,\u001B[49m\u001B[43m \u001B[49m\u001B[43mline_discipline\u001B[49m\u001B[38;5;241;43m=\u001B[39;49m\u001B[43mline_discipline\u001B[49m\n\u001B[1;32m     91\u001B[0m \u001B[43m\u001B[49m\u001B[43m)\u001B[49m\n",
      "File \u001B[0;32m~/.local/lib/python3.10/site-packages/qiskit/tools/monitor/job_monitor.py:44\u001B[0m, in \u001B[0;36m_text_checker\u001B[0;34m(job, interval, _interval_set, quiet, output, line_discipline)\u001B[0m\n\u001B[1;32m     42\u001B[0m     \u001B[38;5;28mprint\u001B[39m(\u001B[38;5;124m\"\u001B[39m\u001B[38;5;132;01m{}\u001B[39;00m\u001B[38;5;132;01m{}\u001B[39;00m\u001B[38;5;124m: \u001B[39m\u001B[38;5;132;01m{}\u001B[39;00m\u001B[38;5;124m\"\u001B[39m\u001B[38;5;241m.\u001B[39mformat(line_discipline, \u001B[38;5;124m\"\u001B[39m\u001B[38;5;124mJob Status\u001B[39m\u001B[38;5;124m\"\u001B[39m, msg), end\u001B[38;5;241m=\u001B[39m\u001B[38;5;124m\"\u001B[39m\u001B[38;5;124m\"\u001B[39m, file\u001B[38;5;241m=\u001B[39moutput)\n\u001B[1;32m     43\u001B[0m \u001B[38;5;28;01mwhile\u001B[39;00m status\u001B[38;5;241m.\u001B[39mname \u001B[38;5;129;01mnot\u001B[39;00m \u001B[38;5;129;01min\u001B[39;00m [\u001B[38;5;124m\"\u001B[39m\u001B[38;5;124mDONE\u001B[39m\u001B[38;5;124m\"\u001B[39m, \u001B[38;5;124m\"\u001B[39m\u001B[38;5;124mCANCELLED\u001B[39m\u001B[38;5;124m\"\u001B[39m, \u001B[38;5;124m\"\u001B[39m\u001B[38;5;124mERROR\u001B[39m\u001B[38;5;124m\"\u001B[39m]:\n\u001B[0;32m---> 44\u001B[0m     \u001B[43mtime\u001B[49m\u001B[38;5;241;43m.\u001B[39;49m\u001B[43msleep\u001B[49m\u001B[43m(\u001B[49m\u001B[43minterval\u001B[49m\u001B[43m)\u001B[49m\n\u001B[1;32m     45\u001B[0m     status \u001B[38;5;241m=\u001B[39m job\u001B[38;5;241m.\u001B[39mstatus()\n\u001B[1;32m     46\u001B[0m     msg \u001B[38;5;241m=\u001B[39m status\u001B[38;5;241m.\u001B[39mvalue\n",
      "\u001B[0;31mKeyboardInterrupt\u001B[0m: "
     ]
    }
   ],
   "source": [
    "job_monitor(SX_job)"
   ],
   "metadata": {
    "collapsed": false,
    "pycharm": {
     "name": "#%%\n"
    }
   }
  },
  {
   "cell_type": "markdown",
   "source": [
    "# SX job\n",
    "633ea125feb64c920ea00369: -1.3013013013013008\n",
    "633f8983e212b028d4beef0c: -0.6206206206206204\n"
   ],
   "metadata": {
    "collapsed": false,
    "pycharm": {
     "name": "#%% md\n"
    }
   }
  },
  {
   "cell_type": "code",
   "execution_count": 141,
   "outputs": [
    {
     "ename": "SyntaxError",
     "evalue": "invalid syntax (4191918348.py, line 1)",
     "output_type": "error",
     "traceback": [
      "\u001B[0;36m  Input \u001B[0;32mIn [141]\u001B[0;36m\u001B[0m\n\u001B[0;31m    SX_results = SX_job.result().get_counts()./2**14\u001B[0m\n\u001B[0m                                              ^\u001B[0m\n\u001B[0;31mSyntaxError\u001B[0m\u001B[0;31m:\u001B[0m invalid syntax\n"
     ]
    }
   ],
   "source": [
    "SX_results = SX_job.result().get_counts()"
   ],
   "metadata": {
    "collapsed": false,
    "pycharm": {
     "name": "#%%\n"
    }
   }
  },
  {
   "cell_type": "code",
   "execution_count": 259,
   "outputs": [
    {
     "data": {
      "text/plain": "100"
     },
     "execution_count": 259,
     "metadata": {},
     "output_type": "execute_result"
    }
   ],
   "source": [
    "zero_population = [SX_results[i]['0']/2**14 for i in range(100)]\n",
    "len(zero_population)"
   ],
   "metadata": {
    "collapsed": false,
    "pycharm": {
     "name": "#%%\n"
    }
   }
  },
  {
   "cell_type": "code",
   "execution_count": 416,
   "outputs": [],
   "source": [
    "def SX_theory(val, epsilon):\n",
    "    return [1/2 + 1/2*np.cos(np.pi/2 + n*epsilon) for n in val]\n"
   ],
   "metadata": {
    "collapsed": false,
    "pycharm": {
     "name": "#%%\n"
    }
   }
  },
  {
   "cell_type": "code",
   "execution_count": 417,
   "outputs": [
    {
     "name": "stdout",
     "output_type": "stream",
     "text": [
      "[1.55002548]\n"
     ]
    },
    {
     "data": {
      "text/plain": "<matplotlib.collections.PathCollection at 0x7ff06cfcc430>"
     },
     "execution_count": 417,
     "metadata": {},
     "output_type": "execute_result"
    },
    {
     "data": {
      "text/plain": "<Figure size 432x288 with 1 Axes>",
      "image/png": "[encoded data removed]"
     },
     "metadata": {
      "needs_background": "light"
     },
     "output_type": "display_data"
    }
   ],
   "source": [
    "SX_params, SX_fit = fit_function(range(100),\n",
    "                                       zero_population,\n",
    "                                       SX_theory,\n",
    "                                       [np.pi/2])\n",
    "print(SX_params)\n",
    "plt.scatter(range(100), zero_population, marker='o', linestyle='-', color='blue')\n",
    "# plt.plot(range(100), SX_theory(range(100), SX_params), color='blue')\n",
    "plt.scatter(range(100), SX_theory(range(100), SX_params), color='red')"
   ],
   "metadata": {
    "collapsed": false,
    "pycharm": {
     "name": "#%%\n"
    }
   }
  },
  {
   "cell_type": "code",
   "execution_count": 264,
   "outputs": [],
   "source": [
    "SX_odd_circs = []\n",
    "for i in range(100):\n",
    "    qc_SX = QuantumCircuit(1, 1)\n",
    "    SX = Gate(\"$SX$\", 1, [])\n",
    "    qc_SX.add_calibration(SX, (0,), SX_sched, [])\n",
    "    qc_SX.append(SX, [0])\n",
    "    for j in range(i):\n",
    "        qc_SX.append(SX, [0])\n",
    "        qc_SX.append(SX, [0])\n",
    "    qc_SX.measure(qubit, 0)\n",
    "    SX_odd_circs.append(qc_SX)\n"
   ],
   "metadata": {
    "collapsed": false,
    "pycharm": {
     "name": "#%%\n"
    }
   }
  },
  {
   "cell_type": "code",
   "execution_count": 351,
   "outputs": [
    {
     "data": {
      "text/plain": "<Figure size 494.726x144.48 with 1 Axes>",
      "image/png": "[encoded data removed]"
     },
     "execution_count": 351,
     "metadata": {},
     "output_type": "execute_result"
    }
   ],
   "source": [
    "SX_odd_circs[1].draw(output='mpl')"
   ],
   "metadata": {
    "collapsed": false,
    "pycharm": {
     "name": "#%%\n"
    }
   }
  },
  {
   "cell_type": "code",
   "execution_count": 266,
   "outputs": [
    {
     "data": {
      "text/plain": "'633ebe58338f42c077b76051'"
     },
     "execution_count": 266,
     "metadata": {},
     "output_type": "execute_result"
    }
   ],
   "source": [
    "SX_odd_job = backend.run(SX_odd_circs,\n",
    "                     meas_level=2,\n",
    "                     meas_return='single',\n",
    "                     shots=2**14)\n",
    "SX_odd_job.job_id()"
   ],
   "metadata": {
    "collapsed": false,
    "pycharm": {
     "name": "#%%\n"
    }
   }
  },
  {
   "cell_type": "code",
   "execution_count": 307,
   "outputs": [],
   "source": [
    "SX_odd_results = SX_odd_job.result().get_counts()\n",
    "zero_population_odd = [SX_odd_results[i]['0']/2**14 for i in range(100)]"
   ],
   "metadata": {
    "collapsed": false,
    "pycharm": {
     "name": "#%%\n"
    }
   }
  },
  {
   "cell_type": "code",
   "execution_count": 421,
   "outputs": [],
   "source": [
    "def SX_odd_theory(val, epsilon):\n",
    "    # return [1/2 + 1/2*(-1)**n*np.cos(np.pi/2 + (2*n + 1)*epsilon) for n in val]\n",
    "    return [1/2 + 1/2*np.cos((2*n + 1)*epsilon) for n in val]\n",
    "    # return [np.cos((epsilon + np.pi/2)*(n + 1/2))**2 for n in val]"
   ],
   "metadata": {
    "collapsed": false,
    "pycharm": {
     "name": "#%%\n"
    }
   }
  },
  {
   "cell_type": "code",
   "execution_count": 430,
   "outputs": [
    {
     "name": "stdout",
     "output_type": "stream",
     "text": [
      "[1.55059373]\n"
     ]
    },
    {
     "data": {
      "text/plain": "<matplotlib.collections.PathCollection at 0x7ff06d8acb50>"
     },
     "execution_count": 430,
     "metadata": {},
     "output_type": "execute_result"
    },
    {
     "data": {
      "text/plain": "<Figure size 432x288 with 1 Axes>",
      "image/png": "[encoded data removed]"
     },
     "metadata": {
      "needs_background": "light"
     },
     "output_type": "display_data"
    }
   ],
   "source": [
    "SX_odd_params, SX_odd_fit = fit_function(range(100),\n",
    "                                 zero_population_odd,\n",
    "                                 SX_odd_theory,\n",
    "                                 [1.55002548])\n",
    "print(SX_odd_params)\n",
    "plt.scatter(range(75), zero_population_odd[:75], marker='o', linestyle='-', color='blue')\n",
    "# plt.plot(range(100), SX_theory(range(100), SX_params), color='blue')\n",
    "plt.scatter(range(75), SX_odd_theory(range(75), SX_odd_params), color='red')"
   ],
   "metadata": {
    "collapsed": false,
    "pycharm": {
     "name": "#%%\n"
    }
   }
  },
  {
   "cell_type": "code",
   "execution_count": 428,
   "outputs": [
    {
     "data": {
      "text/plain": "<matplotlib.collections.PathCollection at 0x7ff06d1d41f0>"
     },
     "execution_count": 428,
     "metadata": {},
     "output_type": "execute_result"
    },
    {
     "data": {
      "text/plain": "<Figure size 432x288 with 1 Axes>",
      "image/png": "[encoded data removed]"
     },
     "metadata": {
      "needs_background": "light"
     },
     "output_type": "display_data"
    }
   ],
   "source": [
    "plt.scatter(range(75), zero_population_odd[:75], marker='o', linestyle='-', color='blue')\n",
    "plt.scatter(range(75), SX_odd_theory(range(75), 1.55002548), color='red')\n",
    "# plt.plot(range(75), SX_odd_theory(range(75), 1.55002548), color='green')"
   ],
   "metadata": {
    "collapsed": false,
    "pycharm": {
     "name": "#%%\n"
    }
   }
  }
 ],
 "metadata": {
  "kernelspec": {
   "display_name": "Python 3 (ipykernel)",
   "language": "python",
   "name": "python3"
  },
  "language_info": {
   "codemirror_mode": {
    "name": "ipython",
    "version": 3
   },
   "file_extension": ".py",
   "mimetype": "text/x-python",
   "name": "python",
   "nbconvert_exporter": "python",
   "pygments_lexer": "ipython3",
   "version": "3.8.2"
  }
 },
 "nbformat": 4,
 "nbformat_minor": 5
}