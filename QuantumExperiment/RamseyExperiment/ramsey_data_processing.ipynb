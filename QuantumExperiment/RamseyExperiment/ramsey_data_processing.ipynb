{
 "cells": [
  {
   "cell_type": "code",
   "execution_count": 3,
   "outputs": [],
   "source": [
    "import numpy as np\n",
    "import matplotlib.pyplot as plt\n",
    "\n",
    "from scipy.optimize import curve_fit\n",
    "\n",
    "from sklearn.discriminant_analysis import LinearDiscriminantAnalysis\n",
    "from sklearn.model_selection import train_test_split\n",
    "\n",
    "from qiskit import pulse  # This is where we access all of our Pulse features!\n",
    "from qiskit.circuit import Parameter  # This is Parameter Class for variable parameters.\n",
    "from qiskit.circuit import QuantumCircuit, Gate\n",
    "from qiskit import schedule\n",
    "\n",
    "from qiskit.tools.monitor import job_monitor\n",
    "from numpy import savetxt\n",
    "\n",
    "import pandas as pd\n",
    "import scipy.linalg as la\n",
    "\n",
    "pi = np.pi\n",
    "qubit = 0"
   ],
   "metadata": {
    "collapsed": false,
    "pycharm": {
     "name": "#%%\n"
    }
   }
  },
  {
   "cell_type": "code",
   "execution_count": 4,
   "outputs": [],
   "source": [
    "from qiskit import IBMQ\n",
    "IBMQ.load_account()\n",
    "provider = IBMQ.get_provider(hub='ibm-q', group='open', project='main')\n",
    "backend = provider.get_backend('ibm_oslo')"
   ],
   "metadata": {
    "collapsed": false,
    "pycharm": {
     "name": "#%%\n"
    }
   }
  },
  {
   "cell_type": "markdown",
   "source": [
    "# sweep range = $[0, \\pi/16]$\n",
    "data\n",
    "folder: ramsey_data_16_not_centered\n",
    "job\n",
    "id:\n",
    "0: 630c345b65fbdd748201e059\n",
    "1: 630c34ae19ada766f904bf0a\n",
    "2: 630c34f6b3145c190b80958e\n",
    "3: 630c351facf65c9ec1809254\n",
    "4: 630c354c04b8d5ed019181c1"
   ],
   "metadata": {
    "collapsed": false,
    "pycharm": {
     "name": "#%% md\n"
    }
   },
   "outputs": []
  },
  {
   "cell_type": "markdown",
   "source": [
    "# sweep range = $[-\\pi/64, \\pi/64]$\n",
    "job\n",
    "id:\n",
    "0: 630c7d27acf65c28fd80940f\n",
    "1: 630c7d6fb3145c3979809746\n",
    "2: 630c7ddb794b2e2e1b347f85\n",
    "3: 630c7e41acf65cd49380941b\n",
    "4: 630c7e71acf65c809e80941d"
   ],
   "metadata": {
    "collapsed": false,
    "pycharm": {
     "name": "#%% md\n"
    }
   },
   "outputs": []
  },
  {
   "cell_type": "markdown",
   "source": [
    "# sweep range = $[-\\pi/120, \\pi/120]$\n",
    "job\n",
    "id:\n",
    "0: 630c9b481d4bf84119eddc70\n",
    "1: 630c9b74794b2e32cd347ffa\n",
    "2: 630c9b99b3145c8be78097d4\n",
    "3: 630c9bc11d4bf88172eddc77\n",
    "4: 630c9c091d4bf8ea3ceddc78"
   ],
   "metadata": {
    "collapsed": false,
    "pycharm": {
     "name": "#%% md\n"
    }
   },
   "outputs": []
  },
  {
   "cell_type": "markdown",
   "source": [],
   "metadata": {
    "collapsed": false,
    "pycharm": {
     "name": "#%% md\n"
    }
   },
   "outputs": []
  },
  {
   "cell_type": "markdown",
   "source": [
    "\n",
    "# sweep range = $[-\\pi/45, \\pi/45]$\n",
    "job\n",
    "id:\n",
    "0: 630cdb65794b2e8a9c348135\n",
    "1: 630cdb8819ada7bcc504c271\n",
    "2: 630cdba1a7ff837c99784935\n",
    "3: 630cdbbd19ada72d3404c272\n",
    "4: 630cdc98ac8baf6eb862c1f4"
   ],
   "metadata": {
    "collapsed": false,
    "pycharm": {
     "name": "#%% md\n"
    }
   }
  },
  {
   "cell_type": "markdown",
   "source": [
    "# sweep range = $[-\\pi/45, \\pi/45]$\n",
    "job\n",
    "id:\n",
    "0: 630dacaeacf65c9186809a1f\n",
    "1: 630daccbdce5362b6ca41ec9\n",
    "2: 630dace4a7ff832b52784d21\n",
    "3: 630dacffac8baf32e462c62f\n",
    "4: 630dae671d4bf83a5fede223"
   ],
   "metadata": {
    "collapsed": false,
    "pycharm": {
     "name": "#%% md\n"
    }
   }
  },
  {
   "cell_type": "markdown",
   "source": [
    "# sweep range = $[-\\pi/20, \\pi/20]$\n",
    "job id:\n",
    "0: 630dd73165fbdd9bd201e812\n",
    "1: 630dd792dce5361e99a41f83\n",
    "2: 630dd7d304b8d5cdcb9189a3\n",
    "3: 630dd835ac8baf58da62c6d1\n",
    "4: 630dd865a7ff83062f784ddb"
   ],
   "metadata": {
    "collapsed": false,
    "pycharm": {
     "name": "#%% md\n"
    }
   }
  },
  {
   "cell_type": "code",
   "execution_count": null,
   "outputs": [],
   "source": [
    "scale_factor = 1e-7\n",
    "\n",
    "\n",
    "def get_job_data(job, average):\n",
    "    \"\"\"Retrieve data from a job that has already run.\n",
    "    Args:\n",
    "        job (Job): The job whose data you want.\n",
    "        average (bool): If True, gets the data assuming data is an average.\n",
    "                        If False, gets the data assuming it is for single shots.\n",
    "    Return:\n",
    "        list: List containing job result data.\n",
    "    \"\"\"\n",
    "    job_results = job.result()  # timeout parameter set to 120 s\n",
    "    result_data = []\n",
    "    for i in range(len(job_results.results)):\n",
    "        if average:  # get avg data\n",
    "            result_data.append(np.real(job_results.get_memory(i)[qubit] * scale_factor))\n",
    "        else:  # get single data\n",
    "            result_data.append(job_results.get_memory(i)[:, qubit] * scale_factor)\n",
    "    return result_data"
   ],
   "metadata": {
    "collapsed": false,
    "pycharm": {
     "name": "#%%\n"
    }
   }
  },
  {
   "cell_type": "code",
   "execution_count": 16,
   "outputs": [
    {
     "name": "stdout",
     "output_type": "stream",
     "text": [
      "630daccbdce5362b6ca41ec9\n"
     ]
    }
   ],
   "source": [
    "exp_pos = 1\n",
    "num_series = 6\n",
    "job = backend.retrieve_job('630daccbdce5362b6ca41ec9')\n",
    "print(job.job_id())\n",
    "raw_ramsey_data = get_job_data(job, average=False)\n",
    "savetxt('raw_ramsey_exp_data_' + job.job_id() + '_' + str(1 + exp_pos * num_series) + 'to' + str(\n",
    "    6 + exp_pos * num_series) + '.csv', raw_ramsey_data, delimiter=',')"
   ],
   "metadata": {
    "collapsed": false,
    "pycharm": {
     "name": "#%%\n"
    }
   }
  },
  {
   "cell_type": "code",
   "execution_count": null,
   "outputs": [],
   "source": [
    "data = pd.read_csv('raw_ramsey_exp_data_' + job.job_id() + '_' + str(1 + exp_pos * num_series) + 'to' + str(\n",
    "    6 + exp_pos * num_series) + '.csv', sep=\",\", header=None)\n",
    "data = data.applymap(lambda s: complex(s.replace('i', 'j'))).values\n",
    "\n",
    "zero_data = data[0]\n",
    "one_data = data[1]\n",
    "two_data = data[2]\n",
    "\n",
    "\n",
    "def reshape_complex_vec(vec):\n",
    "    \"\"\"Take in complex vector vec and return 2d array w/ real, imag entries. This is needed for the learning.\n",
    "    Args:\n",
    "        vec (list): complex vector of data\n",
    "    Returns:\n",
    "        list: vector w/ entries given by (real(vec], imag(vec))\n",
    "    \"\"\"\n",
    "    length = len(vec)\n",
    "    vec_reshaped = np.zeros((length, 2))\n",
    "    for i in range(len(vec)):\n",
    "        vec_reshaped[i] = [np.real(vec[i]), np.imag(vec[i])]\n",
    "    return vec_reshaped\n",
    "\n",
    "\n",
    "# Create IQ vector (split real, imag parts)\n",
    "zero_data_reshaped = reshape_complex_vec(zero_data)\n",
    "one_data_reshaped = reshape_complex_vec(one_data)\n",
    "two_data_reshaped = reshape_complex_vec(two_data)\n",
    "\n",
    "IQ_012_data = np.concatenate((zero_data_reshaped, one_data_reshaped, two_data_reshaped))\n",
    "print(IQ_012_data.shape)  # verify IQ data shape\n",
    "\n",
    "NUM_SHOTS = 20000\n",
    "\n",
    "# construct vector w/ 0's, 1's and 2's (for testing)\n",
    "state_012 = np.zeros(NUM_SHOTS)  # shots gives number of experiments\n",
    "state_012 = np.concatenate((state_012, np.ones(NUM_SHOTS)))\n",
    "state_012 = np.concatenate((state_012, 2 * np.ones(NUM_SHOTS)))\n",
    "print(len(state_012))\n",
    "\n",
    "# Shuffle and split data into training and test sets\n",
    "IQ_012_train, IQ_012_test, state_012_train, state_012_test = train_test_split(IQ_012_data, state_012, test_size=0.5)\n",
    "\n",
    "# Set up the LDA\n",
    "LDA_012 = LinearDiscriminantAnalysis()\n",
    "LDA_012.fit(IQ_012_train, state_012_train)\n",
    "\n",
    "\n",
    "def count(job, discriminator):\n",
    "    data = get_job_data(job, average=False)\n",
    "    sched_data = []\n",
    "    for i in range(len(data)):\n",
    "        sched_data.append(reshape_complex_vec(data[i]))\n",
    "    discrim_data = []\n",
    "    for j in range(len(sched_data)):\n",
    "        discrim_data.append(discriminator.predict(sched_data[j]))\n",
    "    final_result = []\n",
    "    for k in range(len(discrim_data)):\n",
    "        result = {'0': 0, '1': 0, '2': 0}\n",
    "        for l in range(len(discrim_data[k])):\n",
    "            if discrim_data[k][l] == 0.0:\n",
    "                result['0'] += 1\n",
    "            elif discrim_data[k][l] == 1.0:\n",
    "                result['1'] += 1\n",
    "            elif discrim_data[k][l] == 2.0:\n",
    "                result['2'] += 1\n",
    "            else:\n",
    "                print('Unexpected behavior')\n",
    "        final_result.append(result)\n",
    "    return final_result"
   ],
   "metadata": {
    "collapsed": false,
    "pycharm": {
     "name": "#%%\n",
     "is_executing": true
    }
   }
  },
  {
   "cell_type": "code",
   "execution_count": null,
   "outputs": [],
   "source": [
    "discr_data = count(job, LDA_012)"
   ],
   "metadata": {
    "collapsed": false,
    "pycharm": {
     "name": "#%%\n",
     "is_executing": true
    }
   }
  },
  {
   "cell_type": "code",
   "execution_count": null,
   "outputs": [],
   "source": [
    "np.shape(discr_data)"
   ],
   "metadata": {
    "collapsed": false,
    "pycharm": {
     "name": "#%%\n",
     "is_executing": true
    }
   }
  },
  {
   "cell_type": "code",
   "execution_count": null,
   "outputs": [],
   "source": [
    "ramsey_exp_data = [[discr_data[i]['0'] / 20000, discr_data[i]['1'] / 20000, discr_data[i]['2'] / 20000] for i in\n",
    "                   range(np.shape(discr_data)[0])]\n",
    "ramsey_exp_data"
   ],
   "metadata": {
    "collapsed": false,
    "pycharm": {
     "name": "#%%\n",
     "is_executing": true
    }
   }
  },
  {
   "cell_type": "code",
   "execution_count": null,
   "outputs": [],
   "source": [
    "filter_data = np.transpose(ramsey_exp_data[0:3])\n",
    "data = np.transpose(np.dot(la.inv(filter_data), np.transpose(ramsey_exp_data)))"
   ],
   "metadata": {
    "collapsed": false,
    "pycharm": {
     "name": "#%%\n",
     "is_executing": true
    }
   }
  },
  {
   "cell_type": "code",
   "execution_count": null,
   "outputs": [],
   "source": [
    "savetxt('ramsey_exp_data_' + job.job_id() + \"_\" + str(1 + exp_pos*num_series) + 'to' + str(6 + exp_pos*num_series) + '.csv', data, delimiter=',')"
   ],
   "metadata": {
    "collapsed": false,
    "pycharm": {
     "name": "#%%\n",
     "is_executing": true
    }
   }
  }
 ],
 "metadata": {
  "kernelspec": {
   "display_name": "Python 3",
   "language": "python",
   "name": "python3"
  },
  "language_info": {
   "codemirror_mode": {
    "name": "ipython",
    "version": 2
   },
   "file_extension": ".py",
   "mimetype": "text/x-python",
   "name": "python",
   "nbconvert_exporter": "python",
   "pygments_lexer": "ipython2",
   "version": "2.7.6"
  }
 },
 "nbformat": 4,
 "nbformat_minor": 0
}