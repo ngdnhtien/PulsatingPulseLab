{
 "cells": [
  {
   "cell_type": "markdown",
   "id": "f953dfb0",
   "metadata": {},
   "source": [
    "# Characterizing errors on qubit operations via iterative randomized benchmarking"
   ]
  },
  {
   "cell_type": "markdown",
   "id": "5456418f",
   "metadata": {},
   "source": [
    "Unitary errors, namely over/under-rotation, are prohibitively announced in gate-iteratived experiments. In this note, we find a method for distingushing between unitary and non-unitary errors in quantum gates by interleaved randomized benchmarking (IRB). The benchmarking fidelity decays quadratically with the number of interleaved gates for unitary errors, but linearly for non-unitary, allowing us to seperate systematic coherent errors by unitary errors. Also, we'd find that unitary errors is in fact not a limiting factor for gate fidelity, but by amplitude fluctuations. "
   ]
  },
  {
   "cell_type": "markdown",
   "id": "1bcb3461",
   "metadata": {},
   "source": [
    "## Theory"
   ]
  },
  {
   "cell_type": "markdown",
   "id": "b01b2983",
   "metadata": {},
   "source": [
    "In laboratory environment, Hilbert space is infinite. This means we'll always have to deal with leakge due to the presence of higher energy levels of the transmon qubits. We can use the so-called protocol Derivative Removal via Adiabatic Gate (DRAG) to combat this leakage. \n",
    "\n",
    "To quantify this error source, we run two randomized benchmarking experiments with two settings. One with DRAG, and one without. \n",
    "\n",
    "The IRB protocol used here is standard, meaning that we are repeating a target Clifford $n$ times between the random Clifford gates and measuring the fidelity as a function of $n$ repetitions. \n",
    "\n",
    "It's worth noticing that if the gate errors are non-unitary, then the fidelity will *only* depends on the total length of the interleaved segment, so there'll be a linear relationship between the gate depth $n$ and error per iterative gate. If the gate error are non-unitary, they will vary coherently with $n$, leading to a quadratic relationship between $n$ and gate error. To see this, suppose we have a single qubit *unitary error* of the form\n",
    "\n",
    "\\begin{align}\n",
    "U = \\exp\\left(-i\\dfrac{\\epsilon}{2}\\hat{r}\\cdot\\vec{\\sigma}\\right)\n",
    "\\end{align}\n",
    "\n",
    "where $\\epsilon, \\hat{r}, \\vec{\\sigma}$ are the error angle, axis of rotation, and the respective Pauli operator. Assuming that we have done the standard calibration well enough, so $\\epsilon << 1$, we can expand the operator $U^n$ to the second order\n",
    "\n",
    "\\begin{align}\n",
    "U^n = \\mathbb{1} - in\\dfrac{\\epsilon}{2}\\hat{r}\\cdot\\vec{\\sigma} - (n(2n-1))\\dfrac{\\epsilon^2}{4}(\\hat{r}\\cdot\\vec{\\sigma})^2+\\mathcal{O}(\\epsilon^3)\n",
    "\\end{align}\n",
    "\n",
    "Suppose we initiate the sequence with a pure state $\\rho_i = |0\\rangle\\langle0|$. The density matrix after repeating $n$ times gate $U$ is \n",
    "\n",
    "\\begin{align}\n",
    "\\tilde{\\rho}_f=U^n\\rho_i \\left(U^n\\right)^\\dagger\n",
    "\\end{align}\n",
    "\n",
    "And the gate fidelity of $U^n$ can be determined via the state fidelity as \n",
    "\n",
    "\\begin{align}\n",
    "\\mathcal{F}_{\\mathbb{1},U^n} = \\left(tr\\sqrt{\\sqrt{\\tilde{\\rho_f}}\\rho_f\\sqrt{\\tilde{\\rho_f}}}\\right)^2\n",
    "\\end{align}"
   ]
  },
  {
   "cell_type": "code",
   "execution_count": null,
   "id": "88549bc2",
   "metadata": {},
   "outputs": [],
   "source": []
  }
 ],
 "metadata": {
  "kernelspec": {
   "display_name": "Python 3 (ipykernel)",
   "language": "python",
   "name": "python3"
  },
  "language_info": {
   "codemirror_mode": {
    "name": "ipython",
    "version": 3
   },
   "file_extension": ".py",
   "mimetype": "text/x-python",
   "name": "python",
   "nbconvert_exporter": "python",
   "pygments_lexer": "ipython3",
   "version": "3.8.2"
  }
 },
 "nbformat": 4,
 "nbformat_minor": 5
}
