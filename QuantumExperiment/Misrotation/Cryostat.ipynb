{
 "cells": [
  {
   "cell_type": "markdown",
   "id": "f90886dd",
   "metadata": {},
   "source": [
    "# Characterizing coherent errors $\\epsilon$ via iterative gates"
   ]
  },
  {
   "cell_type": "markdown",
   "id": "72172744",
   "metadata": {},
   "source": [
    "We can make over/under-rotation more pronounced in quantum experiments by applying a sequence of itera"
   ]
  },
  {
   "cell_type": "code",
   "execution_count": 5,
   "id": "89001c23",
   "metadata": {},
   "outputs": [],
   "source": [
    "import warnings\n",
    "warnings.filterwarnings('ignore')\n",
    "from qiskit.tools.jupyter import *\n",
    "\n",
    "from qiskit import IBMQ\n",
    "IBMQ.load_account()\n",
    "provider = IBMQ.get_provider(hub='ibm-q', group='open', project='main')\n",
    "backend = provider.get_backend('ibmq_manila')\n",
    "\n",
    "from qiskit import pulse, schedule                 \n",
    "from qiskit.circuit import Parameter, QuantumCircuit, Gate\n",
    "import numpy as np"
   ]
  },
  {
   "cell_type": "code",
   "execution_count": 6,
   "id": "f3f32d6f",
   "metadata": {},
   "outputs": [],
   "source": [
    "backend_config = backend.configuration()\n",
    "dt = backend_config.dt\n",
    "backend_defaults = backend.defaults()\n",
    "backend_properties = backend.properties()\n",
    "GHz = 1e9\n",
    "\n",
    "qubit = 0"
   ]
  },
  {
   "cell_type": "code",
   "execution_count": 7,
   "id": "31403c0e",
   "metadata": {},
   "outputs": [],
   "source": [
    "\"\"\"\n",
    "    The following parameteres were last \n",
    "    updated on 13rd September, 2022\n",
    "    + Qubit: 0\n",
    "    + Backend: ibmq_manila\n",
    "    + Pulse instruction: Pi pulse on subspace (0-1)\n",
    "\"\"\"\n",
    "\n",
    "# Pulse parameters\n",
    "drive_duration_01 = 544\n",
    "drive_sigma_01 = 67\n",
    "drive_amplitude_01 = 0.09265405516803696\n",
    "\n",
    "### General pulse instruction ###\n",
    "\n",
    "with pulse.build(backend=backend) as inst_x_halfpi_01:\n",
    "    drive_chan = pulse.drive_channel(qubit)\n",
    "    pulse.set_frequency(backend_defaults.qubit_freq_est[qubit], drive_chan)\n",
    "    pulse.play(pulse.Gaussian(duration=drive_duration_01,\n",
    "                              amp=drive_amplitude_01/2,\n",
    "                              sigma=drive_sigma_01), drive_chan)\n",
    "    \n",
    "with pulse.build(backend=backend) as inst_x_fullpi_01:\n",
    "    drive_chan = pulse.drive_channel(qubit)\n",
    "    pulse.set_frequency(backend_defaults.qubit_freq_est[qubit], drive_chan)\n",
    "    pulse.play(pulse.Gaussian(duration=drive_duration_01,\n",
    "                              amp=drive_amplitude_01,\n",
    "                              sigma=drive_sigma_01), drive_chan)"
   ]
  },
  {
   "cell_type": "code",
   "execution_count": 8,
   "id": "c89f2df6",
   "metadata": {},
   "outputs": [],
   "source": [
    "\"\"\"\n",
    "    The following parameteres were last \n",
    "    updated on 13rd September, 2022\n",
    "    + Qubit: 0\n",
    "    + Backend: ibmq_manila\n",
    "    + Pulse instruction: Pi pulse on subspace (1-2)\n",
    "\"\"\"\n",
    "\n",
    "# Pulse parameters\n",
    "drive_duration_12 = 160\n",
    "drive_sigma_12 = 40\n",
    "drive_amplitude_12 = 0.17102045531902912\n",
    "anhar = backend_properties.qubits[qubit][3].value*GHz\n",
    "\n",
    "### General pulse instruction ###\n",
    "\n",
    "with pulse.build(backend=backend) as inst_x_fullpi_12:\n",
    "    drive_chan = pulse.drive_channel(qubit)\n",
    "    pulse.set_frequency(backend_defaults.qubit_freq_est[qubit]+anhar, drive_chan)\n",
    "    pulse.play(pulse.Gaussian(duration=drive_duration_12,\n",
    "                              amp=drive_amplitude_12,\n",
    "                              sigma=drive_sigma_12), drive_chan)"
   ]
  },
  {
   "cell_type": "code",
   "execution_count": 9,
   "id": "6fb94695",
   "metadata": {},
   "outputs": [],
   "source": [
    "gate_x_halfpi_01 = Gate('$X_{\\pi/2}^{(01)}$', 1, [])\n",
    "gate_x_fullpi_01 = Gate('$X_{\\pi}^{(01)}$', 1, [])\n",
    "gate_x_fullpi_12 = Gate('$X_{\\pi}^{(12)}$', 1, [])"
   ]
  },
  {
   "cell_type": "code",
   "execution_count": 51,
   "id": "3ab3e6a2",
   "metadata": {},
   "outputs": [],
   "source": [
    "experiment_package = []"
   ]
  },
  {
   "cell_type": "code",
   "execution_count": 52,
   "id": "27297d23",
   "metadata": {},
   "outputs": [],
   "source": [
    "# 0 state\n",
    "ground_circs = QuantumCircuit(1, 1)\n",
    "ground_circs.measure(0, 0)\n",
    "experiment_package.append(ground_circs)\n",
    "\n",
    "# 1 state\n",
    "one_circs = QuantumCircuit(1, 1)\n",
    "one_circs.append(gate_x_fullpi_01, [0])\n",
    "one_circs.measure(0, 0)\n",
    "one_circs.add_calibration(gate_x_fullpi_01, (0,), inst_x_fullpi_01, [])\n",
    "experiment_package.append(one_circs)\n",
    "\n",
    "# 2 state\n",
    "two_circs = QuantumCircuit(1, 1)\n",
    "two_circs.append(gate_x_fullpi_01, [0])\n",
    "two_circs.append(gate_x_fullpi_12, [0])\n",
    "two_circs.measure(0, 0)\n",
    "two_circs.add_calibration(gate_x_fullpi_01, (0,), inst_x_fullpi_01, [])\n",
    "two_circs.add_calibration(gate_x_fullpi_12, (0,), inst_x_fullpi_12, [])\n",
    "experiment_package.append(two_circs)"
   ]
  },
  {
   "cell_type": "code",
   "execution_count": 53,
   "id": "1c98b536",
   "metadata": {},
   "outputs": [],
   "source": [
    "integer = 48\n",
    "repetitions = 2*integer+1\n",
    "\n",
    "for d in range(repetitions):\n",
    "    qc_epsilon = QuantumCircuit(1,1)\n",
    "    for j in range(98+d):\n",
    "        qc_epsilon.append(gate_x_halfpi_01, [0])\n",
    "    qc_epsilon.measure(0,0)\n",
    "    qc_epsilon.add_calibration(gate_x_halfpi_01, (0,), inst_x_halfpi_01, [])\n",
    "    experiment_package.append(qc_epsilon)"
   ]
  },
  {
   "cell_type": "code",
   "execution_count": 56,
   "id": "029524ab",
   "metadata": {},
   "outputs": [
    {
     "name": "stdout",
     "output_type": "stream",
     "text": [
      "6328174722406153e34d6fa3\n",
      "Job Status: job has successfully run\n"
     ]
    }
   ],
   "source": [
    "from qiskit.tools import job_monitor\n",
    "\n",
    "epsilon = backend.run(experiment_package,\n",
    "                  meas_level=1,\n",
    "                  meas_return='single',\n",
    "                  shots=20000)\n",
    "print(epsilon.job_id())\n",
    "job_monitor(epsilon)"
   ]
  }
 ],
 "metadata": {
  "kernelspec": {
   "display_name": "Python 3 (ipykernel)",
   "language": "python",
   "name": "python3"
  },
  "language_info": {
   "codemirror_mode": {
    "name": "ipython",
    "version": 3
   },
   "file_extension": ".py",
   "mimetype": "text/x-python",
   "name": "python",
   "nbconvert_exporter": "python",
   "pygments_lexer": "ipython3",
   "version": "3.8.2"
  }
 },
 "nbformat": 4,
 "nbformat_minor": 5
}
