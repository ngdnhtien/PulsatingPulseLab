{
 "cells": [
  {
   "cell_type": "code",
   "execution_count": 1,
   "id": "f72b35de",
   "metadata": {},
   "outputs": [],
   "source": [
    "# Auxiliary packages\n",
    "import numpy as np\n",
    "import pandas as pd\n",
    "from numpy import savetxt\n",
    "import matplotlib.pyplot as plt\n",
    "from scipy.optimize import curve_fit\n",
    "from sklearn.discriminant_analysis import LinearDiscriminantAnalysis\n",
    "from sklearn.model_selection import train_test_split\n",
    "\n",
    "# IBM Quantum Experience\n",
    "from qiskit import IBMQ, pulse, schedule\n",
    "from qiskit.circuit import Parameter, QuantumCircuit, Gate\n",
    "from qiskit.tools.monitor import job_monitor"
   ]
  },
  {
   "cell_type": "code",
   "execution_count": 2,
   "id": "011ce304",
   "metadata": {},
   "outputs": [],
   "source": [
    "IBMQ.load_account()\n",
    "provider = IBMQ.get_provider(hub='ibm-q', group='open', project='main')\n",
    "backend = provider.get_backend('ibmq_manila')"
   ]
  },
  {
   "cell_type": "code",
   "execution_count": 3,
   "id": "17ce4883",
   "metadata": {},
   "outputs": [],
   "source": [
    "# Functions that are functional\n",
    "\n",
    "def getJobData(job, average):\n",
    "    \"\"\"Retrieve data from a job that has already run.\n",
    "    Args:\n",
    "        job (Job): The job whose data you want.\n",
    "        average (bool): If True, gets the data assuming data is an average.\n",
    "                        If False, gets the data assuming it is for single shots.\n",
    "    Return:\n",
    "        list: List containing job result data.\n",
    "    \"\"\"\n",
    "    job_results = job.result()  # timeout parameter set to 120 s\n",
    "    result_data = []\n",
    "    for i in range(len(job_results.results)):\n",
    "        if average:  # get avg data\n",
    "            result_data.append(np.real(job_results.get_memory(i)[qubit] * scale_factor))\n",
    "        else:  # get single data\n",
    "            result_data.append(job_results.get_memory(i)[:, qubit] * scale_factor)\n",
    "    return result_data\n",
    "\n",
    "\n",
    "def getClosestMultipleSixteen(num):\n",
    "    \"\"\"Compute the nearest multiple of 16. Needed because pulse enabled devices require\n",
    "    durations which are multiples of 16 samples.\n",
    "    \"\"\"\n",
    "    return int(num + 8) - (int(num + 8) % 16)"
   ]
  },
  {
   "cell_type": "code",
   "execution_count": 5,
   "id": "db369284",
   "metadata": {},
   "outputs": [],
   "source": [
    "backend_config = backend.configuration()\n",
    "backend_defaults = backend.defaults()\n",
    "backend_properties = backend.properties()\n",
    "\n",
    "qubit = 0\n",
    "\n",
    "anharmonicity = backend_properties.qubits[qubit][3].value * 1e9\n",
    "\n",
    "drive_frequency_01 = 4962317255.07658\n",
    "drive_duration_01 = 544\n",
    "drive_sigma_01 = 67\n",
    "drive_amplitude_01 = 0.09281388317671437\n",
    "\n",
    "drive_frequency_12 = 4618781329.919704\n",
    "drive_duration_12 = 160\n",
    "drive_sigma_12 = 40\n",
    "drive_amplitude_12 = 0.17306617215735373"
   ]
  },
  {
   "cell_type": "code",
   "execution_count": 8,
   "id": "db45bb12",
   "metadata": {},
   "outputs": [],
   "source": [
    "# X-axis\n",
    "with pulse.build(backend=backend) as inst_x_halfpi_01:\n",
    "    drive_chan = pulse.drive_channel(qubit)\n",
    "    pulse.set_frequency(drive_frequency_01, drive_chan)\n",
    "    pulse.play(pulse.Gaussian(duration=drive_duration_01,\n",
    "                              amp=drive_amplitude_01/2,\n",
    "                              sigma=drive_sigma_01), drive_chan)\n",
    "    \n",
    "gate_x_halfpi_01 = Gate('$X_{\\pi/2}^{(01)}$', 1, [])\n",
    "\n",
    "with pulse.build(backend=backend) as inst_x_pi_01:\n",
    "    drive_chan = pulse.drive_channel(qubit)\n",
    "    pulse.set_frequency(drive_frequency_01, drive_chan)\n",
    "    pulse.play(pulse.Gaussian(duration=drive_duration_01,\n",
    "                              amp=drive_amplitude_01,\n",
    "                              sigma=drive_sigma_01), drive_chan)\n",
    "    \n",
    "gate_x_pi_01 = Gate('$X_{\\pi}^{(01)}$', 1, [])\n",
    "\n",
    "# Y-axis\n",
    "with pulse.build(backend=backend) as inst_y_plus_halfpi_01:\n",
    "    drive_chan = pulse.drive_channel(qubit)\n",
    "    pulse.set_frequency(drive_frequency_01, drive_chan)\n",
    "    with pulse.phase_offset(np.pi/2, drive_chan):\n",
    "        pulse.play(pulse.Gaussian(duration=drive_duration_01,\n",
    "                                  amp=drive_amplitude_01/2,\n",
    "                                  sigma=drive_sigma_01), drive_chan)\n",
    "        \n",
    "gate_y_plus_halfpi_01 = Gate('$Y_{\\pi/2}^{(01)}$', 1, [])\n",
    "\n",
    "with pulse.build(backend=backend) as inst_y_minus_halfpi_01:\n",
    "    drive_chan = pulse.drive_channel(qubit)\n",
    "    pulse.set_frequency(drive_frequency_01, drive_chan)\n",
    "    with pulse.phase_offset(-np.pi/2, drive_chan):\n",
    "        pulse.play(pulse.Gaussian(duration=drive_duration_01,\n",
    "                                  amp=drive_amplitude_01/2,\n",
    "                                  sigma=drive_sigma_01), drive_chan)\n",
    "        \n",
    "gate_y_minus_halfpi_01 = Gate('$Y_{-\\pi/2}^{(01)}$', 1, [])"
   ]
  },
  {
   "cell_type": "code",
   "execution_count": 9,
   "id": "08c968cc",
   "metadata": {},
   "outputs": [],
   "source": [
    "with pulse.build(backend=backend) as inst_x_pi_12:\n",
    "    drive_chan = pulse.drive_channel(qubit)\n",
    "    pulse.set_frequency(drive_frequency_12, drive_chan)\n",
    "    pulse.play(pulse.Gaussian(duration=drive_duration_12,\n",
    "                              amp=drive_amplitude_12,\n",
    "                              sigma=drive_sigma_12), drive_chan)\n",
    "\n",
    "gate_x_pi_12 = Gate('$X_{\\pi}^{(12)}$', 1, [])\n",
    "                              \n",
    "with pulse.build(backend=backend) as inst_x_halfpi_12:\n",
    "    drive_chan = pulse.drive_channel(qubit)\n",
    "    pulse.set_frequency(drive_frequency_12, drive_chan)\n",
    "    pulse.play(pulse.Gaussian(duration=drive_duration_12,\n",
    "                              amp=drive_amplitude_12/2,\n",
    "                              sigma=drive_sigma_12), drive_chan)\n",
    "\n",
    "gate_x_halfpi_12 = Gate('$X_{\\pi/2}^{(12)}$', 1, [])\n",
    "\n",
    "with pulse.build(backend=backend) as inst_x_minus_pi_12:\n",
    "    drive_chan = pulse.drive_channel(qubit)\n",
    "    pulse.set_frequency(drive_frequency_12, drive_chan)\n",
    "    with pulse.phase_offset(np.pi, drive_chan):\n",
    "        pulse.play(pulse.Gaussian(duration=drive_duration_12,\n",
    "                                  amp=drive_amplitude_12,\n",
    "                                  sigma=drive_sigma_12), drive_chan)\n",
    "\n",
    "gate_x_minus_pi_12 = Gate('$X_{-\\pi}^{(12)}$', 1, [])\n",
    "\n",
    "with pulse.build(backend=backend) as inst_x_minus_halfpi_12:\n",
    "    drive_chan = pulse.drive_channel(qubit)\n",
    "    pulse.set_frequency(drive_frequency_12, drive_chan)\n",
    "    with pulse.phase_offset(np.pi, drive_chan):\n",
    "        pulse.play(pulse.Gaussian(duration=drive_duration_12,\n",
    "                                  amp=drive_amplitude_12,\n",
    "                                  sigma=drive_sigma_12), drive_chan)\n",
    "\n",
    "gate_x_minus_halfpi_12 = Gate('$X_{-\\pi/2}^{(12)}$', 1, [])"
   ]
  },
  {
   "cell_type": "code",
   "execution_count": 15,
   "id": "382840fa",
   "metadata": {},
   "outputs": [],
   "source": [
    "# Discriminator circuits\n",
    "\n",
    "# |0> state\n",
    "ground_circs = QuantumCircuit(1, 1)\n",
    "ground_circs.measure(0, 0)\n",
    "\n",
    "# |1> state\n",
    "one_circs = QuantumCircuit(1, 1)\n",
    "one_circs.x(0)\n",
    "one_circs.measure(0, 0)\n",
    "# one_circs.add_calibration(gate_x_pi_01, (0,), inst_x_pi_01, [])\n",
    "\n",
    "# |2> state\n",
    "two_circs = QuantumCircuit(1, 1)\n",
    "two_circs.append(gate_x_pi_01, [0])\n",
    "two_circs.append(gate_x_pi_12, [0])\n",
    "two_circs.measure(0, 0)\n",
    "two_circs.add_calibration(gate_x_pi_01, (0,), inst_x_pi_01, [])\n",
    "two_circs.add_calibration(gate_x_pi_12, (0,), inst_x_pi_12, [])"
   ]
  },
  {
   "cell_type": "code",
   "execution_count": 26,
   "id": "593a1d5d",
   "metadata": {},
   "outputs": [],
   "source": [
    "circs = [ground_circs, one_circs, two_circs]\n",
    "repetitions = 1\n",
    "\n",
    "for i in range(repetitions):\n",
    "    ramsey_circuit = QuantumCircuit(1, 1)\n",
    "    ramsey_circuit.append(gate_y_plus_halfpi_01, [0])\n",
    "    multiple_of_eight = 8*(i+1)\n",
    "    for j in range(multiple_of_eight):\n",
    "        ramsey_circuit.append(gate_x_halfpi_12, [0])\n",
    "    ramsey_circuit.measure(0,0)\n",
    "    ramsey_circuit.add_calibration(gate_y_plus_halfpi_01, (0,), inst_y_plus_halfpi_01, [])\n",
    "    ramsey_circuit.add_calibration(gate_x_halfpi_12, (0,), inst_x_halfpi_12, [])\n",
    "\n",
    "    circs.append(ramsey_circuit)"
   ]
  },
  {
   "cell_type": "code",
   "execution_count": 32,
   "id": "a2946db5",
   "metadata": {},
   "outputs": [
    {
     "ename": "IndexError",
     "evalue": "list index out of range",
     "output_type": "error",
     "traceback": [
      "\u001b[0;31m---------------------------------------------------------------------------\u001b[0m",
      "\u001b[0;31mIndexError\u001b[0m                                Traceback (most recent call last)",
      "Input \u001b[0;32mIn [32]\u001b[0m, in \u001b[0;36m<cell line: 1>\u001b[0;34m()\u001b[0m\n\u001b[0;32m----> 1\u001b[0m \u001b[43mcircs\u001b[49m\u001b[43m[\u001b[49m\u001b[38;5;241;43m4\u001b[39;49m\u001b[43m]\u001b[49m\u001b[38;5;241m.\u001b[39mdraw()\n",
      "\u001b[0;31mIndexError\u001b[0m: list index out of range"
     ]
    }
   ],
   "source": [
    "circs[4].draw()"
   ]
  },
  {
   "cell_type": "code",
   "execution_count": 31,
   "id": "6134bcb4",
   "metadata": {},
   "outputs": [
    {
     "name": "stdout",
     "output_type": "stream",
     "text": [
      "6329ca0128d98b01a4846b41\n",
      "Job Status: job has successfully run\n"
     ]
    }
   ],
   "source": [
    "job = backend.run(circs,\n",
    "                  meas_level=1,\n",
    "                  meas_return='single',\n",
    "                  shots=20000)\n",
    "print(job.job_id())\n",
    "job_monitor(job)"
   ]
  }
 ],
 "metadata": {
  "kernelspec": {
   "display_name": "Python 3 (ipykernel)",
   "language": "python",
   "name": "python3"
  },
  "language_info": {
   "codemirror_mode": {
    "name": "ipython",
    "version": 3
   },
   "file_extension": ".py",
   "mimetype": "text/x-python",
   "name": "python",
   "nbconvert_exporter": "python",
   "pygments_lexer": "ipython3",
   "version": "3.8.2"
  }
 },
 "nbformat": 4,
 "nbformat_minor": 5
}
